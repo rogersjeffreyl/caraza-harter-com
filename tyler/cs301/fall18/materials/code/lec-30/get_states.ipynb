{
 "cells": [
  {
   "cell_type": "code",
   "execution_count": 1,
   "metadata": {},
   "outputs": [],
   "source": [
    "import requests"
   ]
  },
  {
   "cell_type": "code",
   "execution_count": 2,
   "metadata": {},
   "outputs": [
    {
     "data": {
      "text/plain": [
       "<Response [200]>"
      ]
     },
     "execution_count": 2,
     "metadata": {},
     "output_type": "execute_result"
    }
   ],
   "source": [
    "url = 'https://simple.wikipedia.org/wiki/List_of_U.S._states'\n",
    "resp = requests.get(url)\n",
    "resp.raise_for_status()\n",
    "resp"
   ]
  },
  {
   "cell_type": "code",
   "execution_count": 3,
   "metadata": {},
   "outputs": [],
   "source": [
    "from bs4 import BeautifulSoup\n",
    "\n",
    "doc = BeautifulSoup(resp.text, \"html.parser\")"
   ]
  },
  {
   "cell_type": "code",
   "execution_count": 4,
   "metadata": {},
   "outputs": [],
   "source": [
    "tables = doc.find_all(\"table\")"
   ]
  },
  {
   "cell_type": "code",
   "execution_count": 5,
   "metadata": {},
   "outputs": [],
   "source": [
    "tab = tables[0]"
   ]
  },
  {
   "cell_type": "code",
   "execution_count": 6,
   "metadata": {},
   "outputs": [
    {
     "data": {
      "text/plain": [
       "50"
      ]
     },
     "execution_count": 6,
     "metadata": {},
     "output_type": "execute_result"
    }
   ],
   "source": [
    "rows = tab.find_all(\"tr\")[1:]\n",
    "len(rows)"
   ]
  },
  {
   "cell_type": "code",
   "execution_count": 7,
   "metadata": {},
   "outputs": [
    {
     "name": "stdout",
     "output_type": "stream",
     "text": [
      "/wiki/Alabama\n",
      "/wiki/Alaska\n",
      "/wiki/Arizona\n",
      "/wiki/Arkansas\n",
      "/wiki/California\n",
      "/wiki/Colorado\n",
      "/wiki/Connecticut\n",
      "/wiki/Delaware\n",
      "/wiki/Florida\n",
      "/wiki/Georgia_(U.S._state)\n",
      "/wiki/Hawaii\n",
      "/wiki/Idaho\n",
      "/wiki/Illinois\n",
      "/wiki/Indiana\n",
      "/wiki/Iowa\n",
      "/wiki/Kansas\n",
      "/wiki/Kentucky\n",
      "/wiki/Louisiana\n",
      "/wiki/Maine\n",
      "/wiki/Maryland\n",
      "/wiki/Massachusetts\n",
      "/wiki/Michigan\n",
      "/wiki/Minnesota\n",
      "/wiki/Mississippi\n",
      "/wiki/Missouri\n",
      "/wiki/Montana\n",
      "/wiki/Nebraska\n",
      "/wiki/Nevada\n",
      "/wiki/New_Hampshire\n",
      "/wiki/New_Jersey\n",
      "/wiki/New_Mexico\n",
      "/wiki/New_York\n",
      "/wiki/North_Carolina\n",
      "/wiki/North_Dakota\n",
      "/wiki/Ohio\n",
      "/wiki/Oklahoma\n",
      "/wiki/Oregon\n",
      "/wiki/Pennsylvania\n",
      "/wiki/Rhode_Island\n",
      "/wiki/South_Carolina\n",
      "/wiki/South_Dakota\n",
      "/wiki/Tennessee\n",
      "/wiki/Texas\n",
      "/wiki/Utah\n",
      "/wiki/Vermont\n",
      "/wiki/Virginia\n",
      "/wiki/Washington\n",
      "/wiki/West_Virginia\n",
      "/wiki/Wisconsin\n",
      "/wiki/Wyoming\n"
     ]
    }
   ],
   "source": [
    "links = []\n",
    "for row in rows:\n",
    "    cell = row.find_all(\"td\")[2]\n",
    "    link = cell.find(\"a\").attrs['href']\n",
    "    print(link)\n",
    "    links.append(link)"
   ]
  },
  {
   "cell_type": "code",
   "execution_count": 8,
   "metadata": {},
   "outputs": [
    {
     "data": {
      "text/plain": [
       "['/wiki/Alabama',\n",
       " '/wiki/Alaska',\n",
       " '/wiki/Arizona',\n",
       " '/wiki/Arkansas',\n",
       " '/wiki/California',\n",
       " '/wiki/Colorado',\n",
       " '/wiki/Connecticut',\n",
       " '/wiki/Delaware',\n",
       " '/wiki/Florida',\n",
       " '/wiki/Georgia_(U.S._state)',\n",
       " '/wiki/Hawaii',\n",
       " '/wiki/Idaho',\n",
       " '/wiki/Illinois',\n",
       " '/wiki/Indiana',\n",
       " '/wiki/Iowa',\n",
       " '/wiki/Kansas',\n",
       " '/wiki/Kentucky',\n",
       " '/wiki/Louisiana',\n",
       " '/wiki/Maine',\n",
       " '/wiki/Maryland',\n",
       " '/wiki/Massachusetts',\n",
       " '/wiki/Michigan',\n",
       " '/wiki/Minnesota',\n",
       " '/wiki/Mississippi',\n",
       " '/wiki/Missouri',\n",
       " '/wiki/Montana',\n",
       " '/wiki/Nebraska',\n",
       " '/wiki/Nevada',\n",
       " '/wiki/New_Hampshire',\n",
       " '/wiki/New_Jersey',\n",
       " '/wiki/New_Mexico',\n",
       " '/wiki/New_York',\n",
       " '/wiki/North_Carolina',\n",
       " '/wiki/North_Dakota',\n",
       " '/wiki/Ohio',\n",
       " '/wiki/Oklahoma',\n",
       " '/wiki/Oregon',\n",
       " '/wiki/Pennsylvania',\n",
       " '/wiki/Rhode_Island',\n",
       " '/wiki/South_Carolina',\n",
       " '/wiki/South_Dakota',\n",
       " '/wiki/Tennessee',\n",
       " '/wiki/Texas',\n",
       " '/wiki/Utah',\n",
       " '/wiki/Vermont',\n",
       " '/wiki/Virginia',\n",
       " '/wiki/Washington',\n",
       " '/wiki/West_Virginia',\n",
       " '/wiki/Wisconsin',\n",
       " '/wiki/Wyoming']"
      ]
     },
     "execution_count": 8,
     "metadata": {},
     "output_type": "execute_result"
    }
   ],
   "source": [
    "links"
   ]
  },
  {
   "cell_type": "code",
   "execution_count": 9,
   "metadata": {},
   "outputs": [],
   "source": [
    "f = open(\"links.txt\", \"w\")\n",
    "f.write(\"\\n\".join(links))\n",
    "f.close()"
   ]
  },
  {
   "cell_type": "code",
   "execution_count": null,
   "metadata": {},
   "outputs": [],
   "source": []
  }
 ],
 "metadata": {
  "kernelspec": {
   "display_name": "Python 3",
   "language": "python",
   "name": "python3"
  },
  "language_info": {
   "codemirror_mode": {
    "name": "ipython",
    "version": 3
   },
   "file_extension": ".py",
   "mimetype": "text/x-python",
   "name": "python",
   "nbconvert_exporter": "python",
   "pygments_lexer": "ipython3",
   "version": "3.6.5"
  }
 },
 "nbformat": 4,
 "nbformat_minor": 2
}
