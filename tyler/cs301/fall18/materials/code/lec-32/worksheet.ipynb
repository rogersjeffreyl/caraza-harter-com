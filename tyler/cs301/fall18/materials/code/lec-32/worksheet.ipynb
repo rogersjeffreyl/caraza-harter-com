{
 "cells": [
  {
   "cell_type": "code",
   "execution_count": 1,
   "metadata": {},
   "outputs": [],
   "source": [
    "import sqlite3"
   ]
  },
  {
   "cell_type": "code",
   "execution_count": 2,
   "metadata": {},
   "outputs": [
    {
     "data": {
      "text/plain": [
       "<sqlite3.Connection at 0x1049a4e30>"
      ]
     },
     "execution_count": 2,
     "metadata": {},
     "output_type": "execute_result"
    }
   ],
   "source": [
    "c = sqlite3.connect(\"trees.db\")\n",
    "c"
   ]
  },
  {
   "cell_type": "code",
   "execution_count": 3,
   "metadata": {},
   "outputs": [],
   "source": [
    "it = c.execute(\"select * from trees\")"
   ]
  },
  {
   "cell_type": "code",
   "execution_count": 4,
   "metadata": {},
   "outputs": [
    {
     "data": {
      "text/plain": [
       "<sqlite3.Cursor at 0x104f3a1f0>"
      ]
     },
     "execution_count": 4,
     "metadata": {},
     "output_type": "execute_result"
    }
   ],
   "source": [
    "it"
   ]
  },
  {
   "cell_type": "code",
   "execution_count": 5,
   "metadata": {},
   "outputs": [
    {
     "name": "stdout",
     "output_type": "stream",
     "text": [
      "('A', 10, 4, 'm', 8, 71)\n",
      "('B', 20, 4, 'm', 10, 100)\n",
      "('C', 30, 4, 'p', 6, 30)\n",
      "('D', 40, 4, 'p', 8, 40)\n",
      "('E', 50, 4, 'm', 12, 99)\n"
     ]
    }
   ],
   "source": [
    "for row in it:\n",
    "    print(row)"
   ]
  },
  {
   "cell_type": "code",
   "execution_count": 6,
   "metadata": {},
   "outputs": [],
   "source": [
    "it = c.execute(\"select * from trees\")"
   ]
  },
  {
   "cell_type": "code",
   "execution_count": 7,
   "metadata": {},
   "outputs": [
    {
     "data": {
      "text/plain": [
       "[('A', 10, 4, 'm', 8, 71),\n",
       " ('B', 20, 4, 'm', 10, 100),\n",
       " ('C', 30, 4, 'p', 6, 30),\n",
       " ('D', 40, 4, 'p', 8, 40),\n",
       " ('E', 50, 4, 'm', 12, 99)]"
      ]
     },
     "execution_count": 7,
     "metadata": {},
     "output_type": "execute_result"
    }
   ],
   "source": [
    "list(it)"
   ]
  },
  {
   "cell_type": "code",
   "execution_count": 8,
   "metadata": {},
   "outputs": [],
   "source": [
    "def query(sql):\n",
    "    return list(c.execute(sql))"
   ]
  },
  {
   "cell_type": "code",
   "execution_count": 9,
   "metadata": {},
   "outputs": [
    {
     "data": {
      "text/plain": [
       "[('A', 10, 4, 'm', 8, 71),\n",
       " ('B', 20, 4, 'm', 10, 100),\n",
       " ('C', 30, 4, 'p', 6, 30),\n",
       " ('D', 40, 4, 'p', 8, 40),\n",
       " ('E', 50, 4, 'm', 12, 99)]"
      ]
     },
     "execution_count": 9,
     "metadata": {},
     "output_type": "execute_result"
    }
   ],
   "source": [
    "query(\"select * from trees\")"
   ]
  },
  {
   "cell_type": "code",
   "execution_count": 10,
   "metadata": {},
   "outputs": [
    {
     "data": {
      "text/plain": [
       "[('m',), ('m',), ('p',), ('p',), ('m',)]"
      ]
     },
     "execution_count": 10,
     "metadata": {},
     "output_type": "execute_result"
    }
   ],
   "source": [
    "query(\"select species from trees\")"
   ]
  },
  {
   "cell_type": "code",
   "execution_count": 12,
   "metadata": {},
   "outputs": [],
   "source": [
    "c = sqlite3.connect(\"fire.db\")"
   ]
  },
  {
   "cell_type": "code",
   "execution_count": 14,
   "metadata": {},
   "outputs": [
    {
     "data": {
      "text/html": [
       "<div>\n",
       "<style scoped>\n",
       "    .dataframe tbody tr th:only-of-type {\n",
       "        vertical-align: middle;\n",
       "    }\n",
       "\n",
       "    .dataframe tbody tr th {\n",
       "        vertical-align: top;\n",
       "    }\n",
       "\n",
       "    .dataframe thead th {\n",
       "        text-align: right;\n",
       "    }\n",
       "</style>\n",
       "<table border=\"1\" class=\"dataframe\">\n",
       "  <thead>\n",
       "    <tr style=\"text-align: right;\">\n",
       "      <th></th>\n",
       "      <th>idx</th>\n",
       "      <th>year</th>\n",
       "      <th>color</th>\n",
       "      <th>style</th>\n",
       "      <th>owner</th>\n",
       "      <th>alt</th>\n",
       "      <th>active</th>\n",
       "    </tr>\n",
       "  </thead>\n",
       "  <tbody>\n",
       "    <tr>\n",
       "      <th>0</th>\n",
       "      <td>1</td>\n",
       "      <td>1999</td>\n",
       "      <td>red</td>\n",
       "      <td>K-81</td>\n",
       "      <td>private</td>\n",
       "      <td>1179</td>\n",
       "      <td>0</td>\n",
       "    </tr>\n",
       "    <tr>\n",
       "      <th>1</th>\n",
       "      <td>2</td>\n",
       "      <td>2000</td>\n",
       "      <td>red</td>\n",
       "      <td>M-3</td>\n",
       "      <td>public</td>\n",
       "      <td>1065</td>\n",
       "      <td>0</td>\n",
       "    </tr>\n",
       "    <tr>\n",
       "      <th>2</th>\n",
       "      <td>3</td>\n",
       "      <td>2001</td>\n",
       "      <td>green</td>\n",
       "      <td>Pacer</td>\n",
       "      <td>private</td>\n",
       "      <td>1058</td>\n",
       "      <td>1</td>\n",
       "    </tr>\n",
       "    <tr>\n",
       "      <th>3</th>\n",
       "      <td>4</td>\n",
       "      <td>2010</td>\n",
       "      <td>blue</td>\n",
       "      <td>Pacer</td>\n",
       "      <td>public</td>\n",
       "      <td>1081</td>\n",
       "      <td>1</td>\n",
       "    </tr>\n",
       "    <tr>\n",
       "      <th>4</th>\n",
       "      <td>5</td>\n",
       "      <td>2014</td>\n",
       "      <td>blue</td>\n",
       "      <td>Pacer</td>\n",
       "      <td>public</td>\n",
       "      <td>1052</td>\n",
       "      <td>1</td>\n",
       "    </tr>\n",
       "    <tr>\n",
       "      <th>5</th>\n",
       "      <td>6</td>\n",
       "      <td>2018</td>\n",
       "      <td>blue</td>\n",
       "      <td>Pacer</td>\n",
       "      <td>public</td>\n",
       "      <td>1109</td>\n",
       "      <td>1</td>\n",
       "    </tr>\n",
       "  </tbody>\n",
       "</table>\n",
       "</div>"
      ],
      "text/plain": [
       "   idx  year  color  style    owner   alt  active\n",
       "0    1  1999    red   K-81  private  1179       0\n",
       "1    2  2000    red    M-3   public  1065       0\n",
       "2    3  2001  green  Pacer  private  1058       1\n",
       "3    4  2010   blue  Pacer   public  1081       1\n",
       "4    5  2014   blue  Pacer   public  1052       1\n",
       "5    6  2018   blue  Pacer   public  1109       1"
      ]
     },
     "execution_count": 14,
     "metadata": {},
     "output_type": "execute_result"
    }
   ],
   "source": [
    "import pandas as pd\n",
    "#c.execute(QUERY)\n",
    "pd.read_sql(\"select * from hydrants\", c)"
   ]
  },
  {
   "cell_type": "code",
   "execution_count": 15,
   "metadata": {},
   "outputs": [],
   "source": [
    "def query(sql):\n",
    "    return pd.read_sql(sql, c)"
   ]
  },
  {
   "cell_type": "code",
   "execution_count": 16,
   "metadata": {},
   "outputs": [
    {
     "data": {
      "text/html": [
       "<div>\n",
       "<style scoped>\n",
       "    .dataframe tbody tr th:only-of-type {\n",
       "        vertical-align: middle;\n",
       "    }\n",
       "\n",
       "    .dataframe tbody tr th {\n",
       "        vertical-align: top;\n",
       "    }\n",
       "\n",
       "    .dataframe thead th {\n",
       "        text-align: right;\n",
       "    }\n",
       "</style>\n",
       "<table border=\"1\" class=\"dataframe\">\n",
       "  <thead>\n",
       "    <tr style=\"text-align: right;\">\n",
       "      <th></th>\n",
       "      <th>idx</th>\n",
       "      <th>year</th>\n",
       "      <th>color</th>\n",
       "      <th>style</th>\n",
       "      <th>owner</th>\n",
       "      <th>alt</th>\n",
       "      <th>active</th>\n",
       "    </tr>\n",
       "  </thead>\n",
       "  <tbody>\n",
       "    <tr>\n",
       "      <th>0</th>\n",
       "      <td>1</td>\n",
       "      <td>1999</td>\n",
       "      <td>red</td>\n",
       "      <td>K-81</td>\n",
       "      <td>private</td>\n",
       "      <td>1179</td>\n",
       "      <td>0</td>\n",
       "    </tr>\n",
       "    <tr>\n",
       "      <th>1</th>\n",
       "      <td>2</td>\n",
       "      <td>2000</td>\n",
       "      <td>red</td>\n",
       "      <td>M-3</td>\n",
       "      <td>public</td>\n",
       "      <td>1065</td>\n",
       "      <td>0</td>\n",
       "    </tr>\n",
       "    <tr>\n",
       "      <th>2</th>\n",
       "      <td>3</td>\n",
       "      <td>2001</td>\n",
       "      <td>green</td>\n",
       "      <td>Pacer</td>\n",
       "      <td>private</td>\n",
       "      <td>1058</td>\n",
       "      <td>1</td>\n",
       "    </tr>\n",
       "    <tr>\n",
       "      <th>3</th>\n",
       "      <td>4</td>\n",
       "      <td>2010</td>\n",
       "      <td>blue</td>\n",
       "      <td>Pacer</td>\n",
       "      <td>public</td>\n",
       "      <td>1081</td>\n",
       "      <td>1</td>\n",
       "    </tr>\n",
       "    <tr>\n",
       "      <th>4</th>\n",
       "      <td>5</td>\n",
       "      <td>2014</td>\n",
       "      <td>blue</td>\n",
       "      <td>Pacer</td>\n",
       "      <td>public</td>\n",
       "      <td>1052</td>\n",
       "      <td>1</td>\n",
       "    </tr>\n",
       "    <tr>\n",
       "      <th>5</th>\n",
       "      <td>6</td>\n",
       "      <td>2018</td>\n",
       "      <td>blue</td>\n",
       "      <td>Pacer</td>\n",
       "      <td>public</td>\n",
       "      <td>1109</td>\n",
       "      <td>1</td>\n",
       "    </tr>\n",
       "  </tbody>\n",
       "</table>\n",
       "</div>"
      ],
      "text/plain": [
       "   idx  year  color  style    owner   alt  active\n",
       "0    1  1999    red   K-81  private  1179       0\n",
       "1    2  2000    red    M-3   public  1065       0\n",
       "2    3  2001  green  Pacer  private  1058       1\n",
       "3    4  2010   blue  Pacer   public  1081       1\n",
       "4    5  2014   blue  Pacer   public  1052       1\n",
       "5    6  2018   blue  Pacer   public  1109       1"
      ]
     },
     "execution_count": 16,
     "metadata": {},
     "output_type": "execute_result"
    }
   ],
   "source": [
    "query(\"select * from hydrants\")"
   ]
  },
  {
   "cell_type": "code",
   "execution_count": null,
   "metadata": {},
   "outputs": [],
   "source": []
  }
 ],
 "metadata": {
  "kernelspec": {
   "display_name": "Python 3",
   "language": "python",
   "name": "python3"
  },
  "language_info": {
   "codemirror_mode": {
    "name": "ipython",
    "version": 3
   },
   "file_extension": ".py",
   "mimetype": "text/x-python",
   "name": "python",
   "nbconvert_exporter": "python",
   "pygments_lexer": "ipython3",
   "version": "3.6.5"
  }
 },
 "nbformat": 4,
 "nbformat_minor": 2
}
