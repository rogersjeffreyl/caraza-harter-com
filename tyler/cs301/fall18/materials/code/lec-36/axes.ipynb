{
 "cells": [
  {
   "cell_type": "markdown",
   "metadata": {},
   "source": [
    "# Configuring Axes\n",
    "\n",
    "*Tyler Caraza-Harter*\n",
    "\n",
    "In this reading, we'll learn about how to configure the axes on which we're plotting, as well as how to create multiple plot areas within the same matplotlib figure.\n",
    "\n",
    "Let's do our boilerplate setup, then start by revisiting the Iris dataset introduced previously."
   ]
  },
  {
   "cell_type": "code",
   "execution_count": 1,
   "metadata": {},
   "outputs": [],
   "source": [
    "from pandas import Series, DataFrame\n",
    "import pandas as pd"
   ]
  },
  {
   "cell_type": "code",
   "execution_count": 2,
   "metadata": {},
   "outputs": [],
   "source": [
    "%matplotlib inline"
   ]
  },
  {
   "cell_type": "code",
   "execution_count": 3,
   "metadata": {},
   "outputs": [],
   "source": [
    "import matplotlib\n",
    "matplotlib.rcParams.update({'font.size': 15})"
   ]
  },
  {
   "cell_type": "code",
   "execution_count": 4,
   "metadata": {},
   "outputs": [
    {
     "ename": "URLError",
     "evalue": "<urlopen error [Errno 60] Operation timed out>",
     "output_type": "error",
     "traceback": [
      "\u001b[0;31m---------------------------------------------------------------------------\u001b[0m",
      "\u001b[0;31mTimeoutError\u001b[0m                              Traceback (most recent call last)",
      "\u001b[0;32m/anaconda3/lib/python3.6/urllib/request.py\u001b[0m in \u001b[0;36mdo_open\u001b[0;34m(self, http_class, req, **http_conn_args)\u001b[0m\n\u001b[1;32m   1317\u001b[0m                 h.request(req.get_method(), req.selector, req.data, headers,\n\u001b[0;32m-> 1318\u001b[0;31m                           encode_chunked=req.has_header('Transfer-encoding'))\n\u001b[0m\u001b[1;32m   1319\u001b[0m             \u001b[0;32mexcept\u001b[0m \u001b[0mOSError\u001b[0m \u001b[0;32mas\u001b[0m \u001b[0merr\u001b[0m\u001b[0;34m:\u001b[0m \u001b[0;31m# timeout error\u001b[0m\u001b[0;34m\u001b[0m\u001b[0m\n",
      "\u001b[0;32m/anaconda3/lib/python3.6/http/client.py\u001b[0m in \u001b[0;36mrequest\u001b[0;34m(self, method, url, body, headers, encode_chunked)\u001b[0m\n\u001b[1;32m   1238\u001b[0m         \u001b[0;34m\"\"\"Send a complete request to the server.\"\"\"\u001b[0m\u001b[0;34m\u001b[0m\u001b[0m\n\u001b[0;32m-> 1239\u001b[0;31m         \u001b[0mself\u001b[0m\u001b[0;34m.\u001b[0m\u001b[0m_send_request\u001b[0m\u001b[0;34m(\u001b[0m\u001b[0mmethod\u001b[0m\u001b[0;34m,\u001b[0m \u001b[0murl\u001b[0m\u001b[0;34m,\u001b[0m \u001b[0mbody\u001b[0m\u001b[0;34m,\u001b[0m \u001b[0mheaders\u001b[0m\u001b[0;34m,\u001b[0m \u001b[0mencode_chunked\u001b[0m\u001b[0;34m)\u001b[0m\u001b[0;34m\u001b[0m\u001b[0m\n\u001b[0m\u001b[1;32m   1240\u001b[0m \u001b[0;34m\u001b[0m\u001b[0m\n",
      "\u001b[0;32m/anaconda3/lib/python3.6/http/client.py\u001b[0m in \u001b[0;36m_send_request\u001b[0;34m(self, method, url, body, headers, encode_chunked)\u001b[0m\n\u001b[1;32m   1284\u001b[0m             \u001b[0mbody\u001b[0m \u001b[0;34m=\u001b[0m \u001b[0m_encode\u001b[0m\u001b[0;34m(\u001b[0m\u001b[0mbody\u001b[0m\u001b[0;34m,\u001b[0m \u001b[0;34m'body'\u001b[0m\u001b[0;34m)\u001b[0m\u001b[0;34m\u001b[0m\u001b[0m\n\u001b[0;32m-> 1285\u001b[0;31m         \u001b[0mself\u001b[0m\u001b[0;34m.\u001b[0m\u001b[0mendheaders\u001b[0m\u001b[0;34m(\u001b[0m\u001b[0mbody\u001b[0m\u001b[0;34m,\u001b[0m \u001b[0mencode_chunked\u001b[0m\u001b[0;34m=\u001b[0m\u001b[0mencode_chunked\u001b[0m\u001b[0;34m)\u001b[0m\u001b[0;34m\u001b[0m\u001b[0m\n\u001b[0m\u001b[1;32m   1286\u001b[0m \u001b[0;34m\u001b[0m\u001b[0m\n",
      "\u001b[0;32m/anaconda3/lib/python3.6/http/client.py\u001b[0m in \u001b[0;36mendheaders\u001b[0;34m(self, message_body, encode_chunked)\u001b[0m\n\u001b[1;32m   1233\u001b[0m             \u001b[0;32mraise\u001b[0m \u001b[0mCannotSendHeader\u001b[0m\u001b[0;34m(\u001b[0m\u001b[0;34m)\u001b[0m\u001b[0;34m\u001b[0m\u001b[0m\n\u001b[0;32m-> 1234\u001b[0;31m         \u001b[0mself\u001b[0m\u001b[0;34m.\u001b[0m\u001b[0m_send_output\u001b[0m\u001b[0;34m(\u001b[0m\u001b[0mmessage_body\u001b[0m\u001b[0;34m,\u001b[0m \u001b[0mencode_chunked\u001b[0m\u001b[0;34m=\u001b[0m\u001b[0mencode_chunked\u001b[0m\u001b[0;34m)\u001b[0m\u001b[0;34m\u001b[0m\u001b[0m\n\u001b[0m\u001b[1;32m   1235\u001b[0m \u001b[0;34m\u001b[0m\u001b[0m\n",
      "\u001b[0;32m/anaconda3/lib/python3.6/http/client.py\u001b[0m in \u001b[0;36m_send_output\u001b[0;34m(self, message_body, encode_chunked)\u001b[0m\n\u001b[1;32m   1025\u001b[0m         \u001b[0;32mdel\u001b[0m \u001b[0mself\u001b[0m\u001b[0;34m.\u001b[0m\u001b[0m_buffer\u001b[0m\u001b[0;34m[\u001b[0m\u001b[0;34m:\u001b[0m\u001b[0;34m]\u001b[0m\u001b[0;34m\u001b[0m\u001b[0m\n\u001b[0;32m-> 1026\u001b[0;31m         \u001b[0mself\u001b[0m\u001b[0;34m.\u001b[0m\u001b[0msend\u001b[0m\u001b[0;34m(\u001b[0m\u001b[0mmsg\u001b[0m\u001b[0;34m)\u001b[0m\u001b[0;34m\u001b[0m\u001b[0m\n\u001b[0m\u001b[1;32m   1027\u001b[0m \u001b[0;34m\u001b[0m\u001b[0m\n",
      "\u001b[0;32m/anaconda3/lib/python3.6/http/client.py\u001b[0m in \u001b[0;36msend\u001b[0;34m(self, data)\u001b[0m\n\u001b[1;32m    963\u001b[0m             \u001b[0;32mif\u001b[0m \u001b[0mself\u001b[0m\u001b[0;34m.\u001b[0m\u001b[0mauto_open\u001b[0m\u001b[0;34m:\u001b[0m\u001b[0;34m\u001b[0m\u001b[0m\n\u001b[0;32m--> 964\u001b[0;31m                 \u001b[0mself\u001b[0m\u001b[0;34m.\u001b[0m\u001b[0mconnect\u001b[0m\u001b[0;34m(\u001b[0m\u001b[0;34m)\u001b[0m\u001b[0;34m\u001b[0m\u001b[0m\n\u001b[0m\u001b[1;32m    965\u001b[0m             \u001b[0;32melse\u001b[0m\u001b[0;34m:\u001b[0m\u001b[0;34m\u001b[0m\u001b[0m\n",
      "\u001b[0;32m/anaconda3/lib/python3.6/http/client.py\u001b[0m in \u001b[0;36mconnect\u001b[0;34m(self)\u001b[0m\n\u001b[1;32m   1391\u001b[0m \u001b[0;34m\u001b[0m\u001b[0m\n\u001b[0;32m-> 1392\u001b[0;31m             \u001b[0msuper\u001b[0m\u001b[0;34m(\u001b[0m\u001b[0;34m)\u001b[0m\u001b[0;34m.\u001b[0m\u001b[0mconnect\u001b[0m\u001b[0;34m(\u001b[0m\u001b[0;34m)\u001b[0m\u001b[0;34m\u001b[0m\u001b[0m\n\u001b[0m\u001b[1;32m   1393\u001b[0m \u001b[0;34m\u001b[0m\u001b[0m\n",
      "\u001b[0;32m/anaconda3/lib/python3.6/http/client.py\u001b[0m in \u001b[0;36mconnect\u001b[0;34m(self)\u001b[0m\n\u001b[1;32m    935\u001b[0m         self.sock = self._create_connection(\n\u001b[0;32m--> 936\u001b[0;31m             (self.host,self.port), self.timeout, self.source_address)\n\u001b[0m\u001b[1;32m    937\u001b[0m         \u001b[0mself\u001b[0m\u001b[0;34m.\u001b[0m\u001b[0msock\u001b[0m\u001b[0;34m.\u001b[0m\u001b[0msetsockopt\u001b[0m\u001b[0;34m(\u001b[0m\u001b[0msocket\u001b[0m\u001b[0;34m.\u001b[0m\u001b[0mIPPROTO_TCP\u001b[0m\u001b[0;34m,\u001b[0m \u001b[0msocket\u001b[0m\u001b[0;34m.\u001b[0m\u001b[0mTCP_NODELAY\u001b[0m\u001b[0;34m,\u001b[0m \u001b[0;36m1\u001b[0m\u001b[0;34m)\u001b[0m\u001b[0;34m\u001b[0m\u001b[0m\n",
      "\u001b[0;32m/anaconda3/lib/python3.6/socket.py\u001b[0m in \u001b[0;36mcreate_connection\u001b[0;34m(address, timeout, source_address)\u001b[0m\n\u001b[1;32m    723\u001b[0m     \u001b[0;32mif\u001b[0m \u001b[0merr\u001b[0m \u001b[0;32mis\u001b[0m \u001b[0;32mnot\u001b[0m \u001b[0;32mNone\u001b[0m\u001b[0;34m:\u001b[0m\u001b[0;34m\u001b[0m\u001b[0m\n\u001b[0;32m--> 724\u001b[0;31m         \u001b[0;32mraise\u001b[0m \u001b[0merr\u001b[0m\u001b[0;34m\u001b[0m\u001b[0m\n\u001b[0m\u001b[1;32m    725\u001b[0m     \u001b[0;32melse\u001b[0m\u001b[0;34m:\u001b[0m\u001b[0;34m\u001b[0m\u001b[0m\n",
      "\u001b[0;32m/anaconda3/lib/python3.6/socket.py\u001b[0m in \u001b[0;36mcreate_connection\u001b[0;34m(address, timeout, source_address)\u001b[0m\n\u001b[1;32m    712\u001b[0m                 \u001b[0msock\u001b[0m\u001b[0;34m.\u001b[0m\u001b[0mbind\u001b[0m\u001b[0;34m(\u001b[0m\u001b[0msource_address\u001b[0m\u001b[0;34m)\u001b[0m\u001b[0;34m\u001b[0m\u001b[0m\n\u001b[0;32m--> 713\u001b[0;31m             \u001b[0msock\u001b[0m\u001b[0;34m.\u001b[0m\u001b[0mconnect\u001b[0m\u001b[0;34m(\u001b[0m\u001b[0msa\u001b[0m\u001b[0;34m)\u001b[0m\u001b[0;34m\u001b[0m\u001b[0m\n\u001b[0m\u001b[1;32m    714\u001b[0m             \u001b[0;31m# Break explicitly a reference cycle\u001b[0m\u001b[0;34m\u001b[0m\u001b[0;34m\u001b[0m\u001b[0m\n",
      "\u001b[0;31mTimeoutError\u001b[0m: [Errno 60] Operation timed out",
      "\nDuring handling of the above exception, another exception occurred:\n",
      "\u001b[0;31mURLError\u001b[0m                                  Traceback (most recent call last)",
      "\u001b[0;32m<ipython-input-4-9e30706879e6>\u001b[0m in \u001b[0;36m<module>\u001b[0;34m()\u001b[0m\n\u001b[1;32m      1\u001b[0m df = pd.read_csv('https://archive.ics.uci.edu/ml/machine-learning-databases/iris/iris.data',\n\u001b[0;32m----> 2\u001b[0;31m                  names=['sepal-len', 'sepal-wid', 'petal-len', 'petal-wid', 'name'])\n\u001b[0m\u001b[1;32m      3\u001b[0m \u001b[0mdf\u001b[0m\u001b[0;34m.\u001b[0m\u001b[0mhead\u001b[0m\u001b[0;34m(\u001b[0m\u001b[0;34m)\u001b[0m\u001b[0;34m\u001b[0m\u001b[0m\n",
      "\u001b[0;32m/anaconda3/lib/python3.6/site-packages/pandas/io/parsers.py\u001b[0m in \u001b[0;36mparser_f\u001b[0;34m(filepath_or_buffer, sep, delimiter, header, names, index_col, usecols, squeeze, prefix, mangle_dupe_cols, dtype, engine, converters, true_values, false_values, skipinitialspace, skiprows, nrows, na_values, keep_default_na, na_filter, verbose, skip_blank_lines, parse_dates, infer_datetime_format, keep_date_col, date_parser, dayfirst, iterator, chunksize, compression, thousands, decimal, lineterminator, quotechar, quoting, escapechar, comment, encoding, dialect, tupleize_cols, error_bad_lines, warn_bad_lines, skipfooter, doublequote, delim_whitespace, low_memory, memory_map, float_precision)\u001b[0m\n\u001b[1;32m    676\u001b[0m                     skip_blank_lines=skip_blank_lines)\n\u001b[1;32m    677\u001b[0m \u001b[0;34m\u001b[0m\u001b[0m\n\u001b[0;32m--> 678\u001b[0;31m         \u001b[0;32mreturn\u001b[0m \u001b[0m_read\u001b[0m\u001b[0;34m(\u001b[0m\u001b[0mfilepath_or_buffer\u001b[0m\u001b[0;34m,\u001b[0m \u001b[0mkwds\u001b[0m\u001b[0;34m)\u001b[0m\u001b[0;34m\u001b[0m\u001b[0m\n\u001b[0m\u001b[1;32m    679\u001b[0m \u001b[0;34m\u001b[0m\u001b[0m\n\u001b[1;32m    680\u001b[0m     \u001b[0mparser_f\u001b[0m\u001b[0;34m.\u001b[0m\u001b[0m__name__\u001b[0m \u001b[0;34m=\u001b[0m \u001b[0mname\u001b[0m\u001b[0;34m\u001b[0m\u001b[0m\n",
      "\u001b[0;32m/anaconda3/lib/python3.6/site-packages/pandas/io/parsers.py\u001b[0m in \u001b[0;36m_read\u001b[0;34m(filepath_or_buffer, kwds)\u001b[0m\n\u001b[1;32m    422\u001b[0m     \u001b[0mcompression\u001b[0m \u001b[0;34m=\u001b[0m \u001b[0m_infer_compression\u001b[0m\u001b[0;34m(\u001b[0m\u001b[0mfilepath_or_buffer\u001b[0m\u001b[0;34m,\u001b[0m \u001b[0mcompression\u001b[0m\u001b[0;34m)\u001b[0m\u001b[0;34m\u001b[0m\u001b[0m\n\u001b[1;32m    423\u001b[0m     filepath_or_buffer, _, compression, should_close = get_filepath_or_buffer(\n\u001b[0;32m--> 424\u001b[0;31m         filepath_or_buffer, encoding, compression)\n\u001b[0m\u001b[1;32m    425\u001b[0m     \u001b[0mkwds\u001b[0m\u001b[0;34m[\u001b[0m\u001b[0;34m'compression'\u001b[0m\u001b[0;34m]\u001b[0m \u001b[0;34m=\u001b[0m \u001b[0mcompression\u001b[0m\u001b[0;34m\u001b[0m\u001b[0m\n\u001b[1;32m    426\u001b[0m \u001b[0;34m\u001b[0m\u001b[0m\n",
      "\u001b[0;32m/anaconda3/lib/python3.6/site-packages/pandas/io/common.py\u001b[0m in \u001b[0;36mget_filepath_or_buffer\u001b[0;34m(filepath_or_buffer, encoding, compression, mode)\u001b[0m\n\u001b[1;32m    193\u001b[0m \u001b[0;34m\u001b[0m\u001b[0m\n\u001b[1;32m    194\u001b[0m     \u001b[0;32mif\u001b[0m \u001b[0m_is_url\u001b[0m\u001b[0;34m(\u001b[0m\u001b[0mfilepath_or_buffer\u001b[0m\u001b[0;34m)\u001b[0m\u001b[0;34m:\u001b[0m\u001b[0;34m\u001b[0m\u001b[0m\n\u001b[0;32m--> 195\u001b[0;31m         \u001b[0mreq\u001b[0m \u001b[0;34m=\u001b[0m \u001b[0m_urlopen\u001b[0m\u001b[0;34m(\u001b[0m\u001b[0mfilepath_or_buffer\u001b[0m\u001b[0;34m)\u001b[0m\u001b[0;34m\u001b[0m\u001b[0m\n\u001b[0m\u001b[1;32m    196\u001b[0m         \u001b[0mcontent_encoding\u001b[0m \u001b[0;34m=\u001b[0m \u001b[0mreq\u001b[0m\u001b[0;34m.\u001b[0m\u001b[0mheaders\u001b[0m\u001b[0;34m.\u001b[0m\u001b[0mget\u001b[0m\u001b[0;34m(\u001b[0m\u001b[0;34m'Content-Encoding'\u001b[0m\u001b[0;34m,\u001b[0m \u001b[0;32mNone\u001b[0m\u001b[0;34m)\u001b[0m\u001b[0;34m\u001b[0m\u001b[0m\n\u001b[1;32m    197\u001b[0m         \u001b[0;32mif\u001b[0m \u001b[0mcontent_encoding\u001b[0m \u001b[0;34m==\u001b[0m \u001b[0;34m'gzip'\u001b[0m\u001b[0;34m:\u001b[0m\u001b[0;34m\u001b[0m\u001b[0m\n",
      "\u001b[0;32m/anaconda3/lib/python3.6/urllib/request.py\u001b[0m in \u001b[0;36murlopen\u001b[0;34m(url, data, timeout, cafile, capath, cadefault, context)\u001b[0m\n\u001b[1;32m    221\u001b[0m     \u001b[0;32melse\u001b[0m\u001b[0;34m:\u001b[0m\u001b[0;34m\u001b[0m\u001b[0m\n\u001b[1;32m    222\u001b[0m         \u001b[0mopener\u001b[0m \u001b[0;34m=\u001b[0m \u001b[0m_opener\u001b[0m\u001b[0;34m\u001b[0m\u001b[0m\n\u001b[0;32m--> 223\u001b[0;31m     \u001b[0;32mreturn\u001b[0m \u001b[0mopener\u001b[0m\u001b[0;34m.\u001b[0m\u001b[0mopen\u001b[0m\u001b[0;34m(\u001b[0m\u001b[0murl\u001b[0m\u001b[0;34m,\u001b[0m \u001b[0mdata\u001b[0m\u001b[0;34m,\u001b[0m \u001b[0mtimeout\u001b[0m\u001b[0;34m)\u001b[0m\u001b[0;34m\u001b[0m\u001b[0m\n\u001b[0m\u001b[1;32m    224\u001b[0m \u001b[0;34m\u001b[0m\u001b[0m\n\u001b[1;32m    225\u001b[0m \u001b[0;32mdef\u001b[0m \u001b[0minstall_opener\u001b[0m\u001b[0;34m(\u001b[0m\u001b[0mopener\u001b[0m\u001b[0;34m)\u001b[0m\u001b[0;34m:\u001b[0m\u001b[0;34m\u001b[0m\u001b[0m\n",
      "\u001b[0;32m/anaconda3/lib/python3.6/urllib/request.py\u001b[0m in \u001b[0;36mopen\u001b[0;34m(self, fullurl, data, timeout)\u001b[0m\n\u001b[1;32m    524\u001b[0m             \u001b[0mreq\u001b[0m \u001b[0;34m=\u001b[0m \u001b[0mmeth\u001b[0m\u001b[0;34m(\u001b[0m\u001b[0mreq\u001b[0m\u001b[0;34m)\u001b[0m\u001b[0;34m\u001b[0m\u001b[0m\n\u001b[1;32m    525\u001b[0m \u001b[0;34m\u001b[0m\u001b[0m\n\u001b[0;32m--> 526\u001b[0;31m         \u001b[0mresponse\u001b[0m \u001b[0;34m=\u001b[0m \u001b[0mself\u001b[0m\u001b[0;34m.\u001b[0m\u001b[0m_open\u001b[0m\u001b[0;34m(\u001b[0m\u001b[0mreq\u001b[0m\u001b[0;34m,\u001b[0m \u001b[0mdata\u001b[0m\u001b[0;34m)\u001b[0m\u001b[0;34m\u001b[0m\u001b[0m\n\u001b[0m\u001b[1;32m    527\u001b[0m \u001b[0;34m\u001b[0m\u001b[0m\n\u001b[1;32m    528\u001b[0m         \u001b[0;31m# post-process response\u001b[0m\u001b[0;34m\u001b[0m\u001b[0;34m\u001b[0m\u001b[0m\n",
      "\u001b[0;32m/anaconda3/lib/python3.6/urllib/request.py\u001b[0m in \u001b[0;36m_open\u001b[0;34m(self, req, data)\u001b[0m\n\u001b[1;32m    542\u001b[0m         \u001b[0mprotocol\u001b[0m \u001b[0;34m=\u001b[0m \u001b[0mreq\u001b[0m\u001b[0;34m.\u001b[0m\u001b[0mtype\u001b[0m\u001b[0;34m\u001b[0m\u001b[0m\n\u001b[1;32m    543\u001b[0m         result = self._call_chain(self.handle_open, protocol, protocol +\n\u001b[0;32m--> 544\u001b[0;31m                                   '_open', req)\n\u001b[0m\u001b[1;32m    545\u001b[0m         \u001b[0;32mif\u001b[0m \u001b[0mresult\u001b[0m\u001b[0;34m:\u001b[0m\u001b[0;34m\u001b[0m\u001b[0m\n\u001b[1;32m    546\u001b[0m             \u001b[0;32mreturn\u001b[0m \u001b[0mresult\u001b[0m\u001b[0;34m\u001b[0m\u001b[0m\n",
      "\u001b[0;32m/anaconda3/lib/python3.6/urllib/request.py\u001b[0m in \u001b[0;36m_call_chain\u001b[0;34m(self, chain, kind, meth_name, *args)\u001b[0m\n\u001b[1;32m    502\u001b[0m         \u001b[0;32mfor\u001b[0m \u001b[0mhandler\u001b[0m \u001b[0;32min\u001b[0m \u001b[0mhandlers\u001b[0m\u001b[0;34m:\u001b[0m\u001b[0;34m\u001b[0m\u001b[0m\n\u001b[1;32m    503\u001b[0m             \u001b[0mfunc\u001b[0m \u001b[0;34m=\u001b[0m \u001b[0mgetattr\u001b[0m\u001b[0;34m(\u001b[0m\u001b[0mhandler\u001b[0m\u001b[0;34m,\u001b[0m \u001b[0mmeth_name\u001b[0m\u001b[0;34m)\u001b[0m\u001b[0;34m\u001b[0m\u001b[0m\n\u001b[0;32m--> 504\u001b[0;31m             \u001b[0mresult\u001b[0m \u001b[0;34m=\u001b[0m \u001b[0mfunc\u001b[0m\u001b[0;34m(\u001b[0m\u001b[0;34m*\u001b[0m\u001b[0margs\u001b[0m\u001b[0;34m)\u001b[0m\u001b[0;34m\u001b[0m\u001b[0m\n\u001b[0m\u001b[1;32m    505\u001b[0m             \u001b[0;32mif\u001b[0m \u001b[0mresult\u001b[0m \u001b[0;32mis\u001b[0m \u001b[0;32mnot\u001b[0m \u001b[0;32mNone\u001b[0m\u001b[0;34m:\u001b[0m\u001b[0;34m\u001b[0m\u001b[0m\n\u001b[1;32m    506\u001b[0m                 \u001b[0;32mreturn\u001b[0m \u001b[0mresult\u001b[0m\u001b[0;34m\u001b[0m\u001b[0m\n",
      "\u001b[0;32m/anaconda3/lib/python3.6/urllib/request.py\u001b[0m in \u001b[0;36mhttps_open\u001b[0;34m(self, req)\u001b[0m\n\u001b[1;32m   1359\u001b[0m         \u001b[0;32mdef\u001b[0m \u001b[0mhttps_open\u001b[0m\u001b[0;34m(\u001b[0m\u001b[0mself\u001b[0m\u001b[0;34m,\u001b[0m \u001b[0mreq\u001b[0m\u001b[0;34m)\u001b[0m\u001b[0;34m:\u001b[0m\u001b[0;34m\u001b[0m\u001b[0m\n\u001b[1;32m   1360\u001b[0m             return self.do_open(http.client.HTTPSConnection, req,\n\u001b[0;32m-> 1361\u001b[0;31m                 context=self._context, check_hostname=self._check_hostname)\n\u001b[0m\u001b[1;32m   1362\u001b[0m \u001b[0;34m\u001b[0m\u001b[0m\n\u001b[1;32m   1363\u001b[0m         \u001b[0mhttps_request\u001b[0m \u001b[0;34m=\u001b[0m \u001b[0mAbstractHTTPHandler\u001b[0m\u001b[0;34m.\u001b[0m\u001b[0mdo_request_\u001b[0m\u001b[0;34m\u001b[0m\u001b[0m\n",
      "\u001b[0;32m/anaconda3/lib/python3.6/urllib/request.py\u001b[0m in \u001b[0;36mdo_open\u001b[0;34m(self, http_class, req, **http_conn_args)\u001b[0m\n\u001b[1;32m   1318\u001b[0m                           encode_chunked=req.has_header('Transfer-encoding'))\n\u001b[1;32m   1319\u001b[0m             \u001b[0;32mexcept\u001b[0m \u001b[0mOSError\u001b[0m \u001b[0;32mas\u001b[0m \u001b[0merr\u001b[0m\u001b[0;34m:\u001b[0m \u001b[0;31m# timeout error\u001b[0m\u001b[0;34m\u001b[0m\u001b[0m\n\u001b[0;32m-> 1320\u001b[0;31m                 \u001b[0;32mraise\u001b[0m \u001b[0mURLError\u001b[0m\u001b[0;34m(\u001b[0m\u001b[0merr\u001b[0m\u001b[0;34m)\u001b[0m\u001b[0;34m\u001b[0m\u001b[0m\n\u001b[0m\u001b[1;32m   1321\u001b[0m             \u001b[0mr\u001b[0m \u001b[0;34m=\u001b[0m \u001b[0mh\u001b[0m\u001b[0;34m.\u001b[0m\u001b[0mgetresponse\u001b[0m\u001b[0;34m(\u001b[0m\u001b[0;34m)\u001b[0m\u001b[0;34m\u001b[0m\u001b[0m\n\u001b[1;32m   1322\u001b[0m         \u001b[0;32mexcept\u001b[0m\u001b[0;34m:\u001b[0m\u001b[0;34m\u001b[0m\u001b[0m\n",
      "\u001b[0;31mURLError\u001b[0m: <urlopen error [Errno 60] Operation timed out>"
     ]
    }
   ],
   "source": [
    "df = pd.read_csv('https://archive.ics.uci.edu/ml/machine-learning-databases/iris/iris.data',\n",
    "                 names=['sepal-len', 'sepal-wid', 'petal-len', 'petal-wid', 'name'])\n",
    "df.head()"
   ]
  },
  {
   "cell_type": "code",
   "execution_count": null,
   "metadata": {},
   "outputs": [],
   "source": [
    "df.tail()"
   ]
  },
  {
   "cell_type": "markdown",
   "metadata": {},
   "source": [
    "Let's plot the petal dimensions of the Virginica variety."
   ]
  },
  {
   "cell_type": "code",
   "execution_count": null,
   "metadata": {},
   "outputs": [],
   "source": [
    "df = df[df['name'] == 'Iris-virginica']\n",
    "df.head()"
   ]
  },
  {
   "cell_type": "code",
   "execution_count": null,
   "metadata": {},
   "outputs": [],
   "source": [
    "df.plot.scatter(x='petal-len', y='petal-wid')"
   ]
  },
  {
   "cell_type": "markdown",
   "metadata": {},
   "source": [
    "**Problem**: it's very hard in the above plot to see any correlation between length and width.  This is because the plot origin is not at 0,0.  This makes the data look scattered over the whole area.  We can use `xlim=VAL` and `ylim=VAL` arguments to force the origin to be 0,0."
   ]
  },
  {
   "cell_type": "code",
   "execution_count": null,
   "metadata": {},
   "outputs": [],
   "source": [
    "df.plot.scatter(x='petal-len', y='petal-wid', xlim=0, ylim=0)"
   ]
  },
  {
   "cell_type": "markdown",
   "metadata": {},
   "source": [
    "This gives the reader a better perspective on the data, but one still need to nead the axis labels closely to determine whether the length or petal dimensions are greater.  When we want to make such comparisons, it makes sense to force the axes to cover the same range.  In this case, we can pass tuples for xlim and ylim instead, as `xlim=(start,end)` and `ylim=(start,end)`."
   ]
  },
  {
   "cell_type": "code",
   "execution_count": null,
   "metadata": {},
   "outputs": [],
   "source": [
    "df.plot.scatter(x='petal-len', y='petal-wid', xlim=(0,7), ylim=(0,7))"
   ]
  },
  {
   "cell_type": "markdown",
   "metadata": {},
   "source": [
    "But be careful!  It's very easy to miss data this way without realizing it.  For example, what happens if we have a 5x5 plot?"
   ]
  },
  {
   "cell_type": "code",
   "execution_count": null,
   "metadata": {},
   "outputs": [],
   "source": [
    "ax = df.plot.scatter(x='petal-len', y='petal-wid', xlim=(0,5), ylim=(0,5))"
   ]
  },
  {
   "cell_type": "markdown",
   "metadata": {},
   "source": [
    "Unfortunately, there's no error!  We'll have to do our own checking to make sure we get a warning in such cases.\n",
    "\n",
    "Notice we retrieved the ax object above.  We can use `ax.get_xlim()` and `ax.get_ylim()` to get tuple ranges and check against the data ranges with some asserts.  You may want to keep the following snippet handy and copy/paste it to check when you're plotting."
   ]
  },
  {
   "cell_type": "code",
   "execution_count": null,
   "metadata": {},
   "outputs": [],
   "source": [
    "try:\n",
    "    assert df[ax.get_xlabel()].min() >= ax.get_xlim()[0]\n",
    "    assert df[ax.get_xlabel()].max() <= ax.get_xlim()[1]\n",
    "    assert df[ax.get_ylabel()].min() >= ax.get_ylim()[0]\n",
    "    assert df[ax.get_ylabel()].max() <= ax.get_ylim()[1]\n",
    "except:\n",
    "    print(\"WARNING!  Data out of range!\\n\" * 10)"
   ]
  },
  {
   "cell_type": "markdown",
   "metadata": {},
   "source": [
    "Or, better, don't put a try/except around the asserts so that your notebook crashes rather than proceeding with a warning that you may (or may not) notice."
   ]
  },
  {
   "cell_type": "markdown",
   "metadata": {},
   "source": [
    "# Log Axis\n",
    "\n",
    "Sometimes we want to plot very large and very small numbers in the same plot.  Here's an example."
   ]
  },
  {
   "cell_type": "code",
   "execution_count": null,
   "metadata": {},
   "outputs": [],
   "source": [
    "s = Series([1,10,100,1000,10000,100000], index=[2010, 2011, 2012, 2013, 2014, 2015])\n",
    "s"
   ]
  },
  {
   "cell_type": "code",
   "execution_count": null,
   "metadata": {},
   "outputs": [],
   "source": [
    "s.plot.line()"
   ]
  },
  {
   "cell_type": "markdown",
   "metadata": {},
   "source": [
    "The problem with this plot is that the values from 2010 until 2013 look basically the same, even though the value at 2013 is 1000x greater than the value at 2010.  This is because relative to a plot like this that maxes out at 100 thousand, 1 and 1K are both approximately zero.\n",
    "\n",
    "This is an example of a linear plot.  The difference between any two ticks is the same.  For example, the difference between the first two is 20K (20K - 0).  The different between the last two is also 20K (100K - 80K).\n",
    "\n",
    "An alternative to a linear scale in a logarithmic scale.  Let's review logs now.  We'll focus on the intuition rather than the math.\n",
    "\n",
    "You might remember that if `y == 10 ** n`, then `n == math.log10(y)`.\n",
    "\n",
    "Let's take a look at the logs of a few examples."
   ]
  },
  {
   "cell_type": "code",
   "execution_count": null,
   "metadata": {},
   "outputs": [],
   "source": [
    "import math\n",
    "\n",
    "examples = []\n",
    "n = 1\n",
    "while n <= 1000000:\n",
    "    examples.append({\"n\":n, \"log(n)\":math.log10(n)})\n",
    "    n *= 10\n",
    "    \n",
    "# note that in the table, log(n) is base 10, whereas math.log in Python is base e\n",
    "DataFrame(examples, columns=[\"n\", \"log(n)\"])"
   ]
  },
  {
   "cell_type": "markdown",
   "metadata": {},
   "source": [
    "Notice a pattern?  For the numbers we chose, `log(n)` is the number of 0's in the number.  For example, `log(100)` is 2, because there are 2 zeros when we write the number.\n",
    "\n",
    "Instead of the actual mathematical definition, let's go with an intuitive, approximate definition:\n",
    "\n",
    "> log(n) is approximately the number of digits you need to write to express n\n",
    "\n",
    "Now, this definition isn't perfect.  It doesn't work at all for decimal numbers (e.g., 3.14159).  And, of course, it's approximate.  One million (1000000) is 7 digits, but log(1000000) is 6.  But we can say this: for positive integers n, log(n) will be close to the number of digits it takes to write n (by \"close\", we mean that it is at most one off).\n",
    "\n",
    "That's why logs make it easier to talk about big numbers.  For example, consider these very large numbers:\n",
    "> x = 152435624001\n",
    ">\n",
    "> y = 144432245562123\n",
    "\n",
    "If we want to compare these large numbers, it's much to talk about the number of digits.  For example, we can talk about the approximate magnitudes by stating that \"**x** is a 12-digit number and **y** is a 15-digit number\".\n",
    "\n",
    "If we use logs, we'll get numbers close to 12 and 15: \"**log(x)** is 11.18 and **log(y)** is 14.15\".\n",
    "\n",
    "This makes a log scale great for communicating about both big and small numbers.  Relative to 1000000, 1 and 10 both look like approximately 0 on a linear scale.  But if I tell you that the biggest number takes 7-digits to write, but there are also 1-digit and 2-digits numbers, you can realize that the small numbers do differ significantly, even though they are dwarfed by the large numbers.\n",
    "\n",
    "We can easily use a log scale by passing `logy=True` to the `line` method."
   ]
  },
  {
   "cell_type": "code",
   "execution_count": null,
   "metadata": {},
   "outputs": [],
   "source": [
    "s = Series([1,10,100,1000,10000,100000], index=[2010, 2011, 2012, 2013, 2014, 2015])\n",
    "s"
   ]
  },
  {
   "cell_type": "code",
   "execution_count": null,
   "metadata": {},
   "outputs": [],
   "source": [
    "s.plot.line(logy=True)"
   ]
  },
  {
   "cell_type": "markdown",
   "metadata": {},
   "source": [
    "In the above plot, for each major tick that we move up along the y-axis, the numbers we're writing would take about 1 more digit to express."
   ]
  },
  {
   "cell_type": "markdown",
   "metadata": {},
   "source": [
    "# Example: Stock Returns\n",
    "\n",
    "Previously, we plotted how money grows over time if invested generally in the US stock market (as represented by the S&P 500).  Let's recreate that plot."
   ]
  },
  {
   "cell_type": "code",
   "execution_count": null,
   "metadata": {},
   "outputs": [],
   "source": [
    "returns = pd.read_csv(\"sp500.csv\").set_index(\"year\")\n",
    "returns.head()"
   ]
  },
  {
   "cell_type": "code",
   "execution_count": null,
   "metadata": {},
   "outputs": [],
   "source": [
    "(1000 * returns['return'].cumprod()).plot.line()"
   ]
  },
  {
   "cell_type": "markdown",
   "metadata": {},
   "source": [
    "The above plot indicates that if \\$1000 was consistently invested in U.S. stocks from 1970 to present, it would be worth about $120K today.\n",
    "\n",
    "The plot is also misleading.  It looks like returns were tiny from 1970 until 1990, and only started growing exponentially in recent years.  However, stocks were also growing exponentially in those early years as well.  It's just that \\$1K and \\$2K both look like nothing compared to \\$120K, even though going from \\$1K to \\$2K is the same return as from \\$10K to \\$20K.  If we pass `logy=True`, a \\$1K to \\$2K jump will cover the same amount of vertical spaces as a \\$10K to \\$20K jump."
   ]
  },
  {
   "cell_type": "code",
   "execution_count": null,
   "metadata": {},
   "outputs": [],
   "source": [
    "(1000 * returns['return'].cumprod()).plot.line(logy=True)"
   ]
  },
  {
   "cell_type": "markdown",
   "metadata": {},
   "source": [
    "This plot shows the true steady long-term trend over the last 47 years."
   ]
  },
  {
   "cell_type": "markdown",
   "metadata": {},
   "source": [
    "# Multiple Plots per Figure"
   ]
  },
  {
   "cell_type": "markdown",
   "metadata": {},
   "source": [
    "Remember that when calling a `df.plot.METHOD` plotting method, an axes object is returned.  We can also pass an `ax=AXES` argument to specify in what area to plot the data.  So far, we have seen two uses for this: (1) it lets us plot data from different DataFrames in the same area, and (2) we can adjust tick marks and labels.\n",
    "\n",
    "Now we'll learn a third use: (3) we can break a single figure into multiple side-by-side axes objects and plot in each.\n",
    "\n",
    "To do this, we'll need to import `pyplot` from the `matplotlib` module directly.  This is done as follows by convention:"
   ]
  },
  {
   "cell_type": "code",
   "execution_count": null,
   "metadata": {},
   "outputs": [],
   "source": [
    "from matplotlib import pyplot as plt"
   ]
  },
  {
   "cell_type": "markdown",
   "metadata": {},
   "source": [
    "The method we want to use from `plt` is `subplots`.  It produce a grid of axes areas.  It takes a few optional arguments:\n",
    "* ncols: how many columns to have in the matrix\n",
    "* nrows: how many rows to have in the matrix\n",
    "* figsize: the dimensions of the whole figure (this is the same as the figsize argument we've seen passed to plot functions previously)\n",
    "\n",
    "Let's try just specifying either `ncols` or `nrows`:"
   ]
  },
  {
   "cell_type": "code",
   "execution_count": null,
   "metadata": {},
   "outputs": [],
   "source": [
    "plt.subplots(nrows=2)"
   ]
  },
  {
   "cell_type": "code",
   "execution_count": null,
   "metadata": {},
   "outputs": [],
   "source": [
    "plt.subplots(ncols=3)"
   ]
  },
  {
   "cell_type": "markdown",
   "metadata": {},
   "source": [
    "You can also specify both, though we won't provide any real examples of doing so beyond the following:"
   ]
  },
  {
   "cell_type": "code",
   "execution_count": null,
   "metadata": {},
   "outputs": [],
   "source": [
    "plt.subplots(nrows=2, ncols=3)"
   ]
  },
  {
   "cell_type": "markdown",
   "metadata": {},
   "source": [
    "Notice that in addition to drawing several axes areas, the method returns a tuple with two entries.  The first entry is a figure object (which we'll ignore), and the second is a collection of axes objects.  Let's peek at each of these."
   ]
  },
  {
   "cell_type": "code",
   "execution_count": null,
   "metadata": {},
   "outputs": [],
   "source": [
    "t = plt.subplots(ncols=2)\n",
    "print(type(t[0]))\n",
    "\n",
    "ax_list = list(t[1])\n",
    "for ax in ax_list:\n",
    "    print(type(ax))"
   ]
  },
  {
   "cell_type": "markdown",
   "metadata": {},
   "source": [
    "We can plot in each of these individually."
   ]
  },
  {
   "cell_type": "code",
   "execution_count": null,
   "metadata": {},
   "outputs": [],
   "source": [
    "t = plt.subplots(ncols=2)\n",
    "ax_list = list(t[1])\n",
    "\n",
    "series1 = Series([200,100,300])\n",
    "series2 = Series([1000,900,1000,1200])\n",
    "\n",
    "series1.plot.line(ax=ax_list[0])\n",
    "series2.plot.bar(ax=ax_list[1])"
   ]
  },
  {
   "cell_type": "markdown",
   "metadata": {},
   "source": [
    "We have two plots side-by-side, but the labels overlap a bit.  In the same cell that produces a plot, you can call [plt.subplots_adjust](https://matplotlib.org/api/_as_gen/matplotlib.pyplot.subplots_adjust.html) to change the spacing.  An `hspace` argument specifies height space between rows, and a `wspace` specified width space between columns.\n",
    "\n",
    "We'll do the same example before, with one more line at the end to create some whitespace.  We'll also modify the subplots coll to make the figure wider."
   ]
  },
  {
   "cell_type": "code",
   "execution_count": null,
   "metadata": {},
   "outputs": [],
   "source": [
    "t = plt.subplots(ncols=2, figsize=(10,4))\n",
    "ax_list = list(t[1])\n",
    "\n",
    "series1 = Series([200,100,300])\n",
    "series2 = Series([1000,900,1000,1200])\n",
    "\n",
    "series1.plot.line(ax=ax_list[0])\n",
    "series2.plot.bar(ax=ax_list[1])\n",
    "\n",
    "plt.subplots_adjust(wspace=0.5)"
   ]
  },
  {
   "cell_type": "markdown",
   "metadata": {},
   "source": [
    "# Example: Revisiting Irises\n",
    "\n",
    "Previously, we saw how we could plot petal width and petal length for different Iris varieties in the same plot area.  Now, we'll see how to do this in three adjacent plots."
   ]
  },
  {
   "cell_type": "code",
   "execution_count": null,
   "metadata": {},
   "outputs": [],
   "source": [
    "df = pd.read_csv('https://archive.ics.uci.edu/ml/machine-learning-databases/iris/iris.data',\n",
    "                 names=['sepal-len', 'sepal-wid', 'petal-len', 'petal-wid', 'name'])\n",
    "df.head()"
   ]
  },
  {
   "cell_type": "code",
   "execution_count": null,
   "metadata": {},
   "outputs": [],
   "source": [
    "name_counts = df['name'].value_counts()\n",
    "name_counts"
   ]
  },
  {
   "cell_type": "code",
   "execution_count": null,
   "metadata": {},
   "outputs": [],
   "source": [
    "t = plt.subplots(ncols=len(name_counts), figsize=(10,3))\n",
    "plt.subplots_adjust(wspace=0.5)\n",
    "\n",
    "ax_list = list(t[1])\n",
    "\n",
    "for name in name_counts.index:\n",
    "    ax = ax_list.pop(0)\n",
    "    df[df['name'] == name].plot.scatter(x='petal-len', y='petal-wid', ax=ax, title=name)"
   ]
  },
  {
   "cell_type": "markdown",
   "metadata": {},
   "source": [
    "The plots are side-by-side.  But it's hard to compare across them because they each have different limits.  We can force them to share limits by passing `sharex=True` and/or `sharey=True` to the subplots function.  The following is a repeat of the earlier example with both x and y axes shared."
   ]
  },
  {
   "cell_type": "code",
   "execution_count": null,
   "metadata": {},
   "outputs": [],
   "source": [
    "t = plt.subplots(ncols=len(name_counts), figsize=(10,3), sharex=True, sharey=True)\n",
    "plt.subplots_adjust(wspace=0.5)\n",
    "\n",
    "ax_list = list(t[1])\n",
    "\n",
    "for name in name_counts.index:\n",
    "    ax = ax_list.pop(0)\n",
    "    df[df['name'] == name].plot.scatter(x='petal-len', y='petal-wid', ax=ax, title=name)"
   ]
  },
  {
   "cell_type": "markdown",
   "metadata": {},
   "source": [
    "This works fine!  Although the version where we used color and placed all three on the same plot was probably more intuitive.  So why might we want to split it up this way?  Because it gives us another plot dimension that we could use to communicate more attributes.\n",
    "\n",
    "Remember that when you're creating a plot, you should list ass the data attributes and the plot variables you can control.  In this case:\n",
    "\n",
    "**data attributes:**\n",
    "1. petal width\n",
    "2. petal length\n",
    "3. sepal width\n",
    "4. sepal length\n",
    "5. iris type\n",
    "\n",
    "**plot variables:**\n",
    "1. x\n",
    "2. y\n",
    "3. color\n",
    "4. dot size\n",
    "5. which of the adjacent plot areas\n",
    "\n",
    "In theory, this means we could communicate everything about our data in a single figure.  We suggest you try exactly that for practice!  Of course, this might be too much information for one figure; it's probably best to communicate what we want with a few different figures."
   ]
  },
  {
   "cell_type": "markdown",
   "metadata": {},
   "source": [
    "# Picking the Right Plot\n",
    "\n",
    "In this section, we're going to show two plots of the same data side-by-side.  Your job is to think carefully about which plot communicates better.\n",
    "\n",
    "As you go through, make a note of which plot you think is better.  If it depends on what is being communicated, make a note of that too.  At the end, I'll share my opinion about which plot is better out of each pair.\n",
    "\n",
    "Don't worry if we use some plotting features you haven't see yet; the point is to just think about which plot communicates most effectively."
   ]
  },
  {
   "cell_type": "code",
   "execution_count": null,
   "metadata": {},
   "outputs": [],
   "source": [
    "# return list of two axes objects\n",
    "def plot_pair(n):\n",
    "    t = plt.subplots(ncols=2, figsize=(14,6))\n",
    "    plt.subplots_adjust(wspace=0.5)\n",
    "    t[0].suptitle(\"Plot \"+str(n), fontsize=24)\n",
    "    return list(t[1])"
   ]
  },
  {
   "cell_type": "code",
   "execution_count": null,
   "metadata": {},
   "outputs": [],
   "source": [
    "ax = plot_pair(1)\n",
    "budget = Series([5.7,4,6,2], index=[\"Police\", \"Fire\", \"Schools\", \"Other\"], name=\"Budget\")\n",
    "\n",
    "# plot 1\n",
    "budget.plot.pie(ax=ax[0])\n",
    "\n",
    "# plot 2\n",
    "budget.plot.bar(ax=ax[1])\n",
    "ax[1].set_ylabel(\"Spending (Million $)\")\n",
    "\n",
    "None"
   ]
  },
  {
   "cell_type": "code",
   "execution_count": null,
   "metadata": {},
   "outputs": [],
   "source": [
    "ax = plot_pair(2)\n",
    "budget = Series([6,4,6,2], index=[\"Police\", \"Fire\", \"Schools\", \"Other\"], name=\"Budget\")\n",
    "\n",
    "# plot 1\n",
    "budget.plot.bar(ax=ax[0])\n",
    "ax[0].set_ylabel(\"Spending (Million $)\")\n",
    "\n",
    "# plot 2\n",
    "budget.plot.line(ax=ax[1])\n",
    "ax[1].set_xticks(range(len(budget.index)))\n",
    "ax[1].set_xticklabels(budget.index)\n",
    "ax[1].set_ylabel(\"Spending (Million $)\")\n",
    "\n",
    "None"
   ]
  },
  {
   "cell_type": "code",
   "execution_count": null,
   "metadata": {},
   "outputs": [],
   "source": [
    "ax = plot_pair(3)\n",
    "df = pd.read_csv('https://archive.ics.uci.edu/ml/machine-learning-databases/iris/iris.data',\n",
    "                 names=['sepal-len', 'sepal-wid', 'petal-len', 'petal-wid', 'name'])\n",
    "df = df[['petal-len', 'petal-wid']].head(15).sort_values(by='petal-len')\n",
    "\n",
    "# plot 1\n",
    "df.plot.bar(x='petal-len', y='petal-wid', ax=ax[0])\n",
    "\n",
    "# plot 2\n",
    "df.plot.scatter(x='petal-len', y='petal-wid', ax=ax[1], c='black', s=25)"
   ]
  },
  {
   "cell_type": "code",
   "execution_count": null,
   "metadata": {},
   "outputs": [],
   "source": [
    "ax = plot_pair(4)\n",
    "height = Series([10, 12, 13, 15, 19, 21], index=[1, 2, 3, 4, 5, 6])\n",
    "\n",
    "# plot 1\n",
    "height.plot.line(ax=ax[0])\n",
    "ax[0].set_xlabel(\"Age (Years)\")\n",
    "ax[0].set_ylabel(\"Height (Inches)\")\n",
    "\n",
    "# plot 2\n",
    "DataFrame({'x':height.index, 'y':height.values}).plot.scatter(x='x', y='y', ax=ax[1], c='black', s=25)\n",
    "ax[1].set_xlabel(\"Age (Years)\")\n",
    "ax[1].set_ylabel(\"Height (Inches)\")"
   ]
  },
  {
   "cell_type": "code",
   "execution_count": null,
   "metadata": {},
   "outputs": [],
   "source": [
    "ax = plot_pair(5)\n",
    "year2017 = Series([5,4,5.2,2], index=[\"Police\", \"Fire\", \"Schools\", \"Other\"], name=\"2017\")\n",
    "year2018 = Series([6,4.2,6.2,3], index=[\"Police\", \"Fire\", \"Schools\", \"Other\"], name=\"2018\")\n",
    "df = DataFrame([year2017, year2018])\n",
    "\n",
    "# plot 1\n",
    "df.plot.bar(ax=ax[0])\n",
    "ax[0].set_ylabel(\"Spending (Million $)\")\n",
    "ax[0].legend(loc='upper center', bbox_to_anchor=(0.5, 1.3), ncol=2)\n",
    "\n",
    "# plot 2\n",
    "df.transpose().plot.bar(ax=ax[1])\n",
    "ax[1].set_ylabel(\"Spending (Million $)\")\n",
    "ax[1].legend(loc='upper center', bbox_to_anchor=(0.5, 1.3), ncol=2)\n",
    "\n",
    "None"
   ]
  },
  {
   "cell_type": "code",
   "execution_count": null,
   "metadata": {},
   "outputs": [],
   "source": [
    "ax = plot_pair(6)\n",
    "year2017 = Series([5,4,6,2], index=[\"Police\", \"Fire\", \"Schools\", \"Other\"], name=\"2010\")\n",
    "year2018 = Series([6,5,5,3], index=[\"Police\", \"Fire\", \"Schools\", \"Other\"], name=\"2020\")\n",
    "df = DataFrame([year2017, year2018])\n",
    "\n",
    "# plot 1\n",
    "df.transpose().plot.bar(ax=ax[0])\n",
    "ax[0].set_ylabel(\"Spending (Million $)\")\n",
    "ax[0].legend(loc='upper center', bbox_to_anchor=(0.5, 1.3), ncol=2)\n",
    "\n",
    "# plot 2\n",
    "df.transpose().plot.bar(ax=ax[1], stacked=True)\n",
    "ax[1].set_ylabel(\"Spending (Million $)\")\n",
    "ax[1].legend(loc='upper center', bbox_to_anchor=(0.5, 1.3), ncol=2)\n",
    "\n",
    "None"
   ]
  },
  {
   "cell_type": "code",
   "execution_count": null,
   "metadata": {},
   "outputs": [],
   "source": [
    "ax = plot_pair(7)\n",
    "year2017 = Series([5,4,6,2], index=[\"Police\", \"Fire\", \"Schools\", \"Other\"], name=\"2017\")\n",
    "year2018 = Series([6,5,5,3], index=[\"Police\", \"Fire\", \"Schools\", \"Other\"], name=\"2018\")\n",
    "df = DataFrame([year2017, year2018])\n",
    "\n",
    "# plot 1\n",
    "df.plot.bar(ax=ax[0])\n",
    "ax[0].set_ylabel(\"Spending (Million $)\")\n",
    "ax[0].legend(loc='upper center', bbox_to_anchor=(0.5, 1.3), ncol=2)\n",
    "\n",
    "# plot 2\n",
    "df.plot.bar(ax=ax[1], stacked=True)\n",
    "ax[1].set_ylabel(\"Spending (Million $)\")\n",
    "ax[1].legend(loc='upper center', bbox_to_anchor=(0.5, 1.3), ncol=2)\n",
    "\n",
    "None"
   ]
  },
  {
   "cell_type": "code",
   "execution_count": null,
   "metadata": {},
   "outputs": [],
   "source": [
    "ax = plot_pair(8)\n",
    "year2017 = Series([5,4,6,2], index=[\"Police\", \"Fire\", \"Schools\", \"Other\"], name=\"2017\")\n",
    "year2018 = Series([6,5,5.5,3], index=[\"Police\", \"Fire\", \"Schools\", \"Other\"], name=\"2018\")\n",
    "df = DataFrame([year2017, year2018])\n",
    "\n",
    "# plot 1\n",
    "df.plot.bar(ax=ax[0], stacked=True)\n",
    "ax[0].set_ylabel(\"Spending (Million $)\")\n",
    "ax[0].legend(loc='upper center', bbox_to_anchor=(0.5, 1.3), ncol=2)\n",
    "\n",
    "# plot 2\n",
    "df.plot.line(ax=ax[1])\n",
    "ax[1].set_ylabel(\"Spending (Million $)\")\n",
    "ax[1].legend(loc='upper center', bbox_to_anchor=(0.5, 1.3), ncol=2)\n",
    "ax[1].set_xticks(range(len(df.index)))\n",
    "ax[1].set_xticklabels(df.index)\n",
    "\n",
    "None"
   ]
  },
  {
   "cell_type": "code",
   "execution_count": null,
   "metadata": {},
   "outputs": [],
   "source": [
    "ax = plot_pair(9)\n",
    "df = DataFrame([\n",
    "    Series([3,1.5,5,2], index=[\"Police\", \"Fire\", \"Schools\", \"Other\"], name=\"2014\"),\n",
    "    Series([5,2,6,2], index=[\"Police\", \"Fire\", \"Schools\", \"Other\"], name=\"2015\"),\n",
    "    Series([5,3,6.3,2], index=[\"Police\", \"Fire\", \"Schools\", \"Other\"], name=\"2016\"),\n",
    "    Series([5,4,6,2.2], index=[\"Police\", \"Fire\", \"Schools\", \"Other\"], name=\"2017\"),\n",
    "    Series([6,4.5,5.5,3], index=[\"Police\", \"Fire\", \"Schools\", \"Other\"], name=\"2018\")\n",
    "])\n",
    "\n",
    "# plot 1\n",
    "df.plot.bar(ax=ax[0], stacked=True)\n",
    "ax[0].set_ylabel(\"Spending (Million $)\")\n",
    "ax[0].legend(loc='upper center', bbox_to_anchor=(0.5, 1.3), ncol=2)\n",
    "\n",
    "# plot 2\n",
    "df.plot.line(ax=ax[1])\n",
    "ax[1].set_ylabel(\"Spending (Million $)\")\n",
    "ax[1].legend(loc='upper center', bbox_to_anchor=(0.5, 1.3), ncol=2)\n",
    "ax[1].set_xticks(range(len(df.index)))\n",
    "ax[1].set_xticklabels(df.index)\n",
    "\n",
    "None"
   ]
  },
  {
   "cell_type": "code",
   "execution_count": null,
   "metadata": {},
   "outputs": [],
   "source": [
    "ax = plot_pair(10)\n",
    "df = DataFrame({\n",
    "    \"A\": [3, 5, 4, 6, 3],\n",
    "    \"B\": [0.9, 1.2, 1.3, 1.7, 1.8]\n",
    "})\n",
    "\n",
    "# plot 1\n",
    "df.plot.bar(ax=ax[0], stacked=True)\n",
    "ax[0].set_ylabel(\"Points\")\n",
    "ax[0].legend(loc='upper center', bbox_to_anchor=(0.5, 1.2), ncol=2)\n",
    "\n",
    "# plot 2\n",
    "df[[\"B\", \"A\"]].plot.bar(ax=ax[1], stacked=True)\n",
    "ax[1].set_ylabel(\"Points\")\n",
    "ax[1].legend(loc='upper center', bbox_to_anchor=(0.5, 1.2), ncol=2)\n",
    "\n",
    "None"
   ]
  },
  {
   "cell_type": "code",
   "execution_count": null,
   "metadata": {},
   "outputs": [],
   "source": [
    "ax = plot_pair(11)\n",
    "df = DataFrame({\n",
    "    \"Points\": [10, 100, 10000]\n",
    "}, index=[\"X\", \"Y\", \"Z\"])\n",
    "\n",
    "# plot 1\n",
    "df.plot.bar(ax=ax[0], stacked=True)\n",
    "ax[0].set_ylabel(\"Points\")\n",
    "ax[0].legend(loc='upper center', bbox_to_anchor=(0.5, 1.2), ncol=2)\n",
    "\n",
    "# plot 2\n",
    "df.plot.bar(ax=ax[1], stacked=True, logy=True)\n",
    "ax[1].set_ylabel(\"Points\")\n",
    "ax[1].legend(loc='upper center', bbox_to_anchor=(0.5, 1.2), ncol=2)\n",
    "\n",
    "None"
   ]
  },
  {
   "cell_type": "code",
   "execution_count": null,
   "metadata": {},
   "outputs": [],
   "source": [
    "ax = plot_pair(12)\n",
    "df = DataFrame({\n",
    "    \"A\": [5, 50, 5000],\n",
    "    \"B\": [5, 50, 5000]\n",
    "}, index=[\"X\", \"Y\", \"Z\"])\n",
    "\n",
    "# plot 1\n",
    "df.plot.bar(ax=ax[0], stacked=True)\n",
    "ax[0].set_ylabel(\"Points\")\n",
    "ax[0].legend(loc='upper center', bbox_to_anchor=(0.5, 1.2), ncol=2)\n",
    "\n",
    "# plot 2\n",
    "df.plot.bar(ax=ax[1], stacked=True, logy=True)\n",
    "ax[1].set_ylabel(\"Points\")\n",
    "ax[1].legend(loc='upper center', bbox_to_anchor=(0.5, 1.2), ncol=2)\n",
    "\n",
    "None"
   ]
  },
  {
   "cell_type": "code",
   "execution_count": null,
   "metadata": {},
   "outputs": [],
   "source": [
    "ax = plot_pair(13)\n",
    "df = DataFrame([\n",
    "    Series([45,81,57,15], index=[\"Spring\", \"Summer\", \"Fall\", \"Winter\"], name=\"2016\"),\n",
    "    Series([50,80,60,15], index=[\"Spring\", \"Summer\", \"Fall\", \"Winter\"], name=\"2016\"),\n",
    "    Series([55,88,65,18], index=[\"Spring\", \"Summer\", \"Fall\", \"Winter\"], name=\"2017\"),\n",
    "    Series([57,90,68,20], index=[\"Spring\", \"Summer\", \"Fall\", \"Winter\"], name=\"2018\"),\n",
    "])\n",
    "\n",
    "# plot 1\n",
    "df.plot.line(ax=ax[0])\n",
    "ax[0].set_ylabel(\"Temperature\")\n",
    "ax[0].legend(loc='upper center', bbox_to_anchor=(0.5, 1.3), ncol=2)\n",
    "ax[0].set_xticks(range(len(df.index)))\n",
    "ax[0].set_xticklabels(df.index)\n",
    "\n",
    "# plot 2\n",
    "df = df.transpose()\n",
    "df.plot.line(ax=ax[1])\n",
    "ax[1].set_ylabel(\"Temperature\")\n",
    "ax[1].legend(loc='upper center', bbox_to_anchor=(0.5, 1.3), ncol=2)\n",
    "ax[1].set_xticks(range(len(df.index)))\n",
    "ax[1].set_xticklabels(df.index)\n",
    "\n",
    "None"
   ]
  },
  {
   "cell_type": "markdown",
   "metadata": {},
   "source": [
    "# Picking the Right Plot, \"Answers\"\n",
    "\n",
    "In some cases, one of above plots in a pair is clearly better, but other times it is a matter of taste, or of what the plot is primarily trying to communicate.  Here are some arguments regarding which plot to choose:\n",
    "\n",
    "1. **Right**.  With the bars, it is easier to see that Schools>Police (this is hard to see with the pie chart.  The bar plot also makes it easier to read off absolute numbers.  The one argument for the pie chart is that it makes certain combinations easier to see.  For example, it is easier to see that Police+Fire is the majority of the budge in the pie chart than in the bar plot.\n",
    "\n",
    "2. **Left**.  Never use line plots for categorical data.\n",
    "\n",
    "3. **Right**.  When there can be more than one y-value for each x-value, and the different y-values don't correspond to named categories, then scatter is the way to go.\n",
    "\n",
    "4. **Left**.  We're looking for a trend, and the line makes it much clearer.\n",
    "\n",
    "5. **Depends**.  Adjacent bars are easier to compare, so we need to think about which comparisons are most important for the reader to make.  For example, the left plot makes it easier to observe that school spending is always a bit more than police spending, whereas the right plot makes it easier to see that spending is increasing across all categories.\n",
    "\n",
    "6. **Left**.  Don't stack bars unless it makes sense to look at the bars as part of a whole.  It's not clear what a meaningful \"whole\" could be in the right plot (spending across first years of a decade?).\n",
    "\n",
    "7. **Depends**.  The left makes it easier to compare the sizes of the bars, but the right makes it easier to sum them.  Are you making a point about the relative sizes or about the cumulative amounts?\n",
    "\n",
    "8. **Depends**.  A line plot looks a little strange with only two points, but it does make some points better (e.g., if you're trying to show that school spending is the only thing decreasing over time).  The left plot definitely looks nicer, and does a better job of communicating what is happening with overall spending.\n",
    "\n",
    "9. **Depends**.  The left communicates better about total spending, but the right does a better job of showing what is happening with individual components.  You can't really see the subtle changes in school spending in the left plot.\n",
    "\n",
    "10. **Right**.  When you're stacking bars, the first bar is special, because it's easier to make comparisons across the x-axis for that category.  In the left, it's very hard to see the subtle upward trend in B.  In the right, this is evident.  A is generally so much bigger than B that it's easy to see what's happening with that variable either way.\n",
    "\n",
    "11. **Right**.  This is an obvious use case for a log scale.  On the left, it's very hard to compare X and Y, because both are dwarfed by Z.  On the right, we can see that Y is 10x larger than X, and Z is 100X larger than Y.\n",
    "\n",
    "12. **Left**.  Never do stacked bars with a log scale.  A distance towards the top of a plot represents a larger absolute quantity than the same distance near the bottom.  This means that the first bar in the stack will look much bigger than it really is.  For example, even though A and B are always equal, A misleadingly looks much, much larger in the right plot.\n",
    "\n",
    "13. **Depends**.  Each data point has two dimensions: season and year.  We're mapping these to two plot dimensions: x-axis and which line.  Which data dimension should map to which plot dimensions?  The most important data dimension should be on the x-axis, because that's easier to see.  So if we're trying to show things are getting warmer of the years, the left plot is better.  If we're trying to show what the experience is like throughout the year, the right plot is better."
   ]
  },
  {
   "cell_type": "markdown",
   "metadata": {},
   "source": [
    "# Conclusion\n",
    "\n",
    "In this reading, we've learned how to control the x-axis and y-axis limits, overriding the defaults that matplotlib might choose.  We've also learned how to create pairs of adjacent plots, sometimes sharing the same axes.\n",
    "\n",
    "Finally, we've thought about how to communicate effectively with plots by comparing 13 pairs of examples.  We learned several design principals from this exploration, including:\n",
    "* use log scale when very large and very small data must be shown in the same plot\n",
    "* never use stacked bars in combination with a log scale\n",
    "* never use a line plot over a categorical x-axis\n",
    "* adjacent bars are easier to compare than non-adjacent bars\n",
    "* when there are quantities for every combination of two variables and the data is being represented with multiple lines, the more important data dimension should be aligned along the x-axis"
   ]
  },
  {
   "cell_type": "code",
   "execution_count": null,
   "metadata": {},
   "outputs": [],
   "source": []
  }
 ],
 "metadata": {
  "kernelspec": {
   "display_name": "Python 3",
   "language": "python",
   "name": "python3"
  },
  "language_info": {
   "codemirror_mode": {
    "name": "ipython",
    "version": 3
   },
   "file_extension": ".py",
   "mimetype": "text/x-python",
   "name": "python",
   "nbconvert_exporter": "python",
   "pygments_lexer": "ipython3",
   "version": "3.6.5"
  }
 },
 "nbformat": 4,
 "nbformat_minor": 2
}
