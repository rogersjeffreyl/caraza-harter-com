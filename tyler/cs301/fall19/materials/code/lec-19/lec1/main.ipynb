{
 "cells": [
  {
   "cell_type": "code",
   "execution_count": 1,
   "metadata": {},
   "outputs": [
    {
     "data": {
      "text/html": [
       "<style>.container { width:100% !important; }</style>"
      ],
      "text/plain": [
       "<IPython.core.display.HTML object>"
      ]
     },
     "metadata": {},
     "output_type": "display_data"
    }
   ],
   "source": [
    "from IPython.core.display import display, HTML\n",
    "display(HTML(\"<style>.container { width:100% !important; }</style>\"))"
   ]
  },
  {
   "cell_type": "code",
   "execution_count": 2,
   "metadata": {},
   "outputs": [],
   "source": [
    "# EXAMPLE 1: bucketizing"
   ]
  },
  {
   "cell_type": "code",
   "execution_count": 3,
   "metadata": {},
   "outputs": [],
   "source": [
    "import csv\n",
    "\n",
    "# copied from https://automatetheboringstuff.com/chapter14/\n",
    "def process_csv(filename):\n",
    "    exampleFile = open(filename, encoding=\"utf-8\")\n",
    "    exampleReader = csv.reader(exampleFile)\n",
    "    exampleData = list(exampleReader)\n",
    "    exampleFile.close()\n",
    "    return exampleData"
   ]
  },
  {
   "cell_type": "code",
   "execution_count": 4,
   "metadata": {},
   "outputs": [
    {
     "data": {
      "text/plain": [
       "['year', 'id', 'location', 'speed']"
      ]
     },
     "execution_count": 4,
     "metadata": {},
     "output_type": "execute_result"
    }
   ],
   "source": [
    "rows = process_csv(\"tornados.csv\")\n",
    "header = rows[0]\n",
    "rows = rows[1:]\n",
    "header"
   ]
  },
  {
   "cell_type": "code",
   "execution_count": 5,
   "metadata": {},
   "outputs": [
    {
     "data": {
      "text/plain": [
       "{'site B': 213.86666666666667,\n",
       " 'site C': 206.7058823529412,\n",
       " 'site A': 217.69230769230768}"
      ]
     },
     "execution_count": 5,
     "metadata": {},
     "output_type": "execute_result"
    }
   ],
   "source": [
    "# KEY is year, VAL is list of rows\n",
    "def bucketize(group_by_col):\n",
    "    buckets = {}\n",
    "    for row in rows:\n",
    "        key = row[header.index(group_by_col)]\n",
    "        if not key in buckets:\n",
    "            buckets[key] = []\n",
    "        buckets[key].append(row)\n",
    "    return buckets\n",
    "\n",
    "def avg_per_bucket(buckets, avg_col):\n",
    "    stats = {}\n",
    "    for key in buckets:\n",
    "        #print(\"KEY\", key)\n",
    "        bucket = buckets[key] # list of lists for a single year\n",
    "        total = 0\n",
    "        for row in bucket:\n",
    "            #print(\"ROW\", row)\n",
    "            total += float(row[header.index(avg_col)])\n",
    "        avg = total / len(bucket)\n",
    "        #print(\"AVG\", avg)\n",
    "        stats[key] = avg\n",
    "    return stats\n",
    "\n",
    "avg_per_bucket(bucketize(\"location\"), \"speed\")"
   ]
  },
  {
   "cell_type": "code",
   "execution_count": 6,
   "metadata": {},
   "outputs": [
    {
     "data": {
      "text/plain": [
       "{'2006': 175.0,\n",
       " '1996': 242.8,\n",
       " '2016': 225.25,\n",
       " '2014': 208.75,\n",
       " '2015': 138.5,\n",
       " '2005': 179.0,\n",
       " '2002': 221.2,\n",
       " '1995': 211.0,\n",
       " '1997': 247.0,\n",
       " '2001': 234.66666666666666,\n",
       " '2011': 236.5,\n",
       " '2010': 201.5,\n",
       " '2017': 193.0,\n",
       " '2008': 261.3333333333333,\n",
       " '2003': 197.5,\n",
       " '2004': 212.0,\n",
       " '2013': 239.5,\n",
       " '2009': 170.33333333333334,\n",
       " '1998': 240.0,\n",
       " '2007': 212.0}"
      ]
     },
     "execution_count": 6,
     "metadata": {},
     "output_type": "execute_result"
    }
   ],
   "source": [
    "avg_per_bucket(bucketize(\"year\"), \"speed\")"
   ]
  },
  {
   "cell_type": "code",
   "execution_count": 7,
   "metadata": {},
   "outputs": [
    {
     "data": {
      "text/plain": [
       "{'site B': 2006.4, 'site C': 2005.5294117647059, 'site A': 2006.1923076923076}"
      ]
     },
     "execution_count": 7,
     "metadata": {},
     "output_type": "execute_result"
    }
   ],
   "source": [
    "avg_per_bucket(bucketize(\"location\"), \"year\")"
   ]
  },
  {
   "cell_type": "code",
   "execution_count": 8,
   "metadata": {},
   "outputs": [],
   "source": [
    "# EXAMPLE 2: table as a list of dicts"
   ]
  },
  {
   "cell_type": "code",
   "execution_count": 23,
   "metadata": {},
   "outputs": [],
   "source": [
    "def load_csv_dicts(path):\n",
    "    rows = process_csv(path)\n",
    "    header = rows[0]\n",
    "    rows = rows[1:] # list of lists\n",
    "    dict_rows = [] # list of dicts\n",
    "    for row in rows:\n",
    "        d = {}\n",
    "        for i in range(len(header)):\n",
    "            d[header[i]] = row[i]\n",
    "        dict_rows.append(d)\n",
    "    return dict_rows\n",
    "    \n",
    "new_data = load_csv_dicts(\"tornados.csv\")"
   ]
  },
  {
   "cell_type": "code",
   "execution_count": 24,
   "metadata": {},
   "outputs": [
    {
     "data": {
      "text/plain": [
       "'230'"
      ]
     },
     "execution_count": 24,
     "metadata": {},
     "output_type": "execute_result"
    }
   ],
   "source": [
    "new_data[-1][\"speed\"]"
   ]
  },
  {
   "cell_type": "code",
   "execution_count": 25,
   "metadata": {},
   "outputs": [
    {
     "data": {
      "text/plain": [
       "'site B'"
      ]
     },
     "execution_count": 25,
     "metadata": {},
     "output_type": "execute_result"
    }
   ],
   "source": [
    "new_data[0][\"location\"]"
   ]
  },
  {
   "cell_type": "code",
   "execution_count": 26,
   "metadata": {},
   "outputs": [
    {
     "data": {
      "text/plain": [
       "[{'year': '2006', 'id': 'QPIQPWDP', 'location': 'site B', 'speed': '175'},\n",
       " {'year': '1996', 'id': 'MMMHKDDK', 'location': 'site B', 'speed': '290'},\n",
       " {'year': '2016', 'id': 'QSCAPJBU', 'location': 'site B', 'speed': '290'},\n",
       " {'year': '2014', 'id': 'KKGOICYZ', 'location': 'site C', 'speed': '122'},\n",
       " {'year': '2015', 'id': 'ZDMHZTXL', 'location': 'site A', 'speed': '147'},\n",
       " {'year': '2005', 'id': 'FEBIJZIF', 'location': 'site A', 'speed': '198'},\n",
       " {'year': '2002', 'id': 'EYIVKEWL', 'location': 'site B', 'speed': '199'},\n",
       " {'year': '1995', 'id': 'JDUTRHFQ', 'location': 'site A', 'speed': '281'},\n",
       " {'year': '1997', 'id': 'NSCJTEAU', 'location': 'site B', 'speed': '222'},\n",
       " {'year': '2005', 'id': 'AWLDIUCW', 'location': 'site A', 'speed': '173'},\n",
       " {'year': '1996', 'id': 'JRHLYGLS', 'location': 'site C', 'speed': '238'},\n",
       " {'year': '2001', 'id': 'QRYMLENE', 'location': 'site C', 'speed': '174'},\n",
       " {'year': '1995', 'id': 'RCAOONFD', 'location': 'site A', 'speed': '198'},\n",
       " {'year': '2002', 'id': 'IZXLGNRJ', 'location': 'site C', 'speed': '269'},\n",
       " {'year': '2011', 'id': 'AUJLPQWN', 'location': 'site B', 'speed': '243'},\n",
       " {'year': '1995', 'id': 'XCBWVUIF', 'location': 'site A', 'speed': '234'},\n",
       " {'year': '2010', 'id': 'SZRUOPIH', 'location': 'site B', 'speed': '201'},\n",
       " {'year': '2016', 'id': 'JQPYBXEI', 'location': 'site A', 'speed': '139'},\n",
       " {'year': '2016', 'id': 'BJDRTWIW', 'location': 'site A', 'speed': '286'},\n",
       " {'year': '2005', 'id': 'CWGFYTZZ', 'location': 'site C', 'speed': '109'},\n",
       " {'year': '2017', 'id': 'LIBFCJBB', 'location': 'site C', 'speed': '181'},\n",
       " {'year': '1996', 'id': 'WIMYUNGE', 'location': 'site A', 'speed': '187'},\n",
       " {'year': '2017', 'id': 'CNMZERWF', 'location': 'site C', 'speed': '218'},\n",
       " {'year': '2008', 'id': 'FUBXASWR', 'location': 'site B', 'speed': '255'},\n",
       " {'year': '1996', 'id': 'LJJJYSDQ', 'location': 'site A', 'speed': '209'},\n",
       " {'year': '2002', 'id': 'EONEPHOZ', 'location': 'site A', 'speed': '213'},\n",
       " {'year': '2003', 'id': 'NQSHEURP', 'location': 'site C', 'speed': '155'},\n",
       " {'year': '2003', 'id': 'VFIBJORY', 'location': 'site B', 'speed': '240'},\n",
       " {'year': '2004', 'id': 'KRMJSZGY', 'location': 'site C', 'speed': '137'},\n",
       " {'year': '2001', 'id': 'VTBWHKRH', 'location': 'site B', 'speed': '271'},\n",
       " {'year': '2008', 'id': 'TVEGOJAM', 'location': 'site C', 'speed': '272'},\n",
       " {'year': '2005', 'id': 'EXXPOMSB', 'location': 'site C', 'speed': '236'},\n",
       " {'year': '2013', 'id': 'GTKGJLKN', 'location': 'site A', 'speed': '220'},\n",
       " {'year': '2009', 'id': 'VLEHBLKH', 'location': 'site B', 'speed': '141'},\n",
       " {'year': '2017', 'id': 'YNBKDYTA', 'location': 'site A', 'speed': '179'},\n",
       " {'year': '1998', 'id': 'DIBERSNP', 'location': 'site A', 'speed': '240'},\n",
       " {'year': '2001', 'id': 'ZSPSCPBT', 'location': 'site C', 'speed': '259'},\n",
       " {'year': '2016', 'id': 'KOBWSFXW', 'location': 'site A', 'speed': '186'},\n",
       " {'year': '2010', 'id': 'CETAQQXF', 'location': 'site B', 'speed': '202'},\n",
       " {'year': '2007', 'id': 'DBEESDMM', 'location': 'site A', 'speed': '159'},\n",
       " {'year': '2017', 'id': 'YWHUCOUS', 'location': 'site B', 'speed': '194'},\n",
       " {'year': '2014', 'id': 'CCCCYZBY', 'location': 'site C', 'speed': '264'},\n",
       " {'year': '2002', 'id': 'VKANHNPC', 'location': 'site A', 'speed': '175'},\n",
       " {'year': '2007', 'id': 'DSSUCXOI', 'location': 'site A', 'speed': '265'},\n",
       " {'year': '2014', 'id': 'EWLAXYVH', 'location': 'site C', 'speed': '153'},\n",
       " {'year': '2014', 'id': 'BPNKITVS', 'location': 'site A', 'speed': '296'},\n",
       " {'year': '2015', 'id': 'YDPQWWGV', 'location': 'site B', 'speed': '130'},\n",
       " {'year': '2009', 'id': 'JRKTSFOU', 'location': 'site A', 'speed': '112'},\n",
       " {'year': '1996', 'id': 'TOXIMTKE', 'location': 'site C', 'speed': '290'},\n",
       " {'year': '2002', 'id': 'QZKYNJFZ', 'location': 'site C', 'speed': '250'},\n",
       " {'year': '1995', 'id': 'KYUONPMV', 'location': 'site C', 'speed': '187'},\n",
       " {'year': '2013', 'id': 'RQYVUUGR', 'location': 'site A', 'speed': '259'},\n",
       " {'year': '2008', 'id': 'PHSPFJVR', 'location': 'site A', 'speed': '257'},\n",
       " {'year': '2009', 'id': 'ZUCZYBOC', 'location': 'site A', 'speed': '258'},\n",
       " {'year': '2004', 'id': 'DWIDLQEZ', 'location': 'site A', 'speed': '287'},\n",
       " {'year': '1995', 'id': 'EMCQGXEG', 'location': 'site B', 'speed': '155'},\n",
       " {'year': '1997', 'id': 'MEYDGPRX', 'location': 'site A', 'speed': '272'},\n",
       " {'year': '2011', 'id': 'TLSAVUXI', 'location': 'site A', 'speed': '230'}]"
      ]
     },
     "execution_count": 26,
     "metadata": {},
     "output_type": "execute_result"
    }
   ],
   "source": [
    "new_data"
   ]
  },
  {
   "cell_type": "code",
   "execution_count": null,
   "metadata": {},
   "outputs": [],
   "source": []
  }
 ],
 "metadata": {
  "kernelspec": {
   "display_name": "Python 3",
   "language": "python",
   "name": "python3"
  },
  "language_info": {
   "codemirror_mode": {
    "name": "ipython",
    "version": 3
   },
   "file_extension": ".py",
   "mimetype": "text/x-python",
   "name": "python",
   "nbconvert_exporter": "python",
   "pygments_lexer": "ipython3",
   "version": "3.7.2"
  }
 },
 "nbformat": 4,
 "nbformat_minor": 2
}
