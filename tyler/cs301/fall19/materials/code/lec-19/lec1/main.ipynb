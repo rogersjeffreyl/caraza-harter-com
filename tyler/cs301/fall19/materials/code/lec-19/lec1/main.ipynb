{
 "cells": [
  {
   "cell_type": "code",
   "execution_count": 1,
   "metadata": {},
   "outputs": [
    {
     "data": {
      "text/html": [
       "<style>.container { width:100% !important; }</style>"
      ],
      "text/plain": [
       "<IPython.core.display.HTML object>"
      ]
     },
     "metadata": {},
     "output_type": "display_data"
    }
   ],
   "source": [
    "from IPython.core.display import display, HTML\n",
    "display(HTML(\"<style>.container { width:100% !important; }</style>\"))"
   ]
  },
  {
   "cell_type": "code",
   "execution_count": 2,
   "metadata": {},
   "outputs": [],
   "source": [
    "import csv\n",
    "\n",
    "# copied from https://automatetheboringstuff.com/chapter14/\n",
    "def process_csv(filename):\n",
    "    exampleFile = open(filename, encoding=\"utf-8\")\n",
    "    exampleReader = csv.reader(exampleFile)\n",
    "    exampleData = list(exampleReader)\n",
    "    exampleFile.close()\n",
    "    return exampleData"
   ]
  },
  {
   "cell_type": "code",
   "execution_count": 3,
   "metadata": {},
   "outputs": [
    {
     "data": {
      "text/plain": [
       "['year', 'id', 'location', 'speed']"
      ]
     },
     "execution_count": 3,
     "metadata": {},
     "output_type": "execute_result"
    }
   ],
   "source": [
    "rows = process_csv(\"tornados.csv\")\n",
    "header = rows[0]\n",
    "rows = rows[1:]\n",
    "header"
   ]
  },
  {
   "cell_type": "code",
   "execution_count": 12,
   "metadata": {},
   "outputs": [
    {
     "data": {
      "text/plain": [
       "{'site B': 213.86666666666667,\n",
       " 'site C': 206.7058823529412,\n",
       " 'site A': 217.69230769230768}"
      ]
     },
     "execution_count": 12,
     "metadata": {},
     "output_type": "execute_result"
    }
   ],
   "source": [
    "# KEY is year, VAL is list of rows\n",
    "def bucketize(group_by_col):\n",
    "    buckets = {}\n",
    "    for row in rows:\n",
    "        key = row[header.index(group_by_col)]\n",
    "        if not key in buckets:\n",
    "            buckets[key] = []\n",
    "        buckets[key].append(row)\n",
    "    return buckets\n",
    "\n",
    "def avg_per_bucket(buckets, avg_col):\n",
    "    stats = {}\n",
    "    for key in buckets:\n",
    "        #print(\"KEY\", key)\n",
    "        bucket = buckets[key] # list of lists for a single year\n",
    "        total = 0\n",
    "        for row in bucket:\n",
    "            #print(\"ROW\", row)\n",
    "            total += float(row[header.index(avg_col)])\n",
    "        avg = total / len(bucket)\n",
    "        #print(\"AVG\", avg)\n",
    "        stats[key] = avg\n",
    "    return stats\n",
    "\n",
    "avg_per_bucket(bucketize(\"location\"), \"speed\")"
   ]
  },
  {
   "cell_type": "code",
   "execution_count": 13,
   "metadata": {},
   "outputs": [
    {
     "data": {
      "text/plain": [
       "{'2006': 175.0,\n",
       " '1996': 242.8,\n",
       " '2016': 225.25,\n",
       " '2014': 208.75,\n",
       " '2015': 138.5,\n",
       " '2005': 179.0,\n",
       " '2002': 221.2,\n",
       " '1995': 211.0,\n",
       " '1997': 247.0,\n",
       " '2001': 234.66666666666666,\n",
       " '2011': 236.5,\n",
       " '2010': 201.5,\n",
       " '2017': 193.0,\n",
       " '2008': 261.3333333333333,\n",
       " '2003': 197.5,\n",
       " '2004': 212.0,\n",
       " '2013': 239.5,\n",
       " '2009': 170.33333333333334,\n",
       " '1998': 240.0,\n",
       " '2007': 212.0}"
      ]
     },
     "execution_count": 13,
     "metadata": {},
     "output_type": "execute_result"
    }
   ],
   "source": [
    "avg_per_bucket(bucketize(\"year\"), \"speed\")"
   ]
  },
  {
   "cell_type": "code",
   "execution_count": 14,
   "metadata": {},
   "outputs": [
    {
     "data": {
      "text/plain": [
       "{'site B': 2006.4, 'site C': 2005.5294117647059, 'site A': 2006.1923076923076}"
      ]
     },
     "execution_count": 14,
     "metadata": {},
     "output_type": "execute_result"
    }
   ],
   "source": [
    "avg_per_bucket(bucketize(\"location\"), \"year\")"
   ]
  },
  {
   "cell_type": "code",
   "execution_count": null,
   "metadata": {},
   "outputs": [],
   "source": []
  }
 ],
 "metadata": {
  "kernelspec": {
   "display_name": "Python 3",
   "language": "python",
   "name": "python3"
  },
  "language_info": {
   "codemirror_mode": {
    "name": "ipython",
    "version": 3
   },
   "file_extension": ".py",
   "mimetype": "text/x-python",
   "name": "python",
   "nbconvert_exporter": "python",
   "pygments_lexer": "ipython3",
   "version": "3.7.2"
  }
 },
 "nbformat": 4,
 "nbformat_minor": 2
}
