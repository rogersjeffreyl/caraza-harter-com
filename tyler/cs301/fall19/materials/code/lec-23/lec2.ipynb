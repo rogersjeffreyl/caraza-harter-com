{
 "cells": [
  {
   "cell_type": "code",
   "execution_count": 1,
   "metadata": {},
   "outputs": [
    {
     "data": {
      "text/html": [
       "<style>.container { width:100% !important; }</style>"
      ],
      "text/plain": [
       "<IPython.core.display.HTML object>"
      ]
     },
     "metadata": {},
     "output_type": "display_data"
    }
   ],
   "source": [
    "from IPython.core.display import display, HTML\n",
    "display(HTML(\"<style>.container { width:100% !important; }</style>\"))\n"
   ]
  },
  {
   "cell_type": "code",
   "execution_count": 22,
   "metadata": {},
   "outputs": [
    {
     "name": "stdout",
     "output_type": "stream",
     "text": [
      "*  A\n",
      "    *  m\n",
      "    *  n\n",
      "*  B\n",
      "    *  x\n",
      "    *  y\n",
      "        *  i\n",
      "        *  j\n",
      "        *  k\n"
     ]
    }
   ],
   "source": [
    "def pretty_print(items, indent=0):\n",
    "    #print(\"CALLED FOR\", items, \"INDENT\", indent)\n",
    "    for v in items:\n",
    "        if type(v) == list:\n",
    "            new_indent = indent + 4\n",
    "            pretty_print(v, new_indent)\n",
    "        else:\n",
    "            spaces = \" \" * indent\n",
    "            print(spaces + \"* \", v)\n",
    "    #print(\"RETURNED\")\n",
    "\n",
    "bullets = [\"A\", [\"m\", \"n\"], \"B\", [\"x\", \"y\", [\"i\", \"j\", \"k\"]]]\n",
    "pretty_print(bullets, 0)"
   ]
  },
  {
   "cell_type": "code",
   "execution_count": null,
   "metadata": {},
   "outputs": [],
   "source": []
  }
 ],
 "metadata": {
  "kernelspec": {
   "display_name": "Python 3",
   "language": "python",
   "name": "python3"
  },
  "language_info": {
   "codemirror_mode": {
    "name": "ipython",
    "version": 3
   },
   "file_extension": ".py",
   "mimetype": "text/x-python",
   "name": "python",
   "nbconvert_exporter": "python",
   "pygments_lexer": "ipython3",
   "version": "3.7.2"
  }
 },
 "nbformat": 4,
 "nbformat_minor": 2
}
