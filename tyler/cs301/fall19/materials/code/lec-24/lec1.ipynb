{
 "cells": [
  {
   "cell_type": "code",
   "execution_count": 1,
   "metadata": {},
   "outputs": [
    {
     "data": {
      "text/html": [
       "<style>.container { width:100% !important; }</style>"
      ],
      "text/plain": [
       "<IPython.core.display.HTML object>"
      ]
     },
     "metadata": {},
     "output_type": "display_data"
    }
   ],
   "source": [
    "from IPython.core.display import display, HTML\n",
    "display(HTML(\"<style>.container { width:100% !important; }</style>\"))"
   ]
  },
  {
   "cell_type": "code",
   "execution_count": 2,
   "metadata": {},
   "outputs": [
    {
     "name": "stdout",
     "output_type": "stream",
     "text": [
      "['1', '$22', '$333', '$hundred']\n",
      "['1', '22', '333', 'hundred']\n",
      "[1, 22, 333, 'hundred']\n"
     ]
    }
   ],
   "source": [
    "# EXAMPLE 1\n",
    "\n",
    "def strip_dollars(s):\n",
    "    if s.startswith(\"$\"):\n",
    "        s = s[1:]\n",
    "    return s\n",
    "\n",
    "def safe_int(x):\n",
    "    if x.isdigit():\n",
    "        return int(x)\n",
    "    return x\n",
    "\n",
    "def apply_to_each(old_list, f):\n",
    "    new_list = []\n",
    "    for orig in old_list:\n",
    "        new_val = f(orig)\n",
    "        new_list.append(new_val)\n",
    "    return new_list\n",
    "\n",
    "vals = [\"1\", \"$22\", \"$333\", \"$hundred\"]\n",
    "print(vals)\n",
    "vals = apply_to_each(vals, strip_dollars)\n",
    "print(vals)\n",
    "vals = apply_to_each(vals, safe_int)\n",
    "print(vals)"
   ]
  },
  {
   "cell_type": "code",
   "execution_count": 3,
   "metadata": {},
   "outputs": [
    {
     "name": "stdout",
     "output_type": "stream",
     "text": [
      "CALLED extract_speed: {'name': 'A', 'year': 2000, 'speed': 150}\n",
      "CALLED extract_speed: {'name': 'C', 'year': 1990, 'speed': 130}\n",
      "CALLED extract_speed: {'name': 'D', 'year': 1980, 'speed': 180}\n",
      "CALLED extract_speed: {'name': 'B', 'year': 1980, 'speed': 180}\n"
     ]
    },
    {
     "data": {
      "text/plain": [
       "[{'name': 'B', 'year': 1980, 'speed': 180},\n",
       " {'name': 'D', 'year': 1980, 'speed': 180},\n",
       " {'name': 'A', 'year': 2000, 'speed': 150},\n",
       " {'name': 'C', 'year': 1990, 'speed': 130}]"
      ]
     },
     "execution_count": 3,
     "metadata": {},
     "output_type": "execute_result"
    }
   ],
   "source": [
    "# EXAMPLE 2\n",
    "\n",
    "hurricanes = [\n",
    "    {\"name\": \"A\", \"year\": 2000, \"speed\": 150},\n",
    "    {\"name\": \"C\", \"year\": 1990, \"speed\": 130},\n",
    "    {\"name\": \"D\", \"year\": 1980, \"speed\": 180},\n",
    "    {\"name\": \"B\", \"year\": 1980, \"speed\": 180},\n",
    "]\n",
    "\n",
    "def extract_name(d):\n",
    "    print(\"CALLED extract_name:\", d)\n",
    "    return d[\"name\"]\n",
    "\n",
    "def extract_speed(d):\n",
    "    print(\"CALLED extract_speed:\", d)\n",
    "    return (-d[\"speed\"], d[\"name\"])\n",
    "\n",
    "sorted(hurricanes, key=extract_speed)"
   ]
  }
 ],
 "metadata": {
  "kernelspec": {
   "display_name": "Python 3",
   "language": "python",
   "name": "python3"
  },
  "language_info": {
   "codemirror_mode": {
    "name": "ipython",
    "version": 3
   },
   "file_extension": ".py",
   "mimetype": "text/x-python",
   "name": "python",
   "nbconvert_exporter": "python",
   "pygments_lexer": "ipython3",
   "version": "3.7.2"
  }
 },
 "nbformat": 4,
 "nbformat_minor": 2
}
