{
 "cells": [
  {
   "cell_type": "code",
   "execution_count": 3,
   "metadata": {},
   "outputs": [
    {
     "data": {
      "text/html": [
       "<style>.container { width:100% !important; }</style>"
      ],
      "text/plain": [
       "<IPython.core.display.HTML object>"
      ]
     },
     "metadata": {},
     "output_type": "display_data"
    }
   ],
   "source": [
    "from IPython.core.display import display, HTML\n",
    "display(HTML(\"<style>.container { width:100% !important; }</style>\"))"
   ]
  },
  {
   "cell_type": "code",
   "execution_count": 41,
   "metadata": {},
   "outputs": [],
   "source": [
    "import requests, os\n",
    "from bs4 import BeautifulSoup"
   ]
  },
  {
   "cell_type": "code",
   "execution_count": 5,
   "metadata": {},
   "outputs": [],
   "source": [
    "url = \"https://simple.wikipedia.org/wiki/List_of_U.S._states\"\n",
    "r = requests.get(url)\n",
    "r.raise_for_status()"
   ]
  },
  {
   "cell_type": "code",
   "execution_count": 12,
   "metadata": {},
   "outputs": [],
   "source": [
    "doc = BeautifulSoup(r.text, \"html.parser\")"
   ]
  },
  {
   "cell_type": "code",
   "execution_count": 16,
   "metadata": {},
   "outputs": [],
   "source": [
    "# print(doc.prettify())"
   ]
  },
  {
   "cell_type": "code",
   "execution_count": null,
   "metadata": {},
   "outputs": [],
   "source": [
    "# elements may contain\n",
    "# 1. other elements\n",
    "# 2. text\n",
    "# 3. attributes"
   ]
  },
  {
   "cell_type": "code",
   "execution_count": 33,
   "metadata": {},
   "outputs": [],
   "source": [
    "# STAGE 1: find links to all pages\n",
    "table = doc.find(\"table\")\n",
    "trs = table.find_all(\"tr\") # find table rows\n",
    "assert len(trs) >= 50\n",
    "\n",
    "# KEY: state name, VAL: url for that state\n",
    "state_urls = {}\n",
    "\n",
    "for tr in trs:\n",
    "    th = tr.find(\"th\") # find table header in current row\n",
    "    links = th.find_all(\"a\")\n",
    "    if len(links) < 1:\n",
    "        continue\n",
    "    L = links[0] # grab first link\n",
    "    href = \"https://simple.wikipedia.org\" + L.attrs[\"href\"]\n",
    "    state_urls[L.get_text()] = href"
   ]
  },
  {
   "cell_type": "code",
   "execution_count": 45,
   "metadata": {},
   "outputs": [
    {
     "name": "stdout",
     "output_type": "stream",
     "text": [
      "Alabama\n",
      "Alaska\n",
      "Arizona\n",
      "Arkansas\n",
      "California\n",
      "Colorado\n",
      "Connecticut\n",
      "Delaware\n",
      "Florida\n",
      "Georgia\n",
      "Hawaii\n",
      "Idaho\n",
      "Illinois\n",
      "Indiana\n",
      "Iowa\n",
      "Kansas\n",
      "Kentucky\n",
      "Louisiana\n",
      "Maine\n",
      "Maryland\n",
      "Massachusetts\n",
      "Michigan\n",
      "Minnesota\n",
      "Mississippi\n",
      "Missouri\n",
      "Montana\n",
      "Nebraska\n",
      "Nevada\n",
      "New Hampshire\n",
      "New Jersey\n",
      "New Mexico\n",
      "New York\n",
      "North Carolina\n",
      "North Dakota\n",
      "Ohio\n",
      "Oklahoma\n",
      "Oregon\n",
      "Pennsylvania\n",
      "Rhode Island\n",
      "South Carolina\n",
      "South Dakota\n",
      "Tennessee\n",
      "Texas\n",
      "Utah\n",
      "Vermont\n",
      "Virginia\n",
      "Washington\n",
      "West Virginia\n",
      "Wisconsin\n",
      "Wyoming\n"
     ]
    }
   ],
   "source": [
    "# STAGE 2: download all of those pages\n",
    "state_names = sorted(state_urls.keys())\n",
    "for state_name in state_names:\n",
    "    print(state_name)\n",
    "    path = state_name + \".html\"\n",
    "    \n",
    "    if os.path.exists(path):\n",
    "        continue\n",
    "    \n",
    "    url = state_urls[state_name]\n",
    "    resp = requests.get(url)\n",
    "    resp.raise_for_status()\n",
    "    f = open(path, \"w\")\n",
    "    f.write(resp.text)\n",
    "    f.close()"
   ]
  },
  {
   "cell_type": "code",
   "execution_count": 57,
   "metadata": {},
   "outputs": [
    {
     "data": {
      "text/plain": [
       "{'': 'Wikimedia Commons has media related to Wisconsin.',\n",
       " 'Flag': 'Seal',\n",
       " 'Demonym': 'Wisconsinite',\n",
       " 'Capital': 'Madison',\n",
       " 'Largest city': 'Milwaukee',\n",
       " 'Largest metro': 'Milwaukee metropolitan area',\n",
       " 'Area': 'Ranked 23rd ',\n",
       " '\\xa0•\\xa0Total': '5,795,483 (2017 est.)[6]',\n",
       " '\\xa0•\\xa0Width': '260\\xa0miles\\xa0(427 km)',\n",
       " '\\xa0•\\xa0Length': '311\\xa0miles\\xa0(507 km)',\n",
       " '\\xa0•\\xa0% water': '17',\n",
       " '\\xa0•\\xa0Latitude': \"42°\\u200a30' N to 47°\\u200a05′ N\",\n",
       " '\\xa0•\\xa0Longitude': '86°\\u200a46′ W to 92°\\u200a54′ W',\n",
       " 'Population': 'Ranked 20th ',\n",
       " '\\xa0•\\xa0Density': '105/sq\\xa0mi\\xa0 (40.6/km2)Ranked 23rd',\n",
       " '\\xa0•\\xa0Median household income': '$55,425 [7] (28th)',\n",
       " 'Elevation': '',\n",
       " '\\xa0•\\xa0Highest point': 'Timms Hill[8][9]1,951\\xa0ft (595 m)',\n",
       " '\\xa0•\\xa0Mean': '1,050\\xa0ft\\xa0 (320 m)',\n",
       " '\\xa0•\\xa0Lowest point': 'Lake Michigan[8][9] 579\\xa0ft (176 m)',\n",
       " 'Before statehood': 'Wisconsin Territory',\n",
       " 'Admission to Union': 'May 29, 1848 (30th)',\n",
       " 'Governor': 'Tony Evers (D)',\n",
       " 'Lieutenant Governor': 'Mandela Barnes (D)',\n",
       " 'Legislature': 'Wisconsin Legislature ',\n",
       " '\\xa0•\\xa0Upper house': 'Senate',\n",
       " '\\xa0•\\xa0Lower house': 'Assembly',\n",
       " 'U.S. Senators': 'Ron Johnson (R)Tammy Baldwin (D)',\n",
       " 'U.S. House delegation': '5 Republicans3 Democrats (list)',\n",
       " 'Time zone': 'Central: UTC −6/−5',\n",
       " 'ISO 3166': 'US-WI',\n",
       " 'Abbreviations': 'WI, Wis., Wisc.',\n",
       " 'Website': 'www.wisconsin.gov',\n",
       " 'Bird': 'American robinTurdus migratorius',\n",
       " 'Fish': 'MuskellungeEsox masquinongy',\n",
       " 'Flower': 'Wood violetViola sororia',\n",
       " 'Insect': 'Western honey beeApis mellifera',\n",
       " 'Tree': 'Sugar mapleAcer saccharum',\n",
       " 'Beverage': 'Milk',\n",
       " 'Dance': 'Polka',\n",
       " 'Food': 'CornZea mays',\n",
       " 'Fossil': 'TrilobiteCalymene celebra',\n",
       " 'Mineral': 'Galena',\n",
       " 'Rock': 'Red granite',\n",
       " 'Slogan': \"America's Dairyland[10]\",\n",
       " 'Soil': 'Antigo silt loam',\n",
       " 'Tartan': 'Wisconsin tartan',\n",
       " 'States': '\\nAlabama\\nAlaska\\nArizona\\nArkansas\\nCalifornia\\nColorado\\nConnecticut\\nDelaware\\nFlorida\\nGeorgia\\nHawaii\\nIdaho\\nIllinois\\nIndiana\\nIowa\\nKansas\\nKentucky\\nLouisiana\\nMaine\\nMaryland\\nMassachusetts\\nMichigan\\nMinnesota\\nMississippi\\nMissouri\\nMontana\\nNebraska\\nNevada\\nNew Hampshire\\nNew Jersey\\nNew Mexico\\nNew York\\nNorth Carolina\\nNorth Dakota\\nOhio\\nOklahoma\\nOregon\\nPennsylvania\\nRhode Island\\nSouth Carolina\\nSouth Dakota\\nTennessee\\nTexas\\nUtah\\nVermont\\nVirginia\\nWashington\\nWest Virginia\\nWisconsin\\nWyoming\\n',\n",
       " 'Federal district': 'Washington, D.C.',\n",
       " 'Insular areas': '\\nAmerican Samoa\\nGuam\\nNorthern Mariana Islands\\nPuerto Rico \\nU.S. Virgin Islands\\n',\n",
       " 'Outlying islands': '\\nBaker Island\\nHowland Island\\nJarvis Island\\nJohnston Atoll\\nKingman Reef\\nMidway Atoll\\nNavassa Island\\nPalmyra Atoll\\nWake Island\\n',\n",
       " 'East North Central': 'Illinois\\xa0· Indiana\\xa0· Michigan\\xa0· Ohio\\xa0· Wisconsin',\n",
       " 'West North Central': 'Iowa\\xa0· Kansas\\xa0· Minnesota\\xa0· Missouri\\xa0· Nebraska\\xa0· North Dakota\\xa0· South Dakota'}"
      ]
     },
     "execution_count": 57,
     "metadata": {},
     "output_type": "execute_result"
    }
   ],
   "source": [
    "# STAGE 3: extract info from state files\n",
    "\n",
    "def load_state(path):\n",
    "    f = open(path)\n",
    "    doc = BeautifulSoup(f.read(), \"html.parser\")\n",
    "    f.close()\n",
    "    stats = {}\n",
    "    for tr in doc.find_all(\"tr\"):\n",
    "        cells = tr.find_all([\"th\", \"td\"])\n",
    "        if len(cells) == 2:\n",
    "            key = cells[0].get_text()\n",
    "            val = cells[1].get_text()\n",
    "            stats[key] = val\n",
    "    return stats\n",
    "\n",
    "load_state(\"Wisconsin.html\")"
   ]
  },
  {
   "cell_type": "code",
   "execution_count": null,
   "metadata": {},
   "outputs": [],
   "source": []
  }
 ],
 "metadata": {
  "kernelspec": {
   "display_name": "Python 3",
   "language": "python",
   "name": "python3"
  },
  "language_info": {
   "codemirror_mode": {
    "name": "ipython",
    "version": 3
   },
   "file_extension": ".py",
   "mimetype": "text/x-python",
   "name": "python",
   "nbconvert_exporter": "python",
   "pygments_lexer": "ipython3",
   "version": "3.7.2"
  }
 },
 "nbformat": 4,
 "nbformat_minor": 2
}
