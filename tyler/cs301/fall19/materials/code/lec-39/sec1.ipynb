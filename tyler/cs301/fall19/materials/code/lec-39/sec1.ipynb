{
 "cells": [
  {
   "cell_type": "code",
   "execution_count": 2,
   "metadata": {},
   "outputs": [
    {
     "data": {
      "text/html": [
       "<style>.container { width:100% !important; }</style>"
      ],
      "text/plain": [
       "<IPython.core.display.HTML object>"
      ]
     },
     "metadata": {},
     "output_type": "display_data"
    }
   ],
   "source": [
    "from IPython.core.display import display, HTML\n",
    "display(HTML(\"<style>.container { width:100% !important; }</style>\"))"
   ]
  },
  {
   "cell_type": "code",
   "execution_count": 3,
   "metadata": {},
   "outputs": [],
   "source": [
    "import pandas as pd\n",
    "from pandas import Series, DataFrame\n",
    "import matplotlib"
   ]
  },
  {
   "cell_type": "code",
   "execution_count": 4,
   "metadata": {},
   "outputs": [],
   "source": [
    "%matplotlib inline"
   ]
  },
  {
   "cell_type": "code",
   "execution_count": 5,
   "metadata": {},
   "outputs": [],
   "source": [
    "matplotlib.rcParams[\"font.size\"] = 16"
   ]
  },
  {
   "cell_type": "code",
   "execution_count": 8,
   "metadata": {},
   "outputs": [
    {
     "data": {
      "text/html": [
       "<div>\n",
       "<style scoped>\n",
       "    .dataframe tbody tr th:only-of-type {\n",
       "        vertical-align: middle;\n",
       "    }\n",
       "\n",
       "    .dataframe tbody tr th {\n",
       "        vertical-align: top;\n",
       "    }\n",
       "\n",
       "    .dataframe thead th {\n",
       "        text-align: right;\n",
       "    }\n",
       "</style>\n",
       "<table border=\"1\" class=\"dataframe\">\n",
       "  <thead>\n",
       "    <tr style=\"text-align: right;\">\n",
       "      <th></th>\n",
       "      <th>year</th>\n",
       "      <th>return</th>\n",
       "    </tr>\n",
       "  </thead>\n",
       "  <tbody>\n",
       "    <tr>\n",
       "      <th>0</th>\n",
       "      <td>1970</td>\n",
       "      <td>1.0401</td>\n",
       "    </tr>\n",
       "    <tr>\n",
       "      <th>1</th>\n",
       "      <td>1971</td>\n",
       "      <td>1.1431</td>\n",
       "    </tr>\n",
       "    <tr>\n",
       "      <th>2</th>\n",
       "      <td>1972</td>\n",
       "      <td>1.1898</td>\n",
       "    </tr>\n",
       "    <tr>\n",
       "      <th>3</th>\n",
       "      <td>1973</td>\n",
       "      <td>0.8534</td>\n",
       "    </tr>\n",
       "    <tr>\n",
       "      <th>4</th>\n",
       "      <td>1974</td>\n",
       "      <td>0.7353</td>\n",
       "    </tr>\n",
       "  </tbody>\n",
       "</table>\n",
       "</div>"
      ],
      "text/plain": [
       "   year  return\n",
       "0  1970  1.0401\n",
       "1  1971  1.1431\n",
       "2  1972  1.1898\n",
       "3  1973  0.8534\n",
       "4  1974  0.7353"
      ]
     },
     "execution_count": 8,
     "metadata": {},
     "output_type": "execute_result"
    }
   ],
   "source": [
    "# if we invested $1000 in 1970, how would it have turned out?\n",
    "df = pd.read_csv(\"sp500.csv\")\n",
    "df.head()"
   ]
  },
  {
   "cell_type": "code",
   "execution_count": 20,
   "metadata": {},
   "outputs": [
    {
     "data": {
      "text/html": [
       "<div>\n",
       "<style scoped>\n",
       "    .dataframe tbody tr th:only-of-type {\n",
       "        vertical-align: middle;\n",
       "    }\n",
       "\n",
       "    .dataframe tbody tr th {\n",
       "        vertical-align: top;\n",
       "    }\n",
       "\n",
       "    .dataframe thead th {\n",
       "        text-align: right;\n",
       "    }\n",
       "</style>\n",
       "<table border=\"1\" class=\"dataframe\">\n",
       "  <thead>\n",
       "    <tr style=\"text-align: right;\">\n",
       "      <th></th>\n",
       "      <th>return</th>\n",
       "      <th>mult</th>\n",
       "      <th>wealth</th>\n",
       "    </tr>\n",
       "    <tr>\n",
       "      <th>year</th>\n",
       "      <th></th>\n",
       "      <th></th>\n",
       "      <th></th>\n",
       "    </tr>\n",
       "  </thead>\n",
       "  <tbody>\n",
       "    <tr>\n",
       "      <th>1970</th>\n",
       "      <td>1.0401</td>\n",
       "      <td>1.040100</td>\n",
       "      <td>1040.100000</td>\n",
       "    </tr>\n",
       "    <tr>\n",
       "      <th>1971</th>\n",
       "      <td>1.1431</td>\n",
       "      <td>1.188938</td>\n",
       "      <td>1188.938310</td>\n",
       "    </tr>\n",
       "    <tr>\n",
       "      <th>1972</th>\n",
       "      <td>1.1898</td>\n",
       "      <td>1.414599</td>\n",
       "      <td>1414.598801</td>\n",
       "    </tr>\n",
       "    <tr>\n",
       "      <th>1973</th>\n",
       "      <td>0.8534</td>\n",
       "      <td>1.207219</td>\n",
       "      <td>1207.218617</td>\n",
       "    </tr>\n",
       "    <tr>\n",
       "      <th>1974</th>\n",
       "      <td>0.7353</td>\n",
       "      <td>0.887668</td>\n",
       "      <td>887.667849</td>\n",
       "    </tr>\n",
       "  </tbody>\n",
       "</table>\n",
       "</div>"
      ],
      "text/plain": [
       "      return      mult       wealth\n",
       "year                               \n",
       "1970  1.0401  1.040100  1040.100000\n",
       "1971  1.1431  1.188938  1188.938310\n",
       "1972  1.1898  1.414599  1414.598801\n",
       "1973  0.8534  1.207219  1207.218617\n",
       "1974  0.7353  0.887668   887.667849"
      ]
     },
     "execution_count": 20,
     "metadata": {},
     "output_type": "execute_result"
    }
   ],
   "source": [
    "starting = 1000\n",
    "df[\"mult\"] = df[\"return\"].cumprod()\n",
    "df[\"wealth\"] = starting * df[\"mult\"]\n",
    "df = df.set_index(\"year\")\n",
    "df.head()"
   ]
  },
  {
   "cell_type": "code",
   "execution_count": 21,
   "metadata": {},
   "outputs": [
    {
     "data": {
      "text/plain": [
       "Text(0, 0.5, 'Wealth ($)')"
      ]
     },
     "execution_count": 21,
     "metadata": {},
     "output_type": "execute_result"
    },
    {
     "data": {
      "image/png": "[encoded data removed]",
      "text/plain": [
       "<Figure size 432x288 with 1 Axes>"
      ]
     },
     "metadata": {
      "needs_background": "light"
     },
     "output_type": "display_data"
    }
   ],
   "source": [
    "ax = df[\"wealth\"].plot.line()\n",
    "ax.set_xlabel(\"Year\")\n",
    "ax.set_ylabel(\"Wealth ($)\")"
   ]
  },
  {
   "cell_type": "code",
   "execution_count": 22,
   "metadata": {},
   "outputs": [],
   "source": [
    "# how risky is investing in the S&P 500?\n",
    "# approach: do many simulations\n",
    "# in each sim, randomly choose historical years to replay"
   ]
  },
  {
   "cell_type": "code",
   "execution_count": 23,
   "metadata": {},
   "outputs": [],
   "source": [
    "import random"
   ]
  },
  {
   "cell_type": "code",
   "execution_count": 33,
   "metadata": {},
   "outputs": [
    {
     "data": {
      "text/plain": [
       "[1, 1, 10, 1, 1, 1, 2, 2, 1, 1]"
      ]
     },
     "execution_count": 33,
     "metadata": {},
     "output_type": "execute_result"
    }
   ],
   "source": [
    "random.choices([1, 2, 10], k=10)"
   ]
  },
  {
   "cell_type": "code",
   "execution_count": 77,
   "metadata": {},
   "outputs": [],
   "source": [
    "# Series for one outcome\n",
    "def run_sim(starting=1000, years=10):\n",
    "    rand_returns = random.choices(list(df[\"return\"]), k=years)\n",
    "    rand_returns = Series(rand_returns)\n",
    "    return rand_returns.cumprod() * starting\n",
    "\n",
    "# DataFrame with many outcomes, each in a column\n",
    "def run_mult_sims(sims=10):\n",
    "    sims_df = DataFrame()\n",
    "    for i in range(sims):\n",
    "        sims_df[\"sim\"+str(i)] = run_sim()\n",
    "    return sims_df\n",
    "    \n",
    "sims = run_mult_sims(250)\n",
    "#sims.plot.line(legend=False) # detective: what usually happens"
   ]
  },
  {
   "cell_type": "code",
   "execution_count": 78,
   "metadata": {},
   "outputs": [
    {
     "data": {
      "text/html": [
       "<div>\n",
       "<style scoped>\n",
       "    .dataframe tbody tr th:only-of-type {\n",
       "        vertical-align: middle;\n",
       "    }\n",
       "\n",
       "    .dataframe tbody tr th {\n",
       "        vertical-align: top;\n",
       "    }\n",
       "\n",
       "    .dataframe thead th {\n",
       "        text-align: right;\n",
       "    }\n",
       "</style>\n",
       "<table border=\"1\" class=\"dataframe\">\n",
       "  <thead>\n",
       "    <tr style=\"text-align: right;\">\n",
       "      <th></th>\n",
       "      <th>sim0</th>\n",
       "      <th>sim1</th>\n",
       "      <th>sim2</th>\n",
       "      <th>sim3</th>\n",
       "      <th>sim4</th>\n",
       "      <th>sim5</th>\n",
       "      <th>sim6</th>\n",
       "      <th>sim7</th>\n",
       "      <th>sim8</th>\n",
       "      <th>sim9</th>\n",
       "      <th>...</th>\n",
       "      <th>sim240</th>\n",
       "      <th>sim241</th>\n",
       "      <th>sim242</th>\n",
       "      <th>sim243</th>\n",
       "      <th>sim244</th>\n",
       "      <th>sim245</th>\n",
       "      <th>sim246</th>\n",
       "      <th>sim247</th>\n",
       "      <th>sim248</th>\n",
       "      <th>sim249</th>\n",
       "    </tr>\n",
       "  </thead>\n",
       "  <tbody>\n",
       "    <tr>\n",
       "      <th>0</th>\n",
       "      <td>1215.500000</td>\n",
       "      <td>955.700000</td>\n",
       "      <td>630.000000</td>\n",
       "      <td>1119.600000</td>\n",
       "      <td>1189.800000</td>\n",
       "      <td>735.300000</td>\n",
       "      <td>1184.400000</td>\n",
       "      <td>881.100000</td>\n",
       "      <td>1062.700000</td>\n",
       "      <td>1150.600000</td>\n",
       "      <td>...</td>\n",
       "      <td>1166.100000</td>\n",
       "      <td>1323.900000</td>\n",
       "      <td>1021.100000</td>\n",
       "      <td>1076.200000</td>\n",
       "      <td>1100.800000</td>\n",
       "      <td>1333.600000</td>\n",
       "      <td>1040.100000</td>\n",
       "      <td>1100.800000</td>\n",
       "      <td>1325.000000</td>\n",
       "      <td>950.800000</td>\n",
       "    </tr>\n",
       "    <tr>\n",
       "      <th>1</th>\n",
       "      <td>893.757150</td>\n",
       "      <td>887.080740</td>\n",
       "      <td>729.477000</td>\n",
       "      <td>1296.384840</td>\n",
       "      <td>874.859940</td>\n",
       "      <td>764.785530</td>\n",
       "      <td>746.172000</td>\n",
       "      <td>776.337210</td>\n",
       "      <td>1417.216720</td>\n",
       "      <td>1410.175360</td>\n",
       "      <td>...</td>\n",
       "      <td>1604.320380</td>\n",
       "      <td>1622.571840</td>\n",
       "      <td>1160.888590</td>\n",
       "      <td>1308.121100</td>\n",
       "      <td>1436.213760</td>\n",
       "      <td>1038.874400</td>\n",
       "      <td>1212.860610</td>\n",
       "      <td>1416.509440</td>\n",
       "      <td>1603.780000</td>\n",
       "      <td>864.277200</td>\n",
       "    </tr>\n",
       "    <tr>\n",
       "      <th>2</th>\n",
       "      <td>1058.565968</td>\n",
       "      <td>1168.196627</td>\n",
       "      <td>775.215208</td>\n",
       "      <td>1717.709913</td>\n",
       "      <td>1072.228342</td>\n",
       "      <td>481.814884</td>\n",
       "      <td>756.469174</td>\n",
       "      <td>827.264931</td>\n",
       "      <td>1755.081186</td>\n",
       "      <td>1880.609860</td>\n",
       "      <td>...</td>\n",
       "      <td>2113.371237</td>\n",
       "      <td>1550.691907</td>\n",
       "      <td>1529.238540</td>\n",
       "      <td>1267.569346</td>\n",
       "      <td>1580.984107</td>\n",
       "      <td>1277.399962</td>\n",
       "      <td>1439.301686</td>\n",
       "      <td>1736.073970</td>\n",
       "      <td>1624.949896</td>\n",
       "      <td>1145.167290</td>\n",
       "    </tr>\n",
       "    <tr>\n",
       "      <th>3</th>\n",
       "      <td>1338.662524</td>\n",
       "      <td>1386.298937</td>\n",
       "      <td>919.947887</td>\n",
       "      <td>1664.460906</td>\n",
       "      <td>1297.825186</td>\n",
       "      <td>638.404721</td>\n",
       "      <td>877.504241</td>\n",
       "      <td>1079.332555</td>\n",
       "      <td>1841.255672</td>\n",
       "      <td>2138.065350</td>\n",
       "      <td>...</td>\n",
       "      <td>2224.323226</td>\n",
       "      <td>1795.546160</td>\n",
       "      <td>1783.245061</td>\n",
       "      <td>1739.105143</td>\n",
       "      <td>1663.985773</td>\n",
       "      <td>1460.195897</td>\n",
       "      <td>1852.093409</td>\n",
       "      <td>1760.031790</td>\n",
       "      <td>2153.058612</td>\n",
       "      <td>1395.157309</td>\n",
       "    </tr>\n",
       "    <tr>\n",
       "      <th>4</th>\n",
       "      <td>1356.332869</td>\n",
       "      <td>1462.406748</td>\n",
       "      <td>1127.488131</td>\n",
       "      <td>2014.663480</td>\n",
       "      <td>1325.209297</td>\n",
       "      <td>840.715177</td>\n",
       "      <td>1069.063417</td>\n",
       "      <td>1188.129277</td>\n",
       "      <td>2243.201786</td>\n",
       "      <td>2647.780129</td>\n",
       "      <td>...</td>\n",
       "      <td>2593.783314</td>\n",
       "      <td>2377.123561</td>\n",
       "      <td>1895.054526</td>\n",
       "      <td>2386.052256</td>\n",
       "      <td>2104.276408</td>\n",
       "      <td>1795.456875</td>\n",
       "      <td>1891.172580</td>\n",
       "      <td>1797.168461</td>\n",
       "      <td>2317.121678</td>\n",
       "      <td>1190.627248</td>\n",
       "    </tr>\n",
       "  </tbody>\n",
       "</table>\n",
       "<p>5 rows × 250 columns</p>\n",
       "</div>"
      ],
      "text/plain": [
       "          sim0         sim1         sim2         sim3         sim4  \\\n",
       "0  1215.500000   955.700000   630.000000  1119.600000  1189.800000   \n",
       "1   893.757150   887.080740   729.477000  1296.384840   874.859940   \n",
       "2  1058.565968  1168.196627   775.215208  1717.709913  1072.228342   \n",
       "3  1338.662524  1386.298937   919.947887  1664.460906  1297.825186   \n",
       "4  1356.332869  1462.406748  1127.488131  2014.663480  1325.209297   \n",
       "\n",
       "         sim5         sim6         sim7         sim8         sim9  ...  \\\n",
       "0  735.300000  1184.400000   881.100000  1062.700000  1150.600000  ...   \n",
       "1  764.785530   746.172000   776.337210  1417.216720  1410.175360  ...   \n",
       "2  481.814884   756.469174   827.264931  1755.081186  1880.609860  ...   \n",
       "3  638.404721   877.504241  1079.332555  1841.255672  2138.065350  ...   \n",
       "4  840.715177  1069.063417  1188.129277  2243.201786  2647.780129  ...   \n",
       "\n",
       "        sim240       sim241       sim242       sim243       sim244  \\\n",
       "0  1166.100000  1323.900000  1021.100000  1076.200000  1100.800000   \n",
       "1  1604.320380  1622.571840  1160.888590  1308.121100  1436.213760   \n",
       "2  2113.371237  1550.691907  1529.238540  1267.569346  1580.984107   \n",
       "3  2224.323226  1795.546160  1783.245061  1739.105143  1663.985773   \n",
       "4  2593.783314  2377.123561  1895.054526  2386.052256  2104.276408   \n",
       "\n",
       "        sim245       sim246       sim247       sim248       sim249  \n",
       "0  1333.600000  1040.100000  1100.800000  1325.000000   950.800000  \n",
       "1  1038.874400  1212.860610  1416.509440  1603.780000   864.277200  \n",
       "2  1277.399962  1439.301686  1736.073970  1624.949896  1145.167290  \n",
       "3  1460.195897  1852.093409  1760.031790  2153.058612  1395.157309  \n",
       "4  1795.456875  1891.172580  1797.168461  2317.121678  1190.627248  \n",
       "\n",
       "[5 rows x 250 columns]"
      ]
     },
     "execution_count": 78,
     "metadata": {},
     "output_type": "execute_result"
    }
   ],
   "source": [
    "sims.head()"
   ]
  },
  {
   "cell_type": "code",
   "execution_count": 79,
   "metadata": {},
   "outputs": [
    {
     "data": {
      "text/plain": [
       "<matplotlib.axes._subplots.AxesSubplot at 0x11b2f7898>"
      ]
     },
     "execution_count": 79,
     "metadata": {},
     "output_type": "execute_result"
    },
    {
     "data": {
      "image/png": "[encoded data removed]",
      "text/plain": [
       "<Figure size 432x288 with 1 Axes>"
      ]
     },
     "metadata": {
      "needs_background": "light"
     },
     "output_type": "display_data"
    }
   ],
   "source": [
    "# for percentile, use .quantile\n",
    "DataFrame({\n",
    "    \"5th percentile\": sims.quantile(0.05, axis=1),\n",
    "    \"median\": sims.quantile(0.5, axis=1),\n",
    "    \"95th percentile\": sims.quantile(0.95, axis=1),\n",
    "}).plot.line()"
   ]
  },
  {
   "cell_type": "code",
   "execution_count": 81,
   "metadata": {},
   "outputs": [
    {
     "data": {
      "text/plain": [
       "Index(['X', 'Y', 'OBJECTID', 'CreatedBy', 'CreatedDate', 'LastEditor',\n",
       "       'LastUpdate', 'FacilityID', 'DataSource', 'ProjectNumber',\n",
       "       'InstallDate', 'LifecycleStatus', 'Location', 'SymbolRotation',\n",
       "       'HydrantType', 'Elevation', 'Manufacturer', 'Style',\n",
       "       'year_manufactured', 'BarrelDiameter', 'SeatDiameter', 'Comments',\n",
       "       'nozzle_color', 'MaintainedBy', 'InstallType'],\n",
       "      dtype='object')"
      ]
     },
     "execution_count": 81,
     "metadata": {},
     "output_type": "execute_result"
    }
   ],
   "source": [
    "df = pd.read_csv(\"Fire_Hydrants.csv\")\n",
    "df.columns"
   ]
  },
  {
   "cell_type": "code",
   "execution_count": 82,
   "metadata": {},
   "outputs": [
    {
     "data": {
      "text/html": [
       "<div>\n",
       "<style scoped>\n",
       "    .dataframe tbody tr th:only-of-type {\n",
       "        vertical-align: middle;\n",
       "    }\n",
       "\n",
       "    .dataframe tbody tr th {\n",
       "        vertical-align: top;\n",
       "    }\n",
       "\n",
       "    .dataframe thead th {\n",
       "        text-align: right;\n",
       "    }\n",
       "</style>\n",
       "<table border=\"1\" class=\"dataframe\">\n",
       "  <thead>\n",
       "    <tr style=\"text-align: right;\">\n",
       "      <th></th>\n",
       "      <th>X</th>\n",
       "      <th>Y</th>\n",
       "      <th>OBJECTID</th>\n",
       "      <th>CreatedBy</th>\n",
       "      <th>CreatedDate</th>\n",
       "      <th>LastEditor</th>\n",
       "      <th>LastUpdate</th>\n",
       "      <th>FacilityID</th>\n",
       "      <th>DataSource</th>\n",
       "      <th>ProjectNumber</th>\n",
       "      <th>...</th>\n",
       "      <th>Elevation</th>\n",
       "      <th>Manufacturer</th>\n",
       "      <th>Style</th>\n",
       "      <th>year_manufactured</th>\n",
       "      <th>BarrelDiameter</th>\n",
       "      <th>SeatDiameter</th>\n",
       "      <th>Comments</th>\n",
       "      <th>nozzle_color</th>\n",
       "      <th>MaintainedBy</th>\n",
       "      <th>InstallType</th>\n",
       "    </tr>\n",
       "  </thead>\n",
       "  <tbody>\n",
       "    <tr>\n",
       "      <th>0</th>\n",
       "      <td>-89.519573</td>\n",
       "      <td>43.049308</td>\n",
       "      <td>2536</td>\n",
       "      <td>NaN</td>\n",
       "      <td>NaN</td>\n",
       "      <td>WUJAG</td>\n",
       "      <td>2018-06-07T19:45:53.000Z</td>\n",
       "      <td>HYDR-2360-2</td>\n",
       "      <td>FASB</td>\n",
       "      <td>NaN</td>\n",
       "      <td>...</td>\n",
       "      <td>1138.0</td>\n",
       "      <td>NaN</td>\n",
       "      <td>Pacer</td>\n",
       "      <td>1996.0</td>\n",
       "      <td>5.0</td>\n",
       "      <td>NaN</td>\n",
       "      <td>NaN</td>\n",
       "      <td>blue</td>\n",
       "      <td>MADISON WATER UTILITY</td>\n",
       "      <td>NaN</td>\n",
       "    </tr>\n",
       "    <tr>\n",
       "      <th>1</th>\n",
       "      <td>-89.521988</td>\n",
       "      <td>43.049193</td>\n",
       "      <td>2537</td>\n",
       "      <td>NaN</td>\n",
       "      <td>NaN</td>\n",
       "      <td>WUJAG</td>\n",
       "      <td>2018-06-07T19:45:53.000Z</td>\n",
       "      <td>HYDR-2360-4</td>\n",
       "      <td>FASB</td>\n",
       "      <td>NaN</td>\n",
       "      <td>...</td>\n",
       "      <td>1170.0</td>\n",
       "      <td>NaN</td>\n",
       "      <td>Pacer</td>\n",
       "      <td>1995.0</td>\n",
       "      <td>5.0</td>\n",
       "      <td>NaN</td>\n",
       "      <td>NaN</td>\n",
       "      <td>blue</td>\n",
       "      <td>MADISON WATER UTILITY</td>\n",
       "      <td>NaN</td>\n",
       "    </tr>\n",
       "    <tr>\n",
       "      <th>2</th>\n",
       "      <td>-89.522093</td>\n",
       "      <td>43.048233</td>\n",
       "      <td>2538</td>\n",
       "      <td>NaN</td>\n",
       "      <td>NaN</td>\n",
       "      <td>WUJAG</td>\n",
       "      <td>2018-06-07T19:45:53.000Z</td>\n",
       "      <td>HYDR-2361-19</td>\n",
       "      <td>FASB</td>\n",
       "      <td>NaN</td>\n",
       "      <td>...</td>\n",
       "      <td>1179.0</td>\n",
       "      <td>NaN</td>\n",
       "      <td>Pacer</td>\n",
       "      <td>1996.0</td>\n",
       "      <td>5.0</td>\n",
       "      <td>NaN</td>\n",
       "      <td>NaN</td>\n",
       "      <td>blue</td>\n",
       "      <td>MADISON WATER UTILITY</td>\n",
       "      <td>NaN</td>\n",
       "    </tr>\n",
       "    <tr>\n",
       "      <th>3</th>\n",
       "      <td>-89.521013</td>\n",
       "      <td>43.049033</td>\n",
       "      <td>2539</td>\n",
       "      <td>NaN</td>\n",
       "      <td>NaN</td>\n",
       "      <td>WUJAG</td>\n",
       "      <td>2018-06-07T19:45:53.000Z</td>\n",
       "      <td>HYDR-2360-3</td>\n",
       "      <td>FASB</td>\n",
       "      <td>NaN</td>\n",
       "      <td>...</td>\n",
       "      <td>1163.0</td>\n",
       "      <td>NaN</td>\n",
       "      <td>Pacer</td>\n",
       "      <td>1995.0</td>\n",
       "      <td>5.0</td>\n",
       "      <td>NaN</td>\n",
       "      <td>NaN</td>\n",
       "      <td>blue</td>\n",
       "      <td>MADISON WATER UTILITY</td>\n",
       "      <td>NaN</td>\n",
       "    </tr>\n",
       "    <tr>\n",
       "      <th>4</th>\n",
       "      <td>-89.524782</td>\n",
       "      <td>43.056263</td>\n",
       "      <td>2540</td>\n",
       "      <td>NaN</td>\n",
       "      <td>NaN</td>\n",
       "      <td>WUPTB</td>\n",
       "      <td>2017-08-31T16:19:46.000Z</td>\n",
       "      <td>HYDR-2257-5</td>\n",
       "      <td>NaN</td>\n",
       "      <td>NaN</td>\n",
       "      <td>...</td>\n",
       "      <td>1065.0</td>\n",
       "      <td>NaN</td>\n",
       "      <td>Pacer</td>\n",
       "      <td>1996.0</td>\n",
       "      <td>5.0</td>\n",
       "      <td>NaN</td>\n",
       "      <td>NaN</td>\n",
       "      <td>blue</td>\n",
       "      <td>MADISON WATER UTILITY</td>\n",
       "      <td>NaN</td>\n",
       "    </tr>\n",
       "  </tbody>\n",
       "</table>\n",
       "<p>5 rows × 25 columns</p>\n",
       "</div>"
      ],
      "text/plain": [
       "           X          Y  OBJECTID CreatedBy CreatedDate LastEditor  \\\n",
       "0 -89.519573  43.049308      2536       NaN         NaN      WUJAG   \n",
       "1 -89.521988  43.049193      2537       NaN         NaN      WUJAG   \n",
       "2 -89.522093  43.048233      2538       NaN         NaN      WUJAG   \n",
       "3 -89.521013  43.049033      2539       NaN         NaN      WUJAG   \n",
       "4 -89.524782  43.056263      2540       NaN         NaN      WUPTB   \n",
       "\n",
       "                 LastUpdate    FacilityID DataSource ProjectNumber  ...  \\\n",
       "0  2018-06-07T19:45:53.000Z   HYDR-2360-2       FASB           NaN  ...   \n",
       "1  2018-06-07T19:45:53.000Z   HYDR-2360-4       FASB           NaN  ...   \n",
       "2  2018-06-07T19:45:53.000Z  HYDR-2361-19       FASB           NaN  ...   \n",
       "3  2018-06-07T19:45:53.000Z   HYDR-2360-3       FASB           NaN  ...   \n",
       "4  2017-08-31T16:19:46.000Z   HYDR-2257-5        NaN           NaN  ...   \n",
       "\n",
       "  Elevation Manufacturer  Style  year_manufactured BarrelDiameter  \\\n",
       "0    1138.0          NaN  Pacer             1996.0            5.0   \n",
       "1    1170.0          NaN  Pacer             1995.0            5.0   \n",
       "2    1179.0          NaN  Pacer             1996.0            5.0   \n",
       "3    1163.0          NaN  Pacer             1995.0            5.0   \n",
       "4    1065.0          NaN  Pacer             1996.0            5.0   \n",
       "\n",
       "   SeatDiameter Comments nozzle_color           MaintainedBy  InstallType  \n",
       "0           NaN      NaN         blue  MADISON WATER UTILITY          NaN  \n",
       "1           NaN      NaN         blue  MADISON WATER UTILITY          NaN  \n",
       "2           NaN      NaN         blue  MADISON WATER UTILITY          NaN  \n",
       "3           NaN      NaN         blue  MADISON WATER UTILITY          NaN  \n",
       "4           NaN      NaN         blue  MADISON WATER UTILITY          NaN  \n",
       "\n",
       "[5 rows x 25 columns]"
      ]
     },
     "execution_count": 82,
     "metadata": {},
     "output_type": "execute_result"
    }
   ],
   "source": [
    "df.head()"
   ]
  },
  {
   "cell_type": "code",
   "execution_count": 106,
   "metadata": {},
   "outputs": [
    {
     "data": {
      "text/plain": [
       "0    BLUE\n",
       "1    BLUE\n",
       "Name: nozzle_color, dtype: object"
      ]
     },
     "execution_count": 106,
     "metadata": {},
     "output_type": "execute_result"
    }
   ],
   "source": [
    "colors = df[\"nozzle_color\"]\n",
    "colors = colors.str.upper()\n",
    "colors.head(2)"
   ]
  },
  {
   "cell_type": "code",
   "execution_count": 108,
   "metadata": {},
   "outputs": [
    {
     "data": {
      "text/plain": [
       "BLUE      7003\n",
       "GREEN      330\n",
       "ORANGE      79\n",
       "Name: nozzle_color, dtype: int64"
      ]
     },
     "execution_count": 108,
     "metadata": {},
     "output_type": "execute_result"
    }
   ],
   "source": [
    "counts = colors.value_counts() # like GROUP BY and COUNT(*) in SQL\n",
    "counts.head(3)"
   ]
  },
  {
   "cell_type": "code",
   "execution_count": 105,
   "metadata": {},
   "outputs": [
    {
     "data": {
      "text/plain": [
       "Text(0, 0.5, '# of Hydrants')"
      ]
     },
     "execution_count": 105,
     "metadata": {},
     "output_type": "execute_result"
    },
    {
     "data": {
      "image/png": "[encoded data removed]",
      "text/plain": [
       "<Figure size 432x288 with 1 Axes>"
      ]
     },
     "metadata": {
      "needs_background": "light"
     },
     "output_type": "display_data"
    }
   ],
   "source": [
    "ax = counts.plot.bar(color=\"k\")\n",
    "ax.set_xlabel(\"Hydrant Color\")\n",
    "ax.set_ylabel(\"# of Hydrants\")"
   ]
  },
  {
   "cell_type": "code",
   "execution_count": 116,
   "metadata": {},
   "outputs": [
    {
     "data": {
      "text/plain": [
       "PACER             3620\n",
       "M-3               1251\n",
       "MUELLER           1243\n",
       "WB-59              664\n",
       "K-11               351\n",
       "K-81               162\n",
       "W-59               151\n",
       "CLOW 2500          123\n",
       "CLOW MEDALLION      70\n",
       "CLOW                50\n",
       "CENTURIAN           35\n",
       "EDDY                27\n",
       "other              167\n",
       "Name: Style, dtype: int64"
      ]
     },
     "execution_count": 116,
     "metadata": {},
     "output_type": "execute_result"
    }
   ],
   "source": [
    "counts = df[\"Style\"].str.upper().value_counts()\n",
    "top12 = counts.iloc[:12]\n",
    "top12[\"other\"] = counts.iloc[12:].sum()\n",
    "top12"
   ]
  },
  {
   "cell_type": "code",
   "execution_count": 117,
   "metadata": {},
   "outputs": [
    {
     "data": {
      "text/plain": [
       "<matplotlib.axes._subplots.AxesSubplot at 0x11c4ba390>"
      ]
     },
     "execution_count": 117,
     "metadata": {},
     "output_type": "execute_result"
    },
    {
     "data": {
      "image/png": "[encoded data removed]",
      "text/plain": [
       "<Figure size 432x288 with 1 Axes>"
      ]
     },
     "metadata": {
      "needs_background": "light"
     },
     "output_type": "display_data"
    }
   ],
   "source": [
    "top12.plot.bar()"
   ]
  },
  {
   "cell_type": "code",
   "execution_count": 118,
   "metadata": {},
   "outputs": [],
   "source": [
    "# when were all the pacers installed?"
   ]
  },
  {
   "cell_type": "code",
   "execution_count": null,
   "metadata": {},
   "outputs": [],
   "source": []
  }
 ],
 "metadata": {
  "kernelspec": {
   "display_name": "Python 3",
   "language": "python",
   "name": "python3"
  },
  "language_info": {
   "codemirror_mode": {
    "name": "ipython",
    "version": 3
   },
   "file_extension": ".py",
   "mimetype": "text/x-python",
   "name": "python",
   "nbconvert_exporter": "python",
   "pygments_lexer": "ipython3",
   "version": "3.7.2"
  }
 },
 "nbformat": 4,
 "nbformat_minor": 2
}
