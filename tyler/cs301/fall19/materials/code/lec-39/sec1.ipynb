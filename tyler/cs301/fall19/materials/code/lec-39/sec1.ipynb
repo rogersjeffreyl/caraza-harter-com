{
 "cells": [
  {
   "cell_type": "code",
   "execution_count": 1,
   "metadata": {},
   "outputs": [
    {
     "data": {
      "text/html": [
       "<style>.container { width:100% !important; }</style>"
      ],
      "text/plain": [
       "<IPython.core.display.HTML object>"
      ]
     },
     "metadata": {},
     "output_type": "display_data"
    }
   ],
   "source": [
    "from IPython.core.display import display, HTML\n",
    "display(HTML(\"<style>.container { width:100% !important; }</style>\"))"
   ]
  },
  {
   "cell_type": "code",
   "execution_count": 2,
   "metadata": {},
   "outputs": [],
   "source": [
    "import pandas as pd\n",
    "from pandas import Series, DataFrame\n",
    "import matplotlib"
   ]
  },
  {
   "cell_type": "code",
   "execution_count": 3,
   "metadata": {},
   "outputs": [],
   "source": [
    "%matplotlib inline"
   ]
  },
  {
   "cell_type": "code",
   "execution_count": 4,
   "metadata": {},
   "outputs": [],
   "source": [
    "matplotlib.rcParams[\"font.size\"] = 16"
   ]
  },
  {
   "cell_type": "code",
   "execution_count": 5,
   "metadata": {},
   "outputs": [
    {
     "data": {
      "text/html": [
       "<div>\n",
       "<style scoped>\n",
       "    .dataframe tbody tr th:only-of-type {\n",
       "        vertical-align: middle;\n",
       "    }\n",
       "\n",
       "    .dataframe tbody tr th {\n",
       "        vertical-align: top;\n",
       "    }\n",
       "\n",
       "    .dataframe thead th {\n",
       "        text-align: right;\n",
       "    }\n",
       "</style>\n",
       "<table border=\"1\" class=\"dataframe\">\n",
       "  <thead>\n",
       "    <tr style=\"text-align: right;\">\n",
       "      <th></th>\n",
       "      <th>year</th>\n",
       "      <th>return</th>\n",
       "    </tr>\n",
       "  </thead>\n",
       "  <tbody>\n",
       "    <tr>\n",
       "      <th>0</th>\n",
       "      <td>1970</td>\n",
       "      <td>1.0401</td>\n",
       "    </tr>\n",
       "    <tr>\n",
       "      <th>1</th>\n",
       "      <td>1971</td>\n",
       "      <td>1.1431</td>\n",
       "    </tr>\n",
       "    <tr>\n",
       "      <th>2</th>\n",
       "      <td>1972</td>\n",
       "      <td>1.1898</td>\n",
       "    </tr>\n",
       "    <tr>\n",
       "      <th>3</th>\n",
       "      <td>1973</td>\n",
       "      <td>0.8534</td>\n",
       "    </tr>\n",
       "    <tr>\n",
       "      <th>4</th>\n",
       "      <td>1974</td>\n",
       "      <td>0.7353</td>\n",
       "    </tr>\n",
       "  </tbody>\n",
       "</table>\n",
       "</div>"
      ],
      "text/plain": [
       "   year  return\n",
       "0  1970  1.0401\n",
       "1  1971  1.1431\n",
       "2  1972  1.1898\n",
       "3  1973  0.8534\n",
       "4  1974  0.7353"
      ]
     },
     "execution_count": 5,
     "metadata": {},
     "output_type": "execute_result"
    }
   ],
   "source": [
    "# if we invested $1000 in 1970, how would it have turned out?\n",
    "df = pd.read_csv(\"sp500.csv\")\n",
    "df.head()"
   ]
  },
  {
   "cell_type": "code",
   "execution_count": 6,
   "metadata": {},
   "outputs": [
    {
     "data": {
      "text/html": [
       "<div>\n",
       "<style scoped>\n",
       "    .dataframe tbody tr th:only-of-type {\n",
       "        vertical-align: middle;\n",
       "    }\n",
       "\n",
       "    .dataframe tbody tr th {\n",
       "        vertical-align: top;\n",
       "    }\n",
       "\n",
       "    .dataframe thead th {\n",
       "        text-align: right;\n",
       "    }\n",
       "</style>\n",
       "<table border=\"1\" class=\"dataframe\">\n",
       "  <thead>\n",
       "    <tr style=\"text-align: right;\">\n",
       "      <th></th>\n",
       "      <th>return</th>\n",
       "      <th>mult</th>\n",
       "      <th>wealth</th>\n",
       "    </tr>\n",
       "    <tr>\n",
       "      <th>year</th>\n",
       "      <th></th>\n",
       "      <th></th>\n",
       "      <th></th>\n",
       "    </tr>\n",
       "  </thead>\n",
       "  <tbody>\n",
       "    <tr>\n",
       "      <th>1970</th>\n",
       "      <td>1.0401</td>\n",
       "      <td>1.040100</td>\n",
       "      <td>1040.100000</td>\n",
       "    </tr>\n",
       "    <tr>\n",
       "      <th>1971</th>\n",
       "      <td>1.1431</td>\n",
       "      <td>1.188938</td>\n",
       "      <td>1188.938310</td>\n",
       "    </tr>\n",
       "    <tr>\n",
       "      <th>1972</th>\n",
       "      <td>1.1898</td>\n",
       "      <td>1.414599</td>\n",
       "      <td>1414.598801</td>\n",
       "    </tr>\n",
       "    <tr>\n",
       "      <th>1973</th>\n",
       "      <td>0.8534</td>\n",
       "      <td>1.207219</td>\n",
       "      <td>1207.218617</td>\n",
       "    </tr>\n",
       "    <tr>\n",
       "      <th>1974</th>\n",
       "      <td>0.7353</td>\n",
       "      <td>0.887668</td>\n",
       "      <td>887.667849</td>\n",
       "    </tr>\n",
       "  </tbody>\n",
       "</table>\n",
       "</div>"
      ],
      "text/plain": [
       "      return      mult       wealth\n",
       "year                               \n",
       "1970  1.0401  1.040100  1040.100000\n",
       "1971  1.1431  1.188938  1188.938310\n",
       "1972  1.1898  1.414599  1414.598801\n",
       "1973  0.8534  1.207219  1207.218617\n",
       "1974  0.7353  0.887668   887.667849"
      ]
     },
     "execution_count": 6,
     "metadata": {},
     "output_type": "execute_result"
    }
   ],
   "source": [
    "starting = 1000\n",
    "df[\"mult\"] = df[\"return\"].cumprod()\n",
    "df[\"wealth\"] = starting * df[\"mult\"]\n",
    "df = df.set_index(\"year\")\n",
    "df.head()"
   ]
  },
  {
   "cell_type": "code",
   "execution_count": 7,
   "metadata": {},
   "outputs": [
    {
     "data": {
      "text/plain": [
       "Text(0, 0.5, 'Wealth ($)')"
      ]
     },
     "execution_count": 7,
     "metadata": {},
     "output_type": "execute_result"
    },
    {
     "data": {
      "image/png": "[encoded data removed]",
      "text/plain": [
       "<Figure size 432x288 with 1 Axes>"
      ]
     },
     "metadata": {
      "needs_background": "light"
     },
     "output_type": "display_data"
    }
   ],
   "source": [
    "ax = df[\"wealth\"].plot.line()\n",
    "ax.set_xlabel(\"Year\")\n",
    "ax.set_ylabel(\"Wealth ($)\")"
   ]
  },
  {
   "cell_type": "code",
   "execution_count": 8,
   "metadata": {},
   "outputs": [],
   "source": [
    "# how risky is investing in the S&P 500?\n",
    "# approach: do many simulations\n",
    "# in each sim, randomly choose historical years to replay"
   ]
  },
  {
   "cell_type": "code",
   "execution_count": 9,
   "metadata": {},
   "outputs": [],
   "source": [
    "import random"
   ]
  },
  {
   "cell_type": "code",
   "execution_count": 10,
   "metadata": {},
   "outputs": [
    {
     "data": {
      "text/plain": [
       "[1, 1, 1, 1, 1, 10, 10, 2, 2, 10]"
      ]
     },
     "execution_count": 10,
     "metadata": {},
     "output_type": "execute_result"
    }
   ],
   "source": [
    "random.choices([1, 2, 10], k=10)"
   ]
  },
  {
   "cell_type": "code",
   "execution_count": 11,
   "metadata": {},
   "outputs": [],
   "source": [
    "# Series for one outcome\n",
    "def run_sim(starting=1000, years=10):\n",
    "    rand_returns = random.choices(list(df[\"return\"]), k=years)\n",
    "    rand_returns = Series(rand_returns)\n",
    "    return rand_returns.cumprod() * starting\n",
    "\n",
    "# DataFrame with many outcomes, each in a column\n",
    "def run_mult_sims(sims=10):\n",
    "    sims_df = DataFrame()\n",
    "    for i in range(sims):\n",
    "        sims_df[\"sim\"+str(i)] = run_sim()\n",
    "    return sims_df\n",
    "    \n",
    "sims = run_mult_sims(250)\n",
    "#sims.plot.line(legend=False) # detective: what usually happens"
   ]
  },
  {
   "cell_type": "code",
   "execution_count": 12,
   "metadata": {},
   "outputs": [
    {
     "data": {
      "text/html": [
       "<div>\n",
       "<style scoped>\n",
       "    .dataframe tbody tr th:only-of-type {\n",
       "        vertical-align: middle;\n",
       "    }\n",
       "\n",
       "    .dataframe tbody tr th {\n",
       "        vertical-align: top;\n",
       "    }\n",
       "\n",
       "    .dataframe thead th {\n",
       "        text-align: right;\n",
       "    }\n",
       "</style>\n",
       "<table border=\"1\" class=\"dataframe\">\n",
       "  <thead>\n",
       "    <tr style=\"text-align: right;\">\n",
       "      <th></th>\n",
       "      <th>sim0</th>\n",
       "      <th>sim1</th>\n",
       "      <th>sim2</th>\n",
       "      <th>sim3</th>\n",
       "      <th>sim4</th>\n",
       "      <th>sim5</th>\n",
       "      <th>sim6</th>\n",
       "      <th>sim7</th>\n",
       "      <th>sim8</th>\n",
       "      <th>sim9</th>\n",
       "      <th>...</th>\n",
       "      <th>sim240</th>\n",
       "      <th>sim241</th>\n",
       "      <th>sim242</th>\n",
       "      <th>sim243</th>\n",
       "      <th>sim244</th>\n",
       "      <th>sim245</th>\n",
       "      <th>sim246</th>\n",
       "      <th>sim247</th>\n",
       "      <th>sim248</th>\n",
       "      <th>sim249</th>\n",
       "    </tr>\n",
       "  </thead>\n",
       "  <tbody>\n",
       "    <tr>\n",
       "      <th>0</th>\n",
       "      <td>1372.000000</td>\n",
       "      <td>1062.700000</td>\n",
       "      <td>1143.100000</td>\n",
       "      <td>1052.500000</td>\n",
       "      <td>735.300000</td>\n",
       "      <td>1013.200000</td>\n",
       "      <td>1372.000000</td>\n",
       "      <td>955.700000</td>\n",
       "      <td>1166.100000</td>\n",
       "      <td>950.800000</td>\n",
       "      <td>...</td>\n",
       "      <td>1189.800000</td>\n",
       "      <td>1157.900000</td>\n",
       "      <td>735.300000</td>\n",
       "      <td>1160.000000</td>\n",
       "      <td>1040.100000</td>\n",
       "      <td>1021.100000</td>\n",
       "      <td>1372.000000</td>\n",
       "      <td>735.300000</td>\n",
       "      <td>1218.300000</td>\n",
       "      <td>1021.100000</td>\n",
       "    </tr>\n",
       "    <tr>\n",
       "      <th>1</th>\n",
       "      <td>1687.011200</td>\n",
       "      <td>781.403310</td>\n",
       "      <td>720.153000</td>\n",
       "      <td>1354.357000</td>\n",
       "      <td>946.184040</td>\n",
       "      <td>940.452240</td>\n",
       "      <td>1559.826800</td>\n",
       "      <td>1106.605030</td>\n",
       "      <td>1283.642880</td>\n",
       "      <td>599.004000</td>\n",
       "      <td>...</td>\n",
       "      <td>1446.201900</td>\n",
       "      <td>1524.838510</td>\n",
       "      <td>647.872830</td>\n",
       "      <td>1343.164000</td>\n",
       "      <td>1430.969580</td>\n",
       "      <td>1088.084160</td>\n",
       "      <td>1591.520000</td>\n",
       "      <td>809.418240</td>\n",
       "      <td>1285.184670</td>\n",
       "      <td>1085.122970</td>\n",
       "    </tr>\n",
       "    <tr>\n",
       "      <th>2</th>\n",
       "      <td>1062.817056</td>\n",
       "      <td>1075.054674</td>\n",
       "      <td>684.721472</td>\n",
       "      <td>1548.165487</td>\n",
       "      <td>998.129544</td>\n",
       "      <td>1189.295903</td>\n",
       "      <td>1717.057341</td>\n",
       "      <td>1313.208189</td>\n",
       "      <td>808.695014</td>\n",
       "      <td>440.447641</td>\n",
       "      <td>...</td>\n",
       "      <td>1761.907775</td>\n",
       "      <td>1809.525860</td>\n",
       "      <td>615.997487</td>\n",
       "      <td>1445.513097</td>\n",
       "      <td>1602.113542</td>\n",
       "      <td>1325.612932</td>\n",
       "      <td>1358.203168</td>\n",
       "      <td>862.516077</td>\n",
       "      <td>1352.656865</td>\n",
       "      <td>1194.503365</td>\n",
       "    </tr>\n",
       "    <tr>\n",
       "      <th>3</th>\n",
       "      <td>1399.623781</td>\n",
       "      <td>1359.514141</td>\n",
       "      <td>654.388311</td>\n",
       "      <td>1645.235463</td>\n",
       "      <td>953.912405</td>\n",
       "      <td>1236.986668</td>\n",
       "      <td>1922.417399</td>\n",
       "      <td>1330.542537</td>\n",
       "      <td>991.136610</td>\n",
       "      <td>587.380974</td>\n",
       "      <td>...</td>\n",
       "      <td>2298.761074</td>\n",
       "      <td>1882.087847</td>\n",
       "      <td>718.314669</td>\n",
       "      <td>1858.640740</td>\n",
       "      <td>1456.321209</td>\n",
       "      <td>1577.214267</td>\n",
       "      <td>1461.698249</td>\n",
       "      <td>1109.023171</td>\n",
       "      <td>994.608593</td>\n",
       "      <td>1260.081600</td>\n",
       "    </tr>\n",
       "    <tr>\n",
       "      <th>4</th>\n",
       "      <td>1473.104030</td>\n",
       "      <td>1377.459727</td>\n",
       "      <td>797.241280</td>\n",
       "      <td>1726.016524</td>\n",
       "      <td>1159.480528</td>\n",
       "      <td>1697.145709</td>\n",
       "      <td>2637.556672</td>\n",
       "      <td>1551.545653</td>\n",
       "      <td>772.095419</td>\n",
       "      <td>698.865883</td>\n",
       "      <td>...</td>\n",
       "      <td>2661.735447</td>\n",
       "      <td>2419.988553</td>\n",
       "      <td>666.739676</td>\n",
       "      <td>2113.088657</td>\n",
       "      <td>1929.625603</td>\n",
       "      <td>1507.343675</td>\n",
       "      <td>1681.830006</td>\n",
       "      <td>1169.908543</td>\n",
       "      <td>1153.745968</td>\n",
       "      <td>1169.607741</td>\n",
       "    </tr>\n",
       "  </tbody>\n",
       "</table>\n",
       "<p>5 rows × 250 columns</p>\n",
       "</div>"
      ],
      "text/plain": [
       "          sim0         sim1         sim2         sim3         sim4  \\\n",
       "0  1372.000000  1062.700000  1143.100000  1052.500000   735.300000   \n",
       "1  1687.011200   781.403310   720.153000  1354.357000   946.184040   \n",
       "2  1062.817056  1075.054674   684.721472  1548.165487   998.129544   \n",
       "3  1399.623781  1359.514141   654.388311  1645.235463   953.912405   \n",
       "4  1473.104030  1377.459727   797.241280  1726.016524  1159.480528   \n",
       "\n",
       "          sim5         sim6         sim7         sim8        sim9  ...  \\\n",
       "0  1013.200000  1372.000000   955.700000  1166.100000  950.800000  ...   \n",
       "1   940.452240  1559.826800  1106.605030  1283.642880  599.004000  ...   \n",
       "2  1189.295903  1717.057341  1313.208189   808.695014  440.447641  ...   \n",
       "3  1236.986668  1922.417399  1330.542537   991.136610  587.380974  ...   \n",
       "4  1697.145709  2637.556672  1551.545653   772.095419  698.865883  ...   \n",
       "\n",
       "        sim240       sim241      sim242       sim243       sim244  \\\n",
       "0  1189.800000  1157.900000  735.300000  1160.000000  1040.100000   \n",
       "1  1446.201900  1524.838510  647.872830  1343.164000  1430.969580   \n",
       "2  1761.907775  1809.525860  615.997487  1445.513097  1602.113542   \n",
       "3  2298.761074  1882.087847  718.314669  1858.640740  1456.321209   \n",
       "4  2661.735447  2419.988553  666.739676  2113.088657  1929.625603   \n",
       "\n",
       "        sim245       sim246       sim247       sim248       sim249  \n",
       "0  1021.100000  1372.000000   735.300000  1218.300000  1021.100000  \n",
       "1  1088.084160  1591.520000   809.418240  1285.184670  1085.122970  \n",
       "2  1325.612932  1358.203168   862.516077  1352.656865  1194.503365  \n",
       "3  1577.214267  1461.698249  1109.023171   994.608593  1260.081600  \n",
       "4  1507.343675  1681.830006  1169.908543  1153.745968  1169.607741  \n",
       "\n",
       "[5 rows x 250 columns]"
      ]
     },
     "execution_count": 12,
     "metadata": {},
     "output_type": "execute_result"
    }
   ],
   "source": [
    "sims.head()"
   ]
  },
  {
   "cell_type": "code",
   "execution_count": 13,
   "metadata": {},
   "outputs": [
    {
     "data": {
      "text/plain": [
       "<matplotlib.axes._subplots.AxesSubplot at 0x1134a9f28>"
      ]
     },
     "execution_count": 13,
     "metadata": {},
     "output_type": "execute_result"
    },
    {
     "data": {
      "image/png": "[encoded data removed]",
      "text/plain": [
       "<Figure size 432x288 with 1 Axes>"
      ]
     },
     "metadata": {
      "needs_background": "light"
     },
     "output_type": "display_data"
    }
   ],
   "source": [
    "# for percentile, use .quantile\n",
    "DataFrame({\n",
    "    \"5th percentile\": sims.quantile(0.05, axis=1),\n",
    "    \"median\": sims.quantile(0.5, axis=1),\n",
    "    \"95th percentile\": sims.quantile(0.95, axis=1),\n",
    "}).plot.line()"
   ]
  },
  {
   "cell_type": "code",
   "execution_count": 14,
   "metadata": {},
   "outputs": [
    {
     "data": {
      "text/plain": [
       "Index(['X', 'Y', 'OBJECTID', 'CreatedBy', 'CreatedDate', 'LastEditor',\n",
       "       'LastUpdate', 'FacilityID', 'DataSource', 'ProjectNumber',\n",
       "       'InstallDate', 'LifecycleStatus', 'Location', 'SymbolRotation',\n",
       "       'HydrantType', 'Elevation', 'Manufacturer', 'Style',\n",
       "       'year_manufactured', 'BarrelDiameter', 'SeatDiameter', 'Comments',\n",
       "       'nozzle_color', 'MaintainedBy', 'InstallType'],\n",
       "      dtype='object')"
      ]
     },
     "execution_count": 14,
     "metadata": {},
     "output_type": "execute_result"
    }
   ],
   "source": [
    "df = pd.read_csv(\"Fire_Hydrants.csv\")\n",
    "df.columns"
   ]
  },
  {
   "cell_type": "code",
   "execution_count": 15,
   "metadata": {},
   "outputs": [
    {
     "data": {
      "text/html": [
       "<div>\n",
       "<style scoped>\n",
       "    .dataframe tbody tr th:only-of-type {\n",
       "        vertical-align: middle;\n",
       "    }\n",
       "\n",
       "    .dataframe tbody tr th {\n",
       "        vertical-align: top;\n",
       "    }\n",
       "\n",
       "    .dataframe thead th {\n",
       "        text-align: right;\n",
       "    }\n",
       "</style>\n",
       "<table border=\"1\" class=\"dataframe\">\n",
       "  <thead>\n",
       "    <tr style=\"text-align: right;\">\n",
       "      <th></th>\n",
       "      <th>X</th>\n",
       "      <th>Y</th>\n",
       "      <th>OBJECTID</th>\n",
       "      <th>CreatedBy</th>\n",
       "      <th>CreatedDate</th>\n",
       "      <th>LastEditor</th>\n",
       "      <th>LastUpdate</th>\n",
       "      <th>FacilityID</th>\n",
       "      <th>DataSource</th>\n",
       "      <th>ProjectNumber</th>\n",
       "      <th>...</th>\n",
       "      <th>Elevation</th>\n",
       "      <th>Manufacturer</th>\n",
       "      <th>Style</th>\n",
       "      <th>year_manufactured</th>\n",
       "      <th>BarrelDiameter</th>\n",
       "      <th>SeatDiameter</th>\n",
       "      <th>Comments</th>\n",
       "      <th>nozzle_color</th>\n",
       "      <th>MaintainedBy</th>\n",
       "      <th>InstallType</th>\n",
       "    </tr>\n",
       "  </thead>\n",
       "  <tbody>\n",
       "    <tr>\n",
       "      <th>0</th>\n",
       "      <td>-89.519573</td>\n",
       "      <td>43.049308</td>\n",
       "      <td>2536</td>\n",
       "      <td>NaN</td>\n",
       "      <td>NaN</td>\n",
       "      <td>WUJAG</td>\n",
       "      <td>2018-06-07T19:45:53.000Z</td>\n",
       "      <td>HYDR-2360-2</td>\n",
       "      <td>FASB</td>\n",
       "      <td>NaN</td>\n",
       "      <td>...</td>\n",
       "      <td>1138.0</td>\n",
       "      <td>NaN</td>\n",
       "      <td>Pacer</td>\n",
       "      <td>1996.0</td>\n",
       "      <td>5.0</td>\n",
       "      <td>NaN</td>\n",
       "      <td>NaN</td>\n",
       "      <td>blue</td>\n",
       "      <td>MADISON WATER UTILITY</td>\n",
       "      <td>NaN</td>\n",
       "    </tr>\n",
       "    <tr>\n",
       "      <th>1</th>\n",
       "      <td>-89.521988</td>\n",
       "      <td>43.049193</td>\n",
       "      <td>2537</td>\n",
       "      <td>NaN</td>\n",
       "      <td>NaN</td>\n",
       "      <td>WUJAG</td>\n",
       "      <td>2018-06-07T19:45:53.000Z</td>\n",
       "      <td>HYDR-2360-4</td>\n",
       "      <td>FASB</td>\n",
       "      <td>NaN</td>\n",
       "      <td>...</td>\n",
       "      <td>1170.0</td>\n",
       "      <td>NaN</td>\n",
       "      <td>Pacer</td>\n",
       "      <td>1995.0</td>\n",
       "      <td>5.0</td>\n",
       "      <td>NaN</td>\n",
       "      <td>NaN</td>\n",
       "      <td>blue</td>\n",
       "      <td>MADISON WATER UTILITY</td>\n",
       "      <td>NaN</td>\n",
       "    </tr>\n",
       "    <tr>\n",
       "      <th>2</th>\n",
       "      <td>-89.522093</td>\n",
       "      <td>43.048233</td>\n",
       "      <td>2538</td>\n",
       "      <td>NaN</td>\n",
       "      <td>NaN</td>\n",
       "      <td>WUJAG</td>\n",
       "      <td>2018-06-07T19:45:53.000Z</td>\n",
       "      <td>HYDR-2361-19</td>\n",
       "      <td>FASB</td>\n",
       "      <td>NaN</td>\n",
       "      <td>...</td>\n",
       "      <td>1179.0</td>\n",
       "      <td>NaN</td>\n",
       "      <td>Pacer</td>\n",
       "      <td>1996.0</td>\n",
       "      <td>5.0</td>\n",
       "      <td>NaN</td>\n",
       "      <td>NaN</td>\n",
       "      <td>blue</td>\n",
       "      <td>MADISON WATER UTILITY</td>\n",
       "      <td>NaN</td>\n",
       "    </tr>\n",
       "    <tr>\n",
       "      <th>3</th>\n",
       "      <td>-89.521013</td>\n",
       "      <td>43.049033</td>\n",
       "      <td>2539</td>\n",
       "      <td>NaN</td>\n",
       "      <td>NaN</td>\n",
       "      <td>WUJAG</td>\n",
       "      <td>2018-06-07T19:45:53.000Z</td>\n",
       "      <td>HYDR-2360-3</td>\n",
       "      <td>FASB</td>\n",
       "      <td>NaN</td>\n",
       "      <td>...</td>\n",
       "      <td>1163.0</td>\n",
       "      <td>NaN</td>\n",
       "      <td>Pacer</td>\n",
       "      <td>1995.0</td>\n",
       "      <td>5.0</td>\n",
       "      <td>NaN</td>\n",
       "      <td>NaN</td>\n",
       "      <td>blue</td>\n",
       "      <td>MADISON WATER UTILITY</td>\n",
       "      <td>NaN</td>\n",
       "    </tr>\n",
       "    <tr>\n",
       "      <th>4</th>\n",
       "      <td>-89.524782</td>\n",
       "      <td>43.056263</td>\n",
       "      <td>2540</td>\n",
       "      <td>NaN</td>\n",
       "      <td>NaN</td>\n",
       "      <td>WUPTB</td>\n",
       "      <td>2017-08-31T16:19:46.000Z</td>\n",
       "      <td>HYDR-2257-5</td>\n",
       "      <td>NaN</td>\n",
       "      <td>NaN</td>\n",
       "      <td>...</td>\n",
       "      <td>1065.0</td>\n",
       "      <td>NaN</td>\n",
       "      <td>Pacer</td>\n",
       "      <td>1996.0</td>\n",
       "      <td>5.0</td>\n",
       "      <td>NaN</td>\n",
       "      <td>NaN</td>\n",
       "      <td>blue</td>\n",
       "      <td>MADISON WATER UTILITY</td>\n",
       "      <td>NaN</td>\n",
       "    </tr>\n",
       "  </tbody>\n",
       "</table>\n",
       "<p>5 rows × 25 columns</p>\n",
       "</div>"
      ],
      "text/plain": [
       "           X          Y  OBJECTID CreatedBy CreatedDate LastEditor  \\\n",
       "0 -89.519573  43.049308      2536       NaN         NaN      WUJAG   \n",
       "1 -89.521988  43.049193      2537       NaN         NaN      WUJAG   \n",
       "2 -89.522093  43.048233      2538       NaN         NaN      WUJAG   \n",
       "3 -89.521013  43.049033      2539       NaN         NaN      WUJAG   \n",
       "4 -89.524782  43.056263      2540       NaN         NaN      WUPTB   \n",
       "\n",
       "                 LastUpdate    FacilityID DataSource ProjectNumber  ...  \\\n",
       "0  2018-06-07T19:45:53.000Z   HYDR-2360-2       FASB           NaN  ...   \n",
       "1  2018-06-07T19:45:53.000Z   HYDR-2360-4       FASB           NaN  ...   \n",
       "2  2018-06-07T19:45:53.000Z  HYDR-2361-19       FASB           NaN  ...   \n",
       "3  2018-06-07T19:45:53.000Z   HYDR-2360-3       FASB           NaN  ...   \n",
       "4  2017-08-31T16:19:46.000Z   HYDR-2257-5        NaN           NaN  ...   \n",
       "\n",
       "  Elevation Manufacturer  Style  year_manufactured BarrelDiameter  \\\n",
       "0    1138.0          NaN  Pacer             1996.0            5.0   \n",
       "1    1170.0          NaN  Pacer             1995.0            5.0   \n",
       "2    1179.0          NaN  Pacer             1996.0            5.0   \n",
       "3    1163.0          NaN  Pacer             1995.0            5.0   \n",
       "4    1065.0          NaN  Pacer             1996.0            5.0   \n",
       "\n",
       "   SeatDiameter Comments nozzle_color           MaintainedBy  InstallType  \n",
       "0           NaN      NaN         blue  MADISON WATER UTILITY          NaN  \n",
       "1           NaN      NaN         blue  MADISON WATER UTILITY          NaN  \n",
       "2           NaN      NaN         blue  MADISON WATER UTILITY          NaN  \n",
       "3           NaN      NaN         blue  MADISON WATER UTILITY          NaN  \n",
       "4           NaN      NaN         blue  MADISON WATER UTILITY          NaN  \n",
       "\n",
       "[5 rows x 25 columns]"
      ]
     },
     "execution_count": 15,
     "metadata": {},
     "output_type": "execute_result"
    }
   ],
   "source": [
    "df.head()"
   ]
  },
  {
   "cell_type": "code",
   "execution_count": 16,
   "metadata": {},
   "outputs": [
    {
     "data": {
      "text/plain": [
       "0    BLUE\n",
       "1    BLUE\n",
       "Name: nozzle_color, dtype: object"
      ]
     },
     "execution_count": 16,
     "metadata": {},
     "output_type": "execute_result"
    }
   ],
   "source": [
    "colors = df[\"nozzle_color\"]\n",
    "colors = colors.str.upper()\n",
    "colors.head(2)"
   ]
  },
  {
   "cell_type": "code",
   "execution_count": 17,
   "metadata": {},
   "outputs": [
    {
     "data": {
      "text/plain": [
       "BLUE      7003\n",
       "GREEN      330\n",
       "ORANGE      79\n",
       "Name: nozzle_color, dtype: int64"
      ]
     },
     "execution_count": 17,
     "metadata": {},
     "output_type": "execute_result"
    }
   ],
   "source": [
    "counts = colors.value_counts() # like GROUP BY and COUNT(*) in SQL\n",
    "counts.head(3)"
   ]
  },
  {
   "cell_type": "code",
   "execution_count": 18,
   "metadata": {},
   "outputs": [
    {
     "data": {
      "text/plain": [
       "Text(0, 0.5, '# of Hydrants')"
      ]
     },
     "execution_count": 18,
     "metadata": {},
     "output_type": "execute_result"
    },
    {
     "data": {
      "image/png": "[encoded data removed]",
      "text/plain": [
       "<Figure size 432x288 with 1 Axes>"
      ]
     },
     "metadata": {
      "needs_background": "light"
     },
     "output_type": "display_data"
    }
   ],
   "source": [
    "ax = counts.plot.bar(color=\"k\")\n",
    "ax.set_xlabel(\"Hydrant Color\")\n",
    "ax.set_ylabel(\"# of Hydrants\")"
   ]
  },
  {
   "cell_type": "code",
   "execution_count": 19,
   "metadata": {},
   "outputs": [
    {
     "data": {
      "text/plain": [
       "PACER             3620\n",
       "M-3               1251\n",
       "MUELLER           1243\n",
       "WB-59              664\n",
       "K-11               351\n",
       "K-81               162\n",
       "W-59               151\n",
       "CLOW 2500          123\n",
       "CLOW MEDALLION      70\n",
       "CLOW                50\n",
       "CENTURIAN           35\n",
       "EDDY                27\n",
       "other              167\n",
       "Name: Style, dtype: int64"
      ]
     },
     "execution_count": 19,
     "metadata": {},
     "output_type": "execute_result"
    }
   ],
   "source": [
    "counts = df[\"Style\"].str.upper().value_counts() # like GROUP BY w/ COUNT(*)\n",
    "top12 = counts.iloc[:12]\n",
    "top12[\"other\"] = counts.iloc[12:].sum()\n",
    "top12"
   ]
  },
  {
   "cell_type": "code",
   "execution_count": 20,
   "metadata": {},
   "outputs": [
    {
     "data": {
      "text/plain": [
       "Text(0.5, 0, 'Hydrant Count')"
      ]
     },
     "execution_count": 20,
     "metadata": {},
     "output_type": "execute_result"
    },
    {
     "data": {
      "image/png": "[encoded data removed]",
      "text/plain": [
       "<Figure size 432x288 with 1 Axes>"
      ]
     },
     "metadata": {
      "needs_background": "light"
     },
     "output_type": "display_data"
    }
   ],
   "source": [
    "ax = top12.plot.barh(color=\"k\")\n",
    "ax.set_xlabel(\"Hydrant Count\")"
   ]
  },
  {
   "cell_type": "code",
   "execution_count": 21,
   "metadata": {},
   "outputs": [],
   "source": [
    "# when (which decade) were all the pacers manufactured?"
   ]
  },
  {
   "cell_type": "code",
   "execution_count": 22,
   "metadata": {},
   "outputs": [
    {
     "data": {
      "text/html": [
       "<div>\n",
       "<style scoped>\n",
       "    .dataframe tbody tr th:only-of-type {\n",
       "        vertical-align: middle;\n",
       "    }\n",
       "\n",
       "    .dataframe tbody tr th {\n",
       "        vertical-align: top;\n",
       "    }\n",
       "\n",
       "    .dataframe thead th {\n",
       "        text-align: right;\n",
       "    }\n",
       "</style>\n",
       "<table border=\"1\" class=\"dataframe\">\n",
       "  <thead>\n",
       "    <tr style=\"text-align: right;\">\n",
       "      <th></th>\n",
       "      <th>Style</th>\n",
       "      <th>year_manufactured</th>\n",
       "    </tr>\n",
       "  </thead>\n",
       "  <tbody>\n",
       "    <tr>\n",
       "      <th>0</th>\n",
       "      <td>Pacer</td>\n",
       "      <td>1996.0</td>\n",
       "    </tr>\n",
       "    <tr>\n",
       "      <th>1</th>\n",
       "      <td>Pacer</td>\n",
       "      <td>1995.0</td>\n",
       "    </tr>\n",
       "    <tr>\n",
       "      <th>2</th>\n",
       "      <td>Pacer</td>\n",
       "      <td>1996.0</td>\n",
       "    </tr>\n",
       "    <tr>\n",
       "      <th>3</th>\n",
       "      <td>Pacer</td>\n",
       "      <td>1995.0</td>\n",
       "    </tr>\n",
       "    <tr>\n",
       "      <th>4</th>\n",
       "      <td>Pacer</td>\n",
       "      <td>1996.0</td>\n",
       "    </tr>\n",
       "  </tbody>\n",
       "</table>\n",
       "</div>"
      ],
      "text/plain": [
       "   Style  year_manufactured\n",
       "0  Pacer             1996.0\n",
       "1  Pacer             1995.0\n",
       "2  Pacer             1996.0\n",
       "3  Pacer             1995.0\n",
       "4  Pacer             1996.0"
      ]
     },
     "execution_count": 22,
     "metadata": {},
     "output_type": "execute_result"
    }
   ],
   "source": [
    "df[[\"Style\", \"year_manufactured\"]].head()"
   ]
  },
  {
   "cell_type": "code",
   "execution_count": 23,
   "metadata": {},
   "outputs": [],
   "source": [
    "pacer_years = df[\"year_manufactured\"][df[\"Style\"] == \"Pacer\"]\n",
    "other_years = df[\"year_manufactured\"][df[\"Style\"] != \"Pacer\"]\n",
    "pacer_decades = (pacer_years // 10 * 10).dropna()\n",
    "pacer_decades = pacer_decades.astype(int).value_counts()\n",
    "other_decades = (other_years // 10 * 10).dropna()\n",
    "other_decades = other_decades.astype(int).value_counts()"
   ]
  },
  {
   "cell_type": "code",
   "execution_count": 29,
   "metadata": {},
   "outputs": [
    {
     "data": {
      "text/plain": [
       "Text(0, 0.5, 'Hydrant Count')"
      ]
     },
     "execution_count": 29,
     "metadata": {},
     "output_type": "execute_result"
    },
    {
     "data": {
      "image/png": "[encoded data removed]",
      "text/plain": [
       "<Figure size 288x180 with 1 Axes>"
      ]
     },
     "metadata": {
      "needs_background": "light"
     },
     "output_type": "display_data"
    }
   ],
   "source": [
    "plot_df = DataFrame({\n",
    "    \"pacer\": pacer_decades,\n",
    "    \"other\": other_decades,\n",
    "})\n",
    "ax = plot_df[plot_df.index >= 1950].plot.bar(stacked=True, figsize=(4,2.5))\n",
    "ax.set_xlabel(\"Decade\")\n",
    "ax.set_ylabel(\"Hydrant Count\")"
   ]
  },
  {
   "cell_type": "code",
   "execution_count": null,
   "metadata": {},
   "outputs": [],
   "source": []
  }
 ],
 "metadata": {
  "kernelspec": {
   "display_name": "Python 3",
   "language": "python",
   "name": "python3"
  },
  "language_info": {
   "codemirror_mode": {
    "name": "ipython",
    "version": 3
   },
   "file_extension": ".py",
   "mimetype": "text/x-python",
   "name": "python",
   "nbconvert_exporter": "python",
   "pygments_lexer": "ipython3",
   "version": "3.7.2"
  }
 },
 "nbformat": 4,
 "nbformat_minor": 2
}
