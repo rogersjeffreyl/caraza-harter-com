{
 "cells": [
  {
   "cell_type": "code",
   "execution_count": 24,
   "metadata": {},
   "outputs": [],
   "source": [
    "import math\n",
    "\n",
    "# example of a piecewise function\n",
    "def f(x):\n",
    "    if x <= -2:\n",
    "        y = 2\n",
    "    elif x < 0:\n",
    "        y = -x\n",
    "    else: \n",
    "        y = math.floor(x)\n",
    "        \n",
    "    return y"
   ]
  },
  {
   "cell_type": "code",
   "execution_count": 25,
   "metadata": {},
   "outputs": [
    {
     "data": {
      "text/plain": [
       "2"
      ]
     },
     "execution_count": 25,
     "metadata": {},
     "output_type": "execute_result"
    }
   ],
   "source": [
    "f(-3)"
   ]
  },
  {
   "cell_type": "code",
   "execution_count": 47,
   "metadata": {},
   "outputs": [],
   "source": [
    "def stoplight(color, feet):\n",
    "    print(\"disclaimer: don't use this while driving\")\n",
    "    if feet < 0:\n",
    "        return \"cannot be negative\"\n",
    "    elif color == \"red\":\n",
    "        if feet < 15:\n",
    "            return \"hit the gas\"\n",
    "        else:\n",
    "            return \"stop abruptly\"\n",
    "    elif color == \"yellow\":\n",
    "        if feet < 30:\n",
    "            return \"carry on\"\n",
    "        else:\n",
    "            return \"stop\"\n",
    "    elif color == \"green\":\n",
    "        return \"smile\"\n",
    "    else:\n",
    "        return \"not a valid color\""
   ]
  },
  {
   "cell_type": "code",
   "execution_count": 48,
   "metadata": {},
   "outputs": [
    {
     "name": "stdout",
     "output_type": "stream",
     "text": [
      "disclaimer: don't use this while driving\n",
      "hit the gas\n"
     ]
    }
   ],
   "source": [
    "print(stoplight(\"red\", -10))"
   ]
  },
  {
   "cell_type": "code",
   "execution_count": 84,
   "metadata": {},
   "outputs": [],
   "source": [
    "def month_name(month):\n",
    "    if month == 1:\n",
    "        return \"Jan\"\n",
    "    elif month == 2:\n",
    "        return \"Feb\"\n",
    "    elif 1 <= month <= 12:\n",
    "        return \"not implemented yet\"\n",
    "    else:\n",
    "        return \"not a valid month\"\n",
    "\n",
    "def date_name(month, day):\n",
    "    return month_name(month) + \" \" + format_num(day)\n",
    "\n",
    "def format_num(num):\n",
    "    digit = num % 10\n",
    "    if 11 <= num <= 19:\n",
    "        return str(num) + \"th\"\n",
    "    if digit == 1:\n",
    "        return str(num) + \"st\"\n",
    "    elif digit == 2:\n",
    "        return str(num) + \"nd\"\n",
    "    elif digit == 3:\n",
    "        return str(num) + \"rd\"\n",
    "    else:\n",
    "        return str(num) + \"th\""
   ]
  },
  {
   "cell_type": "code",
   "execution_count": 89,
   "metadata": {},
   "outputs": [
    {
     "data": {
      "text/plain": [
       "'Feb 22nd'"
      ]
     },
     "execution_count": 89,
     "metadata": {},
     "output_type": "execute_result"
    }
   ],
   "source": [
    "date_name(2, 22)"
   ]
  },
  {
   "cell_type": "code",
   "execution_count": null,
   "metadata": {},
   "outputs": [],
   "source": []
  }
 ],
 "metadata": {
  "kernelspec": {
   "display_name": "Python 3",
   "language": "python",
   "name": "python3"
  },
  "language_info": {
   "codemirror_mode": {
    "name": "ipython",
    "version": 3
   },
   "file_extension": ".py",
   "mimetype": "text/x-python",
   "name": "python",
   "nbconvert_exporter": "python",
   "pygments_lexer": "ipython3",
   "version": "3.7.2"
  }
 },
 "nbformat": 4,
 "nbformat_minor": 2
}
