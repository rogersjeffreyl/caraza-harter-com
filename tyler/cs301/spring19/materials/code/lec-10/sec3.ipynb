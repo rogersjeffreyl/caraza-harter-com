{
 "cells": [
  {
   "cell_type": "code",
   "execution_count": 10,
   "metadata": {},
   "outputs": [],
   "source": [
    "import math\n",
    "\n",
    "# example of a piecewise function\n",
    "def f(x):\n",
    "    if x <= -2:\n",
    "        y = 2\n",
    "    elif x <= 0:\n",
    "        y = -x\n",
    "    else:\n",
    "        y = math.floor(x)\n",
    "    return y"
   ]
  },
  {
   "cell_type": "code",
   "execution_count": 11,
   "metadata": {},
   "outputs": [
    {
     "data": {
      "text/plain": [
       "2"
      ]
     },
     "execution_count": 11,
     "metadata": {},
     "output_type": "execute_result"
    }
   ],
   "source": [
    "f(-5)"
   ]
  },
  {
   "cell_type": "code",
   "execution_count": null,
   "metadata": {},
   "outputs": [],
   "source": []
  },
  {
   "cell_type": "code",
   "execution_count": 29,
   "metadata": {},
   "outputs": [],
   "source": [
    "def stoplight(color, distance):\n",
    "    print(\"please do not use while driving\")\n",
    "    if color == \"red\":\n",
    "        if distance < 15:\n",
    "            return \"hit the gas\"\n",
    "        else:\n",
    "            return \"stop abruptly\"\n",
    "    elif color == \"yellow\":\n",
    "        if distance < 30:\n",
    "            return \"continue on\"\n",
    "        else:\n",
    "            return \"stop\"\n",
    "    elif color == \"green\":\n",
    "        return \"smile\"\n",
    "    else:\n",
    "        return \"Yikes!  that's not a color\""
   ]
  },
  {
   "cell_type": "code",
   "execution_count": 30,
   "metadata": {},
   "outputs": [
    {
     "name": "stdout",
     "output_type": "stream",
     "text": [
      "please do not use while driving\n",
      "Yikes!  that's not a color\n"
     ]
    }
   ],
   "source": [
    "print(stoplight(\"RED\", 15))"
   ]
  },
  {
   "cell_type": "code",
   "execution_count": 61,
   "metadata": {},
   "outputs": [],
   "source": [
    "def month_name(month):\n",
    "    if month == 1:\n",
    "        return \"Jan\"\n",
    "    elif month == 2:\n",
    "        return \"Feb\"\n",
    "    elif month <= 12:\n",
    "        return \"not implemented yet\"\n",
    "    else:\n",
    "        return \"not a month\"\n",
    "\n",
    "def day_name(month, day):\n",
    "    return month_name(month) + \" \" + format_day(day)\n",
    "\n",
    "def format_day(day):\n",
    "    digit = day % 10\n",
    "    \n",
    "    if 10 < day < 20:\n",
    "        return str(day) + \"th\"\n",
    "    elif digit == 1:\n",
    "        return str(day) + \"st\"\n",
    "    elif digit == 2:\n",
    "        return str(day) + \"nd\"\n",
    "    elif digit == 3:\n",
    "        return str(day) + \"rd\"\n",
    "    else:\n",
    "        return str(day) + \"th\""
   ]
  },
  {
   "cell_type": "code",
   "execution_count": 62,
   "metadata": {},
   "outputs": [
    {
     "data": {
      "text/plain": [
       "'Feb 3rd'"
      ]
     },
     "execution_count": 62,
     "metadata": {},
     "output_type": "execute_result"
    }
   ],
   "source": [
    "day_name(2, 3)"
   ]
  },
  {
   "cell_type": "code",
   "execution_count": null,
   "metadata": {},
   "outputs": [],
   "source": []
  }
 ],
 "metadata": {
  "kernelspec": {
   "display_name": "Python 3",
   "language": "python",
   "name": "python3"
  },
  "language_info": {
   "codemirror_mode": {
    "name": "ipython",
    "version": 3
   },
   "file_extension": ".py",
   "mimetype": "text/x-python",
   "name": "python",
   "nbconvert_exporter": "python",
   "pygments_lexer": "ipython3",
   "version": "3.7.2"
  }
 },
 "nbformat": 4,
 "nbformat_minor": 2
}
