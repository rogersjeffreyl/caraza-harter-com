{
 "cells": [
  {
   "cell_type": "code",
   "execution_count": 1,
   "metadata": {},
   "outputs": [],
   "source": [
    "def f(x):\n",
    "    return 5 - (x - 3.5) ** 2"
   ]
  },
  {
   "cell_type": "code",
   "execution_count": 2,
   "metadata": {},
   "outputs": [
    {
     "name": "stdout",
     "output_type": "stream",
     "text": [
      "best: 3.5000000000609703\n"
     ]
    }
   ],
   "source": [
    "best_x = -2\n",
    "\n",
    "x = best_x\n",
    "while x < 10:\n",
    "    y = f(x)\n",
    "    if y > f(best_x):\n",
    "        best_x = x\n",
    "    x += 0.000001\n",
    "print(\"best:\", best_x)"
   ]
  },
  {
   "cell_type": "code",
   "execution_count": 6,
   "metadata": {},
   "outputs": [
    {
     "data": {
      "text/plain": [
       "3.141593653278409"
      ]
     },
     "execution_count": 6,
     "metadata": {},
     "output_type": "execute_result"
    }
   ],
   "source": [
    "import math\n",
    "x = 0\n",
    "total = 0\n",
    "width = 0.01\n",
    "while x < 2:\n",
    "    a = math.acos(x/2)\n",
    "    y = math.sin(a) * 2\n",
    "    rect = width * y\n",
    "    total += rect\n",
    "    x += 0.01\n",
    "    \n",
    "total"
   ]
  },
  {
   "cell_type": "code",
   "execution_count": null,
   "metadata": {},
   "outputs": [],
   "source": []
  }
 ],
 "metadata": {
  "kernelspec": {
   "display_name": "Python 3",
   "language": "python",
   "name": "python3"
  },
  "language_info": {
   "codemirror_mode": {
    "name": "ipython",
    "version": 3
   },
   "file_extension": ".py",
   "mimetype": "text/x-python",
   "name": "python",
   "nbconvert_exporter": "python",
   "pygments_lexer": "ipython3",
   "version": "3.7.2"
  }
 },
 "nbformat": 4,
 "nbformat_minor": 2
}
