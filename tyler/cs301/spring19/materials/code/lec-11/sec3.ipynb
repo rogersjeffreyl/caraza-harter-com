{
 "cells": [
  {
   "cell_type": "code",
   "execution_count": 9,
   "metadata": {},
   "outputs": [],
   "source": [
    "def f(x):\n",
    "    y = 5 - (x-1.5) ** 2\n",
    "    return y"
   ]
  },
  {
   "cell_type": "code",
   "execution_count": 11,
   "metadata": {
    "scrolled": true
   },
   "outputs": [
    {
     "name": "stdout",
     "output_type": "stream",
     "text": [
      "best x value is  1.500000000000001\n"
     ]
    }
   ],
   "source": [
    "start = 0\n",
    "end = 10\n",
    "step = 0.01\n",
    "\n",
    "best_x = start\n",
    "x = start\n",
    "while x <= end:\n",
    "    y = f(x)\n",
    "    if y > f(best_x):\n",
    "        best_x = x\n",
    "    x += step\n",
    "print(\"best x value is \", best_x)"
   ]
  },
  {
   "cell_type": "code",
   "execution_count": 20,
   "metadata": {},
   "outputs": [
    {
     "data": {
      "text/plain": [
       "3.1415927533193155"
      ]
     },
     "execution_count": 20,
     "metadata": {},
     "output_type": "execute_result"
    }
   ],
   "source": [
    "import math\n",
    "total = 0\n",
    "width = 0.0000001\n",
    "x = 0\n",
    "while x < 2:\n",
    "    a = math.acos(x/2)\n",
    "    y = math.sin(a)*2\n",
    "    rect = width * y\n",
    "    total += rect\n",
    "    x += width\n",
    "total"
   ]
  },
  {
   "cell_type": "code",
   "execution_count": null,
   "metadata": {},
   "outputs": [],
   "source": []
  }
 ],
 "metadata": {
  "kernelspec": {
   "display_name": "Python 3",
   "language": "python",
   "name": "python3"
  },
  "language_info": {
   "codemirror_mode": {
    "name": "ipython",
    "version": 3
   },
   "file_extension": ".py",
   "mimetype": "text/x-python",
   "name": "python",
   "nbconvert_exporter": "python",
   "pygments_lexer": "ipython3",
   "version": "3.7.2"
  }
 },
 "nbformat": 4,
 "nbformat_minor": 2
}
