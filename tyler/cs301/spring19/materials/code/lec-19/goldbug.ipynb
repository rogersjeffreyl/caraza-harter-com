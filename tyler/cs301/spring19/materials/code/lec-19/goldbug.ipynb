{
 "cells": [
  {
   "cell_type": "code",
   "execution_count": 1,
   "metadata": {},
   "outputs": [],
   "source": [
    "# this returns the text of the book.\n",
    "# just use it!\n",
    "# (you don't need to understand how it works at this point in the semester)\n",
    "def read_book():\n",
    "    with open('pg420.txt') as f:\n",
    "        return f.read()\n",
    "\n",
    "text1 = \"AAAAABBCCC\"\n",
    "text2 = ('A good glass in the bishop\\'s hostel in the devil\\'s seat ' +\n",
    "         'twenty-one degrees and thirteen minutes northeast and by north ' +\n",
    "         'main branch seventh limb east side ' +\n",
    "         'shoot from the left eye of the death\\'s-head ' +\n",
    "         'a bee line from the tree through the shot fifty feet out.')\n",
    "text3 = read_book()"
   ]
  }
 ],
 "metadata": {
  "kernelspec": {
   "display_name": "Python 3",
   "language": "python",
   "name": "python3"
  },
  "language_info": {
   "codemirror_mode": {
    "name": "ipython",
    "version": 3
   },
   "file_extension": ".py",
   "mimetype": "text/x-python",
   "name": "python",
   "nbconvert_exporter": "python",
   "pygments_lexer": "ipython3",
   "version": "3.7.2"
  }
 },
 "nbformat": 4,
 "nbformat_minor": 2
}
