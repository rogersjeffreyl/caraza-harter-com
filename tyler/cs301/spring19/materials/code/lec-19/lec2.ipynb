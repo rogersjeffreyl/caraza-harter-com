{
 "cells": [
  {
   "cell_type": "code",
   "execution_count": 1,
   "metadata": {},
   "outputs": [],
   "source": [
    "import csv\n",
    "\n",
    "# copied from https://automatetheboringstuff.com/chapter14/\n",
    "def process_csv(filename):\n",
    "  exampleFile = open(filename, encoding=\"utf-8\")\n",
    "  exampleReader = csv.reader(exampleFile)\n",
    "  exampleData = list(exampleReader)\n",
    "  return exampleData"
   ]
  },
  {
   "cell_type": "code",
   "execution_count": 6,
   "metadata": {},
   "outputs": [],
   "source": [
    "rows = process_csv(\"tornados.csv\")\n",
    "header = rows[0]\n",
    "rows = rows[1:]"
   ]
  },
  {
   "cell_type": "code",
   "execution_count": 4,
   "metadata": {},
   "outputs": [
    {
     "data": {
      "text/plain": [
       "['year', 'id', 'location', 'speed']"
      ]
     },
     "execution_count": 4,
     "metadata": {},
     "output_type": "execute_result"
    }
   ],
   "source": [
    "header"
   ]
  },
  {
   "cell_type": "code",
   "execution_count": 8,
   "metadata": {},
   "outputs": [
    {
     "data": {
      "text/plain": [
       "[['2006', 'QPIQPWDP', 'site B', '175'],\n",
       " ['1996', 'MMMHKDDK', 'site B', '290'],\n",
       " ['2016', 'QSCAPJBU', 'site B', '290']]"
      ]
     },
     "execution_count": 8,
     "metadata": {},
     "output_type": "execute_result"
    }
   ],
   "source": [
    "rows[:3]"
   ]
  },
  {
   "cell_type": "code",
   "execution_count": 22,
   "metadata": {},
   "outputs": [],
   "source": [
    "def median(nums):\n",
    "    nums.sort()\n",
    "    length = len(nums)\n",
    "    if length % 2 == 1:\n",
    "        # odd\n",
    "        return nums[length//2]\n",
    "    else:\n",
    "        # even\n",
    "        v1 = nums[length//2]\n",
    "        v2 = nums[length//2-1]\n",
    "        return (v1+v2) / 2"
   ]
  },
  {
   "cell_type": "code",
   "execution_count": 23,
   "metadata": {},
   "outputs": [],
   "source": [
    "# STEP 1: bucketize your data\n",
    "buckets = {} # key: bucket name (year); value: list of speeds\n",
    "for row in rows:\n",
    "    year = row[header.index(\"year\")]\n",
    "    speed = int(row[header.index(\"speed\")])\n",
    "    if year in buckets:\n",
    "        buckets[year].append(speed) # add to existing bucket for year\n",
    "    else:\n",
    "        buckets[year] = [speed] # create new bucket with just speed"
   ]
  },
  {
   "cell_type": "code",
   "execution_count": 25,
   "metadata": {},
   "outputs": [
    {
     "name": "stdout",
     "output_type": "stream",
     "text": [
      "1995 [155, 187, 198, 234, 281] 198\n",
      "1996 [187, 209, 238, 290, 290] 238\n",
      "1997 [222, 272] 247.0\n",
      "1998 [240] 240\n",
      "2001 [174, 259, 271] 259\n",
      "2002 [175, 199, 213, 250, 269] 213\n",
      "2003 [155, 240] 197.5\n",
      "2004 [137, 287] 212.0\n",
      "2005 [109, 173, 198, 236] 185.5\n",
      "2006 [175] 175\n",
      "2007 [159, 265] 212.0\n",
      "2008 [255, 257, 272] 257\n",
      "2009 [112, 141, 258] 141\n",
      "2010 [201, 202] 201.5\n",
      "2011 [230, 243] 236.5\n",
      "2013 [220, 259] 239.5\n",
      "2014 [122, 153, 264, 296] 208.5\n",
      "2015 [130, 147] 138.5\n",
      "2016 [139, 186, 286, 290] 236.0\n",
      "2017 [179, 181, 194, 218] 187.5\n"
     ]
    }
   ],
   "source": [
    "# STEP 2: median for each bucket\n",
    "keys = list(buckets.keys())\n",
    "keys.sort()\n",
    "for key in keys:\n",
    "    print(key, buckets[key], median(buckets[key]))"
   ]
  },
  {
   "cell_type": "code",
   "execution_count": 26,
   "metadata": {},
   "outputs": [
    {
     "data": {
      "text/plain": [
       "['year', 'id', 'location', 'speed']"
      ]
     },
     "execution_count": 26,
     "metadata": {},
     "output_type": "execute_result"
    }
   ],
   "source": [
    "header"
   ]
  },
  {
   "cell_type": "code",
   "execution_count": 29,
   "metadata": {},
   "outputs": [
    {
     "data": {
      "text/plain": [
       "['2006', 'QPIQPWDP', 'site B', '175']"
      ]
     },
     "execution_count": 29,
     "metadata": {},
     "output_type": "execute_result"
    }
   ],
   "source": [
    "rows[0]"
   ]
  },
  {
   "cell_type": "code",
   "execution_count": 30,
   "metadata": {},
   "outputs": [],
   "source": [
    "def row_to_dict(header, row):\n",
    "    d = {}\n",
    "    for i in range(len(row)):\n",
    "        key = header[i]\n",
    "        val = row[i]\n",
    "        d[key] = val\n",
    "    return d"
   ]
  },
  {
   "cell_type": "code",
   "execution_count": 32,
   "metadata": {},
   "outputs": [],
   "source": [
    "better_row = row_to_dict(header, rows[0])"
   ]
  },
  {
   "cell_type": "code",
   "execution_count": 36,
   "metadata": {},
   "outputs": [
    {
     "data": {
      "text/plain": [
       "'2006'"
      ]
     },
     "execution_count": 36,
     "metadata": {},
     "output_type": "execute_result"
    }
   ],
   "source": [
    "better_row[\"year\"]"
   ]
  },
  {
   "cell_type": "code",
   "execution_count": 37,
   "metadata": {},
   "outputs": [
    {
     "data": {
      "text/plain": [
       "'2006'"
      ]
     },
     "execution_count": 37,
     "metadata": {},
     "output_type": "execute_result"
    }
   ],
   "source": [
    "rows[0][header.index(\"year\")]"
   ]
  },
  {
   "cell_type": "code",
   "execution_count": null,
   "metadata": {},
   "outputs": [],
   "source": []
  }
 ],
 "metadata": {
  "kernelspec": {
   "display_name": "Python 3",
   "language": "python",
   "name": "python3"
  },
  "language_info": {
   "codemirror_mode": {
    "name": "ipython",
    "version": 3
   },
   "file_extension": ".py",
   "mimetype": "text/x-python",
   "name": "python",
   "nbconvert_exporter": "python",
   "pygments_lexer": "ipython3",
   "version": "3.7.2"
  }
 },
 "nbformat": 4,
 "nbformat_minor": 2
}
