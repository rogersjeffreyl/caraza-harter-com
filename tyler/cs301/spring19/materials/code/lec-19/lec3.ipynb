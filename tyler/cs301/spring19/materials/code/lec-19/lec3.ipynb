{
 "cells": [
  {
   "cell_type": "code",
   "execution_count": 1,
   "metadata": {},
   "outputs": [],
   "source": [
    "import csv\n",
    "\n",
    "# copied from https://automatetheboringstuff.com/chapter14/\n",
    "def process_csv(filename):\n",
    "  exampleFile = open(filename, encoding=\"utf-8\")\n",
    "  exampleReader = csv.reader(exampleFile)\n",
    "  exampleData = list(exampleReader)\n",
    "  return exampleData"
   ]
  },
  {
   "cell_type": "code",
   "execution_count": 6,
   "metadata": {},
   "outputs": [
    {
     "data": {
      "text/plain": [
       "[['year', 'id', 'location', 'speed'],\n",
       " ['2006', 'QPIQPWDP', 'site B', '175'],\n",
       " ['1996', 'MMMHKDDK', 'site B', '290'],\n",
       " ['2016', 'QSCAPJBU', 'site B', '290'],\n",
       " ['2014', 'KKGOICYZ', 'site C', '122']]"
      ]
     },
     "execution_count": 6,
     "metadata": {},
     "output_type": "execute_result"
    }
   ],
   "source": [
    "rows = process_csv(\"tornados.csv\")\n",
    "header = rows[0]\n",
    "rows[:5]"
   ]
  },
  {
   "cell_type": "code",
   "execution_count": 11,
   "metadata": {},
   "outputs": [
    {
     "name": "stdout",
     "output_type": "stream",
     "text": [
      "{'2006': [175], '1996': [290, 238, 187, 209, 290], '2016': [290, 139, 286, 186], '2014': [122, 264, 153, 296], '2015': [147, 130], '2005': [198, 173, 109, 236], '2002': [199, 269, 213, 175, 250], '1995': [281, 198, 234, 187, 155], '1997': [222, 272], '2001': [174, 271, 259], '2011': [243, 230], '2010': [201, 202], '2017': [181, 218, 179, 194], '2008': [255, 272, 257], '2003': [155, 240], '2004': [137, 287], '2013': [220, 259], '2009': [141, 112, 258], '1998': [240], '2007': [159, 265]}\n"
     ]
    }
   ],
   "source": [
    "buckets = {} # key: year, value: bucket, which is a list of speeds\n",
    "for row in rows[1:]:\n",
    "    key = row[header.index(\"year\")]\n",
    "    speed = int(row[header.index(\"speed\")])\n",
    "    if key in buckets:\n",
    "        buckets[key].append(speed)\n",
    "    else:\n",
    "        buckets[key] = [speed]\n",
    "print(buckets)"
   ]
  },
  {
   "cell_type": "code",
   "execution_count": 17,
   "metadata": {},
   "outputs": [],
   "source": [
    "def median(nums):\n",
    "    nums.sort()\n",
    "    if len(nums) % 2 == 1:\n",
    "        # odd\n",
    "        return nums[len(nums) // 2]\n",
    "    else:\n",
    "        # even\n",
    "        v1 = nums[len(nums) // 2]\n",
    "        v2 = nums[len(nums) // 2 - 1]\n",
    "        return (v1+v2)/2"
   ]
  },
  {
   "cell_type": "code",
   "execution_count": 18,
   "metadata": {},
   "outputs": [
    {
     "name": "stdout",
     "output_type": "stream",
     "text": [
      "2006 [175] 175\n",
      "1996 [187, 209, 238, 290, 290] 238\n",
      "2016 [139, 186, 286, 290] 236.0\n",
      "2014 [122, 153, 264, 296] 208.5\n",
      "2015 [130, 147] 138.5\n",
      "2005 [109, 173, 198, 236] 185.5\n",
      "2002 [175, 199, 213, 250, 269] 213\n",
      "1995 [155, 187, 198, 234, 281] 198\n",
      "1997 [222, 272] 247.0\n",
      "2001 [174, 259, 271] 259\n",
      "2011 [230, 243] 236.5\n",
      "2010 [201, 202] 201.5\n",
      "2017 [179, 181, 194, 218] 187.5\n",
      "2008 [255, 257, 272] 257\n",
      "2003 [155, 240] 197.5\n",
      "2004 [137, 287] 212.0\n",
      "2013 [220, 259] 239.5\n",
      "2009 [112, 141, 258] 141\n",
      "1998 [240] 240\n",
      "2007 [159, 265] 212.0\n"
     ]
    }
   ],
   "source": [
    "for year in buckets:\n",
    "    speeds = buckets[year]\n",
    "    print(year, speeds, median(speeds))"
   ]
  },
  {
   "cell_type": "code",
   "execution_count": 19,
   "metadata": {},
   "outputs": [
    {
     "data": {
      "text/plain": [
       "['year', 'id', 'location', 'speed']"
      ]
     },
     "execution_count": 19,
     "metadata": {},
     "output_type": "execute_result"
    }
   ],
   "source": [
    "header"
   ]
  },
  {
   "cell_type": "code",
   "execution_count": 22,
   "metadata": {},
   "outputs": [
    {
     "data": {
      "text/plain": [
       "[['2006', 'QPIQPWDP', 'site B', '175'],\n",
       " ['1996', 'MMMHKDDK', 'site B', '290'],\n",
       " ['2016', 'QSCAPJBU', 'site B', '290'],\n",
       " ['2014', 'KKGOICYZ', 'site C', '122']]"
      ]
     },
     "execution_count": 22,
     "metadata": {},
     "output_type": "execute_result"
    }
   ],
   "source": [
    "rows[1:5]"
   ]
  },
  {
   "cell_type": "code",
   "execution_count": 38,
   "metadata": {},
   "outputs": [],
   "source": [
    "def row_to_dict(header, row):\n",
    "    d = {}\n",
    "    for i in range(len(row)):\n",
    "        # want key from header\n",
    "        key = header[i]\n",
    "        # want val from row\n",
    "        val = row[i]\n",
    "        d[key] = val\n",
    "    return d"
   ]
  },
  {
   "cell_type": "code",
   "execution_count": 39,
   "metadata": {},
   "outputs": [
    {
     "data": {
      "text/plain": [
       "['2006', 'QPIQPWDP', 'site B', '175']"
      ]
     },
     "execution_count": 39,
     "metadata": {},
     "output_type": "execute_result"
    }
   ],
   "source": [
    "rows[1]"
   ]
  },
  {
   "cell_type": "code",
   "execution_count": 40,
   "metadata": {},
   "outputs": [
    {
     "data": {
      "text/plain": [
       "{'year': '2006', 'id': 'QPIQPWDP', 'location': 'site B', 'speed': '175'}"
      ]
     },
     "execution_count": 40,
     "metadata": {},
     "output_type": "execute_result"
    }
   ],
   "source": [
    "row_to_dict(header, rows[1])"
   ]
  },
  {
   "cell_type": "code",
   "execution_count": 41,
   "metadata": {},
   "outputs": [],
   "source": [
    "rows2 = [] # list of dicts\n",
    "for row in rows:\n",
    "    rows2.append(row_to_dict(header, row))"
   ]
  },
  {
   "cell_type": "code",
   "execution_count": 45,
   "metadata": {},
   "outputs": [
    {
     "data": {
      "text/plain": [
       "'2006'"
      ]
     },
     "execution_count": 45,
     "metadata": {},
     "output_type": "execute_result"
    }
   ],
   "source": [
    "rows[1][0] # painful"
   ]
  },
  {
   "cell_type": "code",
   "execution_count": 46,
   "metadata": {},
   "outputs": [
    {
     "data": {
      "text/plain": [
       "'2006'"
      ]
     },
     "execution_count": 46,
     "metadata": {},
     "output_type": "execute_result"
    }
   ],
   "source": [
    "rows2[1][\"year\"] # easier to read"
   ]
  },
  {
   "cell_type": "code",
   "execution_count": 4,
   "metadata": {},
   "outputs": [
    {
     "ename": "SyntaxError",
     "evalue": "'return' outside function (<ipython-input-4-2cd0575c0384>, line 1)",
     "output_type": "error",
     "traceback": [
      "\u001b[0;36m  File \u001b[0;32m\"<ipython-input-4-2cd0575c0384>\"\u001b[0;36m, line \u001b[0;32m1\u001b[0m\n\u001b[0;31m    return(3)\u001b[0m\n\u001b[0m             ^\u001b[0m\n\u001b[0;31mSyntaxError\u001b[0m\u001b[0;31m:\u001b[0m 'return' outside function\n"
     ]
    }
   ],
   "source": [
    "return(3)"
   ]
  },
  {
   "cell_type": "code",
   "execution_count": null,
   "metadata": {},
   "outputs": [],
   "source": []
  }
 ],
 "metadata": {
  "kernelspec": {
   "display_name": "Python 3",
   "language": "python",
   "name": "python3"
  },
  "language_info": {
   "codemirror_mode": {
    "name": "ipython",
    "version": 3
   },
   "file_extension": ".py",
   "mimetype": "text/x-python",
   "name": "python",
   "nbconvert_exporter": "python",
   "pygments_lexer": "ipython3",
   "version": "3.7.2"
  }
 },
 "nbformat": 4,
 "nbformat_minor": 2
}
