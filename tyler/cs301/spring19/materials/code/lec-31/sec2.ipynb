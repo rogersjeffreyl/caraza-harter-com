{
 "cells": [
  {
   "cell_type": "code",
   "execution_count": 13,
   "metadata": {},
   "outputs": [],
   "source": [
    "# Example 1: list => ul"
   ]
  },
  {
   "cell_type": "code",
   "execution_count": 14,
   "metadata": {},
   "outputs": [],
   "source": [
    "def list_to_html(items, f):\n",
    "    f.write(\"<ul>\\n\")\n",
    "    for item in items:\n",
    "        f.write(\"<li>\" + item + \"\\n\")\n",
    "    f.write(\"</ul>\\n\")\n"
   ]
  },
  {
   "cell_type": "code",
   "execution_count": 15,
   "metadata": {},
   "outputs": [],
   "source": [
    "f = open(\"shopping-list.html\", \"w\")\n",
    "f.write(\"<h3>Target</h3>\")\n",
    "list_to_html([\"apple\", \"banana\", \"orange\"], f)\n",
    "f.write(\"<h3>Trader Joes</h3>\")\n",
    "list_to_html([\"beef\", \"fish\", \"sweets\"], f)\n",
    "f.close()"
   ]
  },
  {
   "cell_type": "code",
   "execution_count": 16,
   "metadata": {},
   "outputs": [],
   "source": [
    "# Example 2: dict => a bunch of pages"
   ]
  },
  {
   "cell_type": "code",
   "execution_count": 18,
   "metadata": {},
   "outputs": [
    {
     "data": {
      "text/plain": [
       "{'A': 'player A is really good',\n",
       " 'B': 'player B is ok',\n",
       " 'C': 'player C is <b>terrible</b>'}"
      ]
     },
     "execution_count": 18,
     "metadata": {},
     "output_type": "execute_result"
    }
   ],
   "source": [
    "pages = {\n",
    "    \"A\": \"player A is really good\",\n",
    "    \"B\": \"player B is ok\",\n",
    "    \"C\": \"player C is <b>terrible</b>\",\n",
    "}\n",
    "pages"
   ]
  },
  {
   "cell_type": "code",
   "execution_count": 20,
   "metadata": {},
   "outputs": [
    {
     "name": "stdout",
     "output_type": "stream",
     "text": [
      "A\n",
      "B\n",
      "C\n"
     ]
    }
   ],
   "source": [
    "# stage 1: generate a page for each entry\n",
    "for pagename in pages:\n",
    "    print(pagename)\n",
    "    path = pagename + \".html\"\n",
    "    f = open(path, \"w\")\n",
    "    f.write(pages[pagename])\n",
    "    f.close()"
   ]
  },
  {
   "cell_type": "code",
   "execution_count": 23,
   "metadata": {},
   "outputs": [],
   "source": [
    "# stage 2: generate page of keys\n",
    "f = open(\"keys.html\", \"w\")\n",
    "for pagename in pages:\n",
    "    path = pagename + \".html\"\n",
    "    link = '<a href=\"' + path + '\">' + pagename + \"</a>\"\n",
    "    f.write(link + \"<br>\\n\")\n",
    "f.close()"
   ]
  },
  {
   "cell_type": "code",
   "execution_count": null,
   "metadata": {},
   "outputs": [],
   "source": []
  }
 ],
 "metadata": {
  "kernelspec": {
   "display_name": "Python 3",
   "language": "python",
   "name": "python3"
  },
  "language_info": {
   "codemirror_mode": {
    "name": "ipython",
    "version": 3
   },
   "file_extension": ".py",
   "mimetype": "text/x-python",
   "name": "python",
   "nbconvert_exporter": "python",
   "pygments_lexer": "ipython3",
   "version": "3.7.2"
  }
 },
 "nbformat": 4,
 "nbformat_minor": 2
}
