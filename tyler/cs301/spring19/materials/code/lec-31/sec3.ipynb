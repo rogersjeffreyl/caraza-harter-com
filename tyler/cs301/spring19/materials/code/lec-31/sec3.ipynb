{
 "cells": [
  {
   "cell_type": "code",
   "execution_count": 1,
   "metadata": {},
   "outputs": [],
   "source": [
    "# example 1: list => HTML unordered list"
   ]
  },
  {
   "cell_type": "code",
   "execution_count": 2,
   "metadata": {},
   "outputs": [],
   "source": [
    "def list_to_html(items, fileobj):\n",
    "    fileobj.write(\"<ul>\\n\")\n",
    "    for item in items:\n",
    "        fileobj.write(\"<li>\" + item + \"\\n\")\n",
    "    fileobj.write(\"</ul>\\n\")\n"
   ]
  },
  {
   "cell_type": "code",
   "execution_count": 3,
   "metadata": {},
   "outputs": [],
   "source": [
    "f = open(\"shopping-list.html\", \"w\")\n",
    "f.write(\"<h3>Target</h3>\\n\")\n",
    "list_to_html([\"apples\", \"bananas\", \"oranges\"], f)\n",
    "f.write(\"<h3>Trader Joes</h3>\\n\")\n",
    "list_to_html([\"chocolate\", \"fish\"], f)\n",
    "f.close()"
   ]
  },
  {
   "cell_type": "code",
   "execution_count": 4,
   "metadata": {},
   "outputs": [],
   "source": [
    "# EXAMPLE 2: dict => collection of pages"
   ]
  },
  {
   "cell_type": "code",
   "execution_count": 5,
   "metadata": {},
   "outputs": [
    {
     "data": {
      "text/plain": [
       "{'A': 'this is the A page',\n",
       " 'B': 'this is another page',\n",
       " 'C': 'these pages are getting redundant'}"
      ]
     },
     "execution_count": 5,
     "metadata": {},
     "output_type": "execute_result"
    }
   ],
   "source": [
    "pages = {\n",
    "    \"A\": \"this is the A page\",\n",
    "    \"B\": \"this is another page\",\n",
    "    \"C\": \"these pages are getting redundant\",\n",
    "}\n",
    "pages"
   ]
  },
  {
   "cell_type": "code",
   "execution_count": 6,
   "metadata": {},
   "outputs": [
    {
     "name": "stdout",
     "output_type": "stream",
     "text": [
      "A.html\n",
      "B.html\n",
      "C.html\n"
     ]
    }
   ],
   "source": [
    "# stage 1: generate pages\n",
    "for pagename in pages:\n",
    "    path = pagename + \".html\"\n",
    "    print(path)\n",
    "    f = open(path, \"w\")\n",
    "    f.write(pages[pagename])\n",
    "    f.close()"
   ]
  },
  {
   "cell_type": "code",
   "execution_count": 7,
   "metadata": {
    "scrolled": true
   },
   "outputs": [],
   "source": [
    "# stage 2: generate keys.html\n",
    "f = open(\"keys.html\", \"w\")\n",
    "for pagename in pages:\n",
    "    path = pagename + \".html\"\n",
    "    f.write('<a href=\"' + path + '\">')\n",
    "    f.write(pagename)\n",
    "    f.write(\"</a>\")\n",
    "    f.write(\"<br>\\n\")\n",
    "f.close()"
   ]
  },
  {
   "cell_type": "code",
   "execution_count": 8,
   "metadata": {},
   "outputs": [],
   "source": [
    "# example 3: DataFrame to HTML table"
   ]
  },
  {
   "cell_type": "code",
   "execution_count": 9,
   "metadata": {},
   "outputs": [],
   "source": [
    "import pandas as pd"
   ]
  },
  {
   "cell_type": "code",
   "execution_count": 10,
   "metadata": {},
   "outputs": [
    {
     "data": {
      "text/html": [
       "<div>\n",
       "<style scoped>\n",
       "    .dataframe tbody tr th:only-of-type {\n",
       "        vertical-align: middle;\n",
       "    }\n",
       "\n",
       "    .dataframe tbody tr th {\n",
       "        vertical-align: top;\n",
       "    }\n",
       "\n",
       "    .dataframe thead th {\n",
       "        text-align: right;\n",
       "    }\n",
       "</style>\n",
       "<table border=\"1\" class=\"dataframe\">\n",
       "  <thead>\n",
       "    <tr style=\"text-align: right;\">\n",
       "      <th></th>\n",
       "      <th>A</th>\n",
       "      <th>B</th>\n",
       "    </tr>\n",
       "  </thead>\n",
       "  <tbody>\n",
       "    <tr>\n",
       "      <th>0</th>\n",
       "      <td>1</td>\n",
       "      <td>3</td>\n",
       "    </tr>\n",
       "    <tr>\n",
       "      <th>1</th>\n",
       "      <td>2</td>\n",
       "      <td>4</td>\n",
       "    </tr>\n",
       "  </tbody>\n",
       "</table>\n",
       "</div>"
      ],
      "text/plain": [
       "   A  B\n",
       "0  1  3\n",
       "1  2  4"
      ]
     },
     "execution_count": 10,
     "metadata": {},
     "output_type": "execute_result"
    }
   ],
   "source": [
    "df = pd.DataFrame({\"A\": [1,2], \"B\":[3,4]})\n",
    "df"
   ]
  },
  {
   "cell_type": "code",
   "execution_count": 11,
   "metadata": {},
   "outputs": [
    {
     "name": "stdout",
     "output_type": "stream",
     "text": [
      "<table>\n",
      "<tr>\n",
      "<td>1</td><td>3</td>\n",
      "</tr>\n",
      "<tr>\n",
      "<td>2</td><td>4</td>\n",
      "</tr>\n",
      "</table>\n"
     ]
    }
   ],
   "source": [
    "print(\"<table>\")\n",
    "for row_idx in range(len(df)):\n",
    "    row = df.iloc[row_idx]\n",
    "    row = list(map(str, row))\n",
    "    \n",
    "    print(\"<tr>\")\n",
    "    print(\"<td>\" + \"</td><td>\".join(row) + \"</td>\")\n",
    "    print(\"</tr>\")\n",
    "print(\"</table>\")"
   ]
  },
  {
   "cell_type": "code",
   "execution_count": 12,
   "metadata": {},
   "outputs": [],
   "source": [
    "# copy above to an HTML file..."
   ]
  },
  {
   "cell_type": "code",
   "execution_count": null,
   "metadata": {},
   "outputs": [],
   "source": []
  }
 ],
 "metadata": {
  "kernelspec": {
   "display_name": "Python 3",
   "language": "python",
   "name": "python3"
  },
  "language_info": {
   "codemirror_mode": {
    "name": "ipython",
    "version": 3
   },
   "file_extension": ".py",
   "mimetype": "text/x-python",
   "name": "python",
   "nbconvert_exporter": "python",
   "pygments_lexer": "ipython3",
   "version": "3.7.2"
  }
 },
 "nbformat": 4,
 "nbformat_minor": 2
}
