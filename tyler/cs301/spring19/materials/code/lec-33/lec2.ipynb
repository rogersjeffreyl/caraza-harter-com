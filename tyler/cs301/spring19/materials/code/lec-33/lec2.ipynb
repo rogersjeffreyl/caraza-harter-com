{
 "cells": [
  {
   "cell_type": "code",
   "execution_count": 1,
   "metadata": {},
   "outputs": [],
   "source": [
    "import sqlite3"
   ]
  },
  {
   "cell_type": "code",
   "execution_count": 2,
   "metadata": {},
   "outputs": [
    {
     "data": {
      "text/plain": [
       "<sqlite3.Connection at 0x10ae99570>"
      ]
     },
     "execution_count": 2,
     "metadata": {},
     "output_type": "execute_result"
    }
   ],
   "source": [
    "conn = sqlite3.connect(\"bus.db\")\n",
    "conn"
   ]
  },
  {
   "cell_type": "code",
   "execution_count": 3,
   "metadata": {},
   "outputs": [],
   "source": [
    "# results = conn.execute(QUERY)"
   ]
  },
  {
   "cell_type": "code",
   "execution_count": 5,
   "metadata": {},
   "outputs": [
    {
     "data": {
      "text/plain": [
       "<sqlite3.Cursor at 0x10af6ff10>"
      ]
     },
     "execution_count": 5,
     "metadata": {},
     "output_type": "execute_result"
    }
   ],
   "source": [
    "results = conn.execute(\"SELECT * FROM routes\")\n",
    "results"
   ]
  },
  {
   "cell_type": "code",
   "execution_count": 6,
   "metadata": {},
   "outputs": [
    {
     "name": "stdout",
     "output_type": "stream",
     "text": [
      "(0, 63, 8052, 1, 'http://www.cityofmadison.com/Metro/schedules/Route01/', 32379.426524261)\n",
      "(1, 64, 8053, 2, 'http://www.cityofmadison.com/Metro/schedules/Route02/', 96906.9655714024)\n",
      "(2, 65, 8054, 3, 'http://www.cityofmadison.com/Metro/schedules/Route03/', 76436.6456435859)\n",
      "(3, 66, 8055, 4, 'http://www.cityofmadison.com/Metro/schedules/Route04/', 64774.1334846944)\n",
      "(4, 67, 8056, 5, 'http://www.cityofmadison.com/Metro/schedules/Route05/', 61216.722661615306)\n",
      "(5, 68, 8057, 6, 'http://www.cityofmadison.com/Metro/schedules/Route06/', 151142.29837020198)\n",
      "(6, 69, 8058, 7, 'http://www.cityofmadison.com/Metro/schedules/Route07/', 98617.0056650761)\n",
      "(7, 70, 8059, 8, 'http://www.cityofmadison.com/Metro/schedules/Route08/', 56732.757385207005)\n",
      "(8, 71, 8060, 10, 'http://www.cityofmadison.com/Metro/schedules/Route10/', 113468.94088226599)\n",
      "(9, 72, 8061, 11, 'http://www.cityofmadison.com/Metro/schedules/Route11/', 131900.584374629)\n",
      "(10, 73, 8062, 12, 'http://www.cityofmadison.com/Metro/schedules/Route12/', 126848.63512581)\n",
      "(11, 74, 8063, 13, 'http://www.cityofmadison.com/Metro/schedules/Route13/', 43490.500403546)\n",
      "(12, 75, 8064, 14, 'http://www.cityofmadison.com/Metro/schedules/Route14/', 118422.609701895)\n",
      "(13, 76, 8065, 15, 'http://www.cityofmadison.com/Metro/schedules/Route15/', 153051.20103618)\n",
      "(14, 77, 8066, 16, 'http://www.cityofmadison.com/Metro/schedules/Route16/', 81867.73362043929)\n",
      "(15, 78, 8067, 17, 'http://www.cityofmadison.com/Metro/schedules/Route17/', 25955.7854507185)\n",
      "(16, 79, 8068, 18, 'http://www.cityofmadison.com/Metro/schedules/Route18/', 113588.99107823099)\n",
      "(17, 80, 8069, 19, 'http://www.cityofmadison.com/Metro/schedules/Route19/', 66743.24039848169)\n",
      "(18, 81, 8070, 20, 'http://www.cityofmadison.com/Metro/schedules/Route20/', 73204.5111834252)\n",
      "(19, 82, 8071, 21, 'http://www.cityofmadison.com/Metro/schedules/Route21/', 39635.367330627996)\n",
      "(20, 83, 8072, 22, 'http://www.cityofmadison.com/Metro/schedules/Route22/', 33344.3897186013)\n",
      "(21, 84, 8073, 25, 'http://www.cityofmadison.com/Metro/schedules/Route25/', 88738.7652822743)\n",
      "(22, 85, 8074, 26, 'http://www.cityofmadison.com/Metro/schedules/Route26/', 59133.5756479122)\n",
      "(23, 86, 8075, 27, 'http://www.cityofmadison.com/Metro/schedules/Route27/', 90168.444006312)\n",
      "(24, 87, 8076, 28, 'http://www.cityofmadison.com/Metro/schedules/Route28/', 85209.4011700225)\n",
      "(25, 88, 8077, 29, 'http://www.cityofmadison.com/Metro/schedules/Route29/', 88886.48260292619)\n",
      "(26, 89, 8078, 30, 'http://www.cityofmadison.com/Metro/schedules/Route30/', 38654.2893621412)\n",
      "(27, 90, 8079, 31, 'http://www.cityofmadison.com/Metro/schedules/Route31/', 55760.727859503495)\n",
      "(28, 91, 8080, 32, 'http://www.cityofmadison.com/Metro/schedules/Route32/', 41854.7325943162)\n",
      "(29, 92, 8081, 33, 'http://www.cityofmadison.com/Metro/schedules/Route33/', 56807.448306649196)\n",
      "(30, 93, 8082, 34, 'http://www.cityofmadison.com/Metro/schedules/Route34/', 20323.1733772386)\n",
      "(31, 94, 8083, 35, 'http://www.cityofmadison.com/Metro/schedules/Route35/', 69124.6535413157)\n",
      "(32, 95, 8084, 36, 'http://www.cityofmadison.com/Metro/schedules/Route36/', 10614.0190070559)\n",
      "(33, 96, 8085, 37, 'http://www.cityofmadison.com/Metro/schedules/Route37/', 77027.8356526997)\n",
      "(34, 97, 8086, 38, 'http://www.cityofmadison.com/Metro/schedules/Route38/', 102750.508965095)\n",
      "(35, 98, 8087, 39, 'http://www.cityofmadison.com/Metro/schedules/Route39/', 55287.2604205011)\n",
      "(36, 99, 8088, 40, 'http://www.cityofmadison.com/Metro/schedules/Route40/', 47523.6824465273)\n",
      "(37, 100, 8089, 44, 'http://www.cityofmadison.com/Metro/schedules/Route44/', 36262.393519309)\n",
      "(38, 101, 8090, 47, 'http://www.cityofmadison.com/Metro/schedules/Route47/', 70315.5412930508)\n",
      "(39, 102, 8091, 48, 'http://www.cityofmadison.com/Metro/schedules/Route48/', 38143.7161753301)\n",
      "(40, 103, 8092, 49, 'http://www.cityofmadison.com/Metro/schedules/Route49/', 81820.8232327981)\n",
      "(41, 104, 8093, 50, 'http://www.cityofmadison.com/Metro/schedules/Route50/', 34991.8827402422)\n",
      "(42, 105, 8094, 51, 'http://www.cityofmadison.com/Metro/schedules/Route51/', 41866.6206643254)\n",
      "(43, 106, 8095, 52, 'http://www.cityofmadison.com/Metro/schedules/Route52/', 30872.7197032988)\n",
      "(44, 107, 8096, 55, 'http://www.cityofmadison.com/Metro/schedules/Route55/', 60450.3875254976)\n",
      "(45, 108, 8097, 56, 'http://www.cityofmadison.com/Metro/schedules/Route56/', 158777.245571078)\n",
      "(46, 109, 8098, 57, 'http://www.cityofmadison.com/Metro/schedules/Route57/', 145409.01596050098)\n",
      "(47, 110, 8099, 58, 'http://www.cityofmadison.com/Metro/schedules/Route58/', 63799.3184163637)\n",
      "(48, 111, 8100, 59, 'http://www.cityofmadison.com/Metro/schedules/Route59/', 70401.6984774485)\n",
      "(49, 112, 8101, 63, 'http://www.cityofmadison.com/Metro/schedules/Route63/', 34906.1489035572)\n",
      "(50, 113, 8102, 67, 'http://www.cityofmadison.com/Metro/schedules/Route67/', 34073.6194342043)\n",
      "(51, 114, 8103, 68, 'http://www.cityofmadison.com/Metro/schedules/Route68/', 53549.2316608108)\n",
      "(52, 115, 8104, 70, 'http://www.cityofmadison.com/Metro/schedules/Route70/', 133579.86070132098)\n",
      "(53, 116, 8105, 71, 'http://www.cityofmadison.com/Metro/schedules/Route71/', 118955.674334282)\n",
      "(54, 117, 8106, 72, 'http://www.cityofmadison.com/Metro/schedules/Route72/', 151997.510028787)\n",
      "(55, 118, 8107, 73, 'http://www.cityofmadison.com/Metro/schedules/Route73/', 62933.252396269294)\n",
      "(56, 119, 8108, 75, 'http://www.cityofmadison.com/Metro/schedules/Route75/', 125693.42893719401)\n",
      "(57, 120, 8109, 78, 'http://www.cityofmadison.com/Metro/schedules/Route78/', 95826.27721849439)\n",
      "(58, 121, 8110, 80, 'http://www.cityofmadison.com/Metro/schedules/Route80/', 31831.761009305)\n",
      "(59, 122, 8111, 81, 'http://www.cityofmadison.com/Metro/schedules/Route81/', 26536.8005908652)\n",
      "(60, 123, 8112, 82, 'http://www.cityofmadison.com/Metro/schedules/Route82/', 23287.9801733942)\n",
      "(61, 124, 8113, 84, 'http://www.cityofmadison.com/Metro/schedules/Route84/', 20681.9583339527)\n"
     ]
    }
   ],
   "source": [
    "for row in results:\n",
    "    print(row)"
   ]
  },
  {
   "cell_type": "code",
   "execution_count": 20,
   "metadata": {},
   "outputs": [
    {
     "data": {
      "text/plain": [
       "<sqlite3.Cursor at 0x10afa67a0>"
      ]
     },
     "execution_count": 20,
     "metadata": {},
     "output_type": "execute_result"
    }
   ],
   "source": [
    "# EXAMPLE 1: total ridership in Madison, using execute\n",
    "results = conn.execute(\"SELECT DailyBoardings FROM boarding\")\n",
    "results"
   ]
  },
  {
   "cell_type": "code",
   "execution_count": 21,
   "metadata": {},
   "outputs": [
    {
     "data": {
      "text/plain": [
       "55987.17999999951"
      ]
     },
     "execution_count": 21,
     "metadata": {},
     "output_type": "execute_result"
    }
   ],
   "source": [
    "total = 0\n",
    "for row in results:\n",
    "    total += row[0]\n",
    "total"
   ]
  },
  {
   "cell_type": "code",
   "execution_count": 22,
   "metadata": {},
   "outputs": [
    {
     "data": {
      "text/plain": [
       "45"
      ]
     },
     "execution_count": 22,
     "metadata": {},
     "output_type": "execute_result"
    }
   ],
   "source": [
    "5 * (3*3)"
   ]
  },
  {
   "cell_type": "code",
   "execution_count": 23,
   "metadata": {},
   "outputs": [
    {
     "data": {
      "text/plain": [
       "(9, 9, 9, 9, 9)"
      ]
     },
     "execution_count": 23,
     "metadata": {},
     "output_type": "execute_result"
    }
   ],
   "source": [
    "5 * (3*3,)"
   ]
  },
  {
   "cell_type": "code",
   "execution_count": 24,
   "metadata": {},
   "outputs": [],
   "source": [
    "# EXAMPLE 2: which route goes farthest west (use pandas)"
   ]
  },
  {
   "cell_type": "code",
   "execution_count": 25,
   "metadata": {},
   "outputs": [],
   "source": [
    "import pandas as pd"
   ]
  },
  {
   "cell_type": "code",
   "execution_count": 26,
   "metadata": {},
   "outputs": [],
   "source": [
    "# pd.read_sql(QUERY, CONNECTION)"
   ]
  },
  {
   "cell_type": "code",
   "execution_count": 32,
   "metadata": {},
   "outputs": [],
   "source": [
    "query = \"\"\"\n",
    "SELECT *\n",
    "FROM boarding\n",
    "ORDER BY Lon ASC\n",
    "LIMIT 1\n",
    "\"\"\"\n",
    "df = pd.read_sql(query, conn)"
   ]
  },
  {
   "cell_type": "code",
   "execution_count": 33,
   "metadata": {},
   "outputs": [
    {
     "data": {
      "text/html": [
       "<div>\n",
       "<style scoped>\n",
       "    .dataframe tbody tr th:only-of-type {\n",
       "        vertical-align: middle;\n",
       "    }\n",
       "\n",
       "    .dataframe tbody tr th {\n",
       "        vertical-align: top;\n",
       "    }\n",
       "\n",
       "    .dataframe thead th {\n",
       "        text-align: right;\n",
       "    }\n",
       "</style>\n",
       "<table border=\"1\" class=\"dataframe\">\n",
       "  <thead>\n",
       "    <tr style=\"text-align: right;\">\n",
       "      <th></th>\n",
       "      <th>index</th>\n",
       "      <th>StopID</th>\n",
       "      <th>Route</th>\n",
       "      <th>Lat</th>\n",
       "      <th>Lon</th>\n",
       "      <th>DailyBoardings</th>\n",
       "    </tr>\n",
       "  </thead>\n",
       "  <tbody>\n",
       "    <tr>\n",
       "      <th>0</th>\n",
       "      <td>3489</td>\n",
       "      <td>4400</td>\n",
       "      <td>55</td>\n",
       "      <td>42.995476</td>\n",
       "      <td>-89.564243</td>\n",
       "      <td>59.31</td>\n",
       "    </tr>\n",
       "  </tbody>\n",
       "</table>\n",
       "</div>"
      ],
      "text/plain": [
       "   index  StopID  Route        Lat        Lon  DailyBoardings\n",
       "0   3489    4400     55  42.995476 -89.564243           59.31"
      ]
     },
     "execution_count": 33,
     "metadata": {},
     "output_type": "execute_result"
    }
   ],
   "source": [
    "df"
   ]
  },
  {
   "cell_type": "code",
   "execution_count": 34,
   "metadata": {},
   "outputs": [
    {
     "data": {
      "text/plain": [
       "0    59.31\n",
       "Name: DailyBoardings, dtype: float64"
      ]
     },
     "execution_count": 34,
     "metadata": {},
     "output_type": "execute_result"
    }
   ],
   "source": [
    "df.DailyBoardings"
   ]
  },
  {
   "cell_type": "code",
   "execution_count": 37,
   "metadata": {},
   "outputs": [],
   "source": [
    "query = \"\"\"\n",
    "SELECT Lon, Lat\n",
    "FROM boarding\n",
    "\"\"\"\n",
    "df = pd.read_sql(query, conn)"
   ]
  },
  {
   "cell_type": "code",
   "execution_count": 40,
   "metadata": {},
   "outputs": [
    {
     "data": {
      "text/plain": [
       "[-89.4024664433534, 43.075374427492534]"
      ]
     },
     "execution_count": 40,
     "metadata": {},
     "output_type": "execute_result"
    }
   ],
   "source": [
    "list(df.mean())"
   ]
  },
  {
   "cell_type": "code",
   "execution_count": null,
   "metadata": {},
   "outputs": [],
   "source": []
  }
 ],
 "metadata": {
  "kernelspec": {
   "display_name": "Python 3",
   "language": "python",
   "name": "python3"
  },
  "language_info": {
   "codemirror_mode": {
    "name": "ipython",
    "version": 3
   },
   "file_extension": ".py",
   "mimetype": "text/x-python",
   "name": "python",
   "nbconvert_exporter": "python",
   "pygments_lexer": "ipython3",
   "version": "3.7.2"
  }
 },
 "nbformat": 4,
 "nbformat_minor": 2
}
