{
 "cells": [
  {
   "cell_type": "markdown",
   "metadata": {},
   "source": [
    "# Review"
   ]
  },
  {
   "cell_type": "code",
   "execution_count": 1,
   "metadata": {},
   "outputs": [
    {
     "data": {
      "text/plain": [
       "91"
      ]
     },
     "execution_count": 1,
     "metadata": {},
     "output_type": "execute_result"
    }
   ],
   "source": [
    "import pandas as pd\n",
    "import numpy as np\n",
    "import random\n",
    "random.randint(0, 100)"
   ]
  },
  {
   "cell_type": "code",
   "execution_count": 2,
   "metadata": {},
   "outputs": [],
   "source": [
    "import matplotlib\n",
    "matplotlib.rcParams[\"font.size\"] = 16"
   ]
  },
  {
   "cell_type": "code",
   "execution_count": 3,
   "metadata": {},
   "outputs": [
    {
     "data": {
      "text/plain": [
       "array([ 0.  ,  0.25,  0.5 ,  0.75,  1.  ,  1.25,  1.5 ,  1.75,  2.  ,\n",
       "        2.25,  2.5 ,  2.75,  3.  ,  3.25,  3.5 ,  3.75,  4.  ,  4.25,\n",
       "        4.5 ,  4.75,  5.  ,  5.25,  5.5 ,  5.75,  6.  ,  6.25,  6.5 ,\n",
       "        6.75,  7.  ,  7.25,  7.5 ,  7.75,  8.  ,  8.25,  8.5 ,  8.75,\n",
       "        9.  ,  9.25,  9.5 ,  9.75, 10.  , 10.25, 10.5 , 10.75, 11.  ,\n",
       "       11.25, 11.5 , 11.75, 12.  , 12.25, 12.5 , 12.75, 13.  , 13.25,\n",
       "       13.5 , 13.75, 14.  , 14.25, 14.5 , 14.75, 15.  , 15.25, 15.5 ,\n",
       "       15.75, 16.  , 16.25, 16.5 , 16.75, 17.  , 17.25, 17.5 , 17.75,\n",
       "       18.  , 18.25, 18.5 , 18.75, 19.  , 19.25, 19.5 , 19.75, 20.  ,\n",
       "       20.25, 20.5 , 20.75, 21.  , 21.25, 21.5 , 21.75, 22.  , 22.25,\n",
       "       22.5 , 22.75, 23.  , 23.25, 23.5 , 23.75, 24.  , 24.25, 24.5 ,\n",
       "       24.75])"
      ]
     },
     "execution_count": 3,
     "metadata": {},
     "output_type": "execute_result"
    }
   ],
   "source": [
    "max_time = 25\n",
    "(np.arange(0, 100) * max_time / 100)"
   ]
  },
  {
   "cell_type": "code",
   "execution_count": 4,
   "metadata": {},
   "outputs": [
    {
     "data": {
      "text/plain": [
       "Text(0.5, 1.0, 'Program Runtime')"
      ]
     },
     "execution_count": 4,
     "metadata": {},
     "output_type": "execute_result"
    }
   ],
   "source": [
    "\n",
    "def gen_series(max_mem, max_time):\n",
    "    values = pd.Series([random.randint(0, 20) for i in range(104)])\n",
    "    values = values.rolling(5).mean().iloc[4:].values\n",
    "    for i in range(0, 41):\n",
    "        p = i/40\n",
    "        values[40+i] = (1-p) * values[40+i] + p * max_mem\n",
    "    index = (np.arange(0, 100) * max_time / 100)\n",
    "    return pd.Series(values, index=index)\n",
    "\n",
    "s = gen_series(50, 50)\n",
    "ax = s.plot.line(color=\"red\", linewidth=2.5, figsize=(8, 2), xlim=(0,200), ylim=(0,100))\n",
    "ax.spines[\"right\"].set_visible(False)\n",
    "ax.spines[\"top\"].set_visible(False)\n",
    "ax.set_xlabel(\"Seconds\")\n",
    "ax.set_ylabel(\"Memory Used\")\n",
    "ax.set_title(\"Program Runtime\")"
   ]
  },
  {
   "cell_type": "code",
   "execution_count": 5,
   "metadata": {},
   "outputs": [
    {
     "data": {
      "text/plain": [
       "Text(0.5, 1.0, 'Program Runtime')"
      ]
     },
     "execution_count": 5,
     "metadata": {},
     "output_type": "execute_result"
    },
    {
     "data": {
      "image/png": "[encoded data removed]",
      "text/plain": [
       "<Figure size 576x144 with 1 Axes>"
      ]
     },
     "metadata": {
      "needs_background": "light"
     },
     "output_type": "display_data"
    }
   ],
   "source": [
    "s = gen_series(100, 200)\n",
    "ax = s.plot.line(color=\"red\", linewidth=2.5, figsize=(8, 2), xlim=(0,200), ylim=(0,100))\n",
    "ax.spines[\"right\"].set_visible(False)\n",
    "ax.spines[\"top\"].set_visible(False)\n",
    "ax.set_xlabel(\"Seconds\")\n",
    "ax.set_ylabel(\"Memory Used\")\n",
    "ax.set_title(\"Program Runtime\")"
   ]
  },
  {
   "cell_type": "markdown",
   "metadata": {},
   "source": [
    "# Part 1: Regex\n",
    "\n",
    "## Raw Strings, Escaping"
   ]
  },
  {
   "cell_type": "code",
   "execution_count": 6,
   "metadata": {},
   "outputs": [
    {
     "name": "stdout",
     "output_type": "stream",
     "text": [
      "A\tB\n"
     ]
    }
   ],
   "source": [
    "print(\"A\\tB\")"
   ]
  },
  {
   "cell_type": "code",
   "execution_count": 7,
   "metadata": {},
   "outputs": [
    {
     "name": "stdout",
     "output_type": "stream",
     "text": [
      "A\\tB\n"
     ]
    }
   ],
   "source": [
    "print(\"A\\\\tB\")"
   ]
  },
  {
   "cell_type": "code",
   "execution_count": 8,
   "metadata": {},
   "outputs": [
    {
     "name": "stdout",
     "output_type": "stream",
     "text": [
      "A\\tB\n"
     ]
    }
   ],
   "source": [
    "print(r\"A\\tB\")"
   ]
  },
  {
   "cell_type": "markdown",
   "metadata": {},
   "source": [
    "## Regular Expressions"
   ]
  },
  {
   "cell_type": "code",
   "execution_count": 9,
   "metadata": {},
   "outputs": [],
   "source": [
    "import re\n",
    "\n",
    "# from DS100\n",
    "def reg(regex, text):\n",
    "    \"\"\"\n",
    "    Prints the string with the regex match highlighted.\n",
    "    \"\"\"\n",
    "    print(re.sub(f'({regex})', r'\\033[1;30;43m\\1\\033[m', text))"
   ]
  },
  {
   "cell_type": "code",
   "execution_count": 10,
   "metadata": {},
   "outputs": [
    {
     "name": "stdout",
     "output_type": "stream",
     "text": [
      "A DAG is a directed graph without cycles. A tree is a DAG where every node has one parent (except the root, which has none). To learn more, visit www.example.com or call 1-608-123-4567. :)\n"
     ]
    }
   ],
   "source": [
    "s1 = \" \".join([\"A DAG is a directed graph without cycles.\",\n",
    "               \"A tree is a DAG where every node has one parent (except the root, which has none).\",\n",
    "               \"To learn more, visit www.example.com or call 1-608-123-4567. :)\"])\n",
    "print(s1)"
   ]
  },
  {
   "cell_type": "code",
   "execution_count": 11,
   "metadata": {},
   "outputs": [
    {
     "name": "stdout",
     "output_type": "stream",
     "text": [
      "1-608-123-4567\n",
      "a-bcd-efg-hijg (not a phone number)\n",
      "1-608-123-456 (not a phone number)\n",
      "608-123-4567\n",
      "123-4567\n",
      "\n"
     ]
    }
   ],
   "source": [
    "s2 = \"\"\"1-608-123-4567\n",
    "a-bcd-efg-hijg (not a phone number)\n",
    "1-608-123-456 (not a phone number)\n",
    "608-123-4567\n",
    "123-4567\n",
    "\"\"\"\n",
    "print(s2)"
   ]
  },
  {
   "cell_type": "code",
   "execution_count": 12,
   "metadata": {},
   "outputs": [
    {
     "data": {
      "text/plain": [
       "'In CS 320, there are 2 exams, 6 projects, 41 lectures, and 1000 things to learn.  CS 320 is awesome!'"
      ]
     },
     "execution_count": 12,
     "metadata": {},
     "output_type": "execute_result"
    }
   ],
   "source": [
    "s3 = \"In CS 320, there are 2 exams, 6 projects, 41 lectures, and 1000 things to learn.  CS 320 is awesome!\"\n",
    "s3"
   ]
  },
  {
   "cell_type": "code",
   "execution_count": 13,
   "metadata": {},
   "outputs": [
    {
     "name": "stdout",
     "output_type": "stream",
     "text": [
      "A \u001b[1;30;43mDAG\u001b[m is a directed graph without cycles. A tree is a \u001b[1;30;43mDAG\u001b[m where every node has one parent (except the root, which has none). To learn more, visit www.example.com or call 1-608-123-4567. :)\n"
     ]
    }
   ],
   "source": [
    "reg(r\"DAG\", s1)"
   ]
  },
  {
   "cell_type": "code",
   "execution_count": 14,
   "metadata": {},
   "outputs": [
    {
     "name": "stdout",
     "output_type": "stream",
     "text": [
      "A DAG is \u001b[1;30;43ma\u001b[m directed gr\u001b[1;30;43ma\u001b[mph without cycles. A tree is \u001b[1;30;43ma\u001b[m DAG where every node h\u001b[1;30;43ma\u001b[ms one p\u001b[1;30;43ma\u001b[mrent (except the root, which h\u001b[1;30;43ma\u001b[ms none). To le\u001b[1;30;43ma\u001b[mrn more, visit www.ex\u001b[1;30;43ma\u001b[mmple.com or c\u001b[1;30;43ma\u001b[mll 1-608-123-4567. :)\n"
     ]
    }
   ],
   "source": [
    "reg(r\"a\", s1)"
   ]
  },
  {
   "cell_type": "markdown",
   "metadata": {},
   "source": [
    "## Character Classes/Ranges"
   ]
  },
  {
   "cell_type": "code",
   "execution_count": 15,
   "metadata": {},
   "outputs": [
    {
     "name": "stdout",
     "output_type": "stream",
     "text": [
      "\u001b[1;30;43mA\u001b[m D\u001b[1;30;43mA\u001b[mG \u001b[1;30;43mi\u001b[ms \u001b[1;30;43ma\u001b[m d\u001b[1;30;43mi\u001b[mr\u001b[1;30;43me\u001b[mct\u001b[1;30;43me\u001b[md gr\u001b[1;30;43ma\u001b[mph w\u001b[1;30;43mi\u001b[mth\u001b[1;30;43mo\u001b[m\u001b[1;30;43mu\u001b[mt cycl\u001b[1;30;43me\u001b[ms. \u001b[1;30;43mA\u001b[m tr\u001b[1;30;43me\u001b[m\u001b[1;30;43me\u001b[m \u001b[1;30;43mi\u001b[ms \u001b[1;30;43ma\u001b[m D\u001b[1;30;43mA\u001b[mG wh\u001b[1;30;43me\u001b[mr\u001b[1;30;43me\u001b[m \u001b[1;30;43me\u001b[mv\u001b[1;30;43me\u001b[mry n\u001b[1;30;43mo\u001b[md\u001b[1;30;43me\u001b[m h\u001b[1;30;43ma\u001b[ms \u001b[1;30;43mo\u001b[mn\u001b[1;30;43me\u001b[m p\u001b[1;30;43ma\u001b[mr\u001b[1;30;43me\u001b[mnt (\u001b[1;30;43me\u001b[mxc\u001b[1;30;43me\u001b[mpt th\u001b[1;30;43me\u001b[m r\u001b[1;30;43mo\u001b[m\u001b[1;30;43mo\u001b[mt, wh\u001b[1;30;43mi\u001b[mch h\u001b[1;30;43ma\u001b[ms n\u001b[1;30;43mo\u001b[mn\u001b[1;30;43me\u001b[m). T\u001b[1;30;43mo\u001b[m l\u001b[1;30;43me\u001b[m\u001b[1;30;43ma\u001b[mrn m\u001b[1;30;43mo\u001b[mr\u001b[1;30;43me\u001b[m, v\u001b[1;30;43mi\u001b[ms\u001b[1;30;43mi\u001b[mt www.\u001b[1;30;43me\u001b[mx\u001b[1;30;43ma\u001b[mmpl\u001b[1;30;43me\u001b[m.c\u001b[1;30;43mo\u001b[mm \u001b[1;30;43mo\u001b[mr c\u001b[1;30;43ma\u001b[mll 1-608-123-4567. :)\n"
     ]
    }
   ],
   "source": [
    "# character class\n",
    "reg(r\"[aeiouAEIOU]\", s1)"
   ]
  },
  {
   "cell_type": "code",
   "execution_count": 16,
   "metadata": {},
   "outputs": [
    {
     "name": "stdout",
     "output_type": "stream",
     "text": [
      "\u001b[1;30;43mA\u001b[m \u001b[1;30;43mD\u001b[m\u001b[1;30;43mA\u001b[m\u001b[1;30;43mG\u001b[m is a directed graph without cycles. \u001b[1;30;43mA\u001b[m tree is a \u001b[1;30;43mD\u001b[m\u001b[1;30;43mA\u001b[m\u001b[1;30;43mG\u001b[m where every node has one parent (except the root, which has none). \u001b[1;30;43mT\u001b[mo learn more, visit www.example.com or call 1-608-123-4567. :)\n"
     ]
    }
   ],
   "source": [
    "# character ranges\n",
    "reg(r\"[A-Z]\", s1)"
   ]
  },
  {
   "cell_type": "code",
   "execution_count": 17,
   "metadata": {},
   "outputs": [
    {
     "name": "stdout",
     "output_type": "stream",
     "text": [
      "\u001b[1;30;43mA\u001b[m \u001b[1;30;43mD\u001b[m\u001b[1;30;43mA\u001b[m\u001b[1;30;43mG\u001b[m \u001b[1;30;43mi\u001b[m\u001b[1;30;43ms\u001b[m \u001b[1;30;43ma\u001b[m \u001b[1;30;43md\u001b[m\u001b[1;30;43mi\u001b[m\u001b[1;30;43mr\u001b[m\u001b[1;30;43me\u001b[m\u001b[1;30;43mc\u001b[m\u001b[1;30;43mt\u001b[m\u001b[1;30;43me\u001b[m\u001b[1;30;43md\u001b[m \u001b[1;30;43mg\u001b[m\u001b[1;30;43mr\u001b[m\u001b[1;30;43ma\u001b[m\u001b[1;30;43mp\u001b[m\u001b[1;30;43mh\u001b[m \u001b[1;30;43mw\u001b[m\u001b[1;30;43mi\u001b[m\u001b[1;30;43mt\u001b[m\u001b[1;30;43mh\u001b[m\u001b[1;30;43mo\u001b[m\u001b[1;30;43mu\u001b[m\u001b[1;30;43mt\u001b[m \u001b[1;30;43mc\u001b[m\u001b[1;30;43my\u001b[m\u001b[1;30;43mc\u001b[m\u001b[1;30;43ml\u001b[m\u001b[1;30;43me\u001b[m\u001b[1;30;43ms\u001b[m. \u001b[1;30;43mA\u001b[m \u001b[1;30;43mt\u001b[m\u001b[1;30;43mr\u001b[m\u001b[1;30;43me\u001b[m\u001b[1;30;43me\u001b[m \u001b[1;30;43mi\u001b[m\u001b[1;30;43ms\u001b[m \u001b[1;30;43ma\u001b[m \u001b[1;30;43mD\u001b[m\u001b[1;30;43mA\u001b[m\u001b[1;30;43mG\u001b[m \u001b[1;30;43mw\u001b[m\u001b[1;30;43mh\u001b[m\u001b[1;30;43me\u001b[m\u001b[1;30;43mr\u001b[m\u001b[1;30;43me\u001b[m \u001b[1;30;43me\u001b[m\u001b[1;30;43mv\u001b[m\u001b[1;30;43me\u001b[m\u001b[1;30;43mr\u001b[m\u001b[1;30;43my\u001b[m \u001b[1;30;43mn\u001b[m\u001b[1;30;43mo\u001b[m\u001b[1;30;43md\u001b[m\u001b[1;30;43me\u001b[m \u001b[1;30;43mh\u001b[m\u001b[1;30;43ma\u001b[m\u001b[1;30;43ms\u001b[m \u001b[1;30;43mo\u001b[m\u001b[1;30;43mn\u001b[m\u001b[1;30;43me\u001b[m \u001b[1;30;43mp\u001b[m\u001b[1;30;43ma\u001b[m\u001b[1;30;43mr\u001b[m\u001b[1;30;43me\u001b[m\u001b[1;30;43mn\u001b[m\u001b[1;30;43mt\u001b[m (\u001b[1;30;43me\u001b[m\u001b[1;30;43mx\u001b[m\u001b[1;30;43mc\u001b[m\u001b[1;30;43me\u001b[m\u001b[1;30;43mp\u001b[m\u001b[1;30;43mt\u001b[m \u001b[1;30;43mt\u001b[m\u001b[1;30;43mh\u001b[m\u001b[1;30;43me\u001b[m \u001b[1;30;43mr\u001b[m\u001b[1;30;43mo\u001b[m\u001b[1;30;43mo\u001b[m\u001b[1;30;43mt\u001b[m, \u001b[1;30;43mw\u001b[m\u001b[1;30;43mh\u001b[m\u001b[1;30;43mi\u001b[m\u001b[1;30;43mc\u001b[m\u001b[1;30;43mh\u001b[m \u001b[1;30;43mh\u001b[m\u001b[1;30;43ma\u001b[m\u001b[1;30;43ms\u001b[m \u001b[1;30;43mn\u001b[m\u001b[1;30;43mo\u001b[m\u001b[1;30;43mn\u001b[m\u001b[1;30;43me\u001b[m). \u001b[1;30;43mT\u001b[m\u001b[1;30;43mo\u001b[m \u001b[1;30;43ml\u001b[m\u001b[1;30;43me\u001b[m\u001b[1;30;43ma\u001b[m\u001b[1;30;43mr\u001b[m\u001b[1;30;43mn\u001b[m \u001b[1;30;43mm\u001b[m\u001b[1;30;43mo\u001b[m\u001b[1;30;43mr\u001b[m\u001b[1;30;43me\u001b[m, \u001b[1;30;43mv\u001b[m\u001b[1;30;43mi\u001b[m\u001b[1;30;43ms\u001b[m\u001b[1;30;43mi\u001b[m\u001b[1;30;43mt\u001b[m \u001b[1;30;43mw\u001b[m\u001b[1;30;43mw\u001b[m\u001b[1;30;43mw\u001b[m.\u001b[1;30;43me\u001b[m\u001b[1;30;43mx\u001b[m\u001b[1;30;43ma\u001b[m\u001b[1;30;43mm\u001b[m\u001b[1;30;43mp\u001b[m\u001b[1;30;43ml\u001b[m\u001b[1;30;43me\u001b[m.\u001b[1;30;43mc\u001b[m\u001b[1;30;43mo\u001b[m\u001b[1;30;43mm\u001b[m \u001b[1;30;43mo\u001b[m\u001b[1;30;43mr\u001b[m \u001b[1;30;43mc\u001b[m\u001b[1;30;43ma\u001b[m\u001b[1;30;43ml\u001b[m\u001b[1;30;43ml\u001b[m \u001b[1;30;43m1\u001b[m\u001b[1;30;43m-\u001b[m\u001b[1;30;43m6\u001b[m\u001b[1;30;43m0\u001b[m\u001b[1;30;43m8\u001b[m\u001b[1;30;43m-\u001b[m\u001b[1;30;43m1\u001b[m\u001b[1;30;43m2\u001b[m\u001b[1;30;43m3\u001b[m\u001b[1;30;43m-\u001b[m\u001b[1;30;43m4\u001b[m\u001b[1;30;43m5\u001b[m\u001b[1;30;43m6\u001b[m\u001b[1;30;43m7\u001b[m. :)\n"
     ]
    }
   ],
   "source": [
    "# negative character class\n",
    "reg(r\"[^,.(): ]\", s1)"
   ]
  },
  {
   "cell_type": "code",
   "execution_count": 18,
   "metadata": {},
   "outputs": [
    {
     "name": "stdout",
     "output_type": "stream",
     "text": [
      "A DAG is a directed graph without cycles. A tree is a DAG where every node has one parent (except the root, which has none). To learn more, visit www.example.com or call \u001b[1;30;43m1\u001b[m-\u001b[1;30;43m6\u001b[m\u001b[1;30;43m0\u001b[m\u001b[1;30;43m8\u001b[m-\u001b[1;30;43m1\u001b[m\u001b[1;30;43m2\u001b[m\u001b[1;30;43m3\u001b[m-\u001b[1;30;43m4\u001b[m\u001b[1;30;43m5\u001b[m\u001b[1;30;43m6\u001b[m\u001b[1;30;43m7\u001b[m. :)\n"
     ]
    }
   ],
   "source": [
    "# meta characters\n",
    "reg(r\"\\d\", s1)"
   ]
  },
  {
   "cell_type": "code",
   "execution_count": 19,
   "metadata": {},
   "outputs": [
    {
     "name": "stdout",
     "output_type": "stream",
     "text": [
      "\u001b[1;30;43mA\u001b[m\u001b[1;30;43m \u001b[m\u001b[1;30;43mD\u001b[m\u001b[1;30;43mA\u001b[m\u001b[1;30;43mG\u001b[m\u001b[1;30;43m \u001b[m\u001b[1;30;43mi\u001b[m\u001b[1;30;43ms\u001b[m\u001b[1;30;43m \u001b[m\u001b[1;30;43ma\u001b[m\u001b[1;30;43m \u001b[m\u001b[1;30;43md\u001b[m\u001b[1;30;43mi\u001b[m\u001b[1;30;43mr\u001b[m\u001b[1;30;43me\u001b[m\u001b[1;30;43mc\u001b[m\u001b[1;30;43mt\u001b[m\u001b[1;30;43me\u001b[m\u001b[1;30;43md\u001b[m\u001b[1;30;43m \u001b[m\u001b[1;30;43mg\u001b[m\u001b[1;30;43mr\u001b[m\u001b[1;30;43ma\u001b[m\u001b[1;30;43mp\u001b[m\u001b[1;30;43mh\u001b[m\u001b[1;30;43m \u001b[m\u001b[1;30;43mw\u001b[m\u001b[1;30;43mi\u001b[m\u001b[1;30;43mt\u001b[m\u001b[1;30;43mh\u001b[m\u001b[1;30;43mo\u001b[m\u001b[1;30;43mu\u001b[m\u001b[1;30;43mt\u001b[m\u001b[1;30;43m \u001b[m\u001b[1;30;43mc\u001b[m\u001b[1;30;43my\u001b[m\u001b[1;30;43mc\u001b[m\u001b[1;30;43ml\u001b[m\u001b[1;30;43me\u001b[m\u001b[1;30;43ms\u001b[m\u001b[1;30;43m.\u001b[m\u001b[1;30;43m \u001b[m\u001b[1;30;43mA\u001b[m\u001b[1;30;43m \u001b[m\u001b[1;30;43mt\u001b[m\u001b[1;30;43mr\u001b[m\u001b[1;30;43me\u001b[m\u001b[1;30;43me\u001b[m\u001b[1;30;43m \u001b[m\u001b[1;30;43mi\u001b[m\u001b[1;30;43ms\u001b[m\u001b[1;30;43m \u001b[m\u001b[1;30;43ma\u001b[m\u001b[1;30;43m \u001b[m\u001b[1;30;43mD\u001b[m\u001b[1;30;43mA\u001b[m\u001b[1;30;43mG\u001b[m\u001b[1;30;43m \u001b[m\u001b[1;30;43mw\u001b[m\u001b[1;30;43mh\u001b[m\u001b[1;30;43me\u001b[m\u001b[1;30;43mr\u001b[m\u001b[1;30;43me\u001b[m\u001b[1;30;43m \u001b[m\u001b[1;30;43me\u001b[m\u001b[1;30;43mv\u001b[m\u001b[1;30;43me\u001b[m\u001b[1;30;43mr\u001b[m\u001b[1;30;43my\u001b[m\u001b[1;30;43m \u001b[m\u001b[1;30;43mn\u001b[m\u001b[1;30;43mo\u001b[m\u001b[1;30;43md\u001b[m\u001b[1;30;43me\u001b[m\u001b[1;30;43m \u001b[m\u001b[1;30;43mh\u001b[m\u001b[1;30;43ma\u001b[m\u001b[1;30;43ms\u001b[m\u001b[1;30;43m \u001b[m\u001b[1;30;43mo\u001b[m\u001b[1;30;43mn\u001b[m\u001b[1;30;43me\u001b[m\u001b[1;30;43m \u001b[m\u001b[1;30;43mp\u001b[m\u001b[1;30;43ma\u001b[m\u001b[1;30;43mr\u001b[m\u001b[1;30;43me\u001b[m\u001b[1;30;43mn\u001b[m\u001b[1;30;43mt\u001b[m\u001b[1;30;43m \u001b[m\u001b[1;30;43m(\u001b[m\u001b[1;30;43me\u001b[m\u001b[1;30;43mx\u001b[m\u001b[1;30;43mc\u001b[m\u001b[1;30;43me\u001b[m\u001b[1;30;43mp\u001b[m\u001b[1;30;43mt\u001b[m\u001b[1;30;43m \u001b[m\u001b[1;30;43mt\u001b[m\u001b[1;30;43mh\u001b[m\u001b[1;30;43me\u001b[m\u001b[1;30;43m \u001b[m\u001b[1;30;43mr\u001b[m\u001b[1;30;43mo\u001b[m\u001b[1;30;43mo\u001b[m\u001b[1;30;43mt\u001b[m\u001b[1;30;43m,\u001b[m\u001b[1;30;43m \u001b[m\u001b[1;30;43mw\u001b[m\u001b[1;30;43mh\u001b[m\u001b[1;30;43mi\u001b[m\u001b[1;30;43mc\u001b[m\u001b[1;30;43mh\u001b[m\u001b[1;30;43m \u001b[m\u001b[1;30;43mh\u001b[m\u001b[1;30;43ma\u001b[m\u001b[1;30;43ms\u001b[m\u001b[1;30;43m \u001b[m\u001b[1;30;43mn\u001b[m\u001b[1;30;43mo\u001b[m\u001b[1;30;43mn\u001b[m\u001b[1;30;43me\u001b[m\u001b[1;30;43m)\u001b[m\u001b[1;30;43m.\u001b[m\u001b[1;30;43m \u001b[m\u001b[1;30;43mT\u001b[m\u001b[1;30;43mo\u001b[m\u001b[1;30;43m \u001b[m\u001b[1;30;43ml\u001b[m\u001b[1;30;43me\u001b[m\u001b[1;30;43ma\u001b[m\u001b[1;30;43mr\u001b[m\u001b[1;30;43mn\u001b[m\u001b[1;30;43m \u001b[m\u001b[1;30;43mm\u001b[m\u001b[1;30;43mo\u001b[m\u001b[1;30;43mr\u001b[m\u001b[1;30;43me\u001b[m\u001b[1;30;43m,\u001b[m\u001b[1;30;43m \u001b[m\u001b[1;30;43mv\u001b[m\u001b[1;30;43mi\u001b[m\u001b[1;30;43ms\u001b[m\u001b[1;30;43mi\u001b[m\u001b[1;30;43mt\u001b[m\u001b[1;30;43m \u001b[m\u001b[1;30;43mw\u001b[m\u001b[1;30;43mw\u001b[m\u001b[1;30;43mw\u001b[m\u001b[1;30;43m.\u001b[m\u001b[1;30;43me\u001b[m\u001b[1;30;43mx\u001b[m\u001b[1;30;43ma\u001b[m\u001b[1;30;43mm\u001b[m\u001b[1;30;43mp\u001b[m\u001b[1;30;43ml\u001b[m\u001b[1;30;43me\u001b[m\u001b[1;30;43m.\u001b[m\u001b[1;30;43mc\u001b[m\u001b[1;30;43mo\u001b[m\u001b[1;30;43mm\u001b[m\u001b[1;30;43m \u001b[m\u001b[1;30;43mo\u001b[m\u001b[1;30;43mr\u001b[m\u001b[1;30;43m \u001b[m\u001b[1;30;43mc\u001b[m\u001b[1;30;43ma\u001b[m\u001b[1;30;43ml\u001b[m\u001b[1;30;43ml\u001b[m\u001b[1;30;43m \u001b[m\u001b[1;30;43m1\u001b[m\u001b[1;30;43m-\u001b[m\u001b[1;30;43m6\u001b[m\u001b[1;30;43m0\u001b[m\u001b[1;30;43m8\u001b[m\u001b[1;30;43m-\u001b[m\u001b[1;30;43m1\u001b[m\u001b[1;30;43m2\u001b[m\u001b[1;30;43m3\u001b[m\u001b[1;30;43m-\u001b[m\u001b[1;30;43m4\u001b[m\u001b[1;30;43m5\u001b[m\u001b[1;30;43m6\u001b[m\u001b[1;30;43m7\u001b[m\u001b[1;30;43m.\u001b[m\u001b[1;30;43m \u001b[m\u001b[1;30;43m:\u001b[m\u001b[1;30;43m)\u001b[m\n"
     ]
    }
   ],
   "source": [
    "reg(r\".\", s1)"
   ]
  },
  {
   "cell_type": "code",
   "execution_count": 20,
   "metadata": {},
   "outputs": [
    {
     "name": "stdout",
     "output_type": "stream",
     "text": [
      "A DAG is a directed graph without cycles\u001b[1;30;43m.\u001b[m A tree is a DAG where every node has one parent (except the root, which has none)\u001b[1;30;43m.\u001b[m To learn more, visit www\u001b[1;30;43m.\u001b[mexample\u001b[1;30;43m.\u001b[mcom or call 1-608-123-4567\u001b[1;30;43m.\u001b[m :)\n"
     ]
    }
   ],
   "source": [
    "reg(r\"\\.\", s1)"
   ]
  },
  {
   "cell_type": "markdown",
   "metadata": {},
   "source": [
    "## Repetition"
   ]
  },
  {
   "cell_type": "code",
   "execution_count": 21,
   "metadata": {},
   "outputs": [
    {
     "name": "stdout",
     "output_type": "stream",
     "text": [
      "A DAG is a directed graph without cycles. A tree is a DAG where every node has one parent (except the root, which has none). To learn more, visit \u001b[1;30;43mwww\u001b[m.example.com or call 1-608-123-4567. :)\n"
     ]
    }
   ],
   "source": [
    "reg(r\"w{3}\", s1)"
   ]
  },
  {
   "cell_type": "code",
   "execution_count": 22,
   "metadata": {},
   "outputs": [
    {
     "name": "stdout",
     "output_type": "stream",
     "text": [
      "A DAG is a directed graph without cycles. A tree is a DAG where every node has one parent (except the root, which has none). To learn more, visit \u001b[1;30;43mww\u001b[mw.example.com or call 1-608-123-4567. :)\n"
     ]
    }
   ],
   "source": [
    "reg(r\"w{2}\", s1)"
   ]
  },
  {
   "cell_type": "code",
   "execution_count": 23,
   "metadata": {},
   "outputs": [
    {
     "name": "stdout",
     "output_type": "stream",
     "text": [
      "\u001b[1;30;43mA DAG is a directed graph without cycles. A tree is a DAG where every node has one parent (except the root, which has none). To learn more, visit www.example.com or call 1-608-123-4567. :)\u001b[m\u001b[1;30;43m\u001b[m\n"
     ]
    }
   ],
   "source": [
    "reg(r\"(.*)\", s1)"
   ]
  },
  {
   "cell_type": "code",
   "execution_count": 24,
   "metadata": {},
   "outputs": [
    {
     "name": "stdout",
     "output_type": "stream",
     "text": [
      "A DAG is a directed graph without cycles. A tree is a DAG where every node has one parent \u001b[1;30;43m(except the root, which has none). To learn more, visit www.example.com or call 1-608-123-4567. :)\u001b[m\n"
     ]
    }
   ],
   "source": [
    "reg(r\"\\(.*\\)\", s1)"
   ]
  },
  {
   "cell_type": "code",
   "execution_count": 25,
   "metadata": {},
   "outputs": [
    {
     "name": "stdout",
     "output_type": "stream",
     "text": [
      "A DAG is a directed graph without cycles. A tree is a DAG where every node has one parent \u001b[1;30;43m(except the root, which has none)\u001b[m. To learn more, visit www.example.com or call 1-608-123-4567. :)\n"
     ]
    }
   ],
   "source": [
    "reg(r\"\\(.*?\\)\", s1)"
   ]
  },
  {
   "cell_type": "markdown",
   "metadata": {},
   "source": [
    "## Anchoring\n",
    "\n",
    "1st sentence, 1st two, last word."
   ]
  },
  {
   "cell_type": "code",
   "execution_count": 26,
   "metadata": {},
   "outputs": [
    {
     "name": "stdout",
     "output_type": "stream",
     "text": [
      "\u001b[1;30;43mA DAG is a directed graph without cycles.\u001b[m\u001b[1;30;43m A tree is a DAG where every node has one parent (except the root, which has none).\u001b[m\u001b[1;30;43m To learn more, visit www.\u001b[m\u001b[1;30;43mexample.\u001b[m\u001b[1;30;43mcom or call 1-608-123-4567.\u001b[m :)\n"
     ]
    }
   ],
   "source": [
    "reg(r\"[^\\.]*\\.\", s1) # first escaping not necessary!"
   ]
  },
  {
   "cell_type": "code",
   "execution_count": 27,
   "metadata": {},
   "outputs": [
    {
     "name": "stdout",
     "output_type": "stream",
     "text": [
      "\u001b[1;30;43mA DAG is a directed graph without cycles.\u001b[m A tree is a DAG where every node has one parent (except the root, which has none). To learn more, visit www.example.com or call 1-608-123-4567. :)\n"
     ]
    }
   ],
   "source": [
    "reg(r\"^[^\\.]*\\.\", s1)"
   ]
  },
  {
   "cell_type": "code",
   "execution_count": 28,
   "metadata": {},
   "outputs": [
    {
     "name": "stdout",
     "output_type": "stream",
     "text": [
      "\u001b[1;30;43mA DAG is a directed graph without cycles. A tree is a DAG where every node has one parent (except the root, which has none).\u001b[m To learn more, visit www.example.com or call 1-608-123-4567. :)\n"
     ]
    }
   ],
   "source": [
    "reg(r\"^([^\\.]*\\.){2}\", s1)"
   ]
  },
  {
   "cell_type": "code",
   "execution_count": 29,
   "metadata": {},
   "outputs": [
    {
     "name": "stdout",
     "output_type": "stream",
     "text": [
      "A DAG is a directed graph without cycles. A tree is a DAG where every node has one parent (except the root, which has none). To learn more, visit www.example.com or call 1-608-123-4567.\u001b[1;30;43m :)\u001b[m\n"
     ]
    }
   ],
   "source": [
    "reg(r\"\\s[^\\s]+$\", s1)"
   ]
  },
  {
   "cell_type": "markdown",
   "metadata": {},
   "source": [
    "## Practice: Phone Numbers"
   ]
  },
  {
   "cell_type": "code",
   "execution_count": 30,
   "metadata": {},
   "outputs": [
    {
     "name": "stdout",
     "output_type": "stream",
     "text": [
      "A DAG is a directed graph without cycles. A tree is a DAG where every node has one parent (except the root, which has none). To learn more, visit www.example.com or call \u001b[1;30;43m1-608-123-4567\u001b[m. :)\n"
     ]
    }
   ],
   "source": [
    "reg(r\".-.{3}-.{3}-.{4}\", s1)"
   ]
  },
  {
   "cell_type": "code",
   "execution_count": 31,
   "metadata": {},
   "outputs": [
    {
     "name": "stdout",
     "output_type": "stream",
     "text": [
      "\u001b[1;30;43m1-608-123-4567\u001b[m\n",
      "\u001b[1;30;43ma-bcd-efg-hijg\u001b[m (not a phone number)\n",
      "\u001b[1;30;43m1-608-123-456 \u001b[m(not a phone number)\n",
      "608-123-4567\n",
      "123-4567\n",
      "\n"
     ]
    }
   ],
   "source": [
    "reg(r\".-.{3}-.{3}-.{4}\", s2)"
   ]
  },
  {
   "cell_type": "code",
   "execution_count": 32,
   "metadata": {},
   "outputs": [
    {
     "name": "stdout",
     "output_type": "stream",
     "text": [
      "\u001b[1;30;43m1-608-123-4567\u001b[m\n",
      "a-bcd-efg-hijg (not a phone number)\n",
      "1-608-123-456 (not a phone number)\n",
      "608-123-4567\n",
      "123-4567\n",
      "\n"
     ]
    }
   ],
   "source": [
    "reg(r\"\\d-\\d{3}-\\d{3}-\\d{4}\", s2)"
   ]
  },
  {
   "cell_type": "code",
   "execution_count": 33,
   "metadata": {},
   "outputs": [
    {
     "name": "stdout",
     "output_type": "stream",
     "text": [
      "\u001b[1;30;43m1-608-123-4567\u001b[m\n",
      "a-bcd-efg-hijg (not a phone number)\n",
      "1-608-123-456 (not a phone number)\n",
      "\u001b[1;30;43m608-123-4567\u001b[m\n",
      "\u001b[1;30;43m123-4567\u001b[m\n",
      "\n"
     ]
    }
   ],
   "source": [
    "reg(r\"((\\d-)?\\d{3}-)?\\d{3}-\\d{4}\", s2)"
   ]
  },
  {
   "cell_type": "markdown",
   "metadata": {},
   "source": [
    "## Part 2: Regex in Python"
   ]
  },
  {
   "cell_type": "code",
   "execution_count": 34,
   "metadata": {},
   "outputs": [],
   "source": [
    "import re"
   ]
  },
  {
   "cell_type": "code",
   "execution_count": 35,
   "metadata": {},
   "outputs": [
    {
     "data": {
      "text/plain": [
       "'In CS 320, there are 2 exams, 6 projects, 41 lectures, and 1000 things to learn.  CS 320 is awesome!'"
      ]
     },
     "execution_count": 35,
     "metadata": {},
     "output_type": "execute_result"
    }
   ],
   "source": [
    "s3"
   ]
  },
  {
   "cell_type": "code",
   "execution_count": 36,
   "metadata": {},
   "outputs": [
    {
     "data": {
      "text/plain": [
       "[('2 exams', '2', 'exams'),\n",
       " ('6 projects', '6', 'projects'),\n",
       " ('41 lectures', '41', 'lectures'),\n",
       " ('1000 things', '1000', 'things'),\n",
       " ('320 is', '320', 'is')]"
      ]
     },
     "execution_count": 36,
     "metadata": {},
     "output_type": "execute_result"
    }
   ],
   "source": [
    "re.findall(r\"((\\d+) (\\w+))\", s3)"
   ]
  },
  {
   "cell_type": "code",
   "execution_count": 37,
   "metadata": {},
   "outputs": [
    {
     "data": {
      "text/plain": [
       "[<re.Match object; span=(30, 40), match='6 projects'>]"
      ]
     },
     "execution_count": 37,
     "metadata": {},
     "output_type": "execute_result"
    }
   ],
   "source": [
    "list(re.finditer(r\"(\\d+) (projects)\", s3))"
   ]
  },
  {
   "cell_type": "code",
   "execution_count": 38,
   "metadata": {},
   "outputs": [
    {
     "data": {
      "text/plain": [
       "'In CS ###, there are ### exams, ### projects, ### lectures, and ### things to learn.  CS ### is awesome!'"
      ]
     },
     "execution_count": 38,
     "metadata": {},
     "output_type": "execute_result"
    }
   ],
   "source": [
    "re.sub(r\"\\d+\", \"###\", s3)"
   ]
  },
  {
   "cell_type": "code",
   "execution_count": 39,
   "metadata": {},
   "outputs": [
    {
     "data": {
      "text/plain": [
       "'In CS 3|2|0|, there are 2| exams, 6| projects, 4|1| lectures, and 1|0|0|0| things to learn.  CS 3|2|0| is awesome!'"
      ]
     },
     "execution_count": 39,
     "metadata": {},
     "output_type": "execute_result"
    }
   ],
   "source": [
    "re.sub(r\"(\\d)\", \"\\g<1>|\", s3)"
   ]
  },
  {
   "cell_type": "code",
   "execution_count": 40,
   "metadata": {},
   "outputs": [
    {
     "data": {
      "text/plain": [
       "['320', '2', '6', '41', '1000', '320']"
      ]
     },
     "execution_count": 40,
     "metadata": {},
     "output_type": "execute_result"
    }
   ],
   "source": [
    "re.findall(r\"\\d+\", s3)"
   ]
  },
  {
   "cell_type": "code",
   "execution_count": 41,
   "metadata": {},
   "outputs": [
    {
     "data": {
      "text/plain": [
       "'In CS ###, there are ### exams, ### projects, ### lectures, and ### things to learn.  CS ### is awesome!'"
      ]
     },
     "execution_count": 41,
     "metadata": {},
     "output_type": "execute_result"
    }
   ],
   "source": [
    "re.sub(r\"\\d+\", \"###\", s3)"
   ]
  },
  {
   "cell_type": "code",
   "execution_count": 42,
   "metadata": {},
   "outputs": [
    {
     "name": "stdout",
     "output_type": "stream",
     "text": [
      "In CS 320,  there are 2 exams,    6 projects,\n",
      "41 lectures, and 1000 things to learn.  CS 320 is awesome!\n"
     ]
    }
   ],
   "source": [
    "s4 = \"\"\"In CS 320,  there are 2 exams,    6 projects,\n",
    "41 lectures, and 1000 things to learn.  CS 320 is awesome!\"\"\"\n",
    "print(s4)"
   ]
  },
  {
   "cell_type": "code",
   "execution_count": 43,
   "metadata": {},
   "outputs": [
    {
     "name": "stdout",
     "output_type": "stream",
     "text": [
      "In CS <b>320</b>, there are <b>2</b> exams, <b>6</b> projects, <b>41</b> lectures, and <b>1000</b> things to learn.  CS <b>320</b> is awesome!\n"
     ]
    }
   ],
   "source": [
    "s = s3\n",
    "print(re.sub(r\"(\\d+)\", r\"<b>\\g<1></b>\", s))"
   ]
  },
  {
   "cell_type": "code",
   "execution_count": 44,
   "metadata": {},
   "outputs": [
    {
     "data": {
      "text/html": [
       "In CS <b>320</b>, there are <b>2</b> exams, <b>6</b> projects, <b>41</b> lectures, and <b>1000</b> things to learn.  CS <b>320</b> is awesome!"
      ],
      "text/plain": [
       "<IPython.core.display.HTML object>"
      ]
     },
     "execution_count": 44,
     "metadata": {},
     "output_type": "execute_result"
    }
   ],
   "source": [
    "from IPython.core.display import HTML\n",
    "HTML(re.sub(r\"(\\d+)\", r\"<b>\\g<1></b>\", s))"
   ]
  },
  {
   "cell_type": "code",
   "execution_count": 45,
   "metadata": {},
   "outputs": [],
   "source": [
    "import re\n",
    "\n",
    "# from DS100\n",
    "def reg(text, regex):\n",
    "    \"\"\"\n",
    "    Prints the string with the regex match highlighted.\n",
    "    \"\"\"\n",
    "    print(re.sub(f'({regex})', r'\\033[1;30;43m\\1\\033[m', text))\n",
    "\n",
    "s1 = \" \".join([\n",
    "  \"A DAG is a directed graph without cycles.\",\n",
    "  \"A tree is a DAG where every node has one parent (except the root, which has none).\",\n",
    "  \"To learn more, visit www.example.com or call 1-608-123-4567. :)\"])\n",
    "\n",
    "s2 = \"\"\"1-608-123-4567\n",
    "a-bcd-efg-hijg (not a phone number)\n",
    "1-608-123-456 (not a phone number)\n",
    "608-123-4567\n",
    "123-4567\n",
    "\"\"\"\n",
    "\n",
    "s3 = \"In CS 320, there are 2 exams, 6 projects, 41 lectures, and 1000 things to learn.  CS 320 is awesome!\""
   ]
  },
  {
   "cell_type": "code",
   "execution_count": 46,
   "metadata": {},
   "outputs": [
    {
     "name": "stdout",
     "output_type": "stream",
     "text": [
      "A DAG is a directed graph without cycles. A tree is a DAG where every node has one parent (except the root, which has none). To learn more, visit www.example.com or call \u001b[1;30;43m1\u001b[m-\u001b[1;30;43m6\u001b[m\u001b[1;30;43m0\u001b[m\u001b[1;30;43m8\u001b[m-\u001b[1;30;43m1\u001b[m\u001b[1;30;43m2\u001b[m\u001b[1;30;43m3\u001b[m-\u001b[1;30;43m4\u001b[m\u001b[1;30;43m5\u001b[m\u001b[1;30;43m6\u001b[m\u001b[1;30;43m7\u001b[m. :)\n"
     ]
    }
   ],
   "source": [
    "reg(s1, r\"\\d\")"
   ]
  },
  {
   "cell_type": "code",
   "execution_count": null,
   "metadata": {},
   "outputs": [],
   "source": []
  }
 ],
 "metadata": {
  "kernelspec": {
   "display_name": "Python 3",
   "language": "python",
   "name": "python3"
  },
  "language_info": {
   "codemirror_mode": {
    "name": "ipython",
    "version": 3
   },
   "file_extension": ".py",
   "mimetype": "text/x-python",
   "name": "python",
   "nbconvert_exporter": "python",
   "pygments_lexer": "ipython3",
   "version": "3.7.2"
  }
 },
 "nbformat": 4,
 "nbformat_minor": 2
}
