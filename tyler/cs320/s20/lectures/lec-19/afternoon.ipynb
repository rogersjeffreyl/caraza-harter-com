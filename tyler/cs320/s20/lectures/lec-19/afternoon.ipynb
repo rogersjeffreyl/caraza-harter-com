{
 "cells": [
  {
   "cell_type": "code",
   "execution_count": 1,
   "metadata": {},
   "outputs": [
    {
     "data": {
      "text/html": [
       "<style>.container { width:100% !important; }</style>"
      ],
      "text/plain": [
       "<IPython.core.display.HTML object>"
      ]
     },
     "metadata": {},
     "output_type": "display_data"
    }
   ],
   "source": [
    "from IPython.core.display import display, HTML\n",
    "display(HTML(\"<style>.container { width:100% !important; }</style>\"))"
   ]
  },
  {
   "cell_type": "code",
   "execution_count": 2,
   "metadata": {},
   "outputs": [],
   "source": [
    "from selenium import webdriver\n",
    "from selenium.webdriver.chrome.options import Options\n",
    "from selenium.common.exceptions import NoSuchElementException\n",
    "\n",
    "options = Options()\n",
    "#options.headless = True\n",
    "b = webdriver.Chrome(options=options)"
   ]
  },
  {
   "cell_type": "code",
   "execution_count": 11,
   "metadata": {},
   "outputs": [],
   "source": [
    "import time"
   ]
  },
  {
   "cell_type": "code",
   "execution_count": 13,
   "metadata": {},
   "outputs": [
    {
     "name": "stdout",
     "output_type": "stream",
     "text": [
      "still waiting\n",
      "still waiting\n",
      "still waiting\n",
      "still waiting\n",
      "<html xmlns=\"http://www.w3.org/1999/xhtml\"><head>\n",
      "    <script src=\"https://code.jquery.com/jquery-3.4.1.js\"></script>\n",
      "    <script>\n",
      "      function addTable() {\n",
      "        var html = \"&lt;table border=1 id='coords'&gt;\\n\";\n",
      "        html += \"&lt;tr&gt;&lt;td&gt;x&lt;/td&gt;&lt;td&gt;y&lt;/td&gt;&lt;/tr&gt;\\n\";\n",
      "        for (i = 0; i &lt; 10; i++) {\n",
      "          html += \"&lt;tr&gt;&lt;td&gt;\" + (i*2) + \"&lt;/td&gt;&lt;td&gt;\" + (i*2+1) + \"&lt;/td&gt;&lt;/tr&gt;\\n\";\n",
      "        }\n",
      "        html += \"&lt;/table&gt;\";\n",
      "\n",
      "        var t = document.createElement(\"div\");\n",
      "        t.innerHTML = html;\n",
      "        document.body.appendChild(t);\n",
      "      }\n",
      "      \n",
      "      function main() {\n",
      "        setTimeout(addTable, 1000)\n",
      "      }\n",
      "      </script>\n",
      "  </head>\n",
      "  <body onload=\"main()\">\n",
      "    <h1>Welcome</h1>\n",
      "    <h3>Here's a table</h3>\n",
      "    <table border=\"1\" id=\"alpha\">\n",
      "      <tbody><tr><td>A</td><td>B</td><td>C</td></tr>\n",
      "      <tr><td>1</td><td>2</td><td>3</td></tr>\n",
      "      <tr><td>4</td><td>5</td><td>6</td></tr>\n",
      "    </tbody></table>\n",
      "\n",
      "    <h3>And another one...</h3>\n",
      "  \n",
      "\n",
      "<div><table border=\"1\" id=\"coords\">\n",
      "<tbody><tr><td>x</td><td>y</td></tr>\n",
      "<tr><td>0</td><td>1</td></tr>\n",
      "<tr><td>2</td><td>3</td></tr>\n",
      "<tr><td>4</td><td>5</td></tr>\n",
      "<tr><td>6</td><td>7</td></tr>\n",
      "<tr><td>8</td><td>9</td></tr>\n",
      "<tr><td>10</td><td>11</td></tr>\n",
      "<tr><td>12</td><td>13</td></tr>\n",
      "<tr><td>14</td><td>15</td></tr>\n",
      "<tr><td>16</td><td>17</td></tr>\n",
      "<tr><td>18</td><td>19</td></tr>\n",
      "</tbody></table></div></body></html>\n"
     ]
    }
   ],
   "source": [
    "b.get(\"https://tyler.caraza-harter.com/cs320/s20/materials/lec-19/page1.html\")\n",
    "\n",
    "# poll (check) until we have the data\n",
    "for i in range(40):\n",
    "    try:\n",
    "        b.find_element_by_id(\"coords\")\n",
    "        break\n",
    "    except NoSuchElementException:\n",
    "        print(\"still waiting\")\n",
    "        time.sleep(0.25)\n",
    "\n",
    "print(b.page_source)"
   ]
  },
  {
   "cell_type": "code",
   "execution_count": 16,
   "metadata": {},
   "outputs": [],
   "source": [
    "from bs4 import BeautifulSoup\n",
    "page = BeautifulSoup(b.page_source)\n",
    "tbls = page.find_all(\"table\")\n",
    "assert len(tbls) == 2"
   ]
  },
  {
   "cell_type": "code",
   "execution_count": 22,
   "metadata": {},
   "outputs": [],
   "source": [
    "rows = []\n",
    "for tr in tbls[1].find_all(\"tr\"):\n",
    "    rows.append([td.get_text() for td in tr.find_all(\"td\")])"
   ]
  },
  {
   "cell_type": "code",
   "execution_count": 24,
   "metadata": {},
   "outputs": [
    {
     "data": {
      "text/html": [
       "<div>\n",
       "<style scoped>\n",
       "    .dataframe tbody tr th:only-of-type {\n",
       "        vertical-align: middle;\n",
       "    }\n",
       "\n",
       "    .dataframe tbody tr th {\n",
       "        vertical-align: top;\n",
       "    }\n",
       "\n",
       "    .dataframe thead th {\n",
       "        text-align: right;\n",
       "    }\n",
       "</style>\n",
       "<table border=\"1\" class=\"dataframe\">\n",
       "  <thead>\n",
       "    <tr style=\"text-align: right;\">\n",
       "      <th></th>\n",
       "      <th>x</th>\n",
       "      <th>y</th>\n",
       "    </tr>\n",
       "  </thead>\n",
       "  <tbody>\n",
       "    <tr>\n",
       "      <th>0</th>\n",
       "      <td>0</td>\n",
       "      <td>1</td>\n",
       "    </tr>\n",
       "    <tr>\n",
       "      <th>1</th>\n",
       "      <td>2</td>\n",
       "      <td>3</td>\n",
       "    </tr>\n",
       "    <tr>\n",
       "      <th>2</th>\n",
       "      <td>4</td>\n",
       "      <td>5</td>\n",
       "    </tr>\n",
       "    <tr>\n",
       "      <th>3</th>\n",
       "      <td>6</td>\n",
       "      <td>7</td>\n",
       "    </tr>\n",
       "    <tr>\n",
       "      <th>4</th>\n",
       "      <td>8</td>\n",
       "      <td>9</td>\n",
       "    </tr>\n",
       "    <tr>\n",
       "      <th>5</th>\n",
       "      <td>10</td>\n",
       "      <td>11</td>\n",
       "    </tr>\n",
       "    <tr>\n",
       "      <th>6</th>\n",
       "      <td>12</td>\n",
       "      <td>13</td>\n",
       "    </tr>\n",
       "    <tr>\n",
       "      <th>7</th>\n",
       "      <td>14</td>\n",
       "      <td>15</td>\n",
       "    </tr>\n",
       "    <tr>\n",
       "      <th>8</th>\n",
       "      <td>16</td>\n",
       "      <td>17</td>\n",
       "    </tr>\n",
       "    <tr>\n",
       "      <th>9</th>\n",
       "      <td>18</td>\n",
       "      <td>19</td>\n",
       "    </tr>\n",
       "  </tbody>\n",
       "</table>\n",
       "</div>"
      ],
      "text/plain": [
       "    x   y\n",
       "0   0   1\n",
       "1   2   3\n",
       "2   4   5\n",
       "3   6   7\n",
       "4   8   9\n",
       "5  10  11\n",
       "6  12  13\n",
       "7  14  15\n",
       "8  16  17\n",
       "9  18  19"
      ]
     },
     "execution_count": 24,
     "metadata": {},
     "output_type": "execute_result"
    }
   ],
   "source": [
    "import pandas as pd\n",
    "pd.DataFrame(rows[1:], columns=rows[0])"
   ]
  },
  {
   "cell_type": "code",
   "execution_count": null,
   "metadata": {},
   "outputs": [],
   "source": []
  }
 ],
 "metadata": {
  "kernelspec": {
   "display_name": "Python 3",
   "language": "python",
   "name": "python3"
  },
  "language_info": {
   "codemirror_mode": {
    "name": "ipython",
    "version": 3
   },
   "file_extension": ".py",
   "mimetype": "text/x-python",
   "name": "python",
   "nbconvert_exporter": "python",
   "pygments_lexer": "ipython3",
   "version": "3.7.2"
  }
 },
 "nbformat": 4,
 "nbformat_minor": 2
}
