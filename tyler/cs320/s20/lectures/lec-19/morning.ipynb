{
 "cells": [
  {
   "cell_type": "code",
   "execution_count": 21,
   "metadata": {},
   "outputs": [
    {
     "data": {
      "text/html": [
       "<style>.container { width:100% !important; }</style>"
      ],
      "text/plain": [
       "<IPython.core.display.HTML object>"
      ]
     },
     "metadata": {},
     "output_type": "display_data"
    }
   ],
   "source": [
    "from IPython.core.display import display, HTML\n",
    "display(HTML(\"<style>.container { width:100% !important; }</style>\"))"
   ]
  },
  {
   "cell_type": "code",
   "execution_count": 31,
   "metadata": {},
   "outputs": [],
   "source": [
    "from selenium import webdriver\n",
    "from selenium.webdriver.chrome.options import Options\n",
    "from selenium.common.exceptions import NoSuchElementException\n",
    "\n",
    "options = Options()\n",
    "#options.headless = True\n",
    "b = webdriver.Chrome(options=options)"
   ]
  },
  {
   "cell_type": "code",
   "execution_count": 32,
   "metadata": {},
   "outputs": [],
   "source": [
    "import time"
   ]
  },
  {
   "cell_type": "code",
   "execution_count": 33,
   "metadata": {},
   "outputs": [
    {
     "name": "stdout",
     "output_type": "stream",
     "text": [
      "keep checking\n",
      "keep checking\n",
      "keep checking\n",
      "keep checking\n",
      "keep checking\n",
      "keep checking\n",
      "keep checking\n",
      "keep checking\n",
      "keep checking\n"
     ]
    },
    {
     "data": {
      "text/plain": [
       "<selenium.webdriver.remote.webelement.WebElement (session=\"7c2b162eaf8651e875a2a99762e37592\", element=\"0.8490570709919021-1\")>"
      ]
     },
     "execution_count": 33,
     "metadata": {},
     "output_type": "execute_result"
    }
   ],
   "source": [
    "b.get(\"https://tyler.caraza-harter.com/cs320/s20/materials/lec-19/page1.html\")\n",
    "# keep looking for table, up to 5 seconds\n",
    "for i in range(50):\n",
    "    try:\n",
    "        tbl = b.find_element_by_id(\"coords\")\n",
    "        break\n",
    "    except NoSuchElementException:\n",
    "        print(\"keep checking\")\n",
    "        pass\n",
    "    time.sleep(0.1)\n",
    "tbl"
   ]
  },
  {
   "cell_type": "code",
   "execution_count": 25,
   "metadata": {},
   "outputs": [],
   "source": [
    "from bs4 import BeautifulSoup\n",
    "page = BeautifulSoup(b.page_source, \"html.parser\")"
   ]
  },
  {
   "cell_type": "code",
   "execution_count": 26,
   "metadata": {},
   "outputs": [],
   "source": [
    "tbls = page.find_all(\"table\")\n",
    "assert len(tbls) == 2"
   ]
  },
  {
   "cell_type": "code",
   "execution_count": 27,
   "metadata": {},
   "outputs": [
    {
     "data": {
      "text/plain": [
       "11"
      ]
     },
     "execution_count": 27,
     "metadata": {},
     "output_type": "execute_result"
    }
   ],
   "source": [
    "trs = tbls[1].find_all(\"tr\")\n",
    "len(trs)"
   ]
  },
  {
   "cell_type": "code",
   "execution_count": 28,
   "metadata": {},
   "outputs": [
    {
     "data": {
      "text/plain": [
       "[['x', 'y'],\n",
       " ['0', '1'],\n",
       " ['2', '3'],\n",
       " ['4', '5'],\n",
       " ['6', '7'],\n",
       " ['8', '9'],\n",
       " ['10', '11'],\n",
       " ['12', '13'],\n",
       " ['14', '15'],\n",
       " ['16', '17'],\n",
       " ['18', '19']]"
      ]
     },
     "execution_count": 28,
     "metadata": {},
     "output_type": "execute_result"
    }
   ],
   "source": [
    "rows = [tr.find_all(\"td\") for tr in trs]\n",
    "for i in range(len(rows)):\n",
    "    rows[i] = [td.get_text() for td in rows[i]]\n",
    "rows"
   ]
  },
  {
   "cell_type": "code",
   "execution_count": 29,
   "metadata": {},
   "outputs": [
    {
     "data": {
      "text/html": [
       "<div>\n",
       "<style scoped>\n",
       "    .dataframe tbody tr th:only-of-type {\n",
       "        vertical-align: middle;\n",
       "    }\n",
       "\n",
       "    .dataframe tbody tr th {\n",
       "        vertical-align: top;\n",
       "    }\n",
       "\n",
       "    .dataframe thead th {\n",
       "        text-align: right;\n",
       "    }\n",
       "</style>\n",
       "<table border=\"1\" class=\"dataframe\">\n",
       "  <thead>\n",
       "    <tr style=\"text-align: right;\">\n",
       "      <th></th>\n",
       "      <th>x</th>\n",
       "      <th>y</th>\n",
       "    </tr>\n",
       "  </thead>\n",
       "  <tbody>\n",
       "    <tr>\n",
       "      <th>0</th>\n",
       "      <td>0</td>\n",
       "      <td>1</td>\n",
       "    </tr>\n",
       "    <tr>\n",
       "      <th>1</th>\n",
       "      <td>2</td>\n",
       "      <td>3</td>\n",
       "    </tr>\n",
       "    <tr>\n",
       "      <th>2</th>\n",
       "      <td>4</td>\n",
       "      <td>5</td>\n",
       "    </tr>\n",
       "    <tr>\n",
       "      <th>3</th>\n",
       "      <td>6</td>\n",
       "      <td>7</td>\n",
       "    </tr>\n",
       "    <tr>\n",
       "      <th>4</th>\n",
       "      <td>8</td>\n",
       "      <td>9</td>\n",
       "    </tr>\n",
       "    <tr>\n",
       "      <th>5</th>\n",
       "      <td>10</td>\n",
       "      <td>11</td>\n",
       "    </tr>\n",
       "    <tr>\n",
       "      <th>6</th>\n",
       "      <td>12</td>\n",
       "      <td>13</td>\n",
       "    </tr>\n",
       "    <tr>\n",
       "      <th>7</th>\n",
       "      <td>14</td>\n",
       "      <td>15</td>\n",
       "    </tr>\n",
       "    <tr>\n",
       "      <th>8</th>\n",
       "      <td>16</td>\n",
       "      <td>17</td>\n",
       "    </tr>\n",
       "    <tr>\n",
       "      <th>9</th>\n",
       "      <td>18</td>\n",
       "      <td>19</td>\n",
       "    </tr>\n",
       "  </tbody>\n",
       "</table>\n",
       "</div>"
      ],
      "text/plain": [
       "    x   y\n",
       "0   0   1\n",
       "1   2   3\n",
       "2   4   5\n",
       "3   6   7\n",
       "4   8   9\n",
       "5  10  11\n",
       "6  12  13\n",
       "7  14  15\n",
       "8  16  17\n",
       "9  18  19"
      ]
     },
     "execution_count": 29,
     "metadata": {},
     "output_type": "execute_result"
    }
   ],
   "source": [
    "import pandas as pd\n",
    "pd.DataFrame(rows[1:], columns=rows[0])"
   ]
  },
  {
   "cell_type": "code",
   "execution_count": 30,
   "metadata": {},
   "outputs": [],
   "source": [
    "b.close()"
   ]
  },
  {
   "cell_type": "code",
   "execution_count": 58,
   "metadata": {},
   "outputs": [],
   "source": [
    "options = Options()\n",
    "#options.headless = True\n",
    "b = webdriver.Chrome(options=options)"
   ]
  },
  {
   "cell_type": "code",
   "execution_count": 66,
   "metadata": {},
   "outputs": [],
   "source": [
    "b.get(\"https://tyler.caraza-harter.com/cs320/s20/materials/lec-19/page2.html\")\n"
   ]
  },
  {
   "cell_type": "code",
   "execution_count": 67,
   "metadata": {},
   "outputs": [],
   "source": [
    "while True:\n",
    "    try:\n",
    "        btn = b.find_element_by_id(\"more\")\n",
    "    except NoSuchElementException:\n",
    "        break\n",
    "    btn.click()\n",
    "    time.sleep(1)"
   ]
  },
  {
   "cell_type": "code",
   "execution_count": 68,
   "metadata": {},
   "outputs": [
    {
     "data": {
      "text/plain": [
       "<table border=\"1\" id=\"hurricanes\"><tr><td>name</td><td>formed</td><td>dissipated</td><td>mph</td><td>damage</td><td>deaths</td></tr><tr><td>Baker</td><td>08/18/1950</td><td>09/01/1950</td><td>105</td><td>2.55M</td><td>38</td></tr><tr><td>Camille</td><td>08/14/1969</td><td>08/22/1969</td><td>175</td><td>1.42B</td><td>259</td></tr><tr><td>Eloise</td><td>09/13/1975</td><td>09/24/1975</td><td>125</td><td>560M</td><td>80</td></tr><tr><td>Frederic</td><td>08/29/1979</td><td>09/15/1979</td><td>130</td><td>1.77B</td><td>12</td></tr><tr><td>Elena</td><td>08/28/1985</td><td>09/04/1985</td><td>125</td><td>1.3B</td><td>9</td></tr><tr><td>Opal</td><td>09/27/1995</td><td>10/06/1995</td><td>150</td><td>4.7B</td><td>63</td></tr><tr><td>Danny</td><td>07/16/1997</td><td>07/27/1997</td><td>80</td><td>100M</td><td>4</td></tr><tr><td>Ivan</td><td>09/02/2004</td><td>09/25/2004</td><td>165</td><td>26.1B</td><td>92</td></tr><tr><td>Dennis</td><td>07/04/2005</td><td>07/18/2005</td><td>150</td><td>3.98B</td><td>76</td></tr><tr><td>Katrina</td><td>08/23/2005</td><td>08/31/2005</td><td>175</td><td>125B</td><td>1245</td></tr><tr><td>Carol</td><td>08/25/1954</td><td>09/01/1954</td><td>115</td><td>462M</td><td>72</td></tr><tr><td>Donna</td><td>08/29/1960</td><td>09/14/1960</td><td>145</td><td>980M</td><td>439</td></tr><tr><td>Gloria</td><td>09/16/1985</td><td>10/02/1985</td><td>145</td><td>900M</td><td>14</td></tr><tr><td>Bob</td><td>08/16/1991</td><td>08/29/1991</td><td>115</td><td>1.5B</td><td>15</td></tr><tr><td>Labor Day</td><td>08/29/1935</td><td>09/10/1935</td><td>185</td><td>100M</td><td>423</td></tr><tr><td>Easy</td><td>09/01/1950</td><td>09/09/1950</td><td>125</td><td>3.3M</td><td>2</td></tr><tr><td>King</td><td>10/13/1950</td><td>10/20/1950</td><td>130</td><td>32M</td><td>11</td></tr><tr><td>FLORENCE</td><td>09/23/1953</td><td>09/26/1953</td><td>115</td><td>200K</td><td>0</td></tr><tr><td>Flossy</td><td>09/21/1956</td><td>09/30/1956</td><td>90</td><td>24.9M</td><td>15</td></tr><tr><td>Cleo</td><td>08/21/1964</td><td>09/05/1964</td><td>155</td><td>187M</td><td>156</td></tr><tr><td>Dora</td><td>08/28/1964</td><td>09/14/1964</td><td>130</td><td>280M</td><td>5</td></tr><tr><td>Isbell</td><td>10/08/1964</td><td>10/19/1964</td><td>125</td><td>30M</td><td>7</td></tr><tr><td>Betsy</td><td>08/27/1965</td><td>09/13/1965</td><td>155</td><td>1.43B</td><td>81</td></tr><tr><td>Alma</td><td>06/04/1966</td><td>06/14/1966</td><td>125</td><td>210.1M</td><td>93</td></tr><tr><td>Inez</td><td>09/21/1966</td><td>10/11/1966</td><td>150</td><td>226.5M</td><td>756</td></tr><tr><td>Gladys</td><td>10/13/1968</td><td>10/21/1968</td><td>85</td><td>18.7M</td><td>8</td></tr><tr><td>Agnes</td><td>06/14/1972</td><td>07/06/1972</td><td>85</td><td>2.1B</td><td>128</td></tr><tr><td>Kate</td><td>11/15/1985</td><td>11/23/1985</td><td>120</td><td>700M</td><td>15</td></tr><tr><td>Floyd</td><td>10/09/1987</td><td>10/13/1987</td><td>75</td><td>500K</td><td>1</td></tr><tr><td>Andrew</td><td>08/16/1992</td><td>08/29/1992</td><td>175</td><td>27.3B</td><td>65</td></tr><tr><td>Erin</td><td>07/31/1995</td><td>08/06/1995</td><td>100</td><td>700M</td><td>6</td></tr><tr><td>Earl</td><td>08/31/1998</td><td>09/08/1998</td><td>100</td><td>79M</td><td>3</td></tr></table>"
      ]
     },
     "execution_count": 68,
     "metadata": {},
     "output_type": "execute_result"
    }
   ],
   "source": [
    "page = BeautifulSoup(b.page_source, \"html.parser\")\n",
    "page.find(\"table\")"
   ]
  },
  {
   "cell_type": "code",
   "execution_count": 69,
   "metadata": {},
   "outputs": [],
   "source": [
    "b.close()"
   ]
  },
  {
   "cell_type": "code",
   "execution_count": 81,
   "metadata": {},
   "outputs": [],
   "source": [
    "options = Options()\n",
    "#options.headless = True\n",
    "b = webdriver.Chrome(options=options)"
   ]
  },
  {
   "cell_type": "code",
   "execution_count": 82,
   "metadata": {},
   "outputs": [],
   "source": [
    "# page3.html\n",
    "b.get(\"https://tyler.caraza-harter.com/cs320/s20/materials/lec-19/page3.html\")"
   ]
  },
  {
   "cell_type": "code",
   "execution_count": 83,
   "metadata": {},
   "outputs": [
    {
     "data": {
      "text/plain": [
       "<selenium.webdriver.remote.webelement.WebElement (session=\"56904ad24338607e3fbc53f77670a6e1\", element=\"0.456938986177265-1\")>"
      ]
     },
     "execution_count": 83,
     "metadata": {},
     "output_type": "execute_result"
    }
   ],
   "source": [
    "pw = b.find_element_by_id(\"password\")\n",
    "pw"
   ]
  },
  {
   "cell_type": "code",
   "execution_count": 84,
   "metadata": {},
   "outputs": [],
   "source": [
    "pw.clear()"
   ]
  },
  {
   "cell_type": "code",
   "execution_count": 85,
   "metadata": {},
   "outputs": [],
   "source": [
    "pw.send_keys(\"fido\")"
   ]
  },
  {
   "cell_type": "code",
   "execution_count": 86,
   "metadata": {},
   "outputs": [],
   "source": [
    "b.find_element_by_id(\"login_btn\").click()\n"
   ]
  },
  {
   "cell_type": "code",
   "execution_count": 87,
   "metadata": {},
   "outputs": [
    {
     "data": {
      "text/plain": [
       "<table border=\"1\" id=\"hurricanes\"><tr><td>name</td><td>formed</td><td>dissipated</td><td>mph</td><td>damage</td><td>deaths</td></tr><tr><td>Baker</td><td>08/18/1950</td><td>09/01/1950</td><td>105</td><td>2.55M</td><td>38</td></tr><tr><td>Camille</td><td>08/14/1969</td><td>08/22/1969</td><td>175</td><td>1.42B</td><td>259</td></tr><tr><td>Eloise</td><td>09/13/1975</td><td>09/24/1975</td><td>125</td><td>560M</td><td>80</td></tr><tr><td>Frederic</td><td>08/29/1979</td><td>09/15/1979</td><td>130</td><td>1.77B</td><td>12</td></tr><tr><td>Elena</td><td>08/28/1985</td><td>09/04/1985</td><td>125</td><td>1.3B</td><td>9</td></tr><tr><td>Opal</td><td>09/27/1995</td><td>10/06/1995</td><td>150</td><td>4.7B</td><td>63</td></tr><tr><td>Danny</td><td>07/16/1997</td><td>07/27/1997</td><td>80</td><td>100M</td><td>4</td></tr><tr><td>Ivan</td><td>09/02/2004</td><td>09/25/2004</td><td>165</td><td>26.1B</td><td>92</td></tr><tr><td>Dennis</td><td>07/04/2005</td><td>07/18/2005</td><td>150</td><td>3.98B</td><td>76</td></tr><tr><td>Katrina</td><td>08/23/2005</td><td>08/31/2005</td><td>175</td><td>125B</td><td>1245</td></tr><tr><td>Carol</td><td>08/25/1954</td><td>09/01/1954</td><td>115</td><td>462M</td><td>72</td></tr><tr><td>Donna</td><td>08/29/1960</td><td>09/14/1960</td><td>145</td><td>980M</td><td>439</td></tr><tr><td>Gloria</td><td>09/16/1985</td><td>10/02/1985</td><td>145</td><td>900M</td><td>14</td></tr><tr><td>Bob</td><td>08/16/1991</td><td>08/29/1991</td><td>115</td><td>1.5B</td><td>15</td></tr><tr><td>Labor Day</td><td>08/29/1935</td><td>09/10/1935</td><td>185</td><td>100M</td><td>423</td></tr><tr><td>Easy</td><td>09/01/1950</td><td>09/09/1950</td><td>125</td><td>3.3M</td><td>2</td></tr><tr><td>King</td><td>10/13/1950</td><td>10/20/1950</td><td>130</td><td>32M</td><td>11</td></tr><tr><td>FLORENCE</td><td>09/23/1953</td><td>09/26/1953</td><td>115</td><td>200K</td><td>0</td></tr><tr><td>Flossy</td><td>09/21/1956</td><td>09/30/1956</td><td>90</td><td>24.9M</td><td>15</td></tr><tr><td>Cleo</td><td>08/21/1964</td><td>09/05/1964</td><td>155</td><td>187M</td><td>156</td></tr><tr><td>Dora</td><td>08/28/1964</td><td>09/14/1964</td><td>130</td><td>280M</td><td>5</td></tr><tr><td>Isbell</td><td>10/08/1964</td><td>10/19/1964</td><td>125</td><td>30M</td><td>7</td></tr><tr><td>Betsy</td><td>08/27/1965</td><td>09/13/1965</td><td>155</td><td>1.43B</td><td>81</td></tr><tr><td>Alma</td><td>06/04/1966</td><td>06/14/1966</td><td>125</td><td>210.1M</td><td>93</td></tr><tr><td>Inez</td><td>09/21/1966</td><td>10/11/1966</td><td>150</td><td>226.5M</td><td>756</td></tr><tr><td>Gladys</td><td>10/13/1968</td><td>10/21/1968</td><td>85</td><td>18.7M</td><td>8</td></tr><tr><td>Agnes</td><td>06/14/1972</td><td>07/06/1972</td><td>85</td><td>2.1B</td><td>128</td></tr><tr><td>Kate</td><td>11/15/1985</td><td>11/23/1985</td><td>120</td><td>700M</td><td>15</td></tr><tr><td>Floyd</td><td>10/09/1987</td><td>10/13/1987</td><td>75</td><td>500K</td><td>1</td></tr><tr><td>Andrew</td><td>08/16/1992</td><td>08/29/1992</td><td>175</td><td>27.3B</td><td>65</td></tr><tr><td>Erin</td><td>07/31/1995</td><td>08/06/1995</td><td>100</td><td>700M</td><td>6</td></tr><tr><td>Earl</td><td>08/31/1998</td><td>09/08/1998</td><td>100</td><td>79M</td><td>3</td></tr></table>"
      ]
     },
     "execution_count": 87,
     "metadata": {},
     "output_type": "execute_result"
    }
   ],
   "source": [
    "page = BeautifulSoup(b.page_source, \"html.parser\")\n",
    "page.find(\"table\")"
   ]
  },
  {
   "cell_type": "code",
   "execution_count": 88,
   "metadata": {},
   "outputs": [],
   "source": [
    "b.close()"
   ]
  },
  {
   "cell_type": "code",
   "execution_count": 115,
   "metadata": {},
   "outputs": [],
   "source": [
    "options = Options()\n",
    "#options.headless = True\n",
    "b = webdriver.Chrome(options=options)"
   ]
  },
  {
   "cell_type": "code",
   "execution_count": 116,
   "metadata": {},
   "outputs": [],
   "source": [
    "# page4.html\n",
    "b.get(\"https://tyler.caraza-harter.com/cs320/s20/materials/lec-19/page4.html\")"
   ]
  },
  {
   "cell_type": "code",
   "execution_count": 127,
   "metadata": {},
   "outputs": [],
   "source": [
    "year_box = b.find_element_by_id(\"year\")"
   ]
  },
  {
   "cell_type": "code",
   "execution_count": 126,
   "metadata": {},
   "outputs": [],
   "source": [
    "search_btn = b.find_element_by_id(\"search_btn\")"
   ]
  },
  {
   "cell_type": "code",
   "execution_count": 121,
   "metadata": {},
   "outputs": [
    {
     "data": {
      "text/plain": [
       "0"
      ]
     },
     "execution_count": 121,
     "metadata": {},
     "output_type": "execute_result"
    }
   ],
   "source": [
    "def year_count(year):\n",
    "    year_box.clear()\n",
    "    year_box.send_keys(str(year))\n",
    "    search_btn.click()\n",
    "    trs = b.find_elements_by_tag_name(\"tr\")\n",
    "    return len(trs) - 1\n",
    "year_count(1957)"
   ]
  },
  {
   "cell_type": "code",
   "execution_count": 122,
   "metadata": {},
   "outputs": [],
   "source": [
    "import pandas as pd"
   ]
  },
  {
   "cell_type": "code",
   "execution_count": 124,
   "metadata": {},
   "outputs": [],
   "source": [
    "year_series = pd.Series()\n",
    "\n",
    "for year in range(1950, 2021):\n",
    "    year_series.loc[year] = year_count(year)"
   ]
  },
  {
   "cell_type": "code",
   "execution_count": 113,
   "metadata": {},
   "outputs": [],
   "source": [
    "b.close()"
   ]
  },
  {
   "cell_type": "code",
   "execution_count": 128,
   "metadata": {},
   "outputs": [
    {
     "data": {
      "text/plain": [
       "1950    3\n",
       "1951    0\n",
       "1952    1\n",
       "1953    2\n",
       "1954    2\n",
       "dtype: int64"
      ]
     },
     "execution_count": 128,
     "metadata": {},
     "output_type": "execute_result"
    }
   ],
   "source": [
    "year_series.head()"
   ]
  },
  {
   "cell_type": "code",
   "execution_count": 131,
   "metadata": {},
   "outputs": [],
   "source": [
    "import matplotlib\n",
    "matplotlib.rcParams[\"font.size\"] = 16"
   ]
  },
  {
   "cell_type": "code",
   "execution_count": 136,
   "metadata": {},
   "outputs": [
    {
     "data": {
      "image/png": "[encoded data removed]",
      "text/plain": [
       "<Figure size 432x288 with 1 Axes>"
      ]
     },
     "metadata": {
      "needs_background": "light"
     },
     "output_type": "display_data"
    }
   ],
   "source": [
    "ax = year_series.plot.line(color=\"r\")\n",
    "ax.set_xlabel(\"Year\")\n",
    "ax.set_ylabel(\"Hurricane Count\")\n",
    "ax.spines[\"right\"].set_visible(False)\n",
    "ax.spines[\"top\"].set_visible(False)"
   ]
  },
  {
   "cell_type": "code",
   "execution_count": null,
   "metadata": {},
   "outputs": [],
   "source": []
  }
 ],
 "metadata": {
  "kernelspec": {
   "display_name": "Python 3",
   "language": "python",
   "name": "python3"
  },
  "language_info": {
   "codemirror_mode": {
    "name": "ipython",
    "version": 3
   },
   "file_extension": ".py",
   "mimetype": "text/x-python",
   "name": "python",
   "nbconvert_exporter": "python",
   "pygments_lexer": "ipython3",
   "version": "3.7.2"
  }
 },
 "nbformat": 4,
 "nbformat_minor": 2
}
