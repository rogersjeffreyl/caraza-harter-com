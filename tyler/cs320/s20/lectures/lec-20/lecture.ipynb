{
 "cells": [
  {
   "cell_type": "code",
   "execution_count": 1,
   "metadata": {
    "scrolled": true
   },
   "outputs": [],
   "source": [
    "from selenium import webdriver\n",
    "from selenium.webdriver.chrome.options import Options\n",
    "from graphviz import Digraph"
   ]
  },
  {
   "cell_type": "code",
   "execution_count": 2,
   "metadata": {
    "scrolled": true
   },
   "outputs": [],
   "source": [
    "opt = Options()\n",
    "opt.headless = True\n",
    "b = webdriver.Chrome(options=opt)"
   ]
  },
  {
   "cell_type": "code",
   "execution_count": 3,
   "metadata": {
    "scrolled": true
   },
   "outputs": [],
   "source": [
    "from IPython.core.display import display, Image"
   ]
  },
  {
   "cell_type": "code",
   "execution_count": 4,
   "metadata": {
    "scrolled": true
   },
   "outputs": [],
   "source": [
    "b.set_window_size(300, 200)"
   ]
  },
  {
   "cell_type": "code",
   "execution_count": 5,
   "metadata": {
    "scrolled": true
   },
   "outputs": [
    {
     "data": {
      "image/png": "[encoded data removed]",
      "text/plain": [
       "<IPython.core.display.Image object>"
      ]
     },
     "metadata": {},
     "output_type": "display_data"
    }
   ],
   "source": [
    "def show_screen():\n",
    "    b.save_screenshot(\"screen.png\")\n",
    "    img = Image(\"screen.png\")\n",
    "    display(img)\n",
    "    \n",
    "b.get(\"https://tyler.caraza-harter.com/cs320/s20/lectures/lec-20/practice1/1.html\")\n",
    "show_screen()"
   ]
  },
  {
   "cell_type": "code",
   "execution_count": 6,
   "metadata": {
    "scrolled": true
   },
   "outputs": [
    {
     "data": {
      "image/png": "[encoded data removed]",
      "text/plain": [
       "<IPython.core.display.Image object>"
      ]
     },
     "metadata": {},
     "output_type": "display_data"
    },
    {
     "data": {
      "text/plain": [
       "['https://tyler.caraza-harter.com/cs320/s20/lectures/lec-20/practice1/2.html',\n",
       " 'https://tyler.caraza-harter.com/cs320/s20/lectures/lec-20/practice1/3.html']"
      ]
     },
     "execution_count": 6,
     "metadata": {},
     "output_type": "execute_result"
    }
   ],
   "source": [
    "def visit_node(url):\n",
    "    b.get(url)\n",
    "    show_screen()\n",
    "    \n",
    "    links = b.find_elements_by_tag_name(\"a\")\n",
    "    return [a.get_attribute(\"href\") for a in links]\n",
    "\n",
    "visit_node(\"https://tyler.caraza-harter.com/cs320/s20/lectures/lec-20/practice1/1.html\")\n",
    "        "
   ]
  },
  {
   "cell_type": "code",
   "execution_count": 7,
   "metadata": {
    "scrolled": true
   },
   "outputs": [
    {
     "data": {
      "text/plain": [
       "'8'"
      ]
     },
     "execution_count": 7,
     "metadata": {},
     "output_type": "execute_result"
    }
   ],
   "source": [
    "def node_name(url):\n",
    "    return url.split(\"/\")[-1].split(\".\")[0]\n",
    "\n",
    "node_name(\"https://tyler.caraza-harter.com/cs320/s20/lectures/lec-20/practice2/8.html\")\n"
   ]
  },
  {
   "cell_type": "code",
   "execution_count": 8,
   "metadata": {},
   "outputs": [
    {
     "data": {
      "text/plain": [
       "False"
      ]
     },
     "execution_count": 8,
     "metadata": {},
     "output_type": "execute_result"
    }
   ],
   "source": [
    "from urllib.robotparser import RobotFileParser\n",
    "robo = RobotFileParser(\"https://tyler.caraza-harter.com/robots.txt\")\n",
    "robo.read()\n",
    "robo.can_fetch(\"320-agent\", \"https://tyler.caraza-harter.com/cs320/s20/lectures/lec-20/calendar/months/JAN-2020.html\")"
   ]
  },
  {
   "cell_type": "code",
   "execution_count": 9,
   "metadata": {
    "scrolled": true
   },
   "outputs": [],
   "source": [
    "todo = [\"https://tyler.caraza-harter.com/cs320/s20/lectures/lec-20/calendar/A.html\"]\n",
    "added = {todo[0]}\n",
    "\n",
    "gv = Digraph(engine=\"neato\")\n",
    "\n",
    "def visit_next():\n",
    "    # 1: visit first node in todo\n",
    "    url = todo.pop(0)\n",
    "    if not robo.can_fetch(\"320-agent\", url):\n",
    "        return\n",
    "    \n",
    "    child_urls = visit_node(url)\n",
    "    \n",
    "    # draw the graph of what we've discovered so far\n",
    "    gv.node(node_name(url))\n",
    "    \n",
    "    # 2: add nodes discovered\n",
    "    for child_url in child_urls:\n",
    "        gv.edge(node_name(url), node_name(child_url))\n",
    "        if not child_url in added:\n",
    "            todo.append(child_url)\n",
    "            added.add(child_url)\n",
    "        \n",
    "    display(gv)\n",
    "        \n",
    "    print(todo)"
   ]
  },
  {
   "cell_type": "code",
   "execution_count": 10,
   "metadata": {
    "scrolled": false
   },
   "outputs": [
    {
     "data": {
      "image/png": "[encoded data removed]",
      "text/plain": [
       "<IPython.core.display.Image object>"
      ]
     },
     "metadata": {},
     "output_type": "display_data"
    },
    {
     "data": {
      "image/svg+xml": [
       "<?xml version=\"1.0\" encoding=\"UTF-8\" standalone=\"no\"?>\n",
       "<!DOCTYPE svg PUBLIC \"-//W3C//DTD SVG 1.1//EN\"\n",
       " \"http://www.w3.org/Graphics/SVG/1.1/DTD/svg11.dtd\">\n",
       "<!-- Generated by graphviz version 2.40.1 (20161225.0304)\n",
       " -->\n",
       "<!-- Title: %3 Pages: 1 -->\n",
       "<svg width=\"130pt\" height=\"170pt\"\n",
       " viewBox=\"0.00 0.00 129.85 169.63\" xmlns=\"http://www.w3.org/2000/svg\" xmlns:xlink=\"http://www.w3.org/1999/xlink\">\n",
       "<g id=\"graph0\" class=\"graph\" transform=\"scale(1 1) rotate(0) translate(4 165.6255)\">\n",
       "<title>%3</title>\n",
       "<polygon fill=\"#ffffff\" stroke=\"transparent\" points=\"-4,4 -4,-165.6255 125.8523,-165.6255 125.8523,4 -4,4\"/>\n",
       "<!-- A -->\n",
       "<g id=\"node1\" class=\"node\">\n",
       "<title>A</title>\n",
       "<ellipse fill=\"none\" stroke=\"#000000\" cx=\"50.957\" cy=\"-86.2063\" rx=\"27\" ry=\"18\"/>\n",
       "<text text-anchor=\"middle\" x=\"50.957\" y=\"-82.5063\" font-family=\"Times,serif\" font-size=\"14.00\" fill=\"#000000\">A</text>\n",
       "</g>\n",
       "<!-- B -->\n",
       "<g id=\"node2\" class=\"node\">\n",
       "<title>B</title>\n",
       "<ellipse fill=\"none\" stroke=\"#000000\" cx=\"94.8523\" cy=\"-143.6255\" rx=\"27\" ry=\"18\"/>\n",
       "<text text-anchor=\"middle\" x=\"94.8523\" y=\"-139.9255\" font-family=\"Times,serif\" font-size=\"14.00\" fill=\"#000000\">B</text>\n",
       "</g>\n",
       "<!-- A&#45;&gt;B -->\n",
       "<g id=\"edge1\" class=\"edge\">\n",
       "<title>A&#45;&gt;B</title>\n",
       "<path fill=\"none\" stroke=\"#000000\" d=\"M63.4182,-102.5068C67.4372,-107.764 71.9817,-113.7086 76.3408,-119.4107\"/>\n",
       "<polygon fill=\"#000000\" stroke=\"#000000\" points=\"73.6579,-121.6642 82.5118,-127.483 79.2191,-117.4128 73.6579,-121.6642\"/>\n",
       "</g>\n",
       "<!-- C -->\n",
       "<g id=\"node3\" class=\"node\">\n",
       "<title>C</title>\n",
       "<ellipse fill=\"none\" stroke=\"#000000\" cx=\"27\" cy=\"-18\" rx=\"27\" ry=\"18\"/>\n",
       "<text text-anchor=\"middle\" x=\"27\" y=\"-14.3\" font-family=\"Times,serif\" font-size=\"14.00\" fill=\"#000000\">C</text>\n",
       "</g>\n",
       "<!-- A&#45;&gt;C -->\n",
       "<g id=\"edge2\" class=\"edge\">\n",
       "<title>A&#45;&gt;C</title>\n",
       "<path fill=\"none\" stroke=\"#000000\" d=\"M44.7875,-68.6415C42.292,-61.5368 39.3527,-53.1684 36.59,-45.3031\"/>\n",
       "<polygon fill=\"#000000\" stroke=\"#000000\" points=\"39.8481,-44.0174 33.2319,-35.7424 33.2437,-46.3372 39.8481,-44.0174\"/>\n",
       "</g>\n",
       "</g>\n",
       "</svg>\n"
      ],
      "text/plain": [
       "<graphviz.dot.Digraph at 0x7f234c0a3400>"
      ]
     },
     "metadata": {},
     "output_type": "display_data"
    },
    {
     "name": "stdout",
     "output_type": "stream",
     "text": [
      "['https://tyler.caraza-harter.com/cs320/s20/lectures/lec-20/calendar/B.html', 'https://tyler.caraza-harter.com/cs320/s20/lectures/lec-20/calendar/C.html']\n"
     ]
    },
    {
     "data": {
      "image/png": "[encoded data removed]",
      "text/plain": [
       "<IPython.core.display.Image object>"
      ]
     },
     "metadata": {},
     "output_type": "display_data"
    },
    {
     "data": {
      "image/svg+xml": [
       "<?xml version=\"1.0\" encoding=\"UTF-8\" standalone=\"no\"?>\n",
       "<!DOCTYPE svg PUBLIC \"-//W3C//DTD SVG 1.1//EN\"\n",
       " \"http://www.w3.org/Graphics/SVG/1.1/DTD/svg11.dtd\">\n",
       "<!-- Generated by graphviz version 2.40.1 (20161225.0304)\n",
       " -->\n",
       "<!-- Title: %3 Pages: 1 -->\n",
       "<svg width=\"134pt\" height=\"106pt\"\n",
       " viewBox=\"0.00 0.00 134.21 106.41\" xmlns=\"http://www.w3.org/2000/svg\" xmlns:xlink=\"http://www.w3.org/1999/xlink\">\n",
       "<g id=\"graph0\" class=\"graph\" transform=\"scale(1 1) rotate(0) translate(4 102.4077)\">\n",
       "<title>%3</title>\n",
       "<polygon fill=\"#ffffff\" stroke=\"transparent\" points=\"-4,4 -4,-102.4077 130.2064,-102.4077 130.2064,4 -4,4\"/>\n",
       "<!-- A -->\n",
       "<g id=\"node1\" class=\"node\">\n",
       "<title>A</title>\n",
       "<ellipse fill=\"none\" stroke=\"#000000\" cx=\"27\" cy=\"-79.9339\" rx=\"27\" ry=\"18\"/>\n",
       "<text text-anchor=\"middle\" x=\"27\" y=\"-76.2339\" font-family=\"Times,serif\" font-size=\"14.00\" fill=\"#000000\">A</text>\n",
       "</g>\n",
       "<!-- B -->\n",
       "<g id=\"node2\" class=\"node\">\n",
       "<title>B</title>\n",
       "<ellipse fill=\"none\" stroke=\"#000000\" cx=\"99.2064\" cy=\"-80.4077\" rx=\"27\" ry=\"18\"/>\n",
       "<text text-anchor=\"middle\" x=\"99.2064\" y=\"-76.7077\" font-family=\"Times,serif\" font-size=\"14.00\" fill=\"#000000\">B</text>\n",
       "</g>\n",
       "<!-- A&#45;&gt;B -->\n",
       "<g id=\"edge1\" class=\"edge\">\n",
       "<title>A&#45;&gt;B</title>\n",
       "<path fill=\"none\" stroke=\"#000000\" d=\"M52.2118,-86.5709C55.9266,-86.7916 59.8111,-86.9096 63.6867,-86.9238\"/>\n",
       "<polygon fill=\"#000000\" stroke=\"#000000\" points=\"63.875,-90.4208 73.8018,-86.7183 63.7327,-83.4223 63.875,-90.4208\"/>\n",
       "</g>\n",
       "<!-- C -->\n",
       "<g id=\"node3\" class=\"node\">\n",
       "<title>C</title>\n",
       "<ellipse fill=\"none\" stroke=\"#000000\" cx=\"63.5921\" cy=\"-18\" rx=\"27\" ry=\"18\"/>\n",
       "<text text-anchor=\"middle\" x=\"63.5921\" y=\"-14.3\" font-family=\"Times,serif\" font-size=\"14.00\" fill=\"#000000\">C</text>\n",
       "</g>\n",
       "<!-- A&#45;&gt;C -->\n",
       "<g id=\"edge2\" class=\"edge\">\n",
       "<title>A&#45;&gt;C</title>\n",
       "<path fill=\"none\" stroke=\"#000000\" d=\"M36.999,-63.0102C40.5487,-57.0021 44.627,-50.0994 48.5065,-43.5331\"/>\n",
       "<polygon fill=\"#000000\" stroke=\"#000000\" points=\"51.5318,-45.2932 53.6053,-34.9032 45.5051,-41.7324 51.5318,-45.2932\"/>\n",
       "</g>\n",
       "<!-- B&#45;&gt;A -->\n",
       "<g id=\"edge3\" class=\"edge\">\n",
       "<title>B&#45;&gt;A</title>\n",
       "<path fill=\"none\" stroke=\"#000000\" d=\"M73.9946,-73.7706C70.2798,-73.5499 66.3952,-73.4319 62.5197,-73.4177\"/>\n",
       "<polygon fill=\"#000000\" stroke=\"#000000\" points=\"62.3314,-69.9207 52.4046,-73.6233 62.4737,-76.9193 62.3314,-69.9207\"/>\n",
       "</g>\n",
       "<!-- B&#45;&gt;C -->\n",
       "<g id=\"edge4\" class=\"edge\">\n",
       "<title>B&#45;&gt;C</title>\n",
       "<path fill=\"none\" stroke=\"#000000\" d=\"M89.4746,-63.3545C86.0198,-57.3005 82.0504,-50.3449 78.2746,-43.7284\"/>\n",
       "<polygon fill=\"#000000\" stroke=\"#000000\" points=\"81.3084,-41.9831 73.3121,-35.0325 75.2287,-45.4526 81.3084,-41.9831\"/>\n",
       "</g>\n",
       "</g>\n",
       "</svg>\n"
      ],
      "text/plain": [
       "<graphviz.dot.Digraph at 0x7f234c0a3400>"
      ]
     },
     "metadata": {},
     "output_type": "display_data"
    },
    {
     "name": "stdout",
     "output_type": "stream",
     "text": [
      "['https://tyler.caraza-harter.com/cs320/s20/lectures/lec-20/calendar/C.html']\n"
     ]
    },
    {
     "data": {
      "image/png": "[encoded data removed]",
      "text/plain": [
       "<IPython.core.display.Image object>"
      ]
     },
     "metadata": {},
     "output_type": "display_data"
    },
    {
     "data": {
      "image/svg+xml": [
       "<?xml version=\"1.0\" encoding=\"UTF-8\" standalone=\"no\"?>\n",
       "<!DOCTYPE svg PUBLIC \"-//W3C//DTD SVG 1.1//EN\"\n",
       " \"http://www.w3.org/Graphics/SVG/1.1/DTD/svg11.dtd\">\n",
       "<!-- Generated by graphviz version 2.40.1 (20161225.0304)\n",
       " -->\n",
       "<!-- Title: %3 Pages: 1 -->\n",
       "<svg width=\"147pt\" height=\"184pt\"\n",
       " viewBox=\"0.00 0.00 147.15 184.21\" xmlns=\"http://www.w3.org/2000/svg\" xmlns:xlink=\"http://www.w3.org/1999/xlink\">\n",
       "<g id=\"graph0\" class=\"graph\" transform=\"scale(1 1) rotate(0) translate(4 180.2072)\">\n",
       "<title>%3</title>\n",
       "<polygon fill=\"#ffffff\" stroke=\"transparent\" points=\"-4,4 -4,-180.2072 143.15,-180.2072 143.15,4 -4,4\"/>\n",
       "<!-- A -->\n",
       "<g id=\"node1\" class=\"node\">\n",
       "<title>A</title>\n",
       "<ellipse fill=\"none\" stroke=\"#000000\" cx=\"41.0573\" cy=\"-18\" rx=\"27\" ry=\"18\"/>\n",
       "<text text-anchor=\"middle\" x=\"41.0573\" y=\"-14.3\" font-family=\"Times,serif\" font-size=\"14.00\" fill=\"#000000\">A</text>\n",
       "</g>\n",
       "<!-- B -->\n",
       "<g id=\"node2\" class=\"node\">\n",
       "<title>B</title>\n",
       "<ellipse fill=\"none\" stroke=\"#000000\" cx=\"112.15\" cy=\"-28.3943\" rx=\"27\" ry=\"18\"/>\n",
       "<text text-anchor=\"middle\" x=\"112.15\" y=\"-24.6943\" font-family=\"Times,serif\" font-size=\"14.00\" fill=\"#000000\">B</text>\n",
       "</g>\n",
       "<!-- A&#45;&gt;B -->\n",
       "<g id=\"edge1\" class=\"edge\">\n",
       "<title>A&#45;&gt;B</title>\n",
       "<path fill=\"none\" stroke=\"#000000\" d=\"M63.8038,-27.7973C67.4623,-28.5578 71.3295,-29.2398 75.2187,-29.816\"/>\n",
       "<polygon fill=\"#000000\" stroke=\"#000000\" points=\"75.0842,-33.3259 85.4374,-31.0758 75.9407,-26.3784 75.0842,-33.3259\"/>\n",
       "</g>\n",
       "<!-- C -->\n",
       "<g id=\"node3\" class=\"node\">\n",
       "<title>C</title>\n",
       "<ellipse fill=\"none\" stroke=\"#000000\" cx=\"67.5464\" cy=\"-85.8163\" rx=\"27\" ry=\"18\"/>\n",
       "<text text-anchor=\"middle\" x=\"67.5464\" y=\"-82.1163\" font-family=\"Times,serif\" font-size=\"14.00\" fill=\"#000000\">C</text>\n",
       "</g>\n",
       "<!-- A&#45;&gt;C -->\n",
       "<g id=\"edge2\" class=\"edge\">\n",
       "<title>A&#45;&gt;C</title>\n",
       "<path fill=\"none\" stroke=\"#000000\" d=\"M41.8952,-36.1963C43.9316,-43.6171 47.0374,-52.3149 50.4524,-60.3436\"/>\n",
       "<polygon fill=\"#000000\" stroke=\"#000000\" points=\"47.3778,-62.0362 54.7201,-69.6742 53.7435,-59.1245 47.3778,-62.0362\"/>\n",
       "</g>\n",
       "<!-- B&#45;&gt;A -->\n",
       "<g id=\"edge3\" class=\"edge\">\n",
       "<title>B&#45;&gt;A</title>\n",
       "<path fill=\"none\" stroke=\"#000000\" d=\"M89.4036,-18.597C85.745,-17.8365 81.8779,-17.1545 77.9887,-16.5783\"/>\n",
       "<polygon fill=\"#000000\" stroke=\"#000000\" points=\"78.1231,-13.0684 67.77,-15.3185 77.2666,-20.0158 78.1231,-13.0684\"/>\n",
       "</g>\n",
       "<!-- B&#45;&gt;C -->\n",
       "<g id=\"edge4\" class=\"edge\">\n",
       "<title>B&#45;&gt;C</title>\n",
       "<path fill=\"none\" stroke=\"#000000\" d=\"M93.8353,-41.7916C89.0814,-47.067 84.1019,-53.2833 79.7296,-59.3684\"/>\n",
       "<polygon fill=\"#000000\" stroke=\"#000000\" points=\"76.5523,-57.8193 73.855,-68.0651 82.3529,-61.7377 76.5523,-57.8193\"/>\n",
       "</g>\n",
       "<!-- C&#45;&gt;A -->\n",
       "<g id=\"edge5\" class=\"edge\">\n",
       "<title>C&#45;&gt;A</title>\n",
       "<path fill=\"none\" stroke=\"#000000\" d=\"M66.7086,-67.62C64.6721,-60.1992 61.5663,-51.5014 58.1513,-43.4727\"/>\n",
       "<polygon fill=\"#000000\" stroke=\"#000000\" points=\"61.226,-41.7801 53.8836,-34.1421 54.8602,-44.6918 61.226,-41.7801\"/>\n",
       "</g>\n",
       "<!-- C&#45;&gt;B -->\n",
       "<g id=\"edge6\" class=\"edge\">\n",
       "<title>C&#45;&gt;B</title>\n",
       "<path fill=\"none\" stroke=\"#000000\" d=\"M85.8611,-72.419C90.615,-67.1436 95.5945,-60.9273 99.9669,-54.8422\"/>\n",
       "<polygon fill=\"#000000\" stroke=\"#000000\" points=\"103.1442,-56.3913 105.8415,-46.1455 97.3436,-52.4729 103.1442,-56.3913\"/>\n",
       "</g>\n",
       "<!-- JAN&#45;2020 -->\n",
       "<g id=\"node4\" class=\"node\">\n",
       "<title>JAN&#45;2020</title>\n",
       "<ellipse fill=\"none\" stroke=\"#000000\" cx=\"55.895\" cy=\"-158.2072\" rx=\"55.7903\" ry=\"18\"/>\n",
       "<text text-anchor=\"middle\" x=\"55.895\" y=\"-154.5072\" font-family=\"Times,serif\" font-size=\"14.00\" fill=\"#000000\">JAN&#45;2020</text>\n",
       "</g>\n",
       "<!-- C&#45;&gt;JAN&#45;2020 -->\n",
       "<g id=\"edge7\" class=\"edge\">\n",
       "<title>C&#45;&gt;JAN&#45;2020</title>\n",
       "<path fill=\"none\" stroke=\"#000000\" d=\"M64.6063,-104.0836C63.3271,-112.0313 61.7996,-121.5218 60.3835,-130.3201\"/>\n",
       "<polygon fill=\"#000000\" stroke=\"#000000\" points=\"56.9275,-129.7674 58.7939,-140.1965 63.8385,-130.8798 56.9275,-129.7674\"/>\n",
       "</g>\n",
       "</g>\n",
       "</svg>\n"
      ],
      "text/plain": [
       "<graphviz.dot.Digraph at 0x7f234c0a3400>"
      ]
     },
     "metadata": {},
     "output_type": "display_data"
    },
    {
     "name": "stdout",
     "output_type": "stream",
     "text": [
      "['https://tyler.caraza-harter.com/cs320/s20/lectures/lec-20/calendar/months/JAN-2020.html']\n"
     ]
    }
   ],
   "source": [
    "while len(todo) > 0:\n",
    "    visit_next()"
   ]
  },
  {
   "cell_type": "code",
   "execution_count": 11,
   "metadata": {
    "scrolled": true
   },
   "outputs": [],
   "source": [
    "b.close()"
   ]
  }
 ],
 "metadata": {
  "kernelspec": {
   "display_name": "Python 3",
   "language": "python",
   "name": "python3"
  },
  "language_info": {
   "codemirror_mode": {
    "name": "ipython",
    "version": 3
   },
   "file_extension": ".py",
   "mimetype": "text/x-python",
   "name": "python",
   "nbconvert_exporter": "python",
   "pygments_lexer": "ipython3",
   "version": "3.6.9"
  }
 },
 "nbformat": 4,
 "nbformat_minor": 4
}
