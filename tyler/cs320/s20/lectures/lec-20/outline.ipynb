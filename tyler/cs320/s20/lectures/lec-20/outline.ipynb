{
 "cells": [
  {
   "cell_type": "code",
   "execution_count": 4,
   "metadata": {},
   "outputs": [],
   "source": [
    "from selenium import webdriver\n",
    "from selenium.webdriver.chrome.options import Options\n",
    "from collections import deque\n",
    "from IPython.core.display import Image, display, HTML\n",
    "from graphviz import Digraph"
   ]
  },
  {
   "cell_type": "code",
   "execution_count": 39,
   "metadata": {},
   "outputs": [],
   "source": [
    "b.close()"
   ]
  },
  {
   "cell_type": "code",
   "execution_count": 40,
   "metadata": {},
   "outputs": [],
   "source": [
    "opt = Options()\n",
    "opt.headless = True\n",
    "b = webdriver.Chrome(options=opt)"
   ]
  },
  {
   "cell_type": "code",
   "execution_count": 43,
   "metadata": {},
   "outputs": [],
   "source": [
    "b.set_window_size(300, 200)"
   ]
  },
  {
   "cell_type": "code",
   "execution_count": 86,
   "metadata": {},
   "outputs": [
    {
     "data": {
      "image/png": "[encoded data removed]",
      "text/plain": [
       "<IPython.core.display.Image object>"
      ]
     },
     "metadata": {},
     "output_type": "display_data"
    },
    {
     "data": {
      "text/plain": [
       "['https://tyler.caraza-harter.com/cs320/s20/lectures/lec-20/practice5/1.html',\n",
       " 'https://tyler.caraza-harter.com/cs320/s20/lectures/lec-20/practice5/2.html',\n",
       " 'https://tyler.caraza-harter.com/cs320/s20/lectures/lec-20/practice5/3.html',\n",
       " 'https://tyler.caraza-harter.com/cs320/s20/lectures/lec-20/practice5/4.html',\n",
       " 'https://tyler.caraza-harter.com/cs320/s20/lectures/lec-20/practice5/5.html',\n",
       " 'https://tyler.caraza-harter.com/cs320/s20/lectures/lec-20/practice5/6.html']"
      ]
     },
     "execution_count": 86,
     "metadata": {},
     "output_type": "execute_result"
    }
   ],
   "source": [
    "def download(url):\n",
    "    b.get(url)\n",
    "    b.save_screenshot(\"tmp.png\")\n",
    "    display(Image(\"tmp.png\"))\n",
    "    next_pages = []\n",
    "    for a in b.find_elements_by_tag_name(\"a\"):\n",
    "        next_pages.append(a.get_attribute(\"href\"))\n",
    "    return next_pages\n",
    "\n",
    "download(\"https://tyler.caraza-harter.com/cs320/s20/lectures/lec-20/practice5/0.html\")"
   ]
  },
  {
   "cell_type": "code",
   "execution_count": 91,
   "metadata": {},
   "outputs": [],
   "source": [
    "todo = deque([\"https://tyler.caraza-harter.com/cs320/s20/lectures/lec-20/practice7/1.html\"])\n",
    "added = set(todo)\n",
    "\n",
    "g = Digraph(engine='neato')\n",
    "\n",
    "def node_name(url):\n",
    "    return url.split(\"/\")[-1].split(\".\")[0]\n",
    "\n",
    "def visit():\n",
    "    assert len(todo) > 0\n",
    "    url = todo.popleft()\n",
    "    next_pages = download(url)\n",
    "    for next_url in next_pages:\n",
    "        g.edge(node_name(url), node_name(next_url), len=\"1.3\")\n",
    "        if not next_url in added:\n",
    "            todo.append(next_url)\n",
    "            added.add(next_url)\n",
    "    display(g)\n",
    "    print(\"TODO:\", todo)"
   ]
  },
  {
   "cell_type": "code",
   "execution_count": 113,
   "metadata": {
    "scrolled": false
   },
   "outputs": [],
   "source": [
    "#while todo:\n",
    "#    visit()"
   ]
  },
  {
   "cell_type": "code",
   "execution_count": 107,
   "metadata": {},
   "outputs": [
    {
     "data": {
      "text/plain": [
       "30"
      ]
     },
     "execution_count": 107,
     "metadata": {},
     "output_type": "execute_result"
    }
   ],
   "source": [
    "from urllib.robotparser import RobotFileParser\n",
    "robo = RobotFileParser(\"https://news.ycombinator.com/robots.txt\")\n",
    "robo.read()\n",
    "robo.crawl_delay(useragent=\"320-agent\")"
   ]
  },
  {
   "cell_type": "code",
   "execution_count": 112,
   "metadata": {},
   "outputs": [
    {
     "name": "stdout",
     "output_type": "stream",
     "text": [
      "True\n",
      "False\n"
     ]
    }
   ],
   "source": [
    "from urllib.robotparser import RobotFileParser\n",
    "robo = RobotFileParser(\"https://tyler.caraza-harter.com/robots.txt\")\n",
    "robo.read()\n",
    "base = \"https://tyler.caraza-harter.com/cs320/s20/lectures/lec-20/calendar/\"\n",
    "print(robo.can_fetch(\"320-agent\", base+\"A.html\"))\n",
    "print(robo.can_fetch(\"320-agent\", base+\"months/JAN-2020.html\"))"
   ]
  },
  {
   "cell_type": "code",
   "execution_count": 148,
   "metadata": {},
   "outputs": [],
   "source": [
    "todo = deque([\"https://tyler.caraza-harter.com/cs320/s20/lectures/lec-20/calendar/A.html\"])\n",
    "added = set(todo)\n",
    "\n",
    "g = Digraph(engine='neato')\n",
    "\n",
    "def node_name(url):\n",
    "    return url.split(\"/\")[-1].split(\".\")[0]\n",
    "\n",
    "def visit():\n",
    "    assert len(todo) > 0\n",
    "    url = todo.popleft()\n",
    "    next_pages = download(url)\n",
    "    for next_url in next_pages:\n",
    "        g.edge(node_name(url), node_name(next_url), len=\"1.3\")\n",
    "        if not next_url in added:\n",
    "            if robo.can_fetch(\"320-agent\", next_url):\n",
    "                todo.append(next_url)\n",
    "                added.add(next_url)\n",
    "    display(g)\n",
    "    print(\"TODO:\", todo)"
   ]
  },
  {
   "cell_type": "code",
   "execution_count": 149,
   "metadata": {},
   "outputs": [
    {
     "data": {
      "image/png": "[encoded data removed]",
      "text/plain": [
       "<IPython.core.display.Image object>"
      ]
     },
     "metadata": {},
     "output_type": "display_data"
    },
    {
     "data": {
      "image/svg+xml": [
       "<?xml version=\"1.0\" encoding=\"UTF-8\" standalone=\"no\"?>\n",
       "<!DOCTYPE svg PUBLIC \"-//W3C//DTD SVG 1.1//EN\"\n",
       " \"http://www.w3.org/Graphics/SVG/1.1/DTD/svg11.dtd\">\n",
       "<!-- Generated by graphviz version 2.40.1 (20161225.0304)\n",
       " -->\n",
       "<!-- Title: %3 Pages: 1 -->\n",
       "<svg width=\"150pt\" height=\"207pt\"\n",
       " viewBox=\"0.00 0.00 150.02 207.06\" xmlns=\"http://www.w3.org/2000/svg\" xmlns:xlink=\"http://www.w3.org/1999/xlink\">\n",
       "<g id=\"graph0\" class=\"graph\" transform=\"scale(1 1) rotate(0) translate(4 203.0567)\">\n",
       "<title>%3</title>\n",
       "<polygon fill=\"#ffffff\" stroke=\"transparent\" points=\"-4,4 -4,-203.0567 146.0221,-203.0567 146.0221,4 -4,4\"/>\n",
       "<!-- A -->\n",
       "<g id=\"node1\" class=\"node\">\n",
       "<title>A</title>\n",
       "<ellipse fill=\"none\" stroke=\"#000000\" cx=\"56.8615\" cy=\"-107.1817\" rx=\"27\" ry=\"18\"/>\n",
       "<text text-anchor=\"middle\" x=\"56.8615\" y=\"-103.4817\" font-family=\"Times,serif\" font-size=\"14.00\" fill=\"#000000\">A</text>\n",
       "</g>\n",
       "<!-- B -->\n",
       "<g id=\"node2\" class=\"node\">\n",
       "<title>B</title>\n",
       "<ellipse fill=\"none\" stroke=\"#000000\" cx=\"115.0221\" cy=\"-181.0567\" rx=\"27\" ry=\"18\"/>\n",
       "<text text-anchor=\"middle\" x=\"115.0221\" y=\"-177.3567\" font-family=\"Times,serif\" font-size=\"14.00\" fill=\"#000000\">B</text>\n",
       "</g>\n",
       "<!-- A&#45;&gt;B -->\n",
       "<g id=\"edge1\" class=\"edge\">\n",
       "<title>A&#45;&gt;B</title>\n",
       "<path fill=\"none\" stroke=\"#000000\" d=\"M69.4815,-123.2115C77.2554,-133.0858 87.3693,-145.9324 96.0907,-157.0102\"/>\n",
       "<polygon fill=\"#000000\" stroke=\"#000000\" points=\"93.4908,-159.366 102.4267,-165.0582 98.9909,-155.0359 93.4908,-159.366\"/>\n",
       "</g>\n",
       "<!-- C -->\n",
       "<g id=\"node3\" class=\"node\">\n",
       "<title>C</title>\n",
       "<ellipse fill=\"none\" stroke=\"#000000\" cx=\"27\" cy=\"-18\" rx=\"27\" ry=\"18\"/>\n",
       "<text text-anchor=\"middle\" x=\"27\" y=\"-14.3\" font-family=\"Times,serif\" font-size=\"14.00\" fill=\"#000000\">C</text>\n",
       "</g>\n",
       "<!-- A&#45;&gt;C -->\n",
       "<g id=\"edge2\" class=\"edge\">\n",
       "<title>A&#45;&gt;C</title>\n",
       "<path fill=\"none\" stroke=\"#000000\" d=\"M50.9618,-89.5622C46.7492,-76.9811 41.0001,-59.8116 36.1893,-45.4439\"/>\n",
       "<polygon fill=\"#000000\" stroke=\"#000000\" points=\"39.3815,-43.9541 32.8874,-35.5828 32.7437,-46.1767 39.3815,-43.9541\"/>\n",
       "</g>\n",
       "</g>\n",
       "</svg>\n"
      ],
      "text/plain": [
       "<graphviz.dot.Digraph at 0x7f1808db14e0>"
      ]
     },
     "metadata": {},
     "output_type": "display_data"
    },
    {
     "name": "stdout",
     "output_type": "stream",
     "text": [
      "TODO: deque(['https://tyler.caraza-harter.com/cs320/s20/lectures/lec-20/calendar/B.html', 'https://tyler.caraza-harter.com/cs320/s20/lectures/lec-20/calendar/C.html'])\n"
     ]
    },
    {
     "data": {
      "image/png": "[encoded data removed]",
      "text/plain": [
       "<IPython.core.display.Image object>"
      ]
     },
     "metadata": {},
     "output_type": "display_data"
    },
    {
     "data": {
      "image/svg+xml": [
       "<?xml version=\"1.0\" encoding=\"UTF-8\" standalone=\"no\"?>\n",
       "<!DOCTYPE svg PUBLIC \"-//W3C//DTD SVG 1.1//EN\"\n",
       " \"http://www.w3.org/Graphics/SVG/1.1/DTD/svg11.dtd\">\n",
       "<!-- Generated by graphviz version 2.40.1 (20161225.0304)\n",
       " -->\n",
       "<!-- Title: %3 Pages: 1 -->\n",
       "<svg width=\"156pt\" height=\"125pt\"\n",
       " viewBox=\"0.00 0.00 155.87 125.13\" xmlns=\"http://www.w3.org/2000/svg\" xmlns:xlink=\"http://www.w3.org/1999/xlink\">\n",
       "<g id=\"graph0\" class=\"graph\" transform=\"scale(1 1) rotate(0) translate(4 121.1299)\">\n",
       "<title>%3</title>\n",
       "<polygon fill=\"#ffffff\" stroke=\"transparent\" points=\"-4,4 -4,-121.1299 151.8683,-121.1299 151.8683,4 -4,4\"/>\n",
       "<!-- A -->\n",
       "<g id=\"node1\" class=\"node\">\n",
       "<title>A</title>\n",
       "<ellipse fill=\"none\" stroke=\"#000000\" cx=\"27\" cy=\"-98.514\" rx=\"27\" ry=\"18\"/>\n",
       "<text text-anchor=\"middle\" x=\"27\" y=\"-94.814\" font-family=\"Times,serif\" font-size=\"14.00\" fill=\"#000000\">A</text>\n",
       "</g>\n",
       "<!-- B -->\n",
       "<g id=\"node2\" class=\"node\">\n",
       "<title>B</title>\n",
       "<ellipse fill=\"none\" stroke=\"#000000\" cx=\"120.8683\" cy=\"-99.1299\" rx=\"27\" ry=\"18\"/>\n",
       "<text text-anchor=\"middle\" x=\"120.8683\" y=\"-95.4299\" font-family=\"Times,serif\" font-size=\"14.00\" fill=\"#000000\">B</text>\n",
       "</g>\n",
       "<!-- A&#45;&gt;B -->\n",
       "<g id=\"edge1\" class=\"edge\">\n",
       "<title>A&#45;&gt;B</title>\n",
       "<path fill=\"none\" stroke=\"#000000\" d=\"M52.61,-104.773C62.6428,-105.5054 74.3266,-105.7431 85.1621,-105.4697\"/>\n",
       "<polygon fill=\"#000000\" stroke=\"#000000\" points=\"85.3641,-108.9645 95.2094,-105.0505 85.0722,-101.9705 85.3641,-108.9645\"/>\n",
       "</g>\n",
       "<!-- C -->\n",
       "<g id=\"node3\" class=\"node\">\n",
       "<title>C</title>\n",
       "<ellipse fill=\"none\" stroke=\"#000000\" cx=\"74.5697\" cy=\"-18\" rx=\"27\" ry=\"18\"/>\n",
       "<text text-anchor=\"middle\" x=\"74.5697\" y=\"-14.3\" font-family=\"Times,serif\" font-size=\"14.00\" fill=\"#000000\">C</text>\n",
       "</g>\n",
       "<!-- A&#45;&gt;C -->\n",
       "<g id=\"edge2\" class=\"edge\">\n",
       "<title>A&#45;&gt;C</title>\n",
       "<path fill=\"none\" stroke=\"#000000\" d=\"M37.0883,-81.4391C43.5648,-70.4774 52.0964,-56.0371 59.3837,-43.7031\"/>\n",
       "<polygon fill=\"#000000\" stroke=\"#000000\" points=\"62.5856,-45.1642 64.6591,-34.7743 56.5589,-41.6035 62.5856,-45.1642\"/>\n",
       "</g>\n",
       "<!-- B&#45;&gt;A -->\n",
       "<g id=\"edge3\" class=\"edge\">\n",
       "<title>B&#45;&gt;A</title>\n",
       "<path fill=\"none\" stroke=\"#000000\" d=\"M95.2583,-92.871C85.2255,-92.1385 73.5417,-91.9008 62.7061,-92.1742\"/>\n",
       "<polygon fill=\"#000000\" stroke=\"#000000\" points=\"62.5042,-88.6795 52.6589,-92.5935 62.7961,-95.6734 62.5042,-88.6795\"/>\n",
       "</g>\n",
       "<!-- B&#45;&gt;C -->\n",
       "<g id=\"edge4\" class=\"edge\">\n",
       "<title>B&#45;&gt;C</title>\n",
       "<path fill=\"none\" stroke=\"#000000\" d=\"M111.0496,-81.9244C104.7462,-70.8788 96.4425,-56.3281 89.35,-43.8997\"/>\n",
       "<polygon fill=\"#000000\" stroke=\"#000000\" points=\"92.2119,-41.8531 84.2156,-34.9026 86.1322,-45.3226 92.2119,-41.8531\"/>\n",
       "</g>\n",
       "</g>\n",
       "</svg>\n"
      ],
      "text/plain": [
       "<graphviz.dot.Digraph at 0x7f1808db14e0>"
      ]
     },
     "metadata": {},
     "output_type": "display_data"
    },
    {
     "name": "stdout",
     "output_type": "stream",
     "text": [
      "TODO: deque(['https://tyler.caraza-harter.com/cs320/s20/lectures/lec-20/calendar/C.html'])\n"
     ]
    },
    {
     "data": {
      "image/png": "[encoded data removed]",
      "text/plain": [
       "<IPython.core.display.Image object>"
      ]
     },
     "metadata": {},
     "output_type": "display_data"
    },
    {
     "data": {
      "image/svg+xml": [
       "<?xml version=\"1.0\" encoding=\"UTF-8\" standalone=\"no\"?>\n",
       "<!DOCTYPE svg PUBLIC \"-//W3C//DTD SVG 1.1//EN\"\n",
       " \"http://www.w3.org/Graphics/SVG/1.1/DTD/svg11.dtd\">\n",
       "<!-- Generated by graphviz version 2.40.1 (20161225.0304)\n",
       " -->\n",
       "<!-- Title: %3 Pages: 1 -->\n",
       "<svg width=\"164pt\" height=\"226pt\"\n",
       " viewBox=\"0.00 0.00 163.94 226.17\" xmlns=\"http://www.w3.org/2000/svg\" xmlns:xlink=\"http://www.w3.org/1999/xlink\">\n",
       "<g id=\"graph0\" class=\"graph\" transform=\"scale(1 1) rotate(0) translate(4 222.173)\">\n",
       "<title>%3</title>\n",
       "<polygon fill=\"#ffffff\" stroke=\"transparent\" points=\"-4,4 -4,-222.173 159.9395,-222.173 159.9395,4 -4,4\"/>\n",
       "<!-- A -->\n",
       "<g id=\"node1\" class=\"node\">\n",
       "<title>A</title>\n",
       "<ellipse fill=\"none\" stroke=\"#000000\" cx=\"36.5134\" cy=\"-18\" rx=\"27\" ry=\"18\"/>\n",
       "<text text-anchor=\"middle\" x=\"36.5134\" y=\"-14.3\" font-family=\"Times,serif\" font-size=\"14.00\" fill=\"#000000\">A</text>\n",
       "</g>\n",
       "<!-- B -->\n",
       "<g id=\"node2\" class=\"node\">\n",
       "<title>B</title>\n",
       "<ellipse fill=\"none\" stroke=\"#000000\" cx=\"128.9395\" cy=\"-31.4345\" rx=\"27\" ry=\"18\"/>\n",
       "<text text-anchor=\"middle\" x=\"128.9395\" y=\"-27.7345\" font-family=\"Times,serif\" font-size=\"14.00\" fill=\"#000000\">B</text>\n",
       "</g>\n",
       "<!-- A&#45;&gt;B -->\n",
       "<g id=\"edge1\" class=\"edge\">\n",
       "<title>A&#45;&gt;B</title>\n",
       "<path fill=\"none\" stroke=\"#000000\" d=\"M59.9309,-27.4904C69.6384,-29.6112 81.1351,-31.4775 91.9332,-32.7278\"/>\n",
       "<polygon fill=\"#000000\" stroke=\"#000000\" points=\"91.694,-36.2212 101.9908,-33.726 92.3853,-29.2554 91.694,-36.2212\"/>\n",
       "</g>\n",
       "<!-- C -->\n",
       "<g id=\"node3\" class=\"node\">\n",
       "<title>C</title>\n",
       "<ellipse fill=\"none\" stroke=\"#000000\" cx=\"70.9839\" cy=\"-106.0874\" rx=\"27\" ry=\"18\"/>\n",
       "<text text-anchor=\"middle\" x=\"70.9839\" y=\"-102.3874\" font-family=\"Times,serif\" font-size=\"14.00\" fill=\"#000000\">C</text>\n",
       "</g>\n",
       "<!-- A&#45;&gt;C -->\n",
       "<g id=\"edge2\" class=\"edge\">\n",
       "<title>A&#45;&gt;C</title>\n",
       "<path fill=\"none\" stroke=\"#000000\" d=\"M37.8406,-36.1113C41.333,-48.9844 47.813,-66.4177 54.2529,-80.674\"/>\n",
       "<polygon fill=\"#000000\" stroke=\"#000000\" points=\"51.207,-82.4185 58.6676,-89.9412 57.5265,-79.4079 51.207,-82.4185\"/>\n",
       "</g>\n",
       "<!-- B&#45;&gt;A -->\n",
       "<g id=\"edge3\" class=\"edge\">\n",
       "<title>B&#45;&gt;A</title>\n",
       "<path fill=\"none\" stroke=\"#000000\" d=\"M105.522,-21.9441C95.8144,-19.8233 84.3178,-17.9569 73.5197,-16.7066\"/>\n",
       "<polygon fill=\"#000000\" stroke=\"#000000\" points=\"73.7589,-13.2133 63.4621,-15.7085 73.0675,-20.1791 73.7589,-13.2133\"/>\n",
       "</g>\n",
       "<!-- B&#45;&gt;C -->\n",
       "<g id=\"edge4\" class=\"edge\">\n",
       "<title>B&#45;&gt;C</title>\n",
       "<path fill=\"none\" stroke=\"#000000\" d=\"M110.9156,-45.1918C101.9478,-54.9529 91.4327,-68.2602 83.3597,-79.9747\"/>\n",
       "<polygon fill=\"#000000\" stroke=\"#000000\" points=\"80.299,-78.2589 77.7283,-88.5372 86.1475,-82.1054 80.299,-78.2589\"/>\n",
       "</g>\n",
       "<!-- C&#45;&gt;A -->\n",
       "<g id=\"edge5\" class=\"edge\">\n",
       "<title>C&#45;&gt;A</title>\n",
       "<path fill=\"none\" stroke=\"#000000\" d=\"M69.6567,-87.976C66.1643,-75.103 59.6843,-57.6696 53.2444,-43.4133\"/>\n",
       "<polygon fill=\"#000000\" stroke=\"#000000\" points=\"56.2903,-41.6688 48.8297,-34.1462 49.9708,-44.6794 56.2903,-41.6688\"/>\n",
       "</g>\n",
       "<!-- C&#45;&gt;B -->\n",
       "<g id=\"edge6\" class=\"edge\">\n",
       "<title>C&#45;&gt;B</title>\n",
       "<path fill=\"none\" stroke=\"#000000\" d=\"M89.0078,-92.3301C97.9756,-82.5689 108.4907,-69.2616 116.5637,-57.5472\"/>\n",
       "<polygon fill=\"#000000\" stroke=\"#000000\" points=\"119.6244,-59.2629 122.195,-48.9846 113.7759,-55.4164 119.6244,-59.2629\"/>\n",
       "</g>\n",
       "<!-- JAN&#45;2020 -->\n",
       "<g id=\"node4\" class=\"node\">\n",
       "<title>JAN&#45;2020</title>\n",
       "<ellipse fill=\"none\" stroke=\"#000000\" cx=\"55.895\" cy=\"-200.173\" rx=\"55.7903\" ry=\"18\"/>\n",
       "<text text-anchor=\"middle\" x=\"55.895\" y=\"-196.473\" font-family=\"Times,serif\" font-size=\"14.00\" fill=\"#000000\">JAN&#45;2020</text>\n",
       "</g>\n",
       "<!-- C&#45;&gt;JAN&#45;2020 -->\n",
       "<g id=\"edge7\" class=\"edge\">\n",
       "<title>C&#45;&gt;JAN&#45;2020</title>\n",
       "<path fill=\"none\" stroke=\"#000000\" d=\"M68.0746,-124.228C65.9037,-137.7646 62.8968,-156.5141 60.4139,-171.996\"/>\n",
       "<polygon fill=\"#000000\" stroke=\"#000000\" points=\"56.9231,-171.66 58.7954,-182.0881 63.8348,-172.7685 56.9231,-171.66\"/>\n",
       "</g>\n",
       "</g>\n",
       "</svg>\n"
      ],
      "text/plain": [
       "<graphviz.dot.Digraph at 0x7f1808db14e0>"
      ]
     },
     "metadata": {},
     "output_type": "display_data"
    },
    {
     "name": "stdout",
     "output_type": "stream",
     "text": [
      "TODO: deque([])\n"
     ]
    }
   ],
   "source": [
    "while todo:\n",
    "    visit()"
   ]
  },
  {
   "cell_type": "code",
   "execution_count": null,
   "metadata": {},
   "outputs": [],
   "source": []
  }
 ],
 "metadata": {
  "kernelspec": {
   "display_name": "Python 3",
   "language": "python",
   "name": "python3"
  },
  "language_info": {
   "codemirror_mode": {
    "name": "ipython",
    "version": 3
   },
   "file_extension": ".py",
   "mimetype": "text/x-python",
   "name": "python",
   "nbconvert_exporter": "python",
   "pygments_lexer": "ipython3",
   "version": "3.6.9"
  }
 },
 "nbformat": 4,
 "nbformat_minor": 4
}
