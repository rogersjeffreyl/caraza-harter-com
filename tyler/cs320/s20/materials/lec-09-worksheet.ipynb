{
 "cells": [
  {
   "cell_type": "code",
   "execution_count": 8,
   "metadata": {},
   "outputs": [
    {
     "data": {
      "text/plain": [
       "120"
      ]
     },
     "execution_count": 8,
     "metadata": {},
     "output_type": "execute_result"
    }
   ],
   "source": [
    "def fact(n):\n",
    "    if n == 0:\n",
    "        return 1\n",
    "    return n * fact(n-1)\n",
    "fact(5)"
   ]
  },
  {
   "cell_type": "code",
   "execution_count": 9,
   "metadata": {},
   "outputs": [
    {
     "data": {
      "text/plain": [
       "8"
      ]
     },
     "execution_count": 9,
     "metadata": {},
     "output_type": "execute_result"
    }
   ],
   "source": [
    "def fib(n):\n",
    "    if n < 2:\n",
    "        return n\n",
    "    return fib(n-1) + fib(n-2)\n",
    "\n",
    "fib(6)"
   ]
  },
  {
   "cell_type": "code",
   "execution_count": 17,
   "metadata": {},
   "outputs": [
    {
     "name": "stdout",
     "output_type": "stream",
     "text": [
      "7\n",
      "8\n",
      "9\n"
     ]
    }
   ],
   "source": [
    "def f(n):\n",
    "    print(n)\n",
    "    if n < 9:\n",
    "        f(n + 1)\n",
    "# what does f(7) print?\n",
    "f(7)"
   ]
  },
  {
   "cell_type": "code",
   "execution_count": 19,
   "metadata": {},
   "outputs": [
    {
     "name": "stdout",
     "output_type": "stream",
     "text": [
      "9\n",
      "8\n",
      "7\n"
     ]
    }
   ],
   "source": [
    "def g(n):\n",
    "    if n < 9:\n",
    "        g(n + 1)    \n",
    "    print(n)\n",
    "# what does f(7) print?\n",
    "g(7)"
   ]
  },
  {
   "cell_type": "code",
   "execution_count": 22,
   "metadata": {},
   "outputs": [
    {
     "name": "stdout",
     "output_type": "stream",
     "text": [
      "3\n",
      "2\n",
      "1\n",
      "2\n",
      "3\n"
     ]
    }
   ],
   "source": [
    "def M(n):\n",
    "    print(n)\n",
    "    if n > 1:\n",
    "        M(n-1)\n",
    "        print(n)\n",
    "# what does M(3) print?\n",
    "M(3)"
   ]
  },
  {
   "cell_type": "code",
   "execution_count": 29,
   "metadata": {},
   "outputs": [
    {
     "data": {
      "text/plain": [
       "[3, 6, 5, 2]"
      ]
     },
     "execution_count": 29,
     "metadata": {},
     "output_type": "execute_result"
    }
   ],
   "source": [
    "B = []\n",
    "def f(A):\n",
    "    if len(A) > 0:\n",
    "        f(A[1:])\n",
    "        B.append(A[0])\n",
    "f([2, 5, 6, 3])\n",
    "# what is in B?\n",
    "B"
   ]
  },
  {
   "cell_type": "code",
   "execution_count": 34,
   "metadata": {},
   "outputs": [
    {
     "data": {
      "text/plain": [
       "5"
      ]
     },
     "execution_count": 34,
     "metadata": {},
     "output_type": "execute_result"
    }
   ],
   "source": [
    "class Node:\n",
    "    def __init__(self, val):\n",
    "        self.val = val\n",
    "        self.next = None\n",
    "        \n",
    "    def __getitem__(self, idx):\n",
    "        if idx == 0:\n",
    "            return self.val\n",
    "        return self.next[idx-1]\n",
    "    \n",
    "A = Node(3)\n",
    "B = Node(5)\n",
    "C = Node(7)\n",
    "A.next = B\n",
    "B.next = C\n",
    "\n",
    "A[1]"
   ]
  },
  {
   "cell_type": "code",
   "execution_count": 59,
   "metadata": {},
   "outputs": [
    {
     "name": "stdout",
     "output_type": "stream",
     "text": [
      "B.g\n",
      "E1.f\n",
      "D.__str__\n",
      "\n",
      "<__main__.C object at 0x10f406f28>\n",
      "C.h\n",
      "D.h\n"
     ]
    }
   ],
   "source": [
    "class A:\n",
    "    def f(self):\n",
    "        print(\"A.f\")\n",
    "        \n",
    "    def g(self):\n",
    "        print(\"A.g\")\n",
    "\n",
    "class B(A):\n",
    "    def g(self):\n",
    "        print(\"B.g\")\n",
    "\n",
    "class C(A):\n",
    "    def h(self):\n",
    "        print(\"C.h\")\n",
    "\n",
    "class D(A):\n",
    "    def h(self):\n",
    "        print(\"D.h\")\n",
    "    \n",
    "    def __str__(self):\n",
    "        print(\"D.__str__\")\n",
    "        return \"\"\n",
    "\n",
    "class E1(C, D):\n",
    "    def f(self):\n",
    "        print(\"E1.f\")\n",
    "        \n",
    "class E2(D, C):\n",
    "    pass\n",
    "        \n",
    "class M(B, E1):\n",
    "    pass\n",
    "        \n",
    "w = C()\n",
    "x = M()\n",
    "y = E1()\n",
    "z = E2()\n",
    "        \n",
    "x.g()\n",
    "x.f()\n",
    "print(x)\n",
    "print(w)\n",
    "y.h()\n",
    "z.h()"
   ]
  },
  {
   "cell_type": "code",
   "execution_count": 63,
   "metadata": {},
   "outputs": [
    {
     "data": {
      "text/plain": [
       "(__main__.M,\n",
       " __main__.B,\n",
       " __main__.E1,\n",
       " __main__.C,\n",
       " __main__.D,\n",
       " __main__.A,\n",
       " object)"
      ]
     },
     "execution_count": 63,
     "metadata": {},
     "output_type": "execute_result"
    }
   ],
   "source": [
    "type(x).__mro__"
   ]
  },
  {
   "cell_type": "code",
   "execution_count": 67,
   "metadata": {},
   "outputs": [
    {
     "name": "stdout",
     "output_type": "stream",
     "text": [
      "False\n",
      "True\n",
      "True\n",
      "True\n"
     ]
    },
    {
     "data": {
      "text/plain": [
       "False"
      ]
     },
     "execution_count": 67,
     "metadata": {},
     "output_type": "execute_result"
    }
   ],
   "source": [
    "print(type(w) == A)\n",
    "print(type(w) == C)\n",
    "print(isinstance(w, A))\n",
    "print(isinstance(w, C))\n",
    "isinstance(B, A)"
   ]
  },
  {
   "cell_type": "code",
   "execution_count": null,
   "metadata": {},
   "outputs": [],
   "source": [
    "class "
   ]
  }
 ],
 "metadata": {
  "kernelspec": {
   "display_name": "Python 3",
   "language": "python",
   "name": "python3"
  },
  "language_info": {
   "codemirror_mode": {
    "name": "ipython",
    "version": 3
   },
   "file_extension": ".py",
   "mimetype": "text/x-python",
   "name": "python",
   "nbconvert_exporter": "python",
   "pygments_lexer": "ipython3",
   "version": "3.7.2"
  }
 },
 "nbformat": 4,
 "nbformat_minor": 2
}
