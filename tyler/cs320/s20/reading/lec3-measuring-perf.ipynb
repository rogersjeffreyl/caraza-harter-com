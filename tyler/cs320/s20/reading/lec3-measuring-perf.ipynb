{
 "cells": [
  {
   "cell_type": "markdown",
   "metadata": {},
   "source": [
    "# Running and Timing Programs\n",
    "\n",
    "In this notebook, we'll learn how to write programs that can launch other programs and time how long it takes to do things (you'll often be combining these skills to time how long it takes to run a program).\n",
    "\n",
    "Both these skills are covered in much more detail in an optional reading, Chapter 17 of Automate the Boring Stuff: https://automatetheboringstuff.com/2e/chapter17/.  If you decide to read that, we recommend skipping the middle sections, \"Multithreading\" through \"Project: Multithreaded XKCD Downloader\"\n",
    "\n",
    "## Running Programs\n",
    "\n",
    "### Example 1: Running `pwd`\n",
    "\n",
    "Remember that running the `pwd` program in a shell tells you what directly you're currently in.  Let's write some Python code to run the `pwd` program automatically and capture the output.  We'll do this with the `check_output` function in the `subprocess` module (https://docs.python.org/2/library/subprocess.html#subprocess.check_output) -- let's import that."
   ]
  },
  {
   "cell_type": "code",
   "execution_count": 1,
   "metadata": {},
   "outputs": [],
   "source": [
    "from subprocess import check_output"
   ]
  },
  {
   "cell_type": "markdown",
   "metadata": {},
   "source": [
    "In the simplest form, we can run pass a program name (as a string) to the function, which will capture and return the output:"
   ]
  },
  {
   "cell_type": "code",
   "execution_count": 2,
   "metadata": {},
   "outputs": [
    {
     "data": {
      "text/plain": [
       "b'/home/trh/lec3\\n'"
      ]
     },
     "execution_count": 2,
     "metadata": {},
     "output_type": "execute_result"
    }
   ],
   "source": [
    "output = check_output(\"pwd\")\n",
    "output"
   ]
  },
  {
   "cell_type": "markdown",
   "metadata": {},
   "source": [
    "What type is that output?  It looks like a string, but with a \"b\" in front.  Hmmmm...."
   ]
  },
  {
   "cell_type": "code",
   "execution_count": 3,
   "metadata": {},
   "outputs": [
    {
     "data": {
      "text/plain": [
       "bytes"
      ]
     },
     "execution_count": 3,
     "metadata": {},
     "output_type": "execute_result"
    }
   ],
   "source": [
    "type(output)"
   ]
  },
  {
   "cell_type": "markdown",
   "metadata": {},
   "source": [
    "The `bytes` type in Python is a sequence, like a string.  The difference is that `bytes` may contain letters (as in this case), or other types.  If we know the encoding of a bytes sequence, we can convert to a string as follows:"
   ]
  },
  {
   "cell_type": "code",
   "execution_count": 4,
   "metadata": {},
   "outputs": [
    {
     "data": {
      "text/plain": [
       "'/home/trh/lec3\\n'"
      ]
     },
     "execution_count": 4,
     "metadata": {},
     "output_type": "execute_result"
    }
   ],
   "source": [
    "str_output = str(output, encoding=\"utf-8\")\n",
    "str_output"
   ]
  },
  {
   "cell_type": "code",
   "execution_count": 5,
   "metadata": {},
   "outputs": [
    {
     "data": {
      "text/plain": [
       "str"
      ]
     },
     "execution_count": 5,
     "metadata": {},
     "output_type": "execute_result"
    }
   ],
   "source": [
    "type(str_output)"
   ]
  },
  {
   "cell_type": "markdown",
   "metadata": {},
   "source": [
    "### Example 2: Checking Versions\n",
    "\n",
    "What version of git do we have on this computer?  From the command line, we could run `git --version` to find out.  But let's do that in code.  This is a little trickier because we have both a program name, `git`, and an argument, `--version`.  The `checkout_output` function supports two ways of running programs with arguments.\n",
    "\n",
    "Way 1: pass `shell=True`"
   ]
  },
  {
   "cell_type": "code",
   "execution_count": 6,
   "metadata": {},
   "outputs": [
    {
     "data": {
      "text/plain": [
       "b'git version 2.17.1\\n'"
      ]
     },
     "execution_count": 6,
     "metadata": {},
     "output_type": "execute_result"
    }
   ],
   "source": [
    "check_output(\"git --version\", shell=True)"
   ]
  },
  {
   "cell_type": "markdown",
   "metadata": {},
   "source": [
    "Or (preferred), we can pass the program and arguments in one list:"
   ]
  },
  {
   "cell_type": "code",
   "execution_count": 7,
   "metadata": {},
   "outputs": [
    {
     "data": {
      "text/plain": [
       "b'git version 2.17.1\\n'"
      ]
     },
     "execution_count": 7,
     "metadata": {},
     "output_type": "execute_result"
    }
   ],
   "source": [
    "check_output([\"git\", \"--version\"])"
   ]
  },
  {
   "cell_type": "markdown",
   "metadata": {},
   "source": [
    "Let's actually do the string manipulation work to isolate the version:"
   ]
  },
  {
   "cell_type": "code",
   "execution_count": 8,
   "metadata": {},
   "outputs": [
    {
     "data": {
      "text/plain": [
       "'git version 2.17.1\\n'"
      ]
     },
     "execution_count": 8,
     "metadata": {},
     "output_type": "execute_result"
    }
   ],
   "source": [
    "output = str(check_output([\"git\", \"--version\"]), encoding=\"utf-8\")\n",
    "output"
   ]
  },
  {
   "cell_type": "code",
   "execution_count": 9,
   "metadata": {},
   "outputs": [
    {
     "data": {
      "text/plain": [
       "['git', 'version', '2.17.1']"
      ]
     },
     "execution_count": 9,
     "metadata": {},
     "output_type": "execute_result"
    }
   ],
   "source": [
    "parts = output.strip().split()\n",
    "parts"
   ]
  },
  {
   "cell_type": "code",
   "execution_count": 10,
   "metadata": {},
   "outputs": [
    {
     "data": {
      "text/plain": [
       "'2.17.1'"
      ]
     },
     "execution_count": 10,
     "metadata": {},
     "output_type": "execute_result"
    }
   ],
   "source": [
    "version = parts[-1]\n",
    "version"
   ]
  },
  {
   "cell_type": "markdown",
   "metadata": {},
   "source": [
    "If we needed to have a specific version, we might use the above to have an assert like this:\n",
    "\n",
    "```\n",
    "assert version == `2.17.1`\n",
    "```\n",
    "\n",
    "What if the program isn't installed, or we pass it some arguments that cause it to crash, as in the following example?  We'll want to have catch some exceptions in these scenarios:"
   ]
  },
  {
   "cell_type": "code",
   "execution_count": 11,
   "metadata": {},
   "outputs": [
    {
     "name": "stdout",
     "output_type": "stream",
     "text": [
      "program crashed\n",
      "OUTPUT: b''\n"
     ]
    }
   ],
   "source": [
    "import subprocess\n",
    "\n",
    "try:\n",
    "    output = str(check_output([\"git\", \"--oops\"]), encoding=\"utf-8\")\n",
    "except FileNotFoundError:\n",
    "    print(\"program not installed?\")\n",
    "except subprocess.CalledProcessError as e:\n",
    "    print(\"program crashed\")\n",
    "    # if there were any output before it crashed, we could look at it\n",
    "    # with this:\n",
    "    print(\"OUTPUT:\", e.output)"
   ]
  },
  {
   "cell_type": "code",
   "execution_count": 12,
   "metadata": {},
   "outputs": [
    {
     "data": {
      "text/plain": [
       "b'No LSB modules are available.\\nDistributor ID:\\tUbuntu\\nDescription:\\tUbuntu 18.04.3 LTS\\nRelease:\\t18.04\\nCodename:\\tbionic\\n'"
      ]
     },
     "execution_count": 12,
     "metadata": {},
     "output_type": "execute_result"
    }
   ],
   "source": [
    "check_output([\"lsb_release\", \"-a\"], stderr=subprocess.STDOUT)"
   ]
  },
  {
   "cell_type": "markdown",
   "metadata": {},
   "source": [
    "### Example 3: Making Animations\n",
    "\n",
    "A common situation is that there will be some program that does something useful that we can't directly do in Python, and we'll want to write Python code to run these external programs to make use of their features.\n",
    "\n",
    "For example, the `ffmpeg` program can make an animated video by glueing together a bunch of `.png` image files in sequence.  There are ways to make animations directly in Python, but for now let's see how we can execute `ffmpeg` with `check_output` to make a video.\n",
    "\n",
    "First, you should install the `ffmpeg` program on Ubuntu so we can use it -- run the following in the shell:\n",
    "\n",
    "```\n",
    "sudo apt install ffmpeg\n",
    "```\n",
    "\n",
    "Now, let's write some code to make a series of plots with a red dot in different positions, and save those plots as `0.png`, `1.png`, etc.  The idea is that these images are similar enough that if you flipped through them, it would look like a rough video."
   ]
  },
  {
   "cell_type": "code",
   "execution_count": 13,
   "metadata": {},
   "outputs": [],
   "source": [
    "import os\n",
    "import matplotlib\n",
    "from matplotlib import pyplot as plt"
   ]
  },
  {
   "cell_type": "code",
   "execution_count": 14,
   "metadata": {},
   "outputs": [],
   "source": [
    "%matplotlib inline"
   ]
  },
  {
   "cell_type": "code",
   "execution_count": 15,
   "metadata": {},
   "outputs": [],
   "source": [
    "matplotlib.rcParams[\"font.size\"] = 16"
   ]
  },
  {
   "cell_type": "code",
   "execution_count": 16,
   "metadata": {},
   "outputs": [
    {
     "data": {
      "image/png": "[encoded data removed]",
      "text/plain": [
       "<Figure size 432x288 with 1 Axes>"
      ]
     },
     "metadata": {
      "needs_background": "light"
     },
     "output_type": "display_data"
    },
    {
     "data": {
      "image/png": "[encoded data removed]",
      "text/plain": [
       "<Figure size 432x288 with 1 Axes>"
      ]
     },
     "metadata": {
      "needs_background": "light"
     },
     "output_type": "display_data"
    },
    {
     "data": {
      "image/png": "[encoded data removed]",
      "text/plain": [
       "<Figure size 432x288 with 1 Axes>"
      ]
     },
     "metadata": {
      "needs_background": "light"
     },
     "output_type": "display_data"
    },
    {
     "data": {
      "image/png": "[encoded data removed]",
      "text/plain": [
       "<Figure size 432x288 with 1 Axes>"
      ]
     },
     "metadata": {
      "needs_background": "light"
     },
     "output_type": "display_data"
    },
    {
     "data": {
      "image/png": "[encoded data removed]",
      "text/plain": [
       "<Figure size 432x288 with 1 Axes>"
      ]
     },
     "metadata": {
      "needs_background": "light"
     },
     "output_type": "display_data"
    }
   ],
   "source": [
    "def plot_circle(filename, x, y):\n",
    "    fig, ax = plt.subplots()\n",
    "    ax.set_xlim(0, 1)\n",
    "    ax.set_ylim(0, 1)\n",
    "    ax.plot(x, y, 'ro', markersize=20)\n",
    "    fig.savefig(os.path.join(\"img\", filename))\n",
    "\n",
    "if not os.path.exists(\"img\"):\n",
    "    os.mkdir(\"img\")\n",
    "\n",
    "plot_circle(\"0.png\", x=0, y=0)\n",
    "plot_circle(\"1.png\", x=0.25, y=0.25)\n",
    "plot_circle(\"2.png\", x=0.5, y=0.5)\n",
    "plot_circle(\"3.png\", x=0.75, y=0.25)\n",
    "plot_circle(\"4.png\", x=1, y=0)"
   ]
  },
  {
   "cell_type": "markdown",
   "metadata": {},
   "source": [
    "Let's check that we created the png files in the `img` directory:"
   ]
  },
  {
   "cell_type": "code",
   "execution_count": 17,
   "metadata": {},
   "outputs": [
    {
     "data": {
      "text/plain": [
       "['0.png', '1.png', '4.png', '2.png', '3.png']"
      ]
     },
     "execution_count": 17,
     "metadata": {},
     "output_type": "execute_result"
    }
   ],
   "source": [
    "os.listdir(\"img\")"
   ]
  },
  {
   "cell_type": "markdown",
   "metadata": {},
   "source": [
    "Let's also check that they look right.  In the `IPython.display` module, there are `Image(...)` and `HTML(...)` functions that are useful for loading pictures and HTML directly into our notebook.  Let's use the first function to check that our `0.png` file looks right."
   ]
  },
  {
   "cell_type": "code",
   "execution_count": 18,
   "metadata": {},
   "outputs": [
    {
     "data": {
      "image/png": "[encoded data removed]",
      "text/plain": [
       "<IPython.core.display.Image object>"
      ]
     },
     "execution_count": 18,
     "metadata": {},
     "output_type": "execute_result"
    }
   ],
   "source": [
    "from IPython.display import Image, HTML\n",
    "Image(filename='img/0.png')"
   ]
  },
  {
   "cell_type": "markdown",
   "metadata": {},
   "source": [
    "Great!  Now, from the command line, try running this command, inside the same directory where this notebook is running:\n",
    "\n",
    "```\n",
    "'ffmpeg -y -framerate 5 -i img/%d.png out.mp4\n",
    "```\n",
    "\n",
    "If it succeeds, there should be an out.mp4 file generated.  Try downloading it to your computer via the Jupyter interface (don't try to open it directly from Jupyter) and open it on your laptop.  Cool, huh?\n",
    "\n",
    "Now let's try running that same command with `check_output`.  We'll need to break up all the arguments into different entries in a list:"
   ]
  },
  {
   "cell_type": "code",
   "execution_count": 19,
   "metadata": {},
   "outputs": [
    {
     "data": {
      "text/plain": [
       "b''"
      ]
     },
     "execution_count": 19,
     "metadata": {},
     "output_type": "execute_result"
    }
   ],
   "source": [
    "check_output(['ffmpeg', '-y', '-framerate', '5', '-i', 'img/%d.png', 'out.mp4'])"
   ]
  },
  {
   "cell_type": "markdown",
   "metadata": {},
   "source": [
    "There was no output, which is fine.  But it should have created an `out.mp4` file, as before.  You can embed `.mp4` video files in websites with the `<video>` tag.  This is great because we can inject HTML using the `HTML(...)` function from earlier:"
   ]
  },
  {
   "cell_type": "code",
   "execution_count": 20,
   "metadata": {},
   "outputs": [
    {
     "data": {
      "text/html": [
       "This is <b>bold</b> text."
      ],
      "text/plain": [
       "<IPython.core.display.HTML object>"
      ]
     },
     "execution_count": 20,
     "metadata": {},
     "output_type": "execute_result"
    }
   ],
   "source": [
    "HTML(\"This is <b>bold</b> text.\")"
   ]
  },
  {
   "cell_type": "markdown",
   "metadata": {},
   "source": [
    "The natural thing to do is to inject some HTML to embed the `out.mp4` animation we just created:"
   ]
  },
  {
   "cell_type": "code",
   "execution_count": 21,
   "metadata": {},
   "outputs": [
    {
     "data": {
      "text/html": [
       "\n",
       "<video width=\"320\" height=\"240\" controls>\n",
       "  <source src=\"out.mp4\" type=\"video/mp4\">\n",
       "</video>\n"
      ],
      "text/plain": [
       "<IPython.core.display.HTML object>"
      ]
     },
     "execution_count": 21,
     "metadata": {},
     "output_type": "execute_result"
    }
   ],
   "source": [
    "HTML(\"\"\"\n",
    "<video width=\"320\" height=\"240\" controls>\n",
    "  <source src=\"out.mp4\" type=\"video/mp4\">\n",
    "</video>\n",
    "\"\"\")"
   ]
  },
  {
   "cell_type": "markdown",
   "metadata": {},
   "source": [
    "## Measuring Time\n",
    "\n",
    "The easiest way to measure how long something takes is to check the time before and after we do it.  We can check with the `time` function inside the `time` module.  This function returns the number of seconds elapsed since Jan 1, 1970:"
   ]
  },
  {
   "cell_type": "code",
   "execution_count": 22,
   "metadata": {},
   "outputs": [
    {
     "data": {
      "text/plain": [
       "1580012140.156789"
      ]
     },
     "execution_count": 22,
     "metadata": {},
     "output_type": "execute_result"
    }
   ],
   "source": [
    "import time\n",
    "now = time.time()\n",
    "now"
   ]
  },
  {
   "cell_type": "code",
   "execution_count": 23,
   "metadata": {},
   "outputs": [
    {
     "data": {
      "text/plain": [
       "50.10185629619448"
      ]
     },
     "execution_count": 23,
     "metadata": {},
     "output_type": "execute_result"
    }
   ],
   "source": [
    "minutes = now / 60\n",
    "hours = minutes / 60\n",
    "days = hours / 24\n",
    "years = days / 365\n",
    "years # should be about number of years since 1970 -- is it?"
   ]
  },
  {
   "cell_type": "markdown",
   "metadata": {},
   "source": [
    "Let's use this to time how long a print call takes:"
   ]
  },
  {
   "cell_type": "code",
   "execution_count": 24,
   "metadata": {},
   "outputs": [
    {
     "name": "stdout",
     "output_type": "stream",
     "text": [
      "I'm printing something\n",
      "It took 0.0007674694061279297 seconds to print\n"
     ]
    }
   ],
   "source": [
    "before = time.time()\n",
    "print(\"I'm printing something\")\n",
    "after = time.time()\n",
    "print(\"It took\", (after-before), \"seconds to print\")"
   ]
  },
  {
   "cell_type": "markdown",
   "metadata": {},
   "source": [
    "A slightly cleaner version of the same that computers milliseconds (1ms is 1/1000 seconds):"
   ]
  },
  {
   "cell_type": "code",
   "execution_count": 25,
   "metadata": {},
   "outputs": [
    {
     "name": "stdout",
     "output_type": "stream",
     "text": [
      "I'm printing something\n",
      "It took 1.5339851379394531 ms to print\n"
     ]
    }
   ],
   "source": [
    "t0 = time.time()\n",
    "print(\"I'm printing something\")\n",
    "t1 = time.time()\n",
    "ms = (t1-t0) * 1000\n",
    "print(\"It took\", ms, \"ms to print\")"
   ]
  },
  {
   "cell_type": "markdown",
   "metadata": {},
   "source": [
    "How long does it take to append something to the end of a list?"
   ]
  },
  {
   "cell_type": "code",
   "execution_count": 26,
   "metadata": {},
   "outputs": [
    {
     "name": "stdout",
     "output_type": "stream",
     "text": [
      "microseconds: 46.49162292480469\n"
     ]
    }
   ],
   "source": [
    "L = []\n",
    "t0 = time.time()\n",
    "L.append(\"test\")\n",
    "t1 = time.time()\n",
    "us = (t1-t0) * 1e6 # microseconds (there are 1 second has 1000000 microseconds)\n",
    "print(\"microseconds:\", us)"
   ]
  },
  {
   "cell_type": "markdown",
   "metadata": {},
   "source": [
    "The problem with the above measurement is that it is it varies significantly each time you try it, and we can easily end up measuring something other than append time.  For example, what if calling `time.time()` is much slower than calling `L.append(\"test\")`?  It is better to perform an operation many times between checking the start+stop times and then divide to get the average cost of the operation:"
   ]
  },
  {
   "cell_type": "code",
   "execution_count": 27,
   "metadata": {},
   "outputs": [
    {
     "name": "stdout",
     "output_type": "stream",
     "text": [
      "microseconds: 0.11628866195678711\n"
     ]
    }
   ],
   "source": [
    "L = []\n",
    "append_count = 1000000 # do 1 million appends\n",
    "t0 = time.time()\n",
    "for i in range(append_count):\n",
    "    L.append(\"test\")\n",
    "t1 = time.time()\n",
    "us = (t1-t0) / append_count * 1e6 # microseconds (there are 1 second has 1000000 microseconds)\n",
    "print(\"microseconds:\", us)"
   ]
  },
  {
   "cell_type": "markdown",
   "metadata": {},
   "source": [
    "### Example 1: the `in` operator\n",
    "\n",
    "The `in` operator can be used to check whether a value is in a list or a set, but it's much faster on a set.  If your code needs to perform the `in` operation a lot, this is a good reason to use a set rather than a list.  Let's review how `in` works on each:"
   ]
  },
  {
   "cell_type": "code",
   "execution_count": 28,
   "metadata": {},
   "outputs": [],
   "source": [
    "L = [\"A\", \"B\", \"C\"]\n",
    "S = {\"A\", \"B\", \"C\"}"
   ]
  },
  {
   "cell_type": "code",
   "execution_count": 29,
   "metadata": {},
   "outputs": [
    {
     "data": {
      "text/plain": [
       "(True, False, True, False)"
      ]
     },
     "execution_count": 29,
     "metadata": {},
     "output_type": "execute_result"
    }
   ],
   "source": [
    "\"A\" in L, \"D\" in L, \"A\" in S, \"D\" in S"
   ]
  },
  {
   "cell_type": "markdown",
   "metadata": {},
   "source": [
    "Let's see how fast `in` is if we are checking over 1 million numbers in a list or a set."
   ]
  },
  {
   "cell_type": "code",
   "execution_count": 30,
   "metadata": {},
   "outputs": [
    {
     "data": {
      "text/plain": [
       "(0.03838539123535156, 0.03647804260253906)"
      ]
     },
     "execution_count": 30,
     "metadata": {},
     "output_type": "execute_result"
    }
   ],
   "source": [
    "seq_size = 1000000\n",
    "L = list(range(seq_size))\n",
    "S = set(range(seq_size))\n",
    "\n",
    "# return average microseconds to perform lookup\n",
    "def time_lookup(data, search):\n",
    "    trials = 1000\n",
    "    t0 = time.time()\n",
    "    for i in range(trials):\n",
    "        found = search in data\n",
    "    t1 = time.time()\n",
    "    return (t1-t0)*1e6/trials\n",
    "\n",
    "time_lookup(L, 0), time_lookup(S, 0)"
   ]
  },
  {
   "cell_type": "markdown",
   "metadata": {},
   "source": [
    "Ok, looks like looking up `0` (the first number) is about equally fast in either data structure.\n",
    "\n",
    "What if we lookup a number that's not stored?"
   ]
  },
  {
   "cell_type": "code",
   "execution_count": 31,
   "metadata": {},
   "outputs": [
    {
     "data": {
      "text/plain": [
       "(10005.323648452759, 0.05078315734863281)"
      ]
     },
     "execution_count": 31,
     "metadata": {},
     "output_type": "execute_result"
    }
   ],
   "source": [
    "time_lookup(L, -1), time_lookup(S, -1)"
   ]
  },
  {
   "cell_type": "markdown",
   "metadata": {},
   "source": [
    "Woah, now the list is >10K times slower!  What if we lookup the last item in the list?"
   ]
  },
  {
   "cell_type": "code",
   "execution_count": 32,
   "metadata": {},
   "outputs": [
    {
     "data": {
      "text/plain": [
       "(11370.5153465271, 0.06365776062011719)"
      ]
     },
     "execution_count": 32,
     "metadata": {},
     "output_type": "execute_result"
    }
   ],
   "source": [
    "time_lookup(L, 999999), time_lookup(S, 999999)"
   ]
  },
  {
   "cell_type": "markdown",
   "metadata": {},
   "source": [
    "The set is fast again, but the list is still really slow (about as slow as looking up something that doesn't exist).  What if we lookup a number in the middle?"
   ]
  },
  {
   "cell_type": "code",
   "execution_count": 33,
   "metadata": {},
   "outputs": [
    {
     "data": {
      "text/plain": [
       "(5665.204048156738, 0.05984306335449219)"
      ]
     },
     "execution_count": 33,
     "metadata": {},
     "output_type": "execute_result"
    }
   ],
   "source": [
    "time_lookup(L, 500000), time_lookup(S, 500000)"
   ]
  },
  {
   "cell_type": "markdown",
   "metadata": {},
   "source": [
    "Well, checking for something in the middle of a list is about twice as fast as checking for the last item.  Can you guess why?\n",
    "\n",
    "It turns out that while sets are designed around making `in` fast, running `in` on a list amounts to looping over ever item, much like a call to the following function."
   ]
  },
  {
   "cell_type": "code",
   "execution_count": 34,
   "metadata": {},
   "outputs": [],
   "source": [
    "def is_in(L, search):\n",
    "    for item in L:\n",
    "        if search == L: # if this is True early in the list, the search is fast\n",
    "            return True\n",
    "    return False"
   ]
  },
  {
   "cell_type": "markdown",
   "metadata": {},
   "source": [
    "How does the list size factor in when we perform an `in` and we don't find anything?  Let's do an experiment to find out."
   ]
  },
  {
   "cell_type": "code",
   "execution_count": 35,
   "metadata": {},
   "outputs": [
    {
     "data": {
      "text/plain": [
       "1000      9.924889\n",
       "2000     19.252300\n",
       "5000     48.464060\n",
       "10000    96.690893\n",
       "dtype: float64"
      ]
     },
     "execution_count": 35,
     "metadata": {},
     "output_type": "execute_result"
    }
   ],
   "source": [
    "from pandas import Series\n",
    "\n",
    "times = Series()\n",
    "\n",
    "for size in [1000, 2000, 5000, 10000]:\n",
    "    L = list(range(size))\n",
    "    microseconds = time_lookup(L, -1)\n",
    "    times.loc[size] = microseconds\n",
    "times"
   ]
  },
  {
   "cell_type": "code",
   "execution_count": 36,
   "metadata": {},
   "outputs": [
    {
     "data": {
      "image/png": "[encoded data removed]",
      "text/plain": [
       "<Figure size 432x288 with 1 Axes>"
      ]
     },
     "metadata": {
      "needs_background": "light"
     },
     "output_type": "display_data"
    }
   ],
   "source": [
    "ax = times.plot.line(color=\"r\")\n",
    "\n",
    "# following makes plot look better (only necessary if we plan to share it with others)\n",
    "ax.spines[\"right\"].set_visible(False)\n",
    "ax.spines[\"top\"].set_visible(False)\n",
    "ax.set_xlabel(\"List Size\")\n",
    "ax.set_ylabel(\"Lookup Miss Time (μs)\")\n",
    "None"
   ]
  },
  {
   "cell_type": "markdown",
   "metadata": {},
   "source": [
    "Looking at the above, we would say that the `in` operator scales *linearly*.  In otherwords, doubling the list size doubles the time it takes to perform the operation.\n",
    "\n",
    "### Example 2: Ratio Search\n",
    "\n",
    "Not all functions we'll encounter will scale linearly.  For example, consider this one, which checks whether the ratio of any two numbers in a list matches the ration we're searching for:"
   ]
  },
  {
   "cell_type": "code",
   "execution_count": 37,
   "metadata": {},
   "outputs": [
    {
     "data": {
      "text/plain": [
       "True"
      ]
     },
     "execution_count": 37,
     "metadata": {},
     "output_type": "execute_result"
    }
   ],
   "source": [
    "def ratio_search(L, ratio):\n",
    "    for numerator in L:\n",
    "        for denominator in L:\n",
    "            if numerator / denominator == ratio:\n",
    "                return True\n",
    "    return False\n",
    "\n",
    "ratio_search([1, 2, 3, 4], 0.75)"
   ]
  },
  {
   "cell_type": "code",
   "execution_count": 38,
   "metadata": {},
   "outputs": [
    {
     "data": {
      "text/plain": [
       "False"
      ]
     },
     "execution_count": 38,
     "metadata": {},
     "output_type": "execute_result"
    }
   ],
   "source": [
    "ratio_search([1, 2, 3, 4], 0.2)"
   ]
  },
  {
   "cell_type": "markdown",
   "metadata": {},
   "source": [
    "Let's see how it scales when we search for a ratio we know we won't find."
   ]
  },
  {
   "cell_type": "code",
   "execution_count": 39,
   "metadata": {},
   "outputs": [
    {
     "data": {
      "text/plain": [
       "0       0.000002\n",
       "1000    0.056617\n",
       "2000    0.222575\n",
       "3000    0.508784\n",
       "4000    0.892418\n",
       "5000    1.397332\n",
       "dtype: float64"
      ]
     },
     "execution_count": 39,
     "metadata": {},
     "output_type": "execute_result"
    }
   ],
   "source": [
    "import random, string\n",
    "\n",
    "times = Series()\n",
    "\n",
    "for i in range(6):\n",
    "    size = i * 1000\n",
    "    L = list(range(1, size+1)) # don't include 0, because we need to divide\n",
    "\n",
    "    t0 = time.time()\n",
    "    found = ratio_search(L, -1)\n",
    "    t1 = time.time()\n",
    "\n",
    "    times.loc[size] = t1-t0\n",
    "times"
   ]
  },
  {
   "cell_type": "code",
   "execution_count": 40,
   "metadata": {},
   "outputs": [
    {
     "data": {
      "image/png": "[encoded data removed]",
      "text/plain": [
       "<Figure size 432x288 with 1 Axes>"
      ]
     },
     "metadata": {
      "needs_background": "light"
     },
     "output_type": "display_data"
    }
   ],
   "source": [
    "ax = times.plot.line(color=\"r\")\n",
    "\n",
    "# following makes plot look better (only necessary if we plan to share it with others)\n",
    "ax.spines[\"right\"].set_visible(False)\n",
    "ax.spines[\"top\"].set_visible(False)\n",
    "ax.set_xlabel(\"List Size\")\n",
    "ax.set_ylabel(\"Lookup Miss Time (μs)\")\n",
    "None"
   ]
  },
  {
   "cell_type": "markdown",
   "metadata": {},
   "source": [
    "The above is an example of quadratic scaling: doubling the list size quadruples the time it takes to run!"
   ]
  },
  {
   "cell_type": "markdown",
   "metadata": {},
   "source": [
    "# Conclusion\n",
    "\n",
    "In this notebook, we've learned how to automatically run programs and time code.  Together, these skills provide the empirical basis for exploring performance and scalability.  Soon, we'll be learning a bit of theory (complexity analysis) and notation (big-O) for thinking about what happens to performance as we add more data."
   ]
  },
  {
   "cell_type": "code",
   "execution_count": null,
   "metadata": {},
   "outputs": [],
   "source": []
  }
 ],
 "metadata": {
  "kernelspec": {
   "display_name": "Python 3",
   "language": "python",
   "name": "python3"
  },
  "language_info": {
   "codemirror_mode": {
    "name": "ipython",
    "version": 3
   },
   "file_extension": ".py",
   "mimetype": "text/x-python",
   "name": "python",
   "nbconvert_exporter": "python",
   "pygments_lexer": "ipython3",
   "version": "3.6.9"
  }
 },
 "nbformat": 4,
 "nbformat_minor": 4
}
