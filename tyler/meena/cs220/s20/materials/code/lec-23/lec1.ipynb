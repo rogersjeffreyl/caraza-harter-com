{
 "cells": [
  {
   "cell_type": "code",
   "execution_count": 1,
   "metadata": {},
   "outputs": [
    {
     "data": {
      "text/html": [
       "<style>.container { width:100% !important; }</style>"
      ],
      "text/plain": [
       "<IPython.core.display.HTML object>"
      ]
     },
     "metadata": {},
     "output_type": "display_data"
    }
   ],
   "source": [
    "#ignore this\n",
    "from IPython.core.display import display, HTML\n",
    "display(HTML(\"<style>.container { width:100% !important; }</style>\"))"
   ]
  },
  {
   "cell_type": "code",
   "execution_count": 30,
   "metadata": {},
   "outputs": [
    {
     "name": "stdout",
     "output_type": "stream",
     "text": [
      "*  A\n",
      "    *  subpoint 1\n",
      "    *  subpoint 2\n",
      "*  B\n",
      "*  C\n",
      "    *  c subs\n",
      "        *  i\n",
      "        *  ii\n"
     ]
    }
   ],
   "source": [
    "def pretty_print(values, indent=0):\n",
    "    for v in values:\n",
    "        if type(v) == list:\n",
    "            pretty_print(v, indent + 4)\n",
    "        else:\n",
    "            spaces = \" \"*indent\n",
    "            print(spaces + \"* \", v)\n",
    "    \n",
    "pretty_print([\"A\", [\"subpoint 1\", \"subpoint 2\"], \"B\", \"C\", [\"c subs\", [\"i\", \"ii\"]]])"
   ]
  },
  {
   "cell_type": "code",
   "execution_count": null,
   "metadata": {},
   "outputs": [],
   "source": []
  }
 ],
 "metadata": {
  "kernelspec": {
   "display_name": "Python 3",
   "language": "python",
   "name": "python3"
  },
  "language_info": {
   "codemirror_mode": {
    "name": "ipython",
    "version": 3
   },
   "file_extension": ".py",
   "mimetype": "text/x-python",
   "name": "python",
   "nbconvert_exporter": "python",
   "pygments_lexer": "ipython3",
   "version": "3.7.2"
  }
 },
 "nbformat": 4,
 "nbformat_minor": 2
}
