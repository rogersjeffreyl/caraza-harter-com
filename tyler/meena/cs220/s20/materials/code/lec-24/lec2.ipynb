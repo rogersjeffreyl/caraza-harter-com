{
 "cells": [
  {
   "cell_type": "code",
   "execution_count": 1,
   "metadata": {},
   "outputs": [
    {
     "data": {
      "text/html": [
       "<style>.container { width:100% !important; }</style>"
      ],
      "text/plain": [
       "<IPython.core.display.HTML object>"
      ]
     },
     "metadata": {},
     "output_type": "display_data"
    }
   ],
   "source": [
    "from IPython.core.display import display, HTML\n",
    "display(HTML(\"<style>.container { width:100% !important; }</style>\"))"
   ]
  },
  {
   "cell_type": "code",
   "execution_count": 11,
   "metadata": {},
   "outputs": [],
   "source": [
    "# EXAMPLE 1\n",
    "\n",
    "def strip_dollar(s):\n",
    "    if s.startswith(\"$\"):\n",
    "        s = s[1:]\n",
    "    return s"
   ]
  },
  {
   "cell_type": "code",
   "execution_count": 22,
   "metadata": {},
   "outputs": [
    {
     "data": {
      "text/plain": [
       "[1, 2]"
      ]
     },
     "execution_count": 22,
     "metadata": {},
     "output_type": "execute_result"
    }
   ],
   "source": [
    "list(map(int, [\"1\", \"2\"]))"
   ]
  },
  {
   "cell_type": "code",
   "execution_count": 18,
   "metadata": {},
   "outputs": [
    {
     "name": "stdout",
     "output_type": "stream",
     "text": [
      "['$1', '  23', '$456  ']\n",
      "['$1', '23', '$456']\n",
      "['1', '23', '456']\n",
      "[1, 23, 456]\n"
     ]
    }
   ],
   "source": [
    "def apply_to_each(orig_vals, f):\n",
    "    new_vals = []\n",
    "    for v in orig_vals:\n",
    "        new_v = f(v)\n",
    "        new_vals.append(new_v)\n",
    "    return new_vals\n",
    "\n",
    "vals = [\"$1\", \"  23\", \"$456  \"]\n",
    "print(vals)\n",
    "vals = apply_to_each(vals, str.strip)\n",
    "print(vals)\n",
    "vals = apply_to_each(vals, strip_dollar)\n",
    "print(vals)\n",
    "vals = apply_to_each(vals, int)\n",
    "print(vals)"
   ]
  },
  {
   "cell_type": "code",
   "execution_count": 13,
   "metadata": {},
   "outputs": [
    {
     "data": {
      "text/plain": [
       "'34'"
      ]
     },
     "execution_count": 13,
     "metadata": {},
     "output_type": "execute_result"
    }
   ],
   "source": [
    "\"  34  \".strip()"
   ]
  },
  {
   "cell_type": "code",
   "execution_count": 17,
   "metadata": {},
   "outputs": [
    {
     "data": {
      "text/plain": [
       "'34'"
      ]
     },
     "execution_count": 17,
     "metadata": {},
     "output_type": "execute_result"
    }
   ],
   "source": [
    "str.strip(\"  34  \")"
   ]
  },
  {
   "cell_type": "code",
   "execution_count": 23,
   "metadata": {},
   "outputs": [],
   "source": [
    "# EXAMPLE 2: custom sorting"
   ]
  },
  {
   "cell_type": "code",
   "execution_count": 41,
   "metadata": {},
   "outputs": [],
   "source": [
    "hurricanes = [\n",
    "    {\"name\": \"A\", \"year\": 2000, \"speed\": 120},\n",
    "    {\"name\": \"B\", \"year\": 1990, \"speed\": 180},\n",
    "    {\"name\": \"C\", \"year\": 1980, \"speed\": 150},\n",
    "]"
   ]
  },
  {
   "cell_type": "code",
   "execution_count": 42,
   "metadata": {},
   "outputs": [
    {
     "data": {
      "text/plain": [
       "[{'name': 'A', 'year': 2000, 'speed': 120},\n",
       " {'name': 'B', 'year': 1990, 'speed': 180},\n",
       " {'name': 'C', 'year': 1980, 'speed': 150}]"
      ]
     },
     "execution_count": 42,
     "metadata": {},
     "output_type": "execute_result"
    }
   ],
   "source": [
    "def get_year(hurricane):\n",
    "    #print(\"CALLED FOR\", hurricane)\n",
    "    return -hurricane.get(\"year\", 0)\n",
    "\n",
    "def get_speed(hurricane):\n",
    "    return hurricane[\"speed\"]\n",
    "\n",
    "sorted(hurricanes, key=get_year)"
   ]
  },
  {
   "cell_type": "code",
   "execution_count": 43,
   "metadata": {},
   "outputs": [
    {
     "data": {
      "text/plain": [
       "[{'name': 'A', 'year': 2000, 'speed': 120},\n",
       " {'name': 'C', 'year': 1980, 'speed': 150},\n",
       " {'name': 'B', 'year': 1990, 'speed': 180}]"
      ]
     },
     "execution_count": 43,
     "metadata": {},
     "output_type": "execute_result"
    }
   ],
   "source": [
    "sorted(hurricanes, key=get_speed)"
   ]
  },
  {
   "cell_type": "code",
   "execution_count": 45,
   "metadata": {},
   "outputs": [
    {
     "data": {
      "text/plain": [
       "['A', 'b', 'C', 'd']"
      ]
     },
     "execution_count": 45,
     "metadata": {},
     "output_type": "execute_result"
    }
   ],
   "source": [
    "sorted([\"A\", \"b\", \"C\", \"d\"], key=str.upper)"
   ]
  },
  {
   "cell_type": "code",
   "execution_count": null,
   "metadata": {},
   "outputs": [],
   "source": []
  }
 ],
 "metadata": {
  "kernelspec": {
   "display_name": "Python 3",
   "language": "python",
   "name": "python3"
  },
  "language_info": {
   "codemirror_mode": {
    "name": "ipython",
    "version": 3
   },
   "file_extension": ".py",
   "mimetype": "text/x-python",
   "name": "python",
   "nbconvert_exporter": "python",
   "pygments_lexer": "ipython3",
   "version": "3.7.2"
  }
 },
 "nbformat": 4,
 "nbformat_minor": 2
}
