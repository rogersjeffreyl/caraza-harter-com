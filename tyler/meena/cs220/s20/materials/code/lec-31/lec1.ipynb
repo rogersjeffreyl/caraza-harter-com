{
 "cells": [
  {
   "cell_type": "code",
   "execution_count": 3,
   "metadata": {},
   "outputs": [
    {
     "data": {
      "text/html": [
       "<style>.container { width:100% !important; }</style>"
      ],
      "text/plain": [
       "<IPython.core.display.HTML object>"
      ]
     },
     "metadata": {},
     "output_type": "display_data"
    }
   ],
   "source": [
    "from IPython.core.display import display, HTML\n",
    "display(HTML(\"<style>.container { width:100% !important; }</style>\"))"
   ]
  },
  {
   "cell_type": "code",
   "execution_count": 11,
   "metadata": {},
   "outputs": [
    {
     "data": {
      "text/plain": [
       "<Response [200]>"
      ]
     },
     "execution_count": 11,
     "metadata": {},
     "output_type": "execute_result"
    }
   ],
   "source": [
    "import requests, json\n",
    "\n",
    "url = \"https://tyler.caraza-harter.com/hello.txt\"\n",
    "r = requests.get(url)\n",
    "r"
   ]
  },
  {
   "cell_type": "code",
   "execution_count": 7,
   "metadata": {},
   "outputs": [],
   "source": [
    "r.raise_for_status()"
   ]
  },
  {
   "cell_type": "code",
   "execution_count": 8,
   "metadata": {},
   "outputs": [
    {
     "data": {
      "text/plain": [
       "'Hello!  Welcome to my website.\\n'"
      ]
     },
     "execution_count": 8,
     "metadata": {},
     "output_type": "execute_result"
    }
   ],
   "source": [
    "r.text"
   ]
  },
  {
   "cell_type": "code",
   "execution_count": 13,
   "metadata": {},
   "outputs": [
    {
     "data": {
      "text/plain": [
       "'{\\n  \"alice\": 100,\\n  \"bob\": 200,\\n  \"cindy\": 300\\n}\\n'"
      ]
     },
     "execution_count": 13,
     "metadata": {},
     "output_type": "execute_result"
    }
   ],
   "source": [
    "r = requests.get(\"https://tyler.caraza-harter.com/scores.json\")\n",
    "r.raise_for_status()\n",
    "r.text"
   ]
  },
  {
   "cell_type": "code",
   "execution_count": 15,
   "metadata": {},
   "outputs": [
    {
     "data": {
      "text/plain": [
       "dict"
      ]
     },
     "execution_count": 15,
     "metadata": {},
     "output_type": "execute_result"
    }
   ],
   "source": [
    "# json.load(FILE OBJECT)\n",
    "d = json.loads(r.text) # read a string, not a file obj\n",
    "type(d)"
   ]
  },
  {
   "cell_type": "code",
   "execution_count": 18,
   "metadata": {},
   "outputs": [
    {
     "data": {
      "text/plain": [
       "{'alice': 100, 'bob': 200, 'cindy': 300}"
      ]
     },
     "execution_count": 18,
     "metadata": {},
     "output_type": "execute_result"
    }
   ],
   "source": [
    "d"
   ]
  },
  {
   "cell_type": "code",
   "execution_count": 17,
   "metadata": {},
   "outputs": [
    {
     "data": {
      "text/plain": [
       "100"
      ]
     },
     "execution_count": 17,
     "metadata": {},
     "output_type": "execute_result"
    }
   ],
   "source": [
    "d[\"alice\"]"
   ]
  },
  {
   "cell_type": "code",
   "execution_count": 20,
   "metadata": {},
   "outputs": [
    {
     "data": {
      "text/plain": [
       "{'alice': 100, 'bob': 200, 'cindy': 300}"
      ]
     },
     "execution_count": 20,
     "metadata": {},
     "output_type": "execute_result"
    }
   ],
   "source": [
    "r.json() # shortcut for json.loads(r.text)"
   ]
  },
  {
   "cell_type": "code",
   "execution_count": 21,
   "metadata": {},
   "outputs": [],
   "source": [
    "# reddit example"
   ]
  },
  {
   "cell_type": "code",
   "execution_count": 22,
   "metadata": {},
   "outputs": [
    {
     "ename": "HTTPError",
     "evalue": "429 Client Error: Too Many Requests for url: https://www.reddit.com/r/UWMadison.json",
     "output_type": "error",
     "traceback": [
      "\u001b[0;31m---------------------------------------------------------------------------\u001b[0m",
      "\u001b[0;31mHTTPError\u001b[0m                                 Traceback (most recent call last)",
      "\u001b[0;32m<ipython-input-22-f56570543912>\u001b[0m in \u001b[0;36m<module>\u001b[0;34m\u001b[0m\n\u001b[1;32m      1\u001b[0m \u001b[0murl\u001b[0m \u001b[0;34m=\u001b[0m \u001b[0;34m\"https://www.reddit.com/r/UWMadison.json\"\u001b[0m\u001b[0;34m\u001b[0m\u001b[0;34m\u001b[0m\u001b[0m\n\u001b[1;32m      2\u001b[0m \u001b[0mr\u001b[0m \u001b[0;34m=\u001b[0m \u001b[0mrequests\u001b[0m\u001b[0;34m.\u001b[0m\u001b[0mget\u001b[0m\u001b[0;34m(\u001b[0m\u001b[0murl\u001b[0m\u001b[0;34m)\u001b[0m\u001b[0;34m\u001b[0m\u001b[0;34m\u001b[0m\u001b[0m\n\u001b[0;32m----> 3\u001b[0;31m \u001b[0mr\u001b[0m\u001b[0;34m.\u001b[0m\u001b[0mraise_for_status\u001b[0m\u001b[0;34m(\u001b[0m\u001b[0;34m)\u001b[0m\u001b[0;34m\u001b[0m\u001b[0;34m\u001b[0m\u001b[0m\n\u001b[0m",
      "\u001b[0;32m/Library/Frameworks/Python.framework/Versions/3.7/lib/python3.7/site-packages/requests/models.py\u001b[0m in \u001b[0;36mraise_for_status\u001b[0;34m(self)\u001b[0m\n\u001b[1;32m    938\u001b[0m \u001b[0;34m\u001b[0m\u001b[0m\n\u001b[1;32m    939\u001b[0m         \u001b[0;32mif\u001b[0m \u001b[0mhttp_error_msg\u001b[0m\u001b[0;34m:\u001b[0m\u001b[0;34m\u001b[0m\u001b[0;34m\u001b[0m\u001b[0m\n\u001b[0;32m--> 940\u001b[0;31m             \u001b[0;32mraise\u001b[0m \u001b[0mHTTPError\u001b[0m\u001b[0;34m(\u001b[0m\u001b[0mhttp_error_msg\u001b[0m\u001b[0;34m,\u001b[0m \u001b[0mresponse\u001b[0m\u001b[0;34m=\u001b[0m\u001b[0mself\u001b[0m\u001b[0;34m)\u001b[0m\u001b[0;34m\u001b[0m\u001b[0;34m\u001b[0m\u001b[0m\n\u001b[0m\u001b[1;32m    941\u001b[0m \u001b[0;34m\u001b[0m\u001b[0m\n\u001b[1;32m    942\u001b[0m     \u001b[0;32mdef\u001b[0m \u001b[0mclose\u001b[0m\u001b[0;34m(\u001b[0m\u001b[0mself\u001b[0m\u001b[0;34m)\u001b[0m\u001b[0;34m:\u001b[0m\u001b[0;34m\u001b[0m\u001b[0;34m\u001b[0m\u001b[0m\n",
      "\u001b[0;31mHTTPError\u001b[0m: 429 Client Error: Too Many Requests for url: https://www.reddit.com/r/UWMadison.json"
     ]
    }
   ],
   "source": [
    "url = \"https://www.reddit.com/r/UWMadison.json\"\n",
    "r = requests.get(url)\n",
    "r.raise_for_status()"
   ]
  },
  {
   "cell_type": "code",
   "execution_count": 23,
   "metadata": {},
   "outputs": [],
   "source": [
    "#url = \"https://www.reddit.com/r/UWMadison.json\"\n",
    "url = \"https://tyler.caraza-harter.com/cs301/fall19/materials/code/lec-31/UWMadison.json\"\n",
    "r = requests.get(url)\n",
    "r.raise_for_status()"
   ]
  },
  {
   "cell_type": "code",
   "execution_count": 27,
   "metadata": {},
   "outputs": [
    {
     "data": {
      "text/plain": [
       "dict"
      ]
     },
     "execution_count": 27,
     "metadata": {},
     "output_type": "execute_result"
    }
   ],
   "source": [
    "d = r.json()\n",
    "type(d)"
   ]
  },
  {
   "cell_type": "code",
   "execution_count": 29,
   "metadata": {},
   "outputs": [
    {
     "data": {
      "text/plain": [
       "dict_keys(['kind', 'data'])"
      ]
     },
     "execution_count": 29,
     "metadata": {},
     "output_type": "execute_result"
    }
   ],
   "source": [
    "d.keys()"
   ]
  },
  {
   "cell_type": "code",
   "execution_count": 30,
   "metadata": {},
   "outputs": [
    {
     "data": {
      "text/plain": [
       "'Listing'"
      ]
     },
     "execution_count": 30,
     "metadata": {},
     "output_type": "execute_result"
    }
   ],
   "source": [
    "d[\"kind\"]"
   ]
  },
  {
   "cell_type": "code",
   "execution_count": 32,
   "metadata": {},
   "outputs": [
    {
     "data": {
      "text/plain": [
       "dict_keys(['modhash', 'dist', 'children', 'after', 'before'])"
      ]
     },
     "execution_count": 32,
     "metadata": {},
     "output_type": "execute_result"
    }
   ],
   "source": [
    "d[\"data\"].keys()"
   ]
  },
  {
   "cell_type": "code",
   "execution_count": 41,
   "metadata": {},
   "outputs": [
    {
     "name": "stdout",
     "output_type": "stream",
     "text": [
      "[Mod Post] /r/UWMadison feedback thread\n",
      "Any other aquariums on campus besides the one in Birge Hall?\n",
      "Are there any classes that use Tableau, SQL or any other useful tools to do data analysis?\n",
      "Is there any way to get an Access mental health appointment within a week?\n",
      "Intermediate/Advanced 3-4 Credit L+S Class Recommendation\n",
      "Looking for an artist/band to play a house show\n",
      "Literature class...help!\n",
      "Lost my wallet\n",
      "Looking for Fall2020 semester short term lease\n",
      "Odds I get into Madison\n",
      "Looking for an easy study abroad summer program\n",
      "When would we know which sections Professors are teaching\n",
      "Does anyone have experience in MS Biology programs?\n",
      "Question\n",
      "Are you or anyone you know doing exciting research on environmental issues?\n",
      "Art 100 - Online or In-Classroom?\n",
      "Digital Studies certificate courses\n",
      "Where can I find summer term grade distribution?\n",
      "If you might have lost a phone on a bench in Van Hise or know who did, it's in the building lost and found now\n",
      "Trying to Find a House for Next Year\n",
      "Futsal games/club\n",
      "How to approach situation?\n",
      "Easy Literature Course\n",
      "Need easy 3 credit course for next semester (freshman)\n",
      "If you see this outside please pick it up and dm me\n",
      "Class Recommendations for Business Student\n"
     ]
    }
   ],
   "source": [
    "for child in d[\"data\"][\"children\"]:\n",
    "    child_data = child[\"data\"]\n",
    "    print(child_data[\"title\"])"
   ]
  },
  {
   "cell_type": "code",
   "execution_count": 42,
   "metadata": {},
   "outputs": [],
   "source": [
    "# example: create a state dataframe"
   ]
  },
  {
   "cell_type": "code",
   "execution_count": 47,
   "metadata": {},
   "outputs": [],
   "source": [
    "prefix = \"https://tyler.caraza-harter.com/cs301/fall19/materials/code/lec-31/data/\"\n",
    "r = requests.get(prefix + \"state_files.txt\")\n",
    "r.raise_for_status()"
   ]
  },
  {
   "cell_type": "code",
   "execution_count": 50,
   "metadata": {},
   "outputs": [
    {
     "data": {
      "text/plain": [
       "['Alabama.json', 'Alaska.json', 'Arizona.json']"
      ]
     },
     "execution_count": 50,
     "metadata": {},
     "output_type": "execute_result"
    }
   ],
   "source": [
    "states = r.text.split(\"\\n\")\n",
    "states[:3]"
   ]
  },
  {
   "cell_type": "code",
   "execution_count": 59,
   "metadata": {},
   "outputs": [
    {
     "name": "stdout",
     "output_type": "stream",
     "text": [
      "https://tyler.caraza-harter.com/cs301/fall19/materials/code/lec-31/data/Alabama.json\n",
      "{'2000': 4447100, '2010': 4779736, '2015': 4846411, 'state': 'Alabama'}\n",
      "https://tyler.caraza-harter.com/cs301/fall19/materials/code/lec-31/data/Alaska.json\n",
      "{'2000': 626932, '2010': 710231, '2015': 737046, 'state': 'Alaska'}\n",
      "https://tyler.caraza-harter.com/cs301/fall19/materials/code/lec-31/data/Arizona.json\n",
      "{'2000': 5130632, '2010': 6392017, '2015': 6728783, 'state': 'Arizona'}\n",
      "https://tyler.caraza-harter.com/cs301/fall19/materials/code/lec-31/data/Arkansas.json\n",
      "{'2000': 2673400, '2010': 2915918, '2015': 2966835, 'state': 'Arkansas'}\n",
      "https://tyler.caraza-harter.com/cs301/fall19/materials/code/lec-31/data/California.json\n",
      "{'2000': 33871648, '2010': 37253956, '2015': 38792291, 'state': 'California'}\n",
      "https://tyler.caraza-harter.com/cs301/fall19/materials/code/lec-31/data/Colorado.json\n",
      "{'2000': 4301261, '2010': 5029196, '2015': 5355588, 'state': 'Colorado'}\n",
      "https://tyler.caraza-harter.com/cs301/fall19/materials/code/lec-31/data/Connecticut.json\n",
      "{'2000': 3405565, '2010': 3574097, '2015': 3594762, 'state': 'Connecticut'}\n",
      "https://tyler.caraza-harter.com/cs301/fall19/materials/code/lec-31/data/Delaware.json\n",
      "{'2000': 783600, '2010': 897934, '2015': 935968, 'state': 'Delaware'}\n",
      "https://tyler.caraza-harter.com/cs301/fall19/materials/code/lec-31/data/Florida.json\n",
      "{'2000': 15982378, '2010': 18801310, '2015': 19905569, 'state': 'Florida'}\n",
      "https://tyler.caraza-harter.com/cs301/fall19/materials/code/lec-31/data/Georgia.json\n",
      "{'2000': 8186453, '2010': 9687653, '2015': 10097132, 'state': 'Georgia'}\n",
      "https://tyler.caraza-harter.com/cs301/fall19/materials/code/lec-31/data/Hawaii.json\n",
      "{'2000': 1211537, '2010': 1360301, '2015': 1420257, 'state': 'Hawaii'}\n",
      "https://tyler.caraza-harter.com/cs301/fall19/materials/code/lec-31/data/Idaho.json\n",
      "{'2000': 1293953, '2010': 1567582, '2015': 1634806, 'state': 'Idaho'}\n",
      "https://tyler.caraza-harter.com/cs301/fall19/materials/code/lec-31/data/Illinois.json\n",
      "{'2000': 12419293, '2010': 12830632, '2015': 12882189, 'state': 'Illinois'}\n",
      "https://tyler.caraza-harter.com/cs301/fall19/materials/code/lec-31/data/Indiana.json\n",
      "{'2000': 6080485, '2010': 6483802, '2015': 6597880, 'state': 'Indiana'}\n",
      "https://tyler.caraza-harter.com/cs301/fall19/materials/code/lec-31/data/Iowa.json\n",
      "{'2000': 2926324, '2010': 3046355, '2015': 3109481, 'state': 'Iowa'}\n",
      "https://tyler.caraza-harter.com/cs301/fall19/materials/code/lec-31/data/Kansas.json\n",
      "{'2000': 2688418, '2010': 2853118, '2015': 2902507, 'state': 'Kansas'}\n",
      "https://tyler.caraza-harter.com/cs301/fall19/materials/code/lec-31/data/Kentucky.json\n",
      "{'2000': 4041769, '2010': 4339367, '2015': 4412617, 'state': 'Kentucky'}\n",
      "https://tyler.caraza-harter.com/cs301/fall19/materials/code/lec-31/data/Louisiana.json\n",
      "{'2000': 4468976, '2010': 4533372, '2015': 4648990, 'state': 'Louisiana'}\n",
      "https://tyler.caraza-harter.com/cs301/fall19/materials/code/lec-31/data/Maine.json\n",
      "{'2000': 1274923, '2010': 1328361, '2015': 1330256, 'state': 'Maine'}\n",
      "https://tyler.caraza-harter.com/cs301/fall19/materials/code/lec-31/data/Maryland.json\n",
      "{'2000': 5296486, '2010': 5773552, '2015': 5975346, 'state': 'Maryland'}\n",
      "https://tyler.caraza-harter.com/cs301/fall19/materials/code/lec-31/data/Massachusetts.json\n",
      "{'2000': 6349097, '2010': 6547629, '2015': 6755124, 'state': 'Massachusetts'}\n",
      "https://tyler.caraza-harter.com/cs301/fall19/materials/code/lec-31/data/Michigan.json\n",
      "{'2000': 9938444, '2010': 9883640, '2015': 9916306, 'state': 'Michigan'}\n",
      "https://tyler.caraza-harter.com/cs301/fall19/materials/code/lec-31/data/Minnesota.json\n",
      "{'2000': 4919479, '2010': 5303925, '2015': 5457125, 'state': 'Minnesota'}\n",
      "https://tyler.caraza-harter.com/cs301/fall19/materials/code/lec-31/data/Mississippi.json\n",
      "{'2000': 2844658, '2010': 2967297, '2015': 2993443, 'state': 'Mississippi'}\n",
      "https://tyler.caraza-harter.com/cs301/fall19/materials/code/lec-31/data/Missouri.json\n",
      "{'2000': 5595211, '2010': 5988927, '2015': 6063827, 'state': 'Missouri'}\n",
      "https://tyler.caraza-harter.com/cs301/fall19/materials/code/lec-31/data/Montana.json\n",
      "{'2000': 902195, '2010': 989415, '2015': 1023252, 'state': 'Montana'}\n",
      "https://tyler.caraza-harter.com/cs301/fall19/materials/code/lec-31/data/Nebraska.json\n",
      "{'2000': 1711263, '2010': 1826341, '2015': 1882980, 'state': 'Nebraska'}\n",
      "https://tyler.caraza-harter.com/cs301/fall19/materials/code/lec-31/data/Nevada.json\n",
      "{'2000': 1998257, '2010': 2700551, '2015': 2838281, 'state': 'Nevada'}\n",
      "https://tyler.caraza-harter.com/cs301/fall19/materials/code/lec-31/data/New_Hampshire.json\n",
      "{'2000': 1235786, '2010': 1316470, '2015': 1327996, 'state': 'New_Hampshire'}\n",
      "https://tyler.caraza-harter.com/cs301/fall19/materials/code/lec-31/data/New_Jersey.json\n",
      "{'2000': 8414350, '2010': 8791894, '2015': 8938844, 'state': 'New_Jersey'}\n",
      "https://tyler.caraza-harter.com/cs301/fall19/materials/code/lec-31/data/New_Mexico.json\n",
      "{'2000': 1819046, '2010': 2059179, '2015': 2085567, 'state': 'New_Mexico'}\n",
      "https://tyler.caraza-harter.com/cs301/fall19/materials/code/lec-31/data/New_York.json\n",
      "{'2000': 18976457, '2010': 19378102, '2015': 19748858, 'state': 'New_York'}\n",
      "https://tyler.caraza-harter.com/cs301/fall19/materials/code/lec-31/data/North_Carolina.json\n",
      "{'2000': 8049313, '2010': 9535483, '2015': 9940387, 'state': 'North_Carolina'}\n",
      "https://tyler.caraza-harter.com/cs301/fall19/materials/code/lec-31/data/North_Dakota.json\n",
      "{'2000': 642200, '2010': 672591, '2015': 740040, 'state': 'North_Dakota'}\n",
      "https://tyler.caraza-harter.com/cs301/fall19/materials/code/lec-31/data/Ohio.json\n",
      "{'2000': 11353140, '2010': 11536504, '2015': 11596998, 'state': 'Ohio'}\n",
      "https://tyler.caraza-harter.com/cs301/fall19/materials/code/lec-31/data/Oklahoma.json\n",
      "{'2000': 3450654, '2010': 3751351, '2015': 3879610, 'state': 'Oklahoma'}\n",
      "https://tyler.caraza-harter.com/cs301/fall19/materials/code/lec-31/data/Oregon.json\n",
      "{'2000': 3421399, '2010': 3831074, '2015': 3971202, 'state': 'Oregon'}\n",
      "https://tyler.caraza-harter.com/cs301/fall19/materials/code/lec-31/data/Pennsylvania.json\n",
      "{'2000': 12281054, '2010': 12702379, '2015': 12793767, 'state': 'Pennsylvania'}\n",
      "https://tyler.caraza-harter.com/cs301/fall19/materials/code/lec-31/data/Rhode_Island.json\n",
      "{'2000': 1048319, '2010': 1052567, '2015': 1054907, 'state': 'Rhode_Island'}\n",
      "https://tyler.caraza-harter.com/cs301/fall19/materials/code/lec-31/data/South_Carolina.json\n",
      "{'2000': 4012012, '2010': 4625364, '2015': 4829160, 'state': 'South_Carolina'}\n",
      "https://tyler.caraza-harter.com/cs301/fall19/materials/code/lec-31/data/South_Dakota.json\n",
      "{'2000': 754844, '2010': 814180, '2015': 853304, 'state': 'South_Dakota'}\n",
      "https://tyler.caraza-harter.com/cs301/fall19/materials/code/lec-31/data/Tennessee.json\n",
      "{'2000': 5689283, '2010': 6346105, '2015': 6547779, 'state': 'Tennessee'}\n",
      "https://tyler.caraza-harter.com/cs301/fall19/materials/code/lec-31/data/Texas.json\n",
      "{'2000': 20851820, '2010': 25145561, '2015': 26979078, 'state': 'Texas'}\n",
      "https://tyler.caraza-harter.com/cs301/fall19/materials/code/lec-31/data/Utah.json\n",
      "{'2000': 2233169, '2010': 2763885, '2015': 2944498, 'state': 'Utah'}\n",
      "https://tyler.caraza-harter.com/cs301/fall19/materials/code/lec-31/data/Vermont.json\n",
      "{'2000': 608827, '2010': 625741, '2015': 626767, 'state': 'Vermont'}\n",
      "https://tyler.caraza-harter.com/cs301/fall19/materials/code/lec-31/data/Virginia.json\n",
      "{'2000': 7078515, '2010': 8001024, '2015': 8328098, 'state': 'Virginia'}\n",
      "https://tyler.caraza-harter.com/cs301/fall19/materials/code/lec-31/data/Washington.json\n",
      "{'2000': 5894121, '2010': 6724540, '2015': 7063166, 'state': 'Washington'}\n",
      "https://tyler.caraza-harter.com/cs301/fall19/materials/code/lec-31/data/West_Virginia.json\n",
      "{'2000': 1808344, '2010': 1852994, '2015': 1848751, 'state': 'West_Virginia'}\n",
      "https://tyler.caraza-harter.com/cs301/fall19/materials/code/lec-31/data/Wisconsin.json\n",
      "{'2000': 5363675, '2010': 5686986, '2015': 5759432, 'state': 'Wisconsin'}\n",
      "https://tyler.caraza-harter.com/cs301/fall19/materials/code/lec-31/data/Wyoming.json\n",
      "{'2000': 493782, '2010': 563626, '2015': 584304, 'state': 'Wyoming'}\n"
     ]
    }
   ],
   "source": [
    "# want list of dicts to create dataframe\n",
    "rows = []\n",
    "for state in states:\n",
    "    url = prefix + state\n",
    "    print(url)\n",
    "    r = requests.get(url)\n",
    "    r.raise_for_status()\n",
    "    d = r.json()\n",
    "    d[\"state\"] = state[:-5] # lop off .json\n",
    "    print(d)\n",
    "    rows.append(d)"
   ]
  },
  {
   "cell_type": "code",
   "execution_count": 61,
   "metadata": {},
   "outputs": [
    {
     "data": {
      "text/html": [
       "<div>\n",
       "<style scoped>\n",
       "    .dataframe tbody tr th:only-of-type {\n",
       "        vertical-align: middle;\n",
       "    }\n",
       "\n",
       "    .dataframe tbody tr th {\n",
       "        vertical-align: top;\n",
       "    }\n",
       "\n",
       "    .dataframe thead th {\n",
       "        text-align: right;\n",
       "    }\n",
       "</style>\n",
       "<table border=\"1\" class=\"dataframe\">\n",
       "  <thead>\n",
       "    <tr style=\"text-align: right;\">\n",
       "      <th></th>\n",
       "      <th>2000</th>\n",
       "      <th>2010</th>\n",
       "      <th>2015</th>\n",
       "      <th>state</th>\n",
       "    </tr>\n",
       "  </thead>\n",
       "  <tbody>\n",
       "    <tr>\n",
       "      <th>0</th>\n",
       "      <td>4447100</td>\n",
       "      <td>4779736</td>\n",
       "      <td>4846411</td>\n",
       "      <td>Alabama</td>\n",
       "    </tr>\n",
       "    <tr>\n",
       "      <th>1</th>\n",
       "      <td>626932</td>\n",
       "      <td>710231</td>\n",
       "      <td>737046</td>\n",
       "      <td>Alaska</td>\n",
       "    </tr>\n",
       "    <tr>\n",
       "      <th>2</th>\n",
       "      <td>5130632</td>\n",
       "      <td>6392017</td>\n",
       "      <td>6728783</td>\n",
       "      <td>Arizona</td>\n",
       "    </tr>\n",
       "    <tr>\n",
       "      <th>3</th>\n",
       "      <td>2673400</td>\n",
       "      <td>2915918</td>\n",
       "      <td>2966835</td>\n",
       "      <td>Arkansas</td>\n",
       "    </tr>\n",
       "    <tr>\n",
       "      <th>4</th>\n",
       "      <td>33871648</td>\n",
       "      <td>37253956</td>\n",
       "      <td>38792291</td>\n",
       "      <td>California</td>\n",
       "    </tr>\n",
       "  </tbody>\n",
       "</table>\n",
       "</div>"
      ],
      "text/plain": [
       "       2000      2010      2015       state\n",
       "0   4447100   4779736   4846411     Alabama\n",
       "1    626932    710231    737046      Alaska\n",
       "2   5130632   6392017   6728783     Arizona\n",
       "3   2673400   2915918   2966835    Arkansas\n",
       "4  33871648  37253956  38792291  California"
      ]
     },
     "execution_count": 61,
     "metadata": {},
     "output_type": "execute_result"
    }
   ],
   "source": [
    "from pandas import DataFrame\n",
    "states = DataFrame(rows)\n",
    "states.head()"
   ]
  },
  {
   "cell_type": "code",
   "execution_count": 63,
   "metadata": {},
   "outputs": [
    {
     "data": {
      "text/html": [
       "<div>\n",
       "<style scoped>\n",
       "    .dataframe tbody tr th:only-of-type {\n",
       "        vertical-align: middle;\n",
       "    }\n",
       "\n",
       "    .dataframe tbody tr th {\n",
       "        vertical-align: top;\n",
       "    }\n",
       "\n",
       "    .dataframe thead th {\n",
       "        text-align: right;\n",
       "    }\n",
       "</style>\n",
       "<table border=\"1\" class=\"dataframe\">\n",
       "  <thead>\n",
       "    <tr style=\"text-align: right;\">\n",
       "      <th></th>\n",
       "      <th>2000</th>\n",
       "      <th>2010</th>\n",
       "      <th>2015</th>\n",
       "    </tr>\n",
       "    <tr>\n",
       "      <th>state</th>\n",
       "      <th></th>\n",
       "      <th></th>\n",
       "      <th></th>\n",
       "    </tr>\n",
       "  </thead>\n",
       "  <tbody>\n",
       "    <tr>\n",
       "      <th>Alabama</th>\n",
       "      <td>4447100</td>\n",
       "      <td>4779736</td>\n",
       "      <td>4846411</td>\n",
       "    </tr>\n",
       "    <tr>\n",
       "      <th>Alaska</th>\n",
       "      <td>626932</td>\n",
       "      <td>710231</td>\n",
       "      <td>737046</td>\n",
       "    </tr>\n",
       "    <tr>\n",
       "      <th>Arizona</th>\n",
       "      <td>5130632</td>\n",
       "      <td>6392017</td>\n",
       "      <td>6728783</td>\n",
       "    </tr>\n",
       "    <tr>\n",
       "      <th>Arkansas</th>\n",
       "      <td>2673400</td>\n",
       "      <td>2915918</td>\n",
       "      <td>2966835</td>\n",
       "    </tr>\n",
       "    <tr>\n",
       "      <th>California</th>\n",
       "      <td>33871648</td>\n",
       "      <td>37253956</td>\n",
       "      <td>38792291</td>\n",
       "    </tr>\n",
       "  </tbody>\n",
       "</table>\n",
       "</div>"
      ],
      "text/plain": [
       "                2000      2010      2015\n",
       "state                                   \n",
       "Alabama      4447100   4779736   4846411\n",
       "Alaska        626932    710231    737046\n",
       "Arizona      5130632   6392017   6728783\n",
       "Arkansas     2673400   2915918   2966835\n",
       "California  33871648  37253956  38792291"
      ]
     },
     "execution_count": 63,
     "metadata": {},
     "output_type": "execute_result"
    }
   ],
   "source": [
    "states = states.set_index(\"state\")\n",
    "states.head()"
   ]
  },
  {
   "cell_type": "code",
   "execution_count": 66,
   "metadata": {},
   "outputs": [
    {
     "data": {
      "text/plain": [
       "2000    280849847\n",
       "2010    308143815\n",
       "2015    318247565\n",
       "dtype: int64"
      ]
     },
     "execution_count": 66,
     "metadata": {},
     "output_type": "execute_result"
    }
   ],
   "source": [
    "states.sum()"
   ]
  },
  {
   "cell_type": "code",
   "execution_count": null,
   "metadata": {},
   "outputs": [],
   "source": []
  }
 ],
 "metadata": {
  "kernelspec": {
   "display_name": "Python 3",
   "language": "python",
   "name": "python3"
  },
  "language_info": {
   "codemirror_mode": {
    "name": "ipython",
    "version": 3
   },
   "file_extension": ".py",
   "mimetype": "text/x-python",
   "name": "python",
   "nbconvert_exporter": "python",
   "pygments_lexer": "ipython3",
   "version": "3.7.2"
  }
 },
 "nbformat": 4,
 "nbformat_minor": 2
}
