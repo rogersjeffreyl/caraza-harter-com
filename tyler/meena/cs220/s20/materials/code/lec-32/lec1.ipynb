{
 "cells": [
  {
   "cell_type": "code",
   "execution_count": 2,
   "metadata": {},
   "outputs": [
    {
     "data": {
      "text/html": [
       "<style>.container { width:100% !important; }</style>"
      ],
      "text/plain": [
       "<IPython.core.display.HTML object>"
      ]
     },
     "metadata": {},
     "output_type": "display_data"
    }
   ],
   "source": [
    "from IPython.core.display import display, HTML\n",
    "display(HTML(\"<style>.container { width:100% !important; }</style>\"))\n"
   ]
  },
  {
   "cell_type": "code",
   "execution_count": 16,
   "metadata": {},
   "outputs": [],
   "source": [
    "import csv, os"
   ]
  },
  {
   "cell_type": "code",
   "execution_count": 12,
   "metadata": {},
   "outputs": [],
   "source": [
    "def gen_html(shopping_list, html_path):\n",
    "    f = open(html_path, \"w\", encoding=\"utf-8\")\n",
    "    f.write(\"<ul>\\n\")\n",
    "    for item in shopping_list:\n",
    "        f.write(\"   <li>\" + item + \"\\n\")\n",
    "    f.write(\"</ul>\\n\")\n",
    "    f.close()\n",
    "\n",
    "gen_html([\"apple\", \"orange\", \"banana\"], \"shopping.html\")"
   ]
  },
  {
   "cell_type": "code",
   "execution_count": 13,
   "metadata": {},
   "outputs": [],
   "source": [
    "gen_html([\"1\", \"2\", \"3\", \"A\", \"B\", \"C\"], \"shopping2.html\")"
   ]
  },
  {
   "cell_type": "code",
   "execution_count": 14,
   "metadata": {},
   "outputs": [],
   "source": [
    "# build webpage from review1.csv"
   ]
  },
  {
   "cell_type": "code",
   "execution_count": 22,
   "metadata": {},
   "outputs": [],
   "source": [
    "def csv_to_html(csv_path, html_path):\n",
    "    big_file = open(\"big.html\", \"w\")\n",
    "    f = open(csv_path)\n",
    "    reader = csv.DictReader(f)\n",
    "    for row in reader:\n",
    "        rid = row[\"review id\"]\n",
    "        title = row[\"review title\"]\n",
    "        text = row[\"review text\"]\n",
    "        \n",
    "        # STEP 1: generate page 123.html for review with ID 123\n",
    "        path = str(rid) + \".html\"\n",
    "        html_file = open(path, \"w\")\n",
    "        html_file.write(\"<h1>Review \" + str(rid) + \"</h1>\" + text)\n",
    "        html_file.close()\n",
    "\n",
    "        # STEP 2: add link from the big page\n",
    "        big_file.write('<a href=\"{}\">{}</a><br>'.format(path, title))\n",
    "        \n",
    "    f.close()\n",
    "    big_file.close()\n",
    "    \n",
    "csv_to_html(os.path.join(\"data\", \"review1.csv\"), \"reviews.html\")"
   ]
  }
 ],
 "metadata": {
  "kernelspec": {
   "display_name": "Python 3",
   "language": "python",
   "name": "python3"
  },
  "language_info": {
   "codemirror_mode": {
    "name": "ipython",
    "version": 3
   },
   "file_extension": ".py",
   "mimetype": "text/x-python",
   "name": "python",
   "nbconvert_exporter": "python",
   "pygments_lexer": "ipython3",
   "version": "3.7.2"
  }
 },
 "nbformat": 4,
 "nbformat_minor": 2
}
