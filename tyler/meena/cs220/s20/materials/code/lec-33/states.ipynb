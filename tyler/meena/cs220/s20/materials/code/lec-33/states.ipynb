{
 "cells": [
  {
   "cell_type": "code",
   "execution_count": 3,
   "metadata": {},
   "outputs": [
    {
     "data": {
      "text/html": [
       "<style>.container { width:100% !important; }</style>"
      ],
      "text/plain": [
       "<IPython.core.display.HTML object>"
      ]
     },
     "metadata": {},
     "output_type": "display_data"
    }
   ],
   "source": [
    "from IPython.core.display import display, HTML\n",
    "display(HTML(\"<style>.container { width:100% !important; }</style>\"))"
   ]
  },
  {
   "cell_type": "code",
   "execution_count": 34,
   "metadata": {},
   "outputs": [],
   "source": [
    "import requests # for downloading the HTML\n",
    "from bs4 import BeautifulSoup # for parsing and searching through the HTML\n",
    "import os"
   ]
  },
  {
   "cell_type": "code",
   "execution_count": 12,
   "metadata": {},
   "outputs": [],
   "source": [
    "# STAGE 1: extract all the links on the page\n",
    "url = \"https://simple.wikipedia.org/wiki/List_of_U.S._states\"\n",
    "resp = requests.get(url)\n",
    "resp.raise_for_status()\n",
    "page = BeautifulSoup(resp.text, \"html.parser\")\n",
    "#print(page.prettify())\n",
    "tables = page.find_all(\"table\")\n",
    "assert len(tables) == 1\n",
    "tbl = tables[0]"
   ]
  },
  {
   "cell_type": "code",
   "execution_count": 14,
   "metadata": {},
   "outputs": [],
   "source": [
    "trs = tbl.find_all(\"tr\")\n",
    "assert len(trs) >= 50"
   ]
  },
  {
   "cell_type": "code",
   "execution_count": 25,
   "metadata": {},
   "outputs": [],
   "source": [
    "# KEY:state name, VAL:a URL for that state's page\n",
    "state_links = {}\n",
    "\n",
    "for tr in trs:\n",
    "    th = tr.find(\"th\")\n",
    "    links = th.find_all(\"a\")\n",
    "    if len(links) == 0:\n",
    "        continue\n",
    "    link = links[0]\n",
    "    url = \"https://simple.wikipedia.org\" + link.attrs['href']\n",
    "    state_links[link.get_text()] = url\n",
    "#state_links"
   ]
  },
  {
   "cell_type": "code",
   "execution_count": 40,
   "metadata": {},
   "outputs": [
    {
     "name": "stdout",
     "output_type": "stream",
     "text": [
      "https://simple.wikipedia.org/wiki/Alabama\n",
      "https://simple.wikipedia.org/wiki/Alaska\n",
      "https://simple.wikipedia.org/wiki/Arizona\n",
      "https://simple.wikipedia.org/wiki/Arkansas\n",
      "https://simple.wikipedia.org/wiki/California\n",
      "https://simple.wikipedia.org/wiki/Colorado\n",
      "https://simple.wikipedia.org/wiki/Connecticut\n",
      "https://simple.wikipedia.org/wiki/Delaware\n",
      "https://simple.wikipedia.org/wiki/Florida\n",
      "https://simple.wikipedia.org/wiki/Georgia_(U.S._state)\n",
      "https://simple.wikipedia.org/wiki/Hawaii\n",
      "https://simple.wikipedia.org/wiki/Idaho\n",
      "https://simple.wikipedia.org/wiki/Illinois\n",
      "https://simple.wikipedia.org/wiki/Indiana\n",
      "https://simple.wikipedia.org/wiki/Iowa\n",
      "https://simple.wikipedia.org/wiki/Kansas\n",
      "https://simple.wikipedia.org/wiki/Kentucky\n",
      "https://simple.wikipedia.org/wiki/Louisiana\n",
      "https://simple.wikipedia.org/wiki/Maine\n",
      "https://simple.wikipedia.org/wiki/Maryland\n",
      "https://simple.wikipedia.org/wiki/Massachusetts\n",
      "https://simple.wikipedia.org/wiki/Michigan\n",
      "https://simple.wikipedia.org/wiki/Minnesota\n",
      "https://simple.wikipedia.org/wiki/Mississippi\n",
      "https://simple.wikipedia.org/wiki/Missouri\n",
      "https://simple.wikipedia.org/wiki/Montana\n",
      "https://simple.wikipedia.org/wiki/Nebraska\n",
      "https://simple.wikipedia.org/wiki/Nevada\n",
      "https://simple.wikipedia.org/wiki/New_Hampshire\n",
      "https://simple.wikipedia.org/wiki/New_Jersey\n",
      "https://simple.wikipedia.org/wiki/New_Mexico\n",
      "https://simple.wikipedia.org/wiki/New_York_(state)\n",
      "https://simple.wikipedia.org/wiki/North_Carolina\n",
      "https://simple.wikipedia.org/wiki/North_Dakota\n",
      "https://simple.wikipedia.org/wiki/Ohio\n",
      "https://simple.wikipedia.org/wiki/Oklahoma\n",
      "https://simple.wikipedia.org/wiki/Oregon\n",
      "https://simple.wikipedia.org/wiki/Pennsylvania\n",
      "https://simple.wikipedia.org/wiki/Rhode_Island\n",
      "https://simple.wikipedia.org/wiki/South_Carolina\n",
      "https://simple.wikipedia.org/wiki/South_Dakota\n",
      "https://simple.wikipedia.org/wiki/Tennessee\n",
      "https://simple.wikipedia.org/wiki/Texas\n",
      "https://simple.wikipedia.org/wiki/Utah\n",
      "https://simple.wikipedia.org/wiki/Vermont\n",
      "https://simple.wikipedia.org/wiki/Virginia\n",
      "https://simple.wikipedia.org/wiki/Washington\n",
      "https://simple.wikipedia.org/wiki/West_Virginia\n",
      "https://simple.wikipedia.org/wiki/Wisconsin\n",
      "https://simple.wikipedia.org/wiki/Wyoming\n"
     ]
    }
   ],
   "source": [
    "# STAGE 2: download the HTML page for each state\n",
    "state_name_list = sorted(state_links.keys())\n",
    "for state_name in state_name_list:\n",
    "    url = state_links[state_name]\n",
    "    print(url)\n",
    "    file_name = state_name + \".html\"\n",
    "    if os.path.exists(file_name):\n",
    "        continue\n",
    "    \n",
    "    # download\n",
    "    r = requests.get(url)\n",
    "    r.raise_for_status()\n",
    "\n",
    "    # save it to a file\n",
    "    f = open(file_name, \"w\")\n",
    "    f.write(r.text)\n",
    "    f.close()"
   ]
  },
  {
   "cell_type": "code",
   "execution_count": 52,
   "metadata": {},
   "outputs": [
    {
     "name": "stdout",
     "output_type": "stream",
     "text": [
      "state drink: Milk\n",
      "state dance: Polka\n"
     ]
    }
   ],
   "source": [
    "# STAGE 3: write function to extract dict from state's HTML\n",
    "def state_stats(path):\n",
    "    stats = {}\n",
    "    f = open(path)\n",
    "    html_string = f.read()\n",
    "    f.close()\n",
    "    doc = BeautifulSoup(html_string, \"html.parser\")\n",
    "    trs = doc.find_all(\"tr\")\n",
    "    for tr in trs:\n",
    "        cells = tr.find_all([\"th\", \"td\"])\n",
    "        if len(cells) == 2:\n",
    "            key = cells[0].get_text()\n",
    "            val = cells[1].get_text()\n",
    "            stats[key] = val\n",
    "    return stats\n",
    "    \n",
    "wi_stats = state_stats(\"Wisconsin.html\")\n",
    "print(\"state drink:\", wi_stats[\"Beverage\"])\n",
    "print(\"state dance:\", wi_stats[\"Dance\"])"
   ]
  }
 ],
 "metadata": {
  "kernelspec": {
   "display_name": "Python 3",
   "language": "python",
   "name": "python3"
  },
  "language_info": {
   "codemirror_mode": {
    "name": "ipython",
    "version": 3
   },
   "file_extension": ".py",
   "mimetype": "text/x-python",
   "name": "python",
   "nbconvert_exporter": "python",
   "pygments_lexer": "ipython3",
   "version": "3.7.2"
  }
 },
 "nbformat": 4,
 "nbformat_minor": 2
}
