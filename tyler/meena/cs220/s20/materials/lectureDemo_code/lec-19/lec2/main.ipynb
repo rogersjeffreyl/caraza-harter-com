{
 "cells": [
  {
   "cell_type": "code",
   "execution_count": null,
   "metadata": {},
   "outputs": [],
   "source": [
    "from IPython.core.display import display, HTML\n",
    "display(HTML(\"<style>.container { width:100% !important; }</style>\"))\n"
   ]
  },
  {
   "cell_type": "code",
   "execution_count": null,
   "metadata": {},
   "outputs": [],
   "source": [
    "import csv\n",
    "\n",
    "# copied from https://automatetheboringstuff.com/chapter14/\n",
    "def process_csv(filename):\n",
    "    exampleFile = open(filename, encoding=\"utf-8\")\n",
    "    exampleReader = csv.reader(exampleFile)\n",
    "    exampleData = list(exampleReader)\n",
    "    exampleFile.close()\n",
    "    return exampleData\n"
   ]
  },
  {
   "cell_type": "code",
   "execution_count": null,
   "metadata": {},
   "outputs": [],
   "source": [
    "rows = process_csv(\"tornados.csv\")\n",
    "header = rows[0]\n",
    "rows = rows[1:]\n",
    "header"
   ]
  },
  {
   "cell_type": "code",
   "execution_count": null,
   "metadata": {},
   "outputs": [],
   "source": [
    "# preview first 3 rows\n",
    "rows[:3]"
   ]
  },
  {
   "cell_type": "code",
   "execution_count": null,
   "metadata": {},
   "outputs": [],
   "source": [
    "# data is a list of lists, corresponding to header\n",
    "def avg_speed(data):\n",
    "    total = 0\n",
    "    for row in data:\n",
    "        total += float(row[header.index(\"speed\")])\n",
    "    return total / len(data)\n",
    "    \n",
    "avg_speed(rows)"
   ]
  },
  {
   "cell_type": "code",
   "execution_count": null,
   "metadata": {},
   "outputs": [],
   "source": [
    "# STEP 1: create buckets\n",
    "\n",
    "# KEY: year, VAL: list of rows for that year\n",
    "def bucketize(bucket_column):\n",
    "    buckets = {}\n",
    "    for row in rows:\n",
    "        year = row[header.index(bucket_column)]\n",
    "        if not year in buckets:\n",
    "            buckets[year] = []\n",
    "        buckets[year].append(row)\n",
    "    return buckets\n",
    "    \n",
    "# STEP 2: get stat per bucket\n",
    "def avg_per_bucket(groups):\n",
    "    averages = {}\n",
    "    for bucket_name in groups:\n",
    "        bucket_rows = groups[bucket_name]\n",
    "        averages[bucket_name] = avg_speed(bucket_rows)\n",
    "    return averages\n",
    "        \n",
    "avg_per_bucket(bucketize(\"location\"))"
   ]
  },
  {
   "cell_type": "code",
   "execution_count": null,
   "metadata": {},
   "outputs": [],
   "source": [
    "avg_per_bucket(bucketize(\"year\"))"
   ]
  },
  {
   "cell_type": "code",
   "execution_count": null,
   "metadata": {},
   "outputs": [],
   "source": [
    "# DEMO 2: convert CSV to a list of dicts"
   ]
  },
  {
   "cell_type": "code",
   "execution_count": null,
   "metadata": {},
   "outputs": [],
   "source": [
    "def load_csv_to_dicts(path):\n",
    "    rows = process_csv(path)\n",
    "    header = rows[0]\n",
    "    rows = rows[1:]\n",
    "    \n",
    "    dict_list = []\n",
    "    for row in rows:\n",
    "        new_row = {}\n",
    "        for i in range(len(header)):\n",
    "            new_row[header[i]] = row[i]\n",
    "        dict_list.append(new_row)\n",
    "    return dict_list\n",
    "    \n",
    "data = load_csv_to_dicts(\"tornados.csv\")"
   ]
  },
  {
   "cell_type": "code",
   "execution_count": null,
   "metadata": {},
   "outputs": [],
   "source": [
    "data[0][\"year\"]"
   ]
  },
  {
   "cell_type": "code",
   "execution_count": null,
   "metadata": {},
   "outputs": [],
   "source": [
    "data[1][\"location\"]"
   ]
  },
  {
   "cell_type": "code",
   "execution_count": null,
   "metadata": {},
   "outputs": [],
   "source": []
  }
 ],
 "metadata": {
  "kernelspec": {
   "display_name": "Python 3",
   "language": "python",
   "name": "python3"
  },
  "language_info": {
   "codemirror_mode": {
    "name": "ipython",
    "version": 3
   },
   "file_extension": ".py",
   "mimetype": "text/x-python",
   "name": "python",
   "nbconvert_exporter": "python",
   "pygments_lexer": "ipython3",
   "version": "3.7.3"
  }
 },
 "nbformat": 4,
 "nbformat_minor": 2
}
