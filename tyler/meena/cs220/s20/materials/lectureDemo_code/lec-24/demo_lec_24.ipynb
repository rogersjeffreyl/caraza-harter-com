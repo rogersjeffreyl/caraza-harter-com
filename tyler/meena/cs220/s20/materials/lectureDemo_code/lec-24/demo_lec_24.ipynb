{
 "cells": [
  {
   "cell_type": "code",
   "execution_count": 14,
   "metadata": {},
   "outputs": [
    {
     "name": "stdout",
     "output_type": "stream",
     "text": [
      "Hello there!\n",
      "Hello there!\n",
      "Wash your hands and stay well, bye!\n",
      "Wash your hands and stay well, bye!\n",
      "Wash your hands and stay well, bye!\n"
     ]
    }
   ],
   "source": [
    "# Example 1: simple example to demonstrate how to use function references\n",
    "\n",
    "def say_hi():\n",
    "    print(\"Hello there!\")\n",
    "\n",
    "def say_bye():\n",
    "    print(\"Wash your hands and stay well, bye!\")\n",
    "   \n",
    "f = say_hi\n",
    "f()\n",
    "f()\n",
    "f = say_bye\n",
    "f()\n",
    "f()\n",
    "f()"
   ]
  },
  {
   "cell_type": "code",
   "execution_count": 15,
   "metadata": {},
   "outputs": [
    {
     "name": "stdout",
     "output_type": "stream",
     "text": [
      "Hello there!\n",
      "Hello there!\n",
      "Wash your hands and stay well, bye!\n",
      "Wash your hands and stay well, bye!\n",
      "Wash your hands and stay well, bye!\n"
     ]
    }
   ],
   "source": [
    "for i in range(2):\n",
    "    say_hi()\n",
    "\n",
    "for i in range(3):\n",
    "    say_bye()"
   ]
  },
  {
   "cell_type": "code",
   "execution_count": 16,
   "metadata": {},
   "outputs": [
    {
     "name": "stdout",
     "output_type": "stream",
     "text": [
      "Hello there!\n",
      "Hello there!\n",
      "Wash your hands and stay well, bye!\n",
      "Wash your hands and stay well, bye!\n",
      "Wash your hands and stay well, bye!\n"
     ]
    }
   ],
   "source": [
    "def call_n_times(f, n):\n",
    "    for i in range(n):\n",
    "        f()\n",
    "\n",
    "call_n_times(say_hi, 2)\n",
    "call_n_times(say_bye, 3)"
   ]
  },
  {
   "cell_type": "code",
   "execution_count": 1,
   "metadata": {},
   "outputs": [],
   "source": [
    "#Example 2: Apply various transformations to all items on a list\n",
    "\n",
    "L = [\"1\", \"23\", \"456\"]"
   ]
  },
  {
   "cell_type": "code",
   "execution_count": 2,
   "metadata": {},
   "outputs": [],
   "source": [
    "def strip_dollar(s):\n",
    "    #Remove the beginning $ sign from string s\n",
    "    if s.startswith(\"$\"):\n",
    "        s = s[1:]\n",
    "    return s"
   ]
  },
  {
   "cell_type": "code",
   "execution_count": 3,
   "metadata": {},
   "outputs": [],
   "source": [
    "def apply_to_each(original_L, f):\n",
    "    new_vals = []\n",
    "    for val in original_L:\n",
    "        new_vals.append(f(val))\n",
    "    return new_vals"
   ]
  },
  {
   "cell_type": "code",
   "execution_count": 4,
   "metadata": {},
   "outputs": [
    {
     "data": {
      "text/plain": [
       "[1, 23, 456]"
      ]
     },
     "execution_count": 4,
     "metadata": {},
     "output_type": "execute_result"
    }
   ],
   "source": [
    "vals = apply_to_each(L, int)\n",
    "vals"
   ]
  },
  {
   "cell_type": "code",
   "execution_count": 5,
   "metadata": {},
   "outputs": [
    {
     "name": "stdout",
     "output_type": "stream",
     "text": [
      "['1', '23', '456']\n",
      "[1, 23, 456]\n"
     ]
    }
   ],
   "source": [
    "L = [\"$1\", \"23\", \"$456\"]\n",
    "vals = apply_to_each(L, strip_dollar)\n",
    "print(vals)\n",
    "vals = apply_to_each(vals, int)\n",
    "print(vals)"
   ]
  },
  {
   "cell_type": "code",
   "execution_count": 6,
   "metadata": {},
   "outputs": [
    {
     "name": "stdout",
     "output_type": "stream",
     "text": [
      "['AAA', 'BBB', 'CCC']\n"
     ]
    }
   ],
   "source": [
    "L = [\"aaa\", \"bbb\", \"ccc\"]\n",
    "vals = apply_to_each(L, str.upper)\n",
    "print(vals)"
   ]
  },
  {
   "cell_type": "code",
   "execution_count": 7,
   "metadata": {},
   "outputs": [
    {
     "data": {
      "text/plain": [
       "[1, 23, 456]"
      ]
     },
     "execution_count": 7,
     "metadata": {},
     "output_type": "execute_result"
    }
   ],
   "source": [
    "L = [\"1\", \"23\", \"456\"]\n",
    "list(map(int, L))"
   ]
  },
  {
   "cell_type": "code",
   "execution_count": 8,
   "metadata": {},
   "outputs": [],
   "source": [
    "#Example 3: Custom sort a list of dictionaries\n",
    "\n",
    "hurricanes = [\n",
    "    {\"name\": \"A\", \"year\": 2000, \"speed\": 150},\n",
    "    {\"name\": \"B\", \"year\": 1980, \"speed\": 100},\n",
    "    {\"name\": \"C\", \"year\": 1990, \"speed\": 250},\n",
    "]"
   ]
  },
  {
   "cell_type": "code",
   "execution_count": 13,
   "metadata": {},
   "outputs": [
    {
     "ename": "TypeError",
     "evalue": "'<' not supported between instances of 'dict' and 'dict'",
     "output_type": "error",
     "traceback": [
      "\u001b[0;31m---------------------------------------------------------------------------\u001b[0m",
      "\u001b[0;31mTypeError\u001b[0m                                 Traceback (most recent call last)",
      "\u001b[0;32m<ipython-input-13-df10618f9841>\u001b[0m in \u001b[0;36m<module>\u001b[0;34m\u001b[0m\n\u001b[0;32m----> 1\u001b[0;31m \u001b[0msorted\u001b[0m\u001b[0;34m(\u001b[0m\u001b[0mhurricanes\u001b[0m\u001b[0;34m)\u001b[0m \u001b[0;31m# Doesn't work because there isn't a defined \"first\" key in a dict.\u001b[0m\u001b[0;34m\u001b[0m\u001b[0;34m\u001b[0m\u001b[0m\n\u001b[0m\u001b[1;32m      2\u001b[0m \u001b[0;31m# Unlike tuple, where the first item can be considered \"first\" by ordering.\u001b[0m\u001b[0;34m\u001b[0m\u001b[0;34m\u001b[0m\u001b[0;34m\u001b[0m\u001b[0m\n",
      "\u001b[0;31mTypeError\u001b[0m: '<' not supported between instances of 'dict' and 'dict'"
     ]
    }
   ],
   "source": [
    "sorted(hurricanes) # Doesn't work because there isn't a defined \"first\" key in a dict.\n",
    "# Unlike tuple, where the first item can be considered \"first\" by ordering."
   ]
  },
  {
   "cell_type": "code",
   "execution_count": 9,
   "metadata": {},
   "outputs": [
    {
     "data": {
      "text/plain": [
       "[{'name': 'B', 'year': 1980, 'speed': 100},\n",
       " {'name': 'C', 'year': 1990, 'speed': 250},\n",
       " {'name': 'A', 'year': 2000, 'speed': 150}]"
      ]
     },
     "execution_count": 9,
     "metadata": {},
     "output_type": "execute_result"
    }
   ],
   "source": [
    "def get_year(hurricane):\n",
    "    return hurricane[\"year\"]\n",
    "\n",
    "sorted(hurricanes, key = get_year)"
   ]
  },
  {
   "cell_type": "code",
   "execution_count": 10,
   "metadata": {},
   "outputs": [
    {
     "data": {
      "text/plain": [
       "[{'name': 'C', 'year': 1990},\n",
       " {'name': 'B', 'year': 1980, 'speed': 100},\n",
       " {'name': 'A', 'year': 2000, 'speed': 150}]"
      ]
     },
     "execution_count": 10,
     "metadata": {},
     "output_type": "execute_result"
    }
   ],
   "source": [
    "hurricanes = [\n",
    "    {\"name\": \"A\", \"year\": 2000, \"speed\": 150},\n",
    "    {\"name\": \"B\", \"year\": 1980, \"speed\": 100},\n",
    "    {\"name\": \"C\", \"year\": 1990},\n",
    "]\n",
    "\n",
    "def get_speed(hurricane):\n",
    "    return hurricane.get(\"speed\", 0)\n",
    "\n",
    "sorted(hurricanes, key = get_speed)"
   ]
  },
  {
   "cell_type": "code",
   "execution_count": 11,
   "metadata": {},
   "outputs": [
    {
     "data": {
      "text/plain": [
       "['A', 'C', 'b', 'd']"
      ]
     },
     "execution_count": 11,
     "metadata": {},
     "output_type": "execute_result"
    }
   ],
   "source": [
    "sorted([\"A\", \"b\", \"C\", \"d\"])"
   ]
  },
  {
   "cell_type": "code",
   "execution_count": 12,
   "metadata": {},
   "outputs": [
    {
     "data": {
      "text/plain": [
       "['A', 'b', 'C', 'd']"
      ]
     },
     "execution_count": 12,
     "metadata": {},
     "output_type": "execute_result"
    }
   ],
   "source": [
    "sorted([\"A\", \"b\", \"C\", \"d\"], key = str.upper)"
   ]
  },
  {
   "cell_type": "code",
   "execution_count": null,
   "metadata": {},
   "outputs": [],
   "source": []
  }
 ],
 "metadata": {
  "kernelspec": {
   "display_name": "Python 3",
   "language": "python",
   "name": "python3"
  },
  "language_info": {
   "codemirror_mode": {
    "name": "ipython",
    "version": 3
   },
   "file_extension": ".py",
   "mimetype": "text/x-python",
   "name": "python",
   "nbconvert_exporter": "python",
   "pygments_lexer": "ipython3",
   "version": "3.7.3"
  }
 },
 "nbformat": 4,
 "nbformat_minor": 2
}
